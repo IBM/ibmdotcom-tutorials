{
 "cells": [
  {
   "cell_type": "markdown",
   "metadata": {},
   "source": [
    "### Idea: iterate through images and queries to ask the LLM multiple questions"
   ]
  },
  {
   "cell_type": "code",
   "execution_count": 2,
   "metadata": {},
   "outputs": [
     "name": "stdout",
     "output_type": "stream",
     "text": [
      "Requirement already satisfied: six>=1.10.0 in ./.venv/lib/python3.11/site-packages (from lomond->ibm_watsonx_ai) (1.16.0)\n",
      "Note: you may need to restart the kernel to use updated packages.\n"
     ]
    }
   ],
   "source": [
    "%pip install ibm_watsonx_ai | tail -n 1"
   ]
  },
  {
   "cell_type": "code",
   "execution_count": 3,
   "metadata": {},
   "outputs": [],
   "source": [
    "import ibm_watsonx_ai\n",
    "from ibm_watsonx_ai.foundation_models import Model\n",
    "from ibm_watsonx_ai.foundation_models.utils.enums import DecodingMethods\n",
    "from ibm_watsonx_ai.metanames import GenTextParamsMetaNames as GenParams\n",
    "import getpass\n",
    "import os"
   ]
  },
  {
   "cell_type": "code",
   "execution_count": null,
   "metadata": {},
   "outputs": [],
   "source": [
    "credentials = {\n",
    "    \"url\": \"https://us-south.ml.cloud.ibm.com\",\n",
    "    \"apikey\": getpass.getpass(\"Please enter your WML api key (hit enter): \")\n",
    "}"
   ]
  },
  {
   "cell_type": "code",
   "execution_count": 4,
   "metadata": {},
   "outputs": [],
   "source": [
    "try:\n",
    "    project_id = os.environ[\"PROJECT_ID\"]\n",
    "except KeyError:\n",
    "    project_id = input(\"Please enter your project_id (hit enter): \")"
   ]
  },
  {
   "cell_type": "code",
   "execution_count": 5,
   "metadata": {},
   "outputs": [],
   "source": [
    "# NB: not being used yet; waiting on llava model to be released\n",
    "# images = [\"https://i2.wp.com/www.statsaustralia.com.au/wp-content/uploads/stats-wa-forensic-pavement-failure-investigation.jpg\",\n",
    "#           \"https://cdn.shopify.com/s/files/1/0286/3900/2698/products/TVN_Huile-olive-infuse-et-s-227x300_e9a90ffd-b6d2-4118-95a1-29a5c7a05a49_800x.jpg?v=1616684087\"]"
   ]
  },
  {
   "cell_type": "markdown",
   "metadata": {},
   "source": [
    "## Set up LLM"
   ]
  },
  {
   "cell_type": "code",
   "execution_count": 5,
   "metadata": {},
   "outputs": [],
   "source": [
    "client = ibm_watsonx_ai.APIClient(\n",
    "            credentials = ibm_watsonx_ai.Credentials(\n",
    "                url = credentials[\"url\"],\n",
    "                api_key =credentials[\"apikey\"],\n",
    "            ), \n",
    "            project_id=project_id\n",
    "        )"
   ]
  },
  {
   "cell_type": "code",
   "execution_count": 6,
   "metadata": {},
   "outputs": [],
   "source": [
    "params = {\n",
    "            GenParams.DECODING_METHOD: DecodingMethods.GREEDY,\n",
    "            GenParams.MAX_NEW_TOKENS: 200,\n",
    "            GenParams.MIN_NEW_TOKENS: 1,\n",
    "            GenParams.TEMPERATURE: 0,\n",
    "            GenParams.STOP_SEQUENCES: ['\\n']\n",
    "        }\n",
    "\n",
    "model = Model(\n",
    "            model_id='meta-llama/llama-3-70b-instruct',\n",
    "            params=params,\n",
    "            credentials=client.credentials,\n",
    "            project_id=project_id,\n",
    "        )"
   ]
  },
  {
   "cell_type": "markdown",
   "metadata": {},
   "source": [
    "## Iteration with textual RAG since multimodal is not yet available"
   ]
  },
  {
   "cell_type": "code",
   "execution_count": 7,
   "metadata": {},
   "outputs": [],
   "source": [
    "# Text to be used for RAG \n",
    "\n",
    "cucumbers = \"\"\"\n",
    "Cucumbers are fun to grow for beginning gardeners and advanced gardeners alike.  \n",
    "There are two types of cucumbers: slicing and pickling.  Pickling cucumbers are smaller than slicing cucumbers. \n",
    "Cucumber plants come in two types: vining cucumbers, which are more common, and bush cucumbers.\n",
    "Cucumbers, which can grow to more than 5 feet tall, grow fast, yield lots of fruit.\n",
    "\"\"\"\n",
    "\n",
    "tomatoes = \"\"\"\n",
    "Tomatoes are one of the most popular plants for vegetable gardens. Tomato varieties grow as long vines, six feet tall or more.\n",
    "Green tomatoes are the most poisonous. \n",
    "\"\"\""
   ]
  },
  {
   "cell_type": "code",
   "execution_count": 8,
   "metadata": {},
   "outputs": [],
   "source": [
    "articles = [tomatoes, cucumbers] #to be iterated"
   ]
  },
  {
   "cell_type": "code",
   "execution_count": 9,
   "metadata": {},
   "outputs": [],
   "source": [
    "queries = [\n",
    "    'What type of tomato is the most poisonous?',\n",
    "    \"How tall do cucumber plants grow?\"\n",
    "] #to be iterated"
   ]
  },
  {
   "cell_type": "code",
   "execution_count": 12,
   "metadata": {},
   "outputs": [],
   "source": [
    "prompt_template = \"\"\"\n",
    "Article:\n",
    "###\n",
    "%s\n",
    "###\n",
    "\n",
    "Answer the following question using only information from the article. \n",
    "Answer in a complete sentence, with proper capitalization and punctuation. \n",
    "If there is no good answer in the article, say \"I don't know\".\n",
    "\n",
    "Question: %s\n",
    "Answer: \n",
    "\"\"\"\n",
    "\n",
    "def augment( template_in, context_in, nlquery_in ):\n",
    "    return template_in % ( context_in,  nlquery_in )"
   ]
  },
  {
   "cell_type": "code",
   "execution_count": 15,
   "metadata": {},
   "outputs": [
    {
     "name": "stdout",
     "output_type": "stream",
     "text": [
      "\n",
      "Article:\n",
      "###\n",
      "\n",
      "Tomatoes are one of the most popular plants for vegetable gardens. Tomato varieties grow as long vines, six feet tall or more.\n",
      "Green tomatoes are the most poisonous. \n",
      "\n",
      "###\n",
      "\n",
      "Answer the following question using only information from the article. \n",
      "Answer in a complete sentence, with proper capitalization and punctuation. \n",
      "If there is no good answer in the article, say \"I don't know\".\n",
      "\n",
      "Question: What type of tomato is the most poisonous?\n",
      "Answer: \n",
      "\n",
      "Green tomatoes are the most poisonous.\n",
      "\n",
      "Article:\n",
      "###\n",
      "\n",
      "Cucumbers are fun to grow for beginning gardeners and advanced gardeners alike.  \n",
      "There are two types of cucumbers: slicing and pickling.  Pickling cucumbers are smaller than slicing cucumbers. \n",
      "Cucumber plants come in two types: vining cucumbers, which are more common, and bush cucumbers.\n",
      "Cucumbers, which can grow to more than 5 feet tall, grow fast, yield lots of fruit.\n",
      "\n",
      "###\n",
      "\n",
      "Answer the following question using only information from the article. \n",
      "Answer in a complete sentence, with proper capitalization and punctuation. \n",
      "If there is no good answer in the article, say \"I don't know\".\n",
      "\n",
      "Question: How tall do cucumber plants grow?\n",
      "Answer: \n",
      "\n",
      "Cucumber plants can grow to more than 5 feet tall.\n"
     ]
    }
   ],
   "source": [
    "for i in range(len(queries)):\n",
    "    question = queries[i]\n",
    "    article_txt = articles[i]\n",
    "    augmented_prompt = augment(prompt_template, article_txt, question)\n",
    "    output = model.generate_text(augmented_prompt) \n",
    "    print(augmented_prompt)\n",
    "    print(output)"
   ]
  }
 ],
 "metadata": {
  "kernelspec": {
   "display_name": ".venv",
   "language": "python",
   "name": "python3"
  },
  "language_info": {
   "codemirror_mode": {
    "name": "ipython",
    "version": 3
   },
   "file_extension": ".py",
   "mimetype": "text/x-python",
   "name": "python",
   "nbconvert_exporter": "python",
   "pygments_lexer": "ipython3",
   "version": "3.11.9"
  }
 },
 "nbformat": 4,
 "nbformat_minor": 2
}
