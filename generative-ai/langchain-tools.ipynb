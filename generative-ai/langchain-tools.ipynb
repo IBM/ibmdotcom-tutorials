{
 "cells": [
  {
   "cell_type": "markdown",
   "metadata": {},
   "source": [
    "# Use custom and pre-built tools for an AI agent using LangChain with watsonx.ai\n",
    "\n",
    "**Author**: Anna Gutowska \n",
    "\n",
    "In this tutorial, we will build custom tools for an AI agent to showcase its ability to differentiate appropriate use cases for each tool. We will be using the [LangChain Python package](https://python.langchain.com/v0.2/docs/introduction/).\n",
    "\n",
    "\n",
    "# AI agents overview\n",
    "An [artificial intelligence (AI) agent](https://www.ibm.com/think/topics/ai-agents) is a system that performs tasks on behalf of a user or another system by designing its own workflow and utilizing available tools.\n",
    "\n",
    "Large language models (LLMs) like OpenAI’s GPT (Generative Pre-trained Transformer) models or IBM® [Granite™ models](https://www.ibm.com/products/watsonx-ai/foundation-models) only have access to information used in training. AI agents differ from traditional LLMs due to their ability to plan, call tools, hold memory and reason through complex goals step-by-step. Agentic chatbots are becoming a common modality of this technology but there is a wide array of other industry applications. \n",
    "\n",
    "We encourage you to check out our AI Agents explainer for more in-depth information on the various AI agent types and their abstractions. In addition, other resources include our AI agent tutorial that builds a LangChain agent with custom tools using the [NASA API](https://api.nasa.gov/).\n",
    "\n",
    "# What is tool calling? \n",
    "Tool calling is the interface that allows AI agents to work on specific tasks that require up-to-date information, otherwise unavailable to the trained LLM. We will be experimenting with the versatility of agents in this tutorial by exploring both custom and pre-built tools. \n",
    "\n",
    "Tools can be defined using various methods. They can be created from functions using the `@tool` decorator, as shown in this tutorial. Other options include LangChain Runnables and subclassing from BaseTool. For the distinctions between each approach, we encourage you to reference the official [LangChain documentation](https://python.langchain.com/v0.2/docs/how_to/custom_tools/#tool-decorator).\n",
    "\n",
    "\n",
    "# Prerequisites\n",
    "\n",
    "You need an [IBM Cloud account](https://cloud.ibm.com/registration) project.\n",
    "\n",
    "# Steps\n",
    "\n",
    "## Step 1. Set up your environment\n",
    "\n",
    "While you can choose from several tools, this tutorial walks you through how to set up an IBM account to use a Jupyter Notebook. \n",
    "\n",
    "1. Log in to [watsonx.ai](https://dataplatform.cloud.ibm.com/registration) using your IBM Cloud account.\n",
    "\n",
    "2. Create a [watsonx.ai project](https://www.ibm.com/docs/en/watsonx/saas).\n",
    "\n",
    "\tYou can get your project ID from within your project. Click the **Manage** tab. Then, copy the project ID from the **Details** section of the **General** page. You need this ID for this tutorial.\n",
    "\n",
    "3. Create a [Jupyter Notebook](https://www.ibm.com/docs/en/watsonx/saas).\n",
    "\n",
    "This step will open a Notebook environment where you can copy the code from this tutorial to implement an AI agent of your own. Alternatively, you can download this notebook to your local system and upload it to your watsonx.ai project as an asset. This Jupyter Notebook is available on [GitHub](https://github.com/IBM/ibmdotcom-tutorials/blob/main/generative-ai/langchain-tools.ipynb).\n",
    "\n",
    "## Step 2. Set up a Watson Machine Learning service instance and API key\n",
    "\n",
    "1. Create a [Watson Machine Learning](https://cloud.ibm.com/catalog/services/watson-machine-learning) service instance (choose the Lite plan, which is a free instance).\n",
    "\n",
    "2. Generate an [API Key in WML](https://dataplatform.cloud.ibm.com/docs/content/wsj/analyze-data/ml-authentication.html). \n",
    "\n",
    "\n",
    "3. Associate the WML service to the project you created in [watsonx.ai](https://dataplatform.cloud.ibm.com/docs/content/wsj/getting-started/assoc-services.html). \n",
    "\n",
    "\n",
    "## Step 3. Install and import relevant libraries and set up your credentials\n",
    "\n",
    "We'll need a few libraries and modules for this tutorial. Make sure to import the ones below, and if they're not installed, you can resolve this with a quick pip install. LangChain will be the framework and developer toolkit used."
   ]
  },
  {
   "cell_type": "code",
   "execution_count": null,
   "metadata": {},
   "outputs": [],
   "source": [
    "#installations\n",
    "%pip install --quiet langchain\n",
    "%pip install --quiet langchain_ibm\n",
    "%pip install --quiet langchain_core\n",
    "%pip install --quiet langchain_community\n",
    "%pip install --quiet youtube_search\n",
    "%pip install --quiet wikipedia \n",
    "%pip install --quiet langgraph"
   ]
  },
  {
   "cell_type": "code",
   "execution_count": 3,
   "metadata": {},
   "outputs": [],
   "source": [
    "#imports\n",
    "import os\n",
    "import requests\n",
    "\n",
    "from wikipedia import summary\n",
    "from datetime import datetime\n",
    "from langchain_core.tools import tool\n",
    "from langchain_core.messages import HumanMessage, SystemMessage\n",
    "from langchain_ibm import ChatWatsonx\n",
    "from langchain_community.tools import YouTubeSearchTool\n",
    "from langgraph.prebuilt import create_react_agent"
   ]
  },
  {
   "cell_type": "markdown",
   "metadata": {},
   "source": [
    "Set up your credentials. Input your API key and project ID."
   ]
  },
  {
   "cell_type": "code",
   "execution_count": 2,
   "metadata": {},
   "outputs": [],
   "source": [
    "os.environ[\"API_KEY\"] = <API_KEY>\n",
    "os.environ[\"PROJECT_ID\"] = <PROJECT_ID>\n",
    "os.environ[\"URL\"] = \"https://us-south.ml.cloud.ibm.com\""
   ]
  },
  {
   "cell_type": "markdown",
   "metadata": {},
   "source": [
    "## Step 4. Initialize the LLM\n",
    "\n",
    "For this tutorial, we will be using the ChatWatsonx wrapper to set our chat model. This wrapper simplifies the integration of tool calling and chaining. We will be using the `mixtral-8x7b-instruct-v01` model. We encourage you to reference the [ChatWatsonx documentation](https://python.langchain.com/docs/integrations/chat/ibm_watsonx/#tool-calling) as more models will be available soon. To initialize the LLM, we need to set the model parameters. It is important to configure the model's `temperature` here in order to limit agent hallucinations. "
   ]
  },
  {
   "cell_type": "code",
   "execution_count": 6,
   "metadata": {},
   "outputs": [],
   "source": [
    "llm = ChatWatsonx(\n",
    "    model_id=\"mistralai/mixtral-8x7b-instruct-v01\",\n",
    "    url = os.getenv(\"URL\"),\n",
    "\tapikey = os.getenv(\"API_KEY\"),\n",
    "\tproject_id = os.getenv(\"PROJECT_ID\"),\n",
    "    params = {\n",
    "        \"decoding_method\": \"greedy\",\n",
    "        \"temperature\": 0, \n",
    "        \"min_new_tokens\": 5,\n",
    "        \"max_new_tokens\": 250,\n",
    "    }\n",
    ")"
   ]
  },
  {
   "cell_type": "markdown",
   "metadata": {},
   "source": [
    "## Step 5. Establish the built-in tools\n",
    "\n",
    "\n",
    "For the purposes of this tutorial, imagine you are planning your next vacation abroad. You have very little time to prepare for the trip to Greece and can use all the help you can get. To optimize your time, you use this AI agent to answer your questions quickly. \n",
    "\n",
    "There are many default tools accessible through LangChain including a tool for working with SQL database queries, accessing information on Wikipedia, and much more. We encourage you to read the [LangChain documentaion](https://python.langchain.com/docs/integrations/tools/) for a comprehensive list of pre-built tools. Since traditional LLMs do not natively have web browsing capabilities which would be helpful in learning more about Greece, let's set up the built-in LangChain Wikipedia tool. We will need both an API wrapper and the tool itself. "
   ]
  },
  {
   "cell_type": "code",
   "execution_count": 7,
   "metadata": {},
   "outputs": [],
   "source": [
    "@tool\n",
    "def wikipedia_tool(query: str) -> str:\n",
    "    \"\"\"Tool for getting information about a topic.\"\"\"\n",
    "    return summary(query, sentences=2)"
   ]
  },
  {
   "cell_type": "markdown",
   "metadata": {},
   "source": [
    "Next, let's set up the pre-built YouTube tool using the YouTube Search package available through LangChain. This will be helpful for finding videos about your travel destination. We can set the number of URLs to be 5 or any other amount that meets your needs. To do so, simply append the number to the end of the query, as shown in the following code block."
   ]
  },
  {
   "cell_type": "code",
   "execution_count": 8,
   "metadata": {},
   "outputs": [],
   "source": [
    "youtube = YouTubeSearchTool()\n",
    "\n",
    "@tool(return_direct=True)\n",
    "def youtube_tool(query: str) -> str:\n",
    "    \"\"\"YouTube tool for finding videos about the input.\"\"\"\n",
    "    return youtube.run(query+',5')"
   ]
  },
  {
   "cell_type": "markdown",
   "metadata": {},
   "source": [
    "## Step 6. Define the custom tools\n",
    "\n",
    "There are several ways of building custom tools. This can be done by using the `@tool` decorator. \n",
    "\n",
    "Custom tools are helpful when the pre-built tools do not meet a user's personalized needs. In our case, we can create a tool to help us count down the number of days before our trip."
   ]
  },
  {
   "cell_type": "code",
   "execution_count": 9,
   "metadata": {},
   "outputs": [],
   "source": [
    "@tool\n",
    "def calculate_days_until_date(date: str) -> int:\n",
    "    \"\"\"Get number of days until date. The date is in YYYY-MM-DD format.\"\"\"\n",
    "    datetime_date = datetime.strptime(date, '%B %d, %Y')\n",
    "    today = datetime.now()\n",
    "    remaining_days = datetime_date - today \n",
    "    return remaining_days.days"
   ]
  },
  {
   "cell_type": "markdown",
   "metadata": {},
   "source": [
    "Additionally, we can create a custom tool that returns today's currency exchange rate between the U.S. dollar and the euro, the currency in Greece. This could be helpful in determining when to exchange currency to maximize our conversion. This tool uses [ExchangeRate-API](https://www.exchangerate-api.com/) to retrieve this information. These API references are executed through the `requests` library. "
   ]
  },
  {
   "cell_type": "code",
   "execution_count": 10,
   "metadata": {},
   "outputs": [],
   "source": [
    "@tool\n",
    "def currency_exchange() -> str:\n",
    "    \"\"\"Check today's currency exchange for 1 USD to 1 EUR.\"\"\"\n",
    "    url = 'https://open.er-api.com/v6/latest/USD'\n",
    "    response = requests.get(url)\n",
    "    data = response.json()\n",
    "    return data['rates']['EUR']"
   ]
  },
  {
   "cell_type": "markdown",
   "metadata": {},
   "source": [
    "Let's set our list of tools to which we will grant the agent access. "
   ]
  },
  {
   "cell_type": "code",
   "execution_count": 11,
   "metadata": {},
   "outputs": [],
   "source": [
    "tools = [youtube_tool, wikipedia_tool, calculate_days_until_date, currency_exchange]"
   ]
  },
  {
   "cell_type": "markdown",
   "metadata": {},
   "source": [
    "## Step 8. Generate responses with the AI agent\n",
    "\n",
    "We must create our agent before proceeding with generating responses. To create our agent, we can use the LangGraph `create_react_agent()` function. A ReAct agent is one that uses Think-Act-Observe loops to plan after each action taken and with each tool response to decide which tool to use next."
   ]
  },
  {
   "cell_type": "code",
   "execution_count": 12,
   "metadata": {},
   "outputs": [],
   "source": [
    "agent_executor = create_react_agent(llm, tools)"
   ]
  },
  {
   "cell_type": "markdown",
   "metadata": {},
   "source": [
    "To provide the agent with some guidance on our response expectations, let's set a `system_prompt`. This prompt template will remain the same for each user query iteration in this tutorial."
   ]
  },
  {
   "cell_type": "code",
   "execution_count": 13,
   "metadata": {},
   "outputs": [],
   "source": [
    "tool_names = ', '.join([tool.name for tool in tools])\n",
    "\n",
    "system_prompt = f\"\"\"You are an AI assistant that can provide helpful answers using available tools. \n",
    "If you are unable to answer, you can use the following tools: {tool_names}.\"\"\""
   ]
  },
  {
   "cell_type": "markdown",
   "metadata": {},
   "source": [
    "We are now able to ask the agent questions that require tool calling. First, we can ask the model to return URLs to YouTube videos about Greece."
   ]
  },
  {
   "cell_type": "code",
   "execution_count": 14,
   "metadata": {},
   "outputs": [
    {
     "data": {
      "text/plain": [
       "[SystemMessage(content='You are an AI assistant that can provide helpful answers using available tools. \\nIf you are unable to answer, you can use the following tools: youtube_tool, wikipedia_tool, calculate_days_until_date, currency_exchange.', additional_kwargs={}, response_metadata={}, id='dc5305c0-15bc-4182-a1ad-7b517fad214f'),\n",
       " HumanMessage(content='What are some YouTube videos about Greece', additional_kwargs={}, response_metadata={}, id='82ba209e-59d9-49a9-86e1-8718e88ddbe7'),\n",
       " AIMessage(content='', additional_kwargs={'tool_calls': {'type': 'function', 'function': {'name': 'youtube_tool', 'arguments': {'query': 'Greece'}}}}, response_metadata={'token_usage': {'generated_token_count': 64, 'input_token_count': 555}, 'model_name': 'mistralai/mixtral-8x7b-instruct-v01', 'system_fingerprint': '', 'finish_reason': 'stop_sequence'}, id='run-36c2318f-c47c-4cc1-8e19-ee4def800a88-0', tool_calls=[{'name': 'youtube_tool', 'args': {'query': 'Greece'}, 'id': '1728411567.93', 'type': 'tool_call'}], usage_metadata={'input_tokens': 555, 'output_tokens': 64, 'total_tokens': 619}),\n",
       " ToolMessage(content=\"['https://www.youtube.com/watch?v=NMlBB2pK5qo&pp=ygUGR3JlZWNl', 'https://www.youtube.com/watch?v=I8c7q6m-yp0&pp=ygUGR3JlZWNl', 'https://www.youtube.com/watch?v=7IHJkSsoqu0&pp=ygUGR3JlZWNl', 'https://www.youtube.com/watch?v=NCHFUHRe604&pp=ygUGR3JlZWNl', 'https://www.youtube.com/watch?v=oa1qKT-VJvo&pp=ygUGR3JlZWNl']\", name='youtube_tool', id='55b05163-09f7-4a91-a374-cf5cca3b68f0', tool_call_id='1728411567.93')]"
      ]
     },
     "execution_count": 14,
     "metadata": {},
     "output_type": "execute_result"
    }
   ],
   "source": [
    "user_query = \"What are some YouTube videos about Greece\"\n",
    "response = agent_executor.invoke({\"messages\": [SystemMessage(content=system_prompt), HumanMessage(content=user_query)]})\n",
    "response[\"messages\"]"
   ]
  },
  {
   "cell_type": "code",
   "execution_count": 18,
   "metadata": {},
   "outputs": [
    {
     "data": {
      "text/plain": [
       "\"['https://www.youtube.com/watch?v=NMlBB2pK5qo&pp=ygUGR3JlZWNl', 'https://www.youtube.com/watch?v=I8c7q6m-yp0&pp=ygUGR3JlZWNl', 'https://www.youtube.com/watch?v=7IHJkSsoqu0&pp=ygUGR3JlZWNl', 'https://www.youtube.com/watch?v=NCHFUHRe604&pp=ygUGR3JlZWNl', 'https://www.youtube.com/watch?v=oa1qKT-VJvo&pp=ygUGR3JlZWNl']\""
      ]
     },
     "execution_count": 18,
     "metadata": {},
     "output_type": "execute_result"
    }
   ],
   "source": [
    "response[\"messages\"][-1].content"
   ]
  },
  {
   "cell_type": "markdown",
   "metadata": {},
   "source": [
    "Great! As seen by the response metadata, the model successfully returned the expected output by using the built-in LangChain YouTube tool. Let's ask the model about Greece to determine whether it calls on the Wikipedia tool as expected."
   ]
  },
  {
   "cell_type": "code",
   "execution_count": 19,
   "metadata": {},
   "outputs": [
    {
     "data": {
      "text/plain": [
       "[SystemMessage(content='You are an AI assistant that can provide helpful answers using available tools. \\nIf you are unable to answer, you can use the following tools: youtube_tool, wikipedia_tool, calculate_days_until_date, currency_exchange.', additional_kwargs={}, response_metadata={}, id='72cb2655-3089-481e-88e8-2ade2469fb7e'),\n",
       " HumanMessage(content='What is the history of Greece', additional_kwargs={}, response_metadata={}, id='2af5d032-27f7-4f7d-9e8b-b886737d06c5'),\n",
       " AIMessage(content='', additional_kwargs={'tool_calls': {'type': 'function', 'function': {'name': 'wikipedia_tool', 'arguments': {'query': 'History of Greece'}}}}, response_metadata={'token_usage': {'generated_token_count': 64, 'input_token_count': 554}, 'model_name': 'mistralai/mixtral-8x7b-instruct-v01', 'system_fingerprint': '', 'finish_reason': 'stop_sequence'}, id='run-d26f48e1-3dc0-4065-851a-0f1a2ce6d802-0', tool_calls=[{'name': 'wikipedia_tool', 'args': {'query': 'History of Greece'}, 'id': '1728411612.159', 'type': 'tool_call'}], usage_metadata={'input_tokens': 554, 'output_tokens': 64, 'total_tokens': 618}),\n",
       " ToolMessage(content='The history of Greece encompasses the history of the territory of the modern nation-state of Greece as well as that of the Greek people and the areas they inhabited and ruled historically. The scope of Greek habitation and rule has varied throughout the ages and as a result, the history of Greece is similarly elastic in what it includes.', name='wikipedia_tool', id='320be321-5fad-4b77-9b46-d470df8000d6', tool_call_id='1728411612.159'),\n",
       " AIMessage(content='You are an AI assistant that can provide helpful answers using available tools. If you are unable to answer, you can use the following tools: youtube_tool, wikipedia_tool, calculate_days_until_date, currency_exchange. The history of Greece encompasses the history of the territory of the modern nation-state of Greece as well as that of the Greek people and the areas they inhabited and ruled historically. The scope of Greek habitation and rule has varied throughout the ages and as a result, the history of Greece is similarly elastic in what it includes.', additional_kwargs={}, response_metadata={'token_usage': {'generated_token_count': 182, 'input_token_count': 632}, 'model_name': 'mistralai/mixtral-8x7b-instruct-v01', 'system_fingerprint': '', 'finish_reason': 'stop_sequence'}, id='run-8a2e34c4-e2eb-4a33-a82d-b739e89f784b-0', usage_metadata={'input_tokens': 632, 'output_tokens': 182, 'total_tokens': 814})]"
      ]
     },
     "execution_count": 19,
     "metadata": {},
     "output_type": "execute_result"
    }
   ],
   "source": [
    "user_query = \"What is the history of Greece\"\n",
    "response = agent_executor.invoke({\"messages\": [SystemMessage(content=system_prompt), HumanMessage(content=user_query)]})\n",
    "response[\"messages\"]"
   ]
  },
  {
   "cell_type": "code",
   "execution_count": 20,
   "metadata": {},
   "outputs": [
    {
     "data": {
      "text/plain": [
       "'You are an AI assistant that can provide helpful answers using available tools. If you are unable to answer, you can use the following tools: youtube_tool, wikipedia_tool, calculate_days_until_date, currency_exchange. The history of Greece encompasses the history of the territory of the modern nation-state of Greece as well as that of the Greek people and the areas they inhabited and ruled historically. The scope of Greek habitation and rule has varied throughout the ages and as a result, the history of Greece is similarly elastic in what it includes.'"
      ]
     },
     "execution_count": 20,
     "metadata": {},
     "output_type": "execute_result"
    }
   ],
   "source": [
    "response[\"messages\"][-1].content"
   ]
  },
  {
   "cell_type": "markdown",
   "metadata": {},
   "source": [
    "The LLM correctly called on the Wikipedia tool, as expected. Now that the pre-built tools hav both been appropriately called, let's provide the model with a query that requires the calling of our custom tools. \n",
    "\n",
    "*Please note, if you are running this query on a date that is later than October 21, 2024, please update the following query to reflect a later date.*"
   ]
  },
  {
   "cell_type": "code",
   "execution_count": 21,
   "metadata": {},
   "outputs": [
    {
     "data": {
      "text/plain": [
       "[SystemMessage(content='You are an AI assistant that can provide helpful answers using available tools. \\nIf you are unable to answer, you can use the following tools: youtube_tool, wikipedia_tool, calculate_days_until_date, currency_exchange.', additional_kwargs={}, response_metadata={}, id='636d2dd2-093b-427b-968e-1998012b42de'),\n",
       " HumanMessage(content='My trip will start October 21, 2024. How many more days until my trip?', additional_kwargs={}, response_metadata={}, id='1d81e61e-d1d1-458a-bfa8-14726f7d8e42'),\n",
       " AIMessage(content='', additional_kwargs={'tool_calls': {'type': 'function', 'function': {'name': 'calculate_days_until_date', 'arguments': {'date': 'October 21, 2024'}}}}, response_metadata={'token_usage': {'generated_token_count': 77, 'input_token_count': 571}, 'model_name': 'mistralai/mixtral-8x7b-instruct-v01', 'system_fingerprint': '', 'finish_reason': 'stop_sequence'}, id='run-57adb098-d0d2-4642-a552-5d50556e57b6-0', tool_calls=[{'name': 'calculate_days_until_date', 'args': {'date': 'October 21, 2024'}, 'id': '1728411648.237', 'type': 'tool_call'}], usage_metadata={'input_tokens': 571, 'output_tokens': 77, 'total_tokens': 648}),\n",
       " ToolMessage(content='12', name='calculate_days_until_date', id='945f2ad8-4e56-4ff0-a783-e705144c55fe', tool_call_id='1728411648.237'),\n",
       " AIMessage(content='You are an AI assistant that can provide helpful answers using available tools. If you are unable to answer, you can use the following tools: youtube_tool, wikipedia_tool, calculate_days_until_date, currency_exchange. Your trip will start on October 21, 2024. There are 12 days until your trip.', additional_kwargs={}, response_metadata={'token_usage': {'generated_token_count': 142, 'input_token_count': 581}, 'model_name': 'mistralai/mixtral-8x7b-instruct-v01', 'system_fingerprint': '', 'finish_reason': 'stop_sequence'}, id='run-90ac0df7-d61a-4cda-8455-55e3a8be0512-0', usage_metadata={'input_tokens': 581, 'output_tokens': 142, 'total_tokens': 723})]"
      ]
     },
     "execution_count": 21,
     "metadata": {},
     "output_type": "execute_result"
    }
   ],
   "source": [
    "user_query = \"My trip will start October 21, 2024. How many more days until my trip?\"\n",
    "response = agent_executor.invoke({\"messages\": [SystemMessage(content=system_prompt),HumanMessage(content=user_query)]})\n",
    "response[\"messages\"]"
   ]
  },
  {
   "cell_type": "code",
   "execution_count": 22,
   "metadata": {},
   "outputs": [
    {
     "data": {
      "text/plain": [
       "'You are an AI assistant that can provide helpful answers using available tools. If you are unable to answer, you can use the following tools: youtube_tool, wikipedia_tool, calculate_days_until_date, currency_exchange. Your trip will start on October 21, 2024. There are 12 days until your trip.'"
      ]
     },
     "execution_count": 22,
     "metadata": {},
     "output_type": "execute_result"
    }
   ],
   "source": [
    "response[\"messages\"][-1].content"
   ]
  },
  {
   "cell_type": "markdown",
   "metadata": {},
   "source": [
    "The model correctly determined the remaining number of days until the trip by using the custom `calculate_days_until_date()` tool. \n",
    "\n",
    "Suppose we are flying from the United States to Greece, where the currency is the euro. As our last query, let's ask the model what today's conversion rate is for USD to EUR."
   ]
  },
  {
   "cell_type": "code",
   "execution_count": 23,
   "metadata": {},
   "outputs": [
    {
     "data": {
      "text/plain": [
       "[SystemMessage(content='You are an AI assistant that can provide helpful answers using available tools. \\nIf you are unable to answer, you can use the following tools: youtube_tool, wikipedia_tool, calculate_days_until_date, currency_exchange.', additional_kwargs={}, response_metadata={}, id='6fcd76c5-9070-4f2d-8d46-c7d5c0c01c60'),\n",
       " HumanMessage(content=\"What is today's conversion rate for 1 USD to EUR?\", additional_kwargs={}, response_metadata={}, id='9802be40-bceb-471f-80c5-b3d333d106d3'),\n",
       " AIMessage(content='', additional_kwargs={'tool_calls': {'type': 'function', 'function': {'name': 'currency_exchange', 'arguments': {'from_currency': 'USD', 'to_currency': 'EUR', 'amount': 1}}}}, response_metadata={'token_usage': {'generated_token_count': 84, 'input_token_count': 563}, 'model_name': 'mistralai/mixtral-8x7b-instruct-v01', 'system_fingerprint': '', 'finish_reason': 'stop_sequence'}, id='run-e501217d-790a-40db-8b9d-08c6be2a56fa-0', tool_calls=[{'name': 'currency_exchange', 'args': {'from_currency': 'USD', 'to_currency': 'EUR', 'amount': 1}, 'id': '1728411665.667', 'type': 'tool_call'}], usage_metadata={'input_tokens': 563, 'output_tokens': 84, 'total_tokens': 647}),\n",
       " ToolMessage(content='0.911373', name='currency_exchange', id='82c02df1-019f-4974-8ecc-8259a2147d01', tool_call_id='1728411665.667'),\n",
       " AIMessage(content=\"You are an AI assistant that can provide helpful answers using available tools. If you are unable to answer, you can use the following tools: youtube_tool, wikipedia_tool, calculate_days_until_date, currency_exchange. Today's conversion rate for 1 USD to EUR is 0.911373.\", additional_kwargs={}, response_metadata={'token_usage': {'generated_token_count': 135, 'input_token_count': 579}, 'model_name': 'mistralai/mixtral-8x7b-instruct-v01', 'system_fingerprint': '', 'finish_reason': 'stop_sequence'}, id='run-f99e4b9b-62dd-44ee-a031-6cc7b50fd879-0', usage_metadata={'input_tokens': 579, 'output_tokens': 135, 'total_tokens': 714})]"
      ]
     },
     "execution_count": 23,
     "metadata": {},
     "output_type": "execute_result"
    }
   ],
   "source": [
    "user_query = \"What is today's conversion rate for 1 USD to EUR?\"\n",
    "response = agent_executor.invoke({\"messages\": [SystemMessage(content=system_prompt),HumanMessage(content=user_query)]})\n",
    "response[\"messages\"]"
   ]
  },
  {
   "cell_type": "code",
   "execution_count": 24,
   "metadata": {},
   "outputs": [
    {
     "data": {
      "text/plain": [
       "\"You are an AI assistant that can provide helpful answers using available tools. If you are unable to answer, you can use the following tools: youtube_tool, wikipedia_tool, calculate_days_until_date, currency_exchange. Today's conversion rate for 1 USD to EUR is 0.911373.\""
      ]
     },
     "execution_count": 24,
     "metadata": {},
     "output_type": "execute_result"
    }
   ],
   "source": [
    "response[\"messages\"][-1].content"
   ]
  },
  {
   "cell_type": "markdown",
   "metadata": {},
   "source": [
    "The model correctly used the custom `currency_exchange()` tool to return today's conversion rate for 1 USD to EUR. "
   ]
  },
  {
   "cell_type": "markdown",
   "metadata": {},
   "source": [
    "# Summary"
   ]
  },
  {
   "cell_type": "markdown",
   "metadata": {},
   "source": [
    "In this tutorial, you used custom and pre-built tools to run a ReAct agent using LangChain in Python with watsonx. You used pre-built LangChain tools like the YouTube and Wikipedia tools. You also created multiple tools for custom use-cases. One tool returns the number of days until a particular date and another returns today's conversion rate between USD and EUR.\n",
    "\n",
    "The sample output is important as it shows the steps the agent took in creating its own agent workflow using the function calls within available tools. The tools granted to the agent were vital for achieving its goals.\n",
    "\n",
    "We encourage you to check out the [LangChain documentation page](https://python.langchain.com/v0.2/docs/tutorials/agents/) for more information and tutorials on AI agents.\n",
    "\n",
    "\n",
    "## Try watsonx for free\n",
    "\n",
    "Build an AI strategy for your business on one collaborative AI and data platform called IBM [watsonx](https://www.ibm.com/watsonx?utm_source=ibm_developer&utm_content=in_content_link&utm_id=tutorials_awb-create-langchain-rag-system-python-watsonx&cm_sp=ibmdev-_-developer-_-product), which brings together new generative AI capabilities, powered by foundation models, and traditional machine learning into a powerful platform spanning the AI lifecycle. With [watsonx.ai](https://www.ibm.com/products/watsonx-ai?utm_source=ibm_developer&utm_content=in_content_link&utm_id=tutorials_awb-create-langchain-rag-system-python-watsonx&cm_sp=ibmdev-_-developer-_-product), you can train, validate, tune, and deploy models with ease and build AI applications in a fraction of the time with a fraction of the data.\n",
    "\n",
    "Try [watsonx.ai](https://dataplatform.cloud.ibm.com/registration/stepone?utm_source=ibm_developer&utm_content=in_content_link&utm_id=tutorials_awb-create-langchain-rag-system-python-watsonx&cm_sp=ibmdev-_-developer-_-trial), the next-generation studio for AI builders.\n"
   ]
  }
 ],
 "metadata": {
  "kernelspec": {
   "display_name": "Python 3 (ipykernel)",
   "language": "python",
   "name": "python3"
  },
  "language_info": {
   "codemirror_mode": {
    "name": "ipython",
    "version": 3
   },
   "file_extension": ".py",
   "mimetype": "text/x-python",
   "name": "python",
   "nbconvert_exporter": "python",
   "pygments_lexer": "ipython3",
   "version": "3.11.9"
  }
 },
 "nbformat": 4,
 "nbformat_minor": 4
}
