{
 "cells": [
  {
   "cell_type": "markdown",
   "metadata": {},
   "source": [
    "# Use custom and pre-built tools for an AI agent using LangChain with watsonx.ai\n",
    "\n",
    "**Author**: Anna Gutowska \n",
    "\n",
    "In this tutorial, we will build custom tools for an AI agent to showcase its ability to differentiate appropriate use cases for each tool. We will be using the [LangChain Python package](https://python.langchain.com/v0.2/docs/introduction/).\n",
    "\n",
    "\n",
    "# AI agents overview\n",
    "An [artificial intelligence (AI) agent](https://www.ibm.com/think/topics/ai-agents) is a system that performs tasks on behalf of a user or another system by designing its own workflow and utilizing available tools.\n",
    "\n",
    "Large language models (LLMs) like OpenAI’s GPT (Generative Pre-trained Transformer) models or IBM® [Granite™ models](https://www.ibm.com/products/watsonx-ai/foundation-models) only have access to information used in training. AI agents differ from traditional LLMs due to their ability to plan, call tools, hold memory and reason through complex goals step-by-step. Agentic chatbots are becoming a common modality of this technology but there is a wide array of other industry applications. \n",
    "\n",
    "We encourage you to check out our AI Agents explainer for more in-depth information on the various AI agent types and their abstractions. In addition, other resources include our AI agent tutorial that builds a LangChain agent with custom tools using the [NASA API](https://api.nasa.gov/).\n",
    "\n",
    "# What is tool calling? \n",
    "Tool calling is the interface that allows AI agents to work on specific tasks that require up-to-date information, otherwise unavailable to the trained LLM. We will be experimenting with the versatility of agents in this tutorial by exploring both custom and pre-built tools. \n",
    "\n",
    "Tools can be defined using various methods. They can be created from functions using the `@tool` decorator, as shown in this tutorial. Other options include LangChain Runnables and subclassing from BaseTool. For the distinctions between each approach, we encourage you to reference the official [LangChain documentation](https://python.langchain.com/v0.2/docs/how_to/custom_tools/#tool-decorator).\n",
    "\n",
    "\n",
    "# Prerequisites\n",
    "\n",
    "You need an [IBM Cloud account](https://cloud.ibm.com/registration) project.\n",
    "\n",
    "# Steps\n",
    "\n",
    "## Step 1. Set up your environment\n",
    "\n",
    "While you can choose from several tools, this tutorial walks you through how to set up an IBM account to use a Jupyter Notebook. \n",
    "\n",
    "1. Log in to [watsonx.ai](https://dataplatform.cloud.ibm.com/registration) using your IBM Cloud account.\n",
    "\n",
    "2. Create a [watsonx.ai project](https://www.ibm.com/docs/en/watsonx/saas).\n",
    "\n",
    "\tYou can get your project ID from within your project. Click the **Manage** tab. Then, copy the project ID from the **Details** section of the **General** page. You need this ID for this tutorial.\n",
    "\n",
    "3. Create a [Jupyter Notebook](https://www.ibm.com/docs/en/watsonx/saas).\n",
    "\n",
    "This step will open a Notebook environment where you can copy the code from this tutorial to implement an AI agent of your own. Alternatively, you can download this notebook to your local system and upload it to your watsonx.ai project as an asset. This Jupyter Notebook is available on [GitHub](https://github.com/IBM/ibmdotcom-tutorials/blob/main/generative-ai/langchain-tools.ipynb).\n",
    "\n",
    "## Step 2. Set up a Watson Machine Learning service instance and API key\n",
    "\n",
    "1. Create a [Watson Machine Learning](https://cloud.ibm.com/catalog/services/watson-machine-learning) service instance (choose the Lite plan, which is a free instance).\n",
    "\n",
    "2. Generate an [API Key in WML](https://dataplatform.cloud.ibm.com/docs/content/wsj/analyze-data/ml-authentication.html). \n",
    "\n",
    "\n",
    "3. Associate the WML service to the project you created in [watsonx.ai](https://dataplatform.cloud.ibm.com/docs/content/wsj/getting-started/assoc-services.html). \n",
    "\n",
    "\n",
    "## Step 3. Install and import relevant libraries and set up your credentials\n",
    "\n",
    "We'll need a few libraries and modules for this tutorial. Make sure to import the ones below, and if they're not installed, you can resolve this with a quick pip install. LangChain will be the framework and developer toolkit used."
   ]
  },
  {
   "cell_type": "code",
   "execution_count": null,
   "metadata": {},
   "outputs": [],
   "source": [
    "#installations\n",
    "%pip install --quiet langchain\n",
    "%pip install --quiet langchain_ibm\n",
    "%pip install --quiet langchain_core\n",
    "%pip install --quiet langchain_community\n",
    "%pip install --quiet youtube_search\n",
    "%pip install --quiet wikipedia \n",
    "%pip install --quiet langgraph"
   ]
  },
  {
   "cell_type": "code",
   "execution_count": 13,
   "metadata": {},
   "outputs": [],
   "source": [
    "#imports\n",
    "import os\n",
    "import requests\n",
    "\n",
    "from wikipedia import summary\n",
    "from datetime import datetime\n",
    "from langchain_core.tools import tool\n",
    "from langchain_core.messages import HumanMessage, SystemMessage\n",
    "from langchain_ibm import ChatWatsonx\n",
    "from langchain_community.tools import YouTubeSearchTool\n",
    "from langgraph.prebuilt import create_react_agent"
   ]
  },
  {
   "cell_type": "markdown",
   "metadata": {},
   "source": [
    "Set up your credentials. Input your API key and project ID."
   ]
  },
  {
   "cell_type": "code",
   "execution_count": 2,
   "metadata": {},
   "outputs": [],
   "source": [
    "os.environ[\"API_KEY\"] = <API_KEY>\n",
    "os.environ[\"PROJECT_ID\"] = <PROJECT_ID>\n",
    "os.environ[\"URL\"] = \"https://us-south.ml.cloud.ibm.com\""
   ]
  },
  {
   "cell_type": "markdown",
   "metadata": {},
   "source": [
    "## Step 4. Initialize the LLM\n",
    "\n",
    "For this tutorial, we will be using the ChatWatsonx wrapper to set our chat model. This wrapper simplifies the integration of tool calling and chaining. We will be using the `mixtral-8x7b-instruct-v01` model. We encourage you to reference the [ChatWatsonx documentation](https://python.langchain.com/docs/integrations/chat/ibm_watsonx/#tool-calling) as more models will be available soon. To initialize the LLM, we need to set the model parameters. It is important to configure the model's `temperature` here in order to limit agent hallucinations. "
   ]
  },
  {
   "cell_type": "code",
   "execution_count": 3,
   "metadata": {},
   "outputs": [],
   "source": [
    "llm = ChatWatsonx(\n",
    "    model_id=\"mistralai/mixtral-8x7b-instruct-v01\",\n",
    "    url = os.getenv(\"URL\"),\n",
    "\tapikey = os.getenv(\"API_KEY\"),\n",
    "\tproject_id = os.getenv(\"PROJECT_ID\"),\n",
    "    params = {\n",
    "        \"decoding_method\": \"greedy\",\n",
    "        \"temperature\": 0, \n",
    "        \"min_new_tokens\": 5,\n",
    "        \"max_new_tokens\": 250,\n",
    "    }\n",
    ")"
   ]
  },
  {
   "cell_type": "markdown",
   "metadata": {},
   "source": [
    "## Step 5. Establish the built-in tools\n",
    "\n",
    "\n",
    "For the purposes of this tutorial, imagine you are planning your next vacation abroad. You have very little time to prepare for the trip to Greece and can use all the help you can get. To optimize your time, you use this AI agent to answer your questions quickly. \n",
    "\n",
    "There are many default tools accessible through LangChain including a tool for working with SQL database queries, accessing information on Wikipedia, and much more. We encourage you to read the [LangChain documentaion](https://python.langchain.com/docs/integrations/tools/) for a comprehensive list of pre-built tools. Since traditional LLMs do not natively have web browsing capabilities which would be helpful in learning more about Greece, let's set up the built-in LangChain Wikipedia tool. We will need both an API wrapper and the tool itself. "
   ]
  },
  {
   "cell_type": "code",
   "execution_count": 33,
   "metadata": {},
   "outputs": [],
   "source": [
    "@tool\n",
    "def wikipedia_tool(query: str) -> str:\n",
    "    \"\"\"Tool for getting information about a topic.\"\"\"\n",
    "    return summary(query, sentences=2)"
   ]
  },
  {
   "cell_type": "markdown",
   "metadata": {},
   "source": [
    "Next, let's set up the pre-built YouTube tool using the YouTube Search package available through LangChain. This will be helpful for finding videos about your travel destination. We can set the number of URLs to be 5 or any other amount that meets your needs. To do so, simply append the number to the end of the query, as shown in the following code block."
   ]
  },
  {
   "cell_type": "code",
   "execution_count": 5,
   "metadata": {},
   "outputs": [],
   "source": [
    "youtube = YouTubeSearchTool()\n",
    "\n",
    "@tool(return_direct=True)\n",
    "def youtube_tool(query: str) -> str:\n",
    "    \"\"\"YouTube tool for finding videos about the input.\"\"\"\n",
    "    return youtube.run(query+',5')"
   ]
  },
  {
   "cell_type": "markdown",
   "metadata": {},
   "source": [
    "## Step 6. Define the custom tools\n",
    "\n",
    "There are several ways of building custom tools. This can be done by using the `@tool` decorator. \n",
    "\n",
    "Custom tools are helpful when the pre-built tools do not meet a user's personalized needs. In our case, we can create a tool to help us count down the number of days before our trip."
   ]
  },
  {
   "cell_type": "code",
   "execution_count": 17,
   "metadata": {},
   "outputs": [],
   "source": [
    "@tool\n",
    "def calculate_days_until_date(date: str) -> int:\n",
    "    \"\"\"Get number of days until date. The date is in YYYY-MM-DD format.\"\"\"\n",
    "    datetime_date = datetime.strptime(date, '%B %d, %Y')\n",
    "    today = datetime.now()\n",
    "    remaining_days = datetime_date - today \n",
    "    return remaining_days.days"
   ]
  },
  {
   "cell_type": "markdown",
   "metadata": {},
   "source": [
    "Additionally, we can create a custom tool that returns today's currency exchange rate between the U.S. dollar and the euro, the currency in Greece. This could be helpful in determining when to exchange currency to maximize our conversion. This tool uses [ExchangeRate-API](https://www.exchangerate-api.com/) to retrieve this information. These API references are executed through the `requests` library. "
   ]
  },
  {
   "cell_type": "code",
   "execution_count": 65,
   "metadata": {},
   "outputs": [],
   "source": [
    "@tool\n",
    "def currency_exchange() -> str:\n",
    "    \"\"\"Check today's currency exchange for 1 USD to 1 EUR.\"\"\"\n",
    "    url = 'https://open.er-api.com/v6/latest/USD'\n",
    "    response = requests.get(url)\n",
    "    data = response.json()\n",
    "    return data['rates']['EUR']"
   ]
  },
  {
   "cell_type": "markdown",
   "metadata": {},
   "source": [
    "Let's set our list of tools to which we will grant the agent access. "
   ]
  },
  {
   "cell_type": "code",
   "execution_count": 66,
   "metadata": {},
   "outputs": [],
   "source": [
    "tools = [youtube_tool, wikipedia_tool, calculate_days_until_date, currency_exchange]"
   ]
  },
  {
   "cell_type": "markdown",
   "metadata": {},
   "source": [
    "## Step 8. Generate responses with the AI agent\n",
    "\n",
    "We must create our agent before proceeding with generating responses. To create our agent, we can use the LangGraph `create_react_agent()` function. A ReAct agent is one that uses Think-Act-Observe loops to plan after each action taken and with each tool response to decide which tool to use next."
   ]
  },
  {
   "cell_type": "code",
   "execution_count": 67,
   "metadata": {},
   "outputs": [],
   "source": [
    "agent_executor = create_react_agent(llm, tools)"
   ]
  },
  {
   "cell_type": "markdown",
   "metadata": {},
   "source": [
    "To provide the agent with some guidance on our response expectations, let's set a `system_prompt`. This prompt template will remain the same for each user query iteration in this tutorial."
   ]
  },
  {
   "cell_type": "code",
   "execution_count": 78,
   "metadata": {},
   "outputs": [],
   "source": [
    "tool_names = ', '.join([tool.name for tool in tools])\n",
    "\n",
    "system_prompt = f\"\"\"You are an AI assistant that can provide helpful answers using available tools. \n",
    "If you are unable to answer, you can use the following tools: {tool_names}.\"\"\""
   ]
  },
  {
   "cell_type": "markdown",
   "metadata": {},
   "source": [
    "We are now able to ask the agent questions that require tool calling. First, we can ask the model to return URLs to YouTube videos about Greece."
   ]
  },
  {
   "cell_type": "code",
   "execution_count": 36,
   "metadata": {},
   "outputs": [
    {
     "data": {
      "text/plain": [
       "[SystemMessage(content='You are an AI assistant that can provide helpful answers using available tools. If you are unable to answer, you can use the following tools: youtube_tool, wikipedia_tool, calculate_days_until_date.', additional_kwargs={}, response_metadata={}, id='5c102698-7327-4d80-bdea-9a96cd7d239e'),\n",
       " HumanMessage(content='What are some YouTube videos about Greece', additional_kwargs={}, response_metadata={}, id='4b1f184b-188c-4152-a7b2-df3c10f45f89'),\n",
       " AIMessage(content='', additional_kwargs={'tool_calls': {'type': 'function', 'function': {'name': 'youtube_tool', 'arguments': {'query': 'Greece'}}}}, response_metadata={'token_usage': {'generated_token_count': 64, 'input_token_count': 548}, 'model_name': 'mistralai/mixtral-8x7b-instruct-v01', 'system_fingerprint': '', 'finish_reason': 'stop_sequence'}, id='run-41755678-8cc7-4a05-b0cc-fd4baf4fb807-0', tool_calls=[{'name': 'youtube_tool', 'args': {'query': 'Greece'}, 'id': '1728331116.875', 'type': 'tool_call'}], usage_metadata={'input_tokens': 548, 'output_tokens': 64, 'total_tokens': 612}),\n",
       " ToolMessage(content=\"['https://www.youtube.com/watch?v=NMlBB2pK5qo&pp=ygUGR3JlZWNl', 'https://www.youtube.com/watch?v=I8c7q6m-yp0&pp=ygUGR3JlZWNl', 'https://www.youtube.com/watch?v=7IHJkSsoqu0&pp=ygUGR3JlZWNl', 'https://www.youtube.com/watch?v=waQY2Ucpbd0&pp=ygUGR3JlZWNl', 'https://www.youtube.com/watch?v=oa1qKT-VJvo&pp=ygUGR3JlZWNl']\", name='youtube_tool', id='89911042-e88a-49b9-897e-c80450cbfa18', tool_call_id='1728331116.875')]"
      ]
     },
     "execution_count": 36,
     "metadata": {},
     "output_type": "execute_result"
    }
   ],
   "source": [
    "user_query = \"What are some YouTube videos about Greece\"\n",
    "response = agent_executor.invoke({\"messages\": [SystemMessage(content=system_prompt), HumanMessage(content=user_query)]})\n",
    "response[\"messages\"]"
   ]
  },
  {
   "cell_type": "markdown",
   "metadata": {},
   "source": [
    "Great! As seen by the response metadata, the model successfully returned the expected output by using the built-in LangChain YouTube tool. Let's ask the model about Greece to determine whether it calls on the Wikipedia tool as expected."
   ]
  },
  {
   "cell_type": "code",
   "execution_count": 38,
   "metadata": {},
   "outputs": [
    {
     "data": {
      "text/plain": [
       "[SystemMessage(content='You are an AI assistant that can provide helpful answers using available tools. If you are unable to answer, you can use the following tools: youtube_tool, wikipedia_tool, calculate_days_until_date.', additional_kwargs={}, response_metadata={}, id='774c3531-5e6a-4079-8927-ac8a34159ee2'),\n",
       " HumanMessage(content='What is the history of Greece', additional_kwargs={}, response_metadata={}, id='e1e469ba-7043-449b-af83-55253e6f1172'),\n",
       " AIMessage(content='', additional_kwargs={'tool_calls': {'type': 'function', 'function': {'name': 'wikipedia_tool', 'arguments': {'query': 'History of Greece'}}}}, response_metadata={'token_usage': {'generated_token_count': 64, 'input_token_count': 547}, 'model_name': 'mistralai/mixtral-8x7b-instruct-v01', 'system_fingerprint': '', 'finish_reason': 'stop_sequence'}, id='run-38ab83de-d350-40ab-93f5-927e3e52e249-0', tool_calls=[{'name': 'wikipedia_tool', 'args': {'query': 'History of Greece'}, 'id': '1728331175.678', 'type': 'tool_call'}], usage_metadata={'input_tokens': 547, 'output_tokens': 64, 'total_tokens': 611}),\n",
       " ToolMessage(content='The history of Greece encompasses the history of the territory of the modern nation-state of Greece as well as that of the Greek people and the areas they inhabited and ruled historically. The scope of Greek habitation and rule has varied throughout the ages and as a result, the history of Greece is similarly elastic in what it includes.', name='wikipedia_tool', id='d80037a7-8f04-4cc2-bc1c-b55e0ea9960a', tool_call_id='1728331175.678'),\n",
       " AIMessage(content='You are an AI assistant that can provide helpful answers using available tools. If you are unable to answer, you can use the following tools: youtube_tool, wikipedia_tool, calculate_days_until_date. The history of Greece encompasses the history of the territory of the modern nation-state of Greece as well as that of the Greek people and the areas they inhabited and ruled historically. The scope of Greek habitation and rule has varied throughout the ages and as a result, the history of Greece is similarly elastic in what it includes.', additional_kwargs={}, response_metadata={'token_usage': {'generated_token_count': 177, 'input_token_count': 625}, 'model_name': 'mistralai/mixtral-8x7b-instruct-v01', 'system_fingerprint': '', 'finish_reason': 'stop_sequence'}, id='run-659a6da6-084d-4bf7-abe4-0444856f710b-0', usage_metadata={'input_tokens': 625, 'output_tokens': 177, 'total_tokens': 802})]"
      ]
     },
     "execution_count": 38,
     "metadata": {},
     "output_type": "execute_result"
    }
   ],
   "source": [
    "user_query = \"What is the history of Greece\"\n",
    "response = agent_executor.invoke({\"messages\": [SystemMessage(content=system_prompt), HumanMessage(content=user_query)]})\n",
    "response[\"messages\"]"
   ]
  },
  {
   "cell_type": "markdown",
   "metadata": {},
   "source": [
    "The LLM correctly called on the Wikipedia tool, as expected. Now that the pre-built tools hav both been appropriately called, let's provide the model with a query that requires the calling of our custom tools. \n",
    "\n",
    "*Please note, if you are running this query on a date that is later than October 21, 2024, please update the following query to reflect a later date.*"
   ]
  },
  {
   "cell_type": "code",
   "execution_count": 40,
   "metadata": {},
   "outputs": [
    {
     "data": {
      "text/plain": [
       "[SystemMessage(content='You are an AI assistant that can provide helpful answers using available tools. If you are unable to answer, you can use the following tools: youtube_tool, wikipedia_tool, calculate_days_until_date.', additional_kwargs={}, response_metadata={}, id='53c82341-593b-4e81-8195-3c3a7241054c'),\n",
       " HumanMessage(content='My trip will start October 21, 2024. How many more days until my trip?', additional_kwargs={}, response_metadata={}, id='6b59be0b-1a25-498f-81c5-6ec4c77aafa0'),\n",
       " AIMessage(content='', additional_kwargs={'tool_calls': {'type': 'function', 'function': {'name': 'calculate_days_until_date', 'arguments': {'date': 'October 21, 2024'}}}}, response_metadata={'token_usage': {'generated_token_count': 77, 'input_token_count': 564}, 'model_name': 'mistralai/mixtral-8x7b-instruct-v01', 'system_fingerprint': '', 'finish_reason': 'stop_sequence'}, id='run-d41fd894-684a-4bbf-bd6d-c630d8fc0a4d-0', tool_calls=[{'name': 'calculate_days_until_date', 'args': {'date': 'October 21, 2024'}, 'id': '1728331253.914', 'type': 'tool_call'}], usage_metadata={'input_tokens': 564, 'output_tokens': 77, 'total_tokens': 641}),\n",
       " ToolMessage(content='13', name='calculate_days_until_date', id='634db65e-75c0-4476-bda9-fe98ee4c1d09', tool_call_id='1728331253.914'),\n",
       " AIMessage(content='You are an AI assistant that can provide helpful answers using available tools. If you are unable to answer, you can use the following tools: youtube_tool, wikipedia_tool, calculate_days_until_date. Your trip will start on October 21, 2024. There are 13 days until your trip.', additional_kwargs={}, response_metadata={'token_usage': {'generated_token_count': 133, 'input_token_count': 574}, 'model_name': 'mistralai/mixtral-8x7b-instruct-v01', 'system_fingerprint': '', 'finish_reason': 'stop_sequence'}, id='run-855c1ebb-2fa3-4f07-a5f7-6df21d45bc77-0', usage_metadata={'input_tokens': 574, 'output_tokens': 133, 'total_tokens': 707})]"
      ]
     },
     "execution_count": 40,
     "metadata": {},
     "output_type": "execute_result"
    }
   ],
   "source": [
    "user_query = \"My trip will start October 21, 2024. How many more days until my trip?\"\n",
    "response = agent_executor.invoke({\"messages\": [SystemMessage(content=system_prompt),HumanMessage(content=user_query)]})\n",
    "response[\"messages\"]"
   ]
  },
  {
   "cell_type": "markdown",
   "metadata": {},
   "source": [
    "The model correctly determined the remaining number of days until the trip by using the custom `calculate_days_until_date()` tool. \n",
    "\n",
    "Suppose we are flying from the United States to Greece, where the currency is the euro. As our last query, let's ask the model what today's conversion rate is for USD to EUR."
   ]
  },
  {
   "cell_type": "code",
   "execution_count": 68,
   "metadata": {},
   "outputs": [
    {
     "data": {
      "text/plain": [
       "[SystemMessage(content='You are an AI assistant that can provide helpful answers using available tools. If you are unable to answer, you can use the following tools: youtube_tool, wikipedia_tool, calculate_days_until_date, currency_exchange.', additional_kwargs={}, response_metadata={}, id='1cb15d20-6567-46fe-91f9-c0b30d832690'),\n",
       " HumanMessage(content=\"What is today's conversion rate for 1 USD to EUR?\", additional_kwargs={}, response_metadata={}, id='889807c2-394f-4c4a-8915-3907e94610ea'),\n",
       " AIMessage(content='', additional_kwargs={'tool_calls': {'type': 'function', 'function': {'name': 'currency_exchange', 'arguments': {'from_currency': 'USD', 'to_currency': 'EUR', 'date': 'today'}}}}, response_metadata={'token_usage': {'generated_token_count': 86, 'input_token_count': 561}, 'model_name': 'mistralai/mixtral-8x7b-instruct-v01', 'system_fingerprint': '', 'finish_reason': 'stop_sequence'}, id='run-7c4b29d4-f592-42f3-9d69-02989224a2a5-0', tool_calls=[{'name': 'currency_exchange', 'args': {'from_currency': 'USD', 'to_currency': 'EUR', 'date': 'today'}, 'id': '1728333228.23', 'type': 'tool_call'}], usage_metadata={'input_tokens': 561, 'output_tokens': 86, 'total_tokens': 647}),\n",
       " ToolMessage(content='0.911224', name='currency_exchange', id='5343e45c-228f-4909-bdd0-52aee9f8f06c', tool_call_id='1728333228.23'),\n",
       " AIMessage(content=\"You are an AI assistant that can provide helpful answers using available tools. If you are unable to answer, you can use the following tools: youtube_tool, wikipedia_tool, calculate_days_until_date, currency_exchange. Today's conversion rate for 1 USD to EUR is 0.911224.\", additional_kwargs={}, response_metadata={'token_usage': {'generated_token_count': 135, 'input_token_count': 577}, 'model_name': 'mistralai/mixtral-8x7b-instruct-v01', 'system_fingerprint': '', 'finish_reason': 'stop_sequence'}, id='run-cd0413a9-87af-411c-955a-4034d045e580-0', usage_metadata={'input_tokens': 577, 'output_tokens': 135, 'total_tokens': 712})]"
      ]
     },
     "execution_count": 68,
     "metadata": {},
     "output_type": "execute_result"
    }
   ],
   "source": [
    "user_query = \"What is today's conversion rate for 1 USD to EUR?\"\n",
    "response = agent_executor.invoke({\"messages\": [SystemMessage(content=system_prompt),HumanMessage(content=user_query)]})\n",
    "response[\"messages\"]"
   ]
  },
  {
   "cell_type": "markdown",
   "metadata": {},
   "source": [
    "The model correctly used the custom `currency_exchange()` tool to return today's conversion rate for 1 USD to EUR. "
   ]
  },
  {
   "cell_type": "markdown",
   "metadata": {},
   "source": [
    "# Summary"
   ]
  },
  {
   "cell_type": "markdown",
   "metadata": {},
   "source": [
    "In this tutorial, you used custom and pre-built tools to run a ReAct agent using LangChain in Python with watsonx. You used pre-built LangChain tools like the YouTube and Wikipedia tools. You also created multiple tools for custom use-cases. One tool returns the number of days until a particular date and another returns today's conversion rate between USD and EUR.\n",
    "\n",
    "The sample output is important as it shows the steps the agent took in creating its own agent workflow using the function calls within available tools. The tools granted to the agent were vital for achieving its goals.\n",
    "\n",
    "We encourage you to check out the [LangChain documentation page](https://python.langchain.com/v0.2/docs/tutorials/agents/) for more information and tutorials on AI agents.\n",
    "\n",
    "\n",
    "## Try watsonx for free\n",
    "\n",
    "Build an AI strategy for your business on one collaborative AI and data platform called IBM [watsonx](https://www.ibm.com/watsonx?utm_source=ibm_developer&utm_content=in_content_link&utm_id=tutorials_awb-create-langchain-rag-system-python-watsonx&cm_sp=ibmdev-_-developer-_-product), which brings together new generative AI capabilities, powered by foundation models, and traditional machine learning into a powerful platform spanning the AI lifecycle. With [watsonx.ai](https://www.ibm.com/products/watsonx-ai?utm_source=ibm_developer&utm_content=in_content_link&utm_id=tutorials_awb-create-langchain-rag-system-python-watsonx&cm_sp=ibmdev-_-developer-_-product), you can train, validate, tune, and deploy models with ease and build AI applications in a fraction of the time with a fraction of the data.\n",
    "\n",
    "Try [watsonx.ai](https://dataplatform.cloud.ibm.com/registration/stepone?utm_source=ibm_developer&utm_content=in_content_link&utm_id=tutorials_awb-create-langchain-rag-system-python-watsonx&cm_sp=ibmdev-_-developer-_-trial), the next-generation studio for AI builders.\n"
   ]
  }
 ],
 "metadata": {
  "kernelspec": {
   "display_name": "Python 3 (ipykernel)",
   "language": "python",
   "name": "python3"
  },
  "language_info": {
   "codemirror_mode": {
    "name": "ipython",
    "version": 3
   },
   "file_extension": ".py",
   "mimetype": "text/x-python",
   "name": "python",
   "nbconvert_exporter": "python",
   "pygments_lexer": "ipython3",
   "version": "3.10.14"
  }
 },
 "nbformat": 4,
 "nbformat_minor": 4
}
