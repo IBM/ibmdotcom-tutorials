{
 "cells": [
  {
   "cell_type": "markdown",
   "metadata": {},
   "source": [
    "# Use role prompting with Watsonx and Granite \n",
    "\n",
    "In this tutorial, we will follow step-by-step instructions to perform a prompt engineering technique called role prompting. We will use an IBM Granite Model to assign personas for nuanced model outputs. \n",
    "\n",
    "## What is role prompting?\n",
    "\n",
    "Role prompting is a prompt engineering technique that instructs an artificial intelligence (AI) model to take on a specific role or persona when generating a response. This technique can be used to guide the model's tone, style and behavior, which can lead to more engaging outputs.  \n",
    "\n",
    "Prompt engineering is about optimizing the model input, so it responds with appropriate, meaningful answers. [Zero-shot](https://www.ibm.com/think/tutorials/zero-shot-classification) and [few-shot prompting](https://www.ibm.com/think/topics/few-shot-prompting) are two popular techniques used to converse with LLMs. LLMs have a natural ability to perform  natural language processing (NLP) tasks due to their ability to process and interpret human language. The language capabilities of AI models are valuable for tasks ranging from chatbot conversations and [multiagent](https://www.ibm.com/think/topics/multiagent-system) interactions to open-ended creative writing.  \n",
    "\n",
    "Generative AI gets more personal when a large language model ([LLM](https://www.ibm.com/think/topics/large-language-models)) is instructed to act as a specific persona to fulfill a role’s specific needs. The AI’s responses can be more accurate and relevant when first prompted with an assigned role. AI models leverage huge datasets so an assigned role can be anything from a teacher, historical figure, salesperson and so on, bound only by what one's imagination can think of. This ability is what makes role prompting, also referred to as *persona* prompting, such a powerful technique. An AI model’s adaptability makes it a master of disguise, able to generate responses tailored to a user or system’s specific needs.\n",
    "\n",
    "## How role prompting is used  \n",
    "\n",
    "Role prompting can be used to give a chatbot a persona to better interact with users or an AI agent to better interact with other agents. If you’re familiar with prompt templates, you may have already seen role prompting in action. For example, many agentic frameworks use role-playing agents to complete tasks and collaborate effectively. [ChatDev](https://www.ibm.com/think/topics/chatdev) uses a role prompting technique called a self-attention mechanism. This mechanism clearly defines the agent’s role which acts as a guideline for its generated outputs."
   ]
  },
  {
   "cell_type": "markdown",
   "metadata": {},
   "source": [
    "# Prerequisites\n",
    "\n",
    "To follow this tutorial you need an [IBM Cloud account](https://cloud.ibm.com/registration?utm_source=ibm_developer&utm_content=in_content_link&utm_id=tutorials_awb-create-langchain-rag-system-python-watsonx&cm_sp=ibmdev-_-developer-_-trial) to create a [watsonx.ai](https://www.ibm.com/products/watsonx-ai?utm_source=ibm_developer&utm_content=in_content_link&utm_id=tutorials_awb-create-langchain-rag-system-python-watsonx&cm_sp=ibmdev-_-developer-_-product) project.\n",
    "\n",
    "\n",
    "# Steps\n",
    "\n",
    "## Step 1. Set up your environment\n",
    "\n",
    "While you can choose from several tools, this tutorial walks you through how to set up an IBM account to use a Jupyter Notebook. Jupyter Notebooks are widely used within [data science](https://www.ibm.com/topics/data-science?utm_source=ibm_developer&utm_content=in_content_link&utm_id=tutorials_awb-create-langchain-rag-system-python-watsonx&cm_sp=ibmdev-_-developer-tutorials-_-ibmcom) to combine code, text, images, and [data visualizations](https://www.ibm.com/topics/data-visualization?utm_source=ibm_developer&utm_content=in_content_link&utm_id=tutorials_awb-create-langchain-rag-system-python-watsonx&cm_sp=ibmdev-_-developer-tutorials-_-ibmcom) to formulate a well-formed analysis.\n",
    "\n",
    "1. Log in to [watsonx.ai Runtime](https://dataplatform.cloud.ibm.com/registration/stepone?utm_source=ibm_developer&utm_content=in_content_link&utm_id=tutorials_awb-create-langchain-rag-system-python-watsonx&cm_sp=ibmdev-_-developer-_-trial) using your IBM Cloud account.\n",
    "\n",
    "2. Create a [watsonx.ai project](https://www.ibm.com/docs/en/watsonx/saas?utm_source=ibm_developer&utm_content=in_content_link&utm_id=tutorials_awb-create-langchain-rag-system-python-watsonx&topic=projects-creating-project&cm_sp=ibmdev-_-developer-tutorials-_-ibmcom).\n",
    "\n",
    "\tTake note of the project ID in project > Manage > General > Project ID. You’ll need this ID for this tutorial.\n",
    "\n",
    "3. Create a [Jupyter Notebook](https://www.ibm.com/docs/en/watsonx/saas?utm_source=ibm_developer&utm_content=in_content_link&utm_id=tutorials_awb-create-langchain-rag-system-python-watsonx&topic=editor-creating-managing-notebooks&cm_sp=ibmdev-_-developer-tutorials-_-ibmcom).\n",
    "\n",
    "This step will open a Notebook environment where you can copy the code from this tutorial to role prompting on your own. Alternatively, you can download this notebook to your local system and upload it to your watsonx.ai project as an asset. This Jupyter Notebook is available on [GitHub](https://github.com/vannawinland/think/blob/main/tutorials/zero-shot-classification.ipynb).\n",
    "\n",
    "## Step 2. Set up watsonx.ai Runtime instance and API key\n",
    "\n",
    "In this step, you associate your project with the watsonx.ai service.\n",
    "\n",
    "1. Create a [watsonx.ai](https://dataplatform.cloud.ibm.com/registration/stepone?context=wx) Runtime instance (choose the Lite plan, which is a free instance).\n",
    "\n",
    "2. Generate an [API Key in watsonx.ai](https://dataplatform.cloud.ibm.com/docs/content/wsj/analyze-data/ml-authentication.html?utm_source=ibm_developer&utm_content=in_content_link&utm_id=tutorials_awb-create-langchain-rag-system-python-watsonx&context=cpdaas). \n",
    "\n",
    "\n",
    "3. Associate the watsonx.ai Runtime to the project you created in [watsonx.ai](https://dataplatform.cloud.ibm.com/docs/content/wsj/getting-started/assoc-services.html?utm_source=ibm_developer&utm_content=in_content_link&utm_id=tutorials_awb-create-langchain-rag-system-python-watsonx&context=cpdaas). \n",
    "\n",
    "\n",
    "## Step 3. Install and import relevant libraries and set up your credentials\n",
    "\n",
    "We'll need some libraries and modules for this tutorial. Make sure to import the ones below, and if they're not installed, you can resolve this with a quick pip install."
   ]
  },
  {
   "cell_type": "code",
   "execution_count": null,
   "metadata": {},
   "outputs": [],
   "source": [
    "%pip install -q -U langchain_ibm\n",
    "%pip install -q ibm_watsonx_ai\n",
    "\n",
    "import getpass\n",
    "\n",
    "from langchain_ibm import WatsonxLLM\n",
    "from ibm_watsonx_ai.metanames import GenTextParamsMetaNames as GenParams "
   ]
  },
  {
   "cell_type": "markdown",
   "metadata": {},
   "source": [
    "## Step 4. Set up your Watsonx credentials\n",
    "\n",
    "Run the following to input and save your watsonx.ai Runtime API key and project id:"
   ]
  },
  {
   "cell_type": "code",
   "execution_count": 4,
   "metadata": {},
   "outputs": [],
   "source": [
    "credentials = {\n",
    "    \"url\": \"https://us-south.ml.cloud.ibm.com\",\n",
    "    \"apikey\": getpass.getpass(\"Please enter your watsonx.ai Runtime API key (hit enter): \"),\n",
    "    \"project_id\": getpass.getpass(\"Please enter your project ID (hit enter): \"),\n",
    "}"
   ]
  },
  {
   "cell_type": "markdown",
   "metadata": {},
   "source": [
    "## Step 5. Set up the model for role prompting\n",
    "\n",
    "Next, we'll setup IBM's [Granite-3.1-8B-Instruct](https://huggingface.co/ibm-granite/granite-3.1-8b-instruct) to perform role prompting."
   ]
  },
  {
   "cell_type": "code",
   "execution_count": 5,
   "metadata": {},
   "outputs": [],
   "source": [
    "model = WatsonxLLM(\n",
    "\tmodel_id =  \"ibm/granite-3-8b-instruct\",\n",
    "\turl = credentials.get(\"url\"),\n",
    "\tapikey = credentials.get(\"apikey\"),\n",
    "\tproject_id =  credentials.get(\"project_id\"),\n",
    "\tparams={\n",
    "        GenParams.MAX_NEW_TOKENS: 500,\n",
    "        GenParams.MIN_NEW_TOKENS: 1,\n",
    "        GenParams.REPETITION_PENALTY: 1.1,\n",
    "        GenParams.TEMPERATURE: 0.7, # Adjust for variable responses\n",
    "        GenParams.TOP_K: 100,\n",
    "        GenParams.TOP_P: 0,\n",
    "    },\n",
    ")"
   ]
  },
  {
   "cell_type": "markdown",
   "metadata": {},
   "source": [
    "## Step 6.  Turn song lyrics into sonnets  \n",
    "\n",
    "To give a simple and fun example of role prompting, let’s ask the model to take on the persona of a famous figure, William Shakespeare. We will ask the model, with its newly assigned role, to rewrite some song lyrics in the style of Shakespeare’s famous sonnets. \n",
    "\n",
    "The code block below sets up and defines the prompt that the model will respond to. Feel free to change the song to whatever you’d like but note that Granite was not trained on copyrighted content. This means that if you pick a song that is not a part of the public domain, for example “Espresso” by Sabrina Carpenter, you’ll have to paste in the lyrics with the prompt as well. \n",
    " \n",
    "For a prompt that just works, this example will use the classic children’s lullaby “Twinkle, Twinkle, Little Star” by Jane Taylor (1806). Run the code block to define your user prompt along with some example input text.  "
   ]
  },
  {
   "cell_type": "code",
   "execution_count": 21,
   "metadata": {},
   "outputs": [],
   "source": [
    "def generate_text(prompt):\n",
    "    response = None  # Ensure the variable is defined before the try block\n",
    "    try:\n",
    "        response = model.generate([prompt])\n",
    "        return str(response)\n",
    "    except Exception as e:\n",
    "        print(f\"Error: {e}\")\n",
    "        if response:\n",
    "            print(f\"Response: {response}\")\n",
    "            return None\n",
    "    # Define the prompt here\n",
    "defined_prompt = \"You are William Shakespeare, rewrite 'Back in Black' by ACDC as a sonnet.\"\n"
   ]
  },
  {
   "cell_type": "markdown",
   "metadata": {},
   "source": [
    "## Step 7. Generate a response\n",
    "\n",
    "Once the prompt is defined, we can run the next code block to allow the model to generate an output. Let's hope it's up to our Shakesperian standards. "
   ]
  },
  {
   "cell_type": "code",
   "execution_count": null,
   "metadata": {},
   "outputs": [],
   "source": [
    "# Generate and print the text based on the defined prompt\n",
    "generated_text = generate_text(defined_prompt)\n",
    "print(\"Generated text:\", generated_text)"
   ]
  },
  {
   "cell_type": "markdown",
   "metadata": {},
   "source": [
    "Here is the model’s output with readable formatting:\n",
    "\n",
    "\"Twinkle, twinkle, little star, how I wonder what you are;  \n",
    "Up above the world so high, like a diamond in the sky.   \n",
    "In night's velvet cloak, you shine so bright,  \n",
    "Guiding sailors through the darkest night.  \n",
    "\n",
    "Your radiant beams, a celestial art,  \n",
    "Illuminate the canvas of the heart.  \n",
    "In silent whispers, secrets you share,  \n",
    "Of galaxies far and constellations rare.  \n",
    " \n",
    "Yet, mortal eyes can never grasp your form,  \n",
    "Beyond our realm, in realms beyond the storm.  \n",
    "O, star! O, star! Your light does pierce my soul,  \n",
    "A cosmic dance, a timeless role.  \n",
    " \n",
    "In dreams, I chase you, in slumber's hold,  \n",
    "Your mystery, like an enchanted scroll.  \n",
    " \n",
    "But wakefulness claims me, daylight steals your guise,  \n",
    "Leaving behind but a memory of your surprise.  \n",
    " \n",
    "Thus, twinkling star, in slumber's peaceful reign,  \n",
    "I bid you farewell, till morning brings again.\"  \n",
    "\n",
    "The model was able to produce a response to the role-based prompt to rewrite the song as a Shakespearian sonnet. The model was able to abide by the rules and style expected from its role prompt.  \\*Note that because of the creative nature of the prompt, your output may look different than this. \n"
   ]
  },
  {
   "cell_type": "markdown",
   "metadata": {},
   "source": [
    "## Step 8. Utilize role prompting for more empathetic chatbot responses\n",
    "\n",
    "In this next example, let’s compare a straight-forward system prompt to a role-based system prompt. Let’s say a veterinarian’s office has recently implemented a virtual assistant on their webpage. To provide the best customer support, this office wants their pet owners to feel heard and supported even in their virtual interactions, a relatable goal to many businesses. A visitor may ask a question such as **“My pet cat has been sneezing a lot lately and is licking her paws what should I do?”** In this scenario the model has not been assigned a role in its prompt. We’re just using the model out of the box with no input guidance.\n"
   ]
  },
  {
   "cell_type": "code",
   "execution_count": null,
   "metadata": {},
   "outputs": [],
   "source": [
    "def generate_text(prompt):\n",
    "    response = None  # Ensure the variable is defined before the try block\n",
    "    try:\n",
    "        response = model.generate([prompt])\n",
    "        return str(response)\n",
    "    except Exception as e:\n",
    "        print(f\"Error: {e}\")\n",
    "        if response:\n",
    "            print(f\"Response: {response}\")\n",
    "            return None\n",
    "    # Define the prompt here\n",
    "defined_prompt = \" My pet cat has been sneezing a lot lately and is licking her paws what should I do?\"\n",
    "\n",
    "# Generate and print the text based on the defined prompt\n",
    "generated_text = generate_text(defined_prompt)\n",
    "print(\"Generated text:\", generated_text)"
   ]
  },
  {
   "cell_type": "markdown",
   "metadata": {},
   "source": [
    "The model responds accordingly with advice and information, however there isn’t a personal touch and isn’t much different from what you’d see on a search engine results page. The model’s output is sort of raw and lacking creativity. This may be an acceptable solution but doesn’t set this veterinarian offices’ virtual assistant apart from the rest. \n",
    "Let’s try the same question again, this time assigning it a role as a “compassionate, professional, and experienced veterinarian.” "
   ]
  },
  {
   "cell_type": "code",
   "execution_count": null,
   "metadata": {},
   "outputs": [],
   "source": [
    "def generate_text(prompt):\n",
    "    response = None  # Ensure the variable is defined before the try block\n",
    "    try:\n",
    "        response = model.generate([prompt])\n",
    "        return str(response)\n",
    "    except Exception as e:\n",
    "        print(f\"Error: {e}\")\n",
    "        if response:\n",
    "            print(f\"Response: {response}\")\n",
    "            return None\n",
    "    # Define the prompt here\n",
    "defined_prompt = \"You are a compassionate, professional, and experienced veteraniarian. My pet cat has been sneezing a lot lately and is licking her paws what should I do?\"\n",
    "\n",
    "# Generate and print the text based on the defined prompt\n",
    "generated_text = generate_text(defined_prompt)\n",
    "print(\"Generated text:\", generated_text)"
   ]
  },
  {
   "cell_type": "markdown",
   "metadata": {},
   "source": [
    "The language in the model’s response is more humanized because it speaks to an emotional awareness of the context that the straight-forward system prompt lacked. The model was able to accomplish this while also providing a complete and relevant answer proving that it a more nuanced response. This sort of human interaction with artificial intelligence is a way to meet subjective expectations within organizations and applications.\n",
    "\n",
    "## Why is role prompting important? \n",
    "\n",
    "If you are a developer or business looking to add more personalization and meaningful interactions in your genAI applications, consider understanding how role prompting can make an impact. Most modern language models are capable of role prompting. Some basic models may not grasp the nuances of the role or maintain consistency in their responses, while others might be fine-tuned to respond in a certain way. Foundation models like IBM’s Granite series are trained on large amounts of enterprise-specific data that boosts the models’ ability to take on roles to produce tailored responses based on business needs. \n",
    "\n",
    "## Summary\n",
    "\n",
    "Role prompting encourages the model to perform constantly given its expectations from its assigned persona. We performed a simple example by assigning the LLM with the role of a historical figure in our prompt to turn song lyrics into a sonnet. Next, we compared the output of a non-role prompted model versus a role prompted model for chatbot responses. We concluded by addressing that the response provided by role prompting is more nuanced and supportive in its language, providing elevated customer care. "
   ]
  }
 ],
 "metadata": {
  "kernelspec": {
   "display_name": ".venv",
   "language": "python",
   "name": "python3"
  },
  "language_info": {
   "codemirror_mode": {
    "name": "ipython",
    "version": 3
   },
   "file_extension": ".py",
   "mimetype": "text/x-python",
   "name": "python",
   "nbconvert_exporter": "python",
   "pygments_lexer": "ipython3",
   "version": "3.12.4"
  }
 },
 "nbformat": 4,
 "nbformat_minor": 2
}
