{
 "cells": [
  {
   "cell_type": "markdown",
   "metadata": {},
   "source": [
    "## Various attempts at tool calling using `granite-3-8b-instruct`"
   ]
  },
  {
   "cell_type": "code",
   "execution_count": null,
   "metadata": {},
   "outputs": [],
   "source": [
    "#installations\n",
    "%pip install --quiet langchain\n",
    "%pip install --quiet --upgrade langchain_ibm\n",
    "%pip install --quiet langchain_core\n",
    "%pip install --quiet langchain_community\n",
    "%pip install --quiet youtube_search\n",
    "%pip install --quiet wikipedia \n",
    "%pip install --quiet langgraph\n",
    "%pip install --quiet ionic-langchain"
   ]
  },
  {
   "cell_type": "code",
   "execution_count": 2,
   "metadata": {},
   "outputs": [
    {
     "data": {
      "text/plain": [
       "True"
      ]
     },
     "execution_count": 2,
     "metadata": {},
     "output_type": "execute_result"
    }
   ],
   "source": [
    "#imports\n",
    "import os\n",
    "import requests\n",
    "\n",
    "from wikipedia import summary\n",
    "from datetime import datetime\n",
    "from langchain_core.tools import tool\n",
    "from langchain_core.messages import HumanMessage, SystemMessage\n",
    "from langchain_ibm import ChatWatsonx\n",
    "from langchain_community.tools import YouTubeSearchTool\n",
    "from langgraph.prebuilt import create_react_agent\n",
    "from dotenv import load_dotenv\n",
    "from langchain_core.tools import Tool\n",
    "from langchain_community.tools import YouTubeSearchTool\n",
    "from langchain_community.utilities import OpenWeatherMapAPIWrapper\n",
    "from langchain_core.output_parsers import PydanticToolsParser\n",
    "from ionic_langchain.tool import IonicTool\n",
    "\n",
    "load_dotenv(os.getcwd()+\"/.env\", override=True)"
   ]
  },
  {
   "cell_type": "code",
   "execution_count": 3,
   "metadata": {},
   "outputs": [],
   "source": [
    "WATSONX_APIKEY = os.getenv('WATSONX_APIKEY', \"<YOUR_WATSONX_APIKEY_HERE>\")\n",
    "\n",
    "WATSONX_PROJECT_ID = os.getenv('WATSONX_PROJECT_ID', \"<YOUR_WATSONX_PROJECT_ID_HERE>\")\n",
    "\n",
    "URL = \"https://us-south.ml.cloud.ibm.com\"\n",
    "\n",
    "OPENWEATHERMAP_API_KEY = os.getenv('OPENWEATHERMAP_API_KEY', \"<YOUR_OPEN_WEATHERMAP_API_KEY_HERE>\")"
   ]
  },
  {
   "cell_type": "code",
   "execution_count": 4,
   "metadata": {},
   "outputs": [],
   "source": [
    "llm = ChatWatsonx(\n",
    "    model_id=\"ibm/granite-3-8b-instruct\",\n",
    "    url = URL,\n",
    "\tapikey = WATSONX_APIKEY,\n",
    "\tproject_id = WATSONX_PROJECT_ID,\n",
    "    params = {\n",
    "        \"decoding_method\": \"greedy\",\n",
    "        \"temperature\": 0, \n",
    "        \"min_new_tokens\": 5, \n",
    "        \"max_new_tokens\": 2000\n",
    "    }\n",
    ")"
   ]
  },
  {
   "cell_type": "code",
   "execution_count": 5,
   "metadata": {},
   "outputs": [],
   "source": [
    "weather = OpenWeatherMapAPIWrapper()\n",
    "\n",
    "weather_search = Tool(\n",
    "    name=\"weather_search\",\n",
    "    description=\"Get weather for a city and country code, e.g. Athens, GR\",\n",
    "    func=weather.run,\n",
    ")\n",
    "\n",
    "youtube = YouTubeSearchTool()\n",
    "\n",
    "youtube_search = Tool(\n",
    "    name=\"youtube_search\",\n",
    "    description=\"Search YouTube for video links.\",\n",
    "    func=youtube.run,\n",
    ")\n",
    "\n",
    "ionic_search = IonicTool().tool()\n",
    "\n",
    "tools = [weather_search, youtube_search, ionic_search]"
   ]
  },
  {
   "cell_type": "markdown",
   "metadata": {},
   "source": [
    "# Different approaches for tool calling:\n",
    "\n",
    "### Using `create_react_agent` along with `agent_executor`:\n",
    "\n",
    "This is the best performing option at the moment."
   ]
  },
  {
   "cell_type": "code",
   "execution_count": 6,
   "metadata": {},
   "outputs": [],
   "source": [
    "agent_executor = create_react_agent(llm, tools)"
   ]
  },
  {
   "cell_type": "code",
   "execution_count": 7,
   "metadata": {},
   "outputs": [
    {
     "data": {
      "text/plain": [
       "[HumanMessage(content='What are some YouTube videos about Greece', additional_kwargs={}, response_metadata={}, id='d57f04a2-c1e6-4727-8535-2d9fc81365b6'),\n",
       " AIMessage(content='', additional_kwargs={'tool_calls': [{'id': 'chatcmpl-tool-f5fe7898cfb747c68bf8565583af1e8a', 'type': 'function', 'function': {'name': 'youtube_search', 'arguments': '{\"query\": \"Greece\"}'}}]}, response_metadata={'token_usage': {'completion_tokens': 22, 'prompt_tokens': 578, 'total_tokens': 600}, 'model_name': 'ibm/granite-3-8b-instruct', 'system_fingerprint': '', 'finish_reason': 'tool_calls'}, id='chat-1253e6edaf6547c8a7f4f37f0721a3dd', tool_calls=[{'name': 'youtube_search', 'args': {'query': 'Greece'}, 'id': 'chatcmpl-tool-f5fe7898cfb747c68bf8565583af1e8a', 'type': 'tool_call'}], usage_metadata={'input_tokens': 578, 'output_tokens': 22, 'total_tokens': 600}),\n",
       " ToolMessage(content=\"['https://www.youtube.com/watch?v=NMlBB2pK5qo&pp=ygUGR3JlZWNl', 'https://www.youtube.com/watch?v=j6GQjc3mFQk&pp=ygUGR3JlZWNl']\", name='youtube_search', id='83f0a8ca-5ce9-47a8-b9b9-3edf7fa8e4bc', tool_call_id='chatcmpl-tool-f5fe7898cfb747c68bf8565583af1e8a'),\n",
       " AIMessage(content='Here are some YouTube videos about Greece:\\n\\n1. [Greece Travel Guide | Top 10 Tourist Attractions](https://www.youtube.com/watch?v=NMlBB2pK5qo&pp=ygUGR3JlZWNl)\\n2. [Greece Travel Guide | Top 10 Tourist Attractions](https://www.youtube.com/watch?v=j6GQjc3mFQk&pp=ygUGR3JlZWNl)', additional_kwargs={}, response_metadata={'token_usage': {'completion_tokens': 117, 'prompt_tokens': 677, 'total_tokens': 794}, 'model_name': 'ibm/granite-3-8b-instruct', 'system_fingerprint': '', 'finish_reason': 'stop'}, id='chat-02dbad93a6184d0fa8e803060eb87e2f', usage_metadata={'input_tokens': 677, 'output_tokens': 117, 'total_tokens': 794})]"
      ]
     },
     "execution_count": 7,
     "metadata": {},
     "output_type": "execute_result"
    }
   ],
   "source": [
    "user_query = \"What are some YouTube videos about Greece\"\n",
    "response = agent_executor.invoke({\"messages\": HumanMessage(content=user_query)})\n",
    "response[\"messages\"]"
   ]
  },
  {
   "cell_type": "code",
   "execution_count": 8,
   "metadata": {},
   "outputs": [
    {
     "data": {
      "text/plain": [
       "[HumanMessage(content='What is the weather in Athens, GR', additional_kwargs={}, response_metadata={}, id='16548304-80fb-4363-8a57-d3bc342adbb0'),\n",
       " AIMessage(content='', additional_kwargs={'tool_calls': [{'id': 'chatcmpl-tool-224ad83053954394bd53bdb0b166043a', 'type': 'function', 'function': {'name': 'weather_search', 'arguments': '{\"__arg1\": \"Athens, GR\"}'}}]}, response_metadata={'token_usage': {'completion_tokens': 26, 'prompt_tokens': 579, 'total_tokens': 605}, 'model_name': 'ibm/granite-3-8b-instruct', 'system_fingerprint': '', 'finish_reason': 'tool_calls'}, id='chat-2dffa5f3c9c3443ea36ae7a5961c10f1', tool_calls=[{'name': 'weather_search', 'args': {'__arg1': 'Athens, GR'}, 'id': 'chatcmpl-tool-224ad83053954394bd53bdb0b166043a', 'type': 'tool_call'}], usage_metadata={'input_tokens': 579, 'output_tokens': 26, 'total_tokens': 605}),\n",
       " ToolMessage(content='In Athens, GR, the current weather is as follows:\\nDetailed status: few clouds\\nWind speed: 6.69 m/s, direction: 340°\\nHumidity: 60%\\nTemperature: \\n  - Current: 15.67°C\\n  - High: 16.29°C\\n  - Low: 14.67°C\\n  - Feels like: 14.86°C\\nRain: {}\\nHeat index: None\\nCloud cover: 20%', name='weather_search', id='e3e76a2b-4ebd-4b7a-a853-cc339869e71b', tool_call_id='chatcmpl-tool-224ad83053954394bd53bdb0b166043a'),\n",
       " AIMessage(content='The current weather in Athens, GR is:\\n- Detailed status: few clouds\\n- Wind speed: 6.69 m/s, direction: 340°\\n- Humidity: 60%\\n- Temperature:\\n  - Current: 15.67°C\\n  - High: 16.29°C\\n  - Low: 14.67°C\\n  - Feels like: 14.86°C\\n- Rain: None\\n- Heat index: None\\n- Cloud cover: 20%', additional_kwargs={}, response_metadata={'token_usage': {'completion_tokens': 127, 'prompt_tokens': 735, 'total_tokens': 862}, 'model_name': 'ibm/granite-3-8b-instruct', 'system_fingerprint': '', 'finish_reason': 'stop'}, id='chat-161cbf39e3eb4ffabcee6a78cc47f6b0', usage_metadata={'input_tokens': 735, 'output_tokens': 127, 'total_tokens': 862})]"
      ]
     },
     "execution_count": 8,
     "metadata": {},
     "output_type": "execute_result"
    }
   ],
   "source": [
    "user_query = \"What is the weather in Athens, GR\"\n",
    "response = agent_executor.invoke({\"messages\": HumanMessage(content=user_query)})\n",
    "response[\"messages\"]"
   ]
  },
  {
   "cell_type": "code",
   "execution_count": 9,
   "metadata": {},
   "outputs": [
    {
     "name": "stdout",
     "output_type": "stream",
     "text": [
      "\u001b[32;1m\u001b[1;3mcontent='[{\"products\": [{\"links\": [{\"text\": \"Details\", \"type\": \"pdp\", \"url\": \"https://go.ionic.click/4ggDYD\"}], \"merchant_name\": \"Adorama\", \"merchant_product_id\": \"product_9102_SLAHLKY\", \"name\": \"Slinger - Slinger Leather Case for AirTag Finder Compatible with AirTags 2021 (Yellow)\", \"price\": \"$9.95\", \"status\": \"available\", \"thumbnail\": \"https://www.adorama.com/images/xlarge/SLAHLKY.JPG\", \"brand_name\": \"Slinger\", \"upc\": \"192223165557\"}, {\"links\": [{\"text\": \"Details\", \"type\": \"pdp\", \"url\": \"https://go.ionic.click/XF5wTp\"}], \"merchant_name\": \"Walmart\", \"merchant_product_id\": \"3213314582\", \"name\": \"Tripumer 110L Extra Large Moving Bag Travel Luggage Bag Foldable Waterproof Storage Bag Double Zipper and Strong Handle Moving Available Black\", \"price\": \"$10.99\", \"status\": \"available\", \"thumbnail\": \"https://i5.walmartimages.com/asr/1030ce8d-d6f3-441d-af01-aa452b3f277b.526c53998b621552e03c9a7c75ca12fe.jpeg?odnHeight=100&odnWidth=100&odnBg=FFFFFF\", \"brand_name\": \"Tripumer\", \"upc\": \"639846850243\"}, {\"links\": [{\"text\": \"Details\", \"type\": \"pdp\", \"url\": \"https://www.amazon.com/dp/B0B7BP6CJN?tag=ioniccommer00-20&linkCode=osi&th=1&psc=1\"}], \"merchant_name\": \"Amazon\", \"merchant_product_id\": \"B0B7BP6CJN\", \"name\": \"Veken 8 Set Packing Cubes for Suitcases, Luggage Organizer Bags Set for Carry on, Travel Gifts for Mom, Travel Essentials for Women, Travel Accessories in 4 Sizes(Extra Large, Large, Medium, Small)\", \"price\": \"$19.99\", \"status\": \"available\", \"thumbnail\": \"https://m.media-amazon.com/images/I/41ROGQM8UIL._SL160_.jpg\", \"brand_name\": \"Veken\", \"upc\": \"850029083566\"}, {\"links\": [{\"text\": \"Details\", \"type\": \"pdp\", \"url\": \"https://www.amazon.com/dp/B0BGWZN7MV?tag=ioniccommer00-20&linkCode=osi&th=1&psc=1\"}], \"merchant_name\": \"Amazon\", \"merchant_product_id\": \"B0BGWZN7MV\", \"name\": \"8 Set/10 Set Packing Cubes for Travel, Sturdy Suitcase Organizer in 4 Size(Extra Large, Large, Medium, Small), OlarHike Luggage Cubes with Toiletry Bag, Travel Essentials, Cruise Ship Gifts for Women\", \"price\": \"$19.99\", \"status\": \"available\", \"thumbnail\": \"https://m.media-amazon.com/images/I/41n4jIz-HkL._SL160_.jpg\", \"brand_name\": \"OlarHike\", \"upc\": \"810080921474\"}], \"query\": {\"query\": \"suitcases\", \"max_price\": 1500, \"min_price\": 150, \"num_results\": 4}}]' name='ionic_commerce_shopping_tool' tool_call_id='chatcmpl-tool-7db5539f8c7c47f699169d99fd9f9f6c'\u001b[0m"
     ]
    },
    {
     "data": {
      "text/plain": [
       "[HumanMessage(content='Find some suitcases for less than $150', additional_kwargs={}, response_metadata={}, id='58a0e028-e7ec-4637-af09-2cd7dba3bc07'),\n",
       " AIMessage(content='', additional_kwargs={'tool_calls': [{'id': 'chatcmpl-tool-7db5539f8c7c47f699169d99fd9f9f6c', 'type': 'function', 'function': {'name': 'ionic_commerce_shopping_tool', 'arguments': '{\"__arg1\": \"suitcases, 4, 150, 1500\"}'}}]}, response_metadata={'token_usage': {'completion_tokens': 41, 'prompt_tokens': 580, 'total_tokens': 621}, 'model_name': 'ibm/granite-3-8b-instruct', 'system_fingerprint': '', 'finish_reason': 'tool_calls'}, id='chat-887d3df7cf9b424e8c666459dd44e57a', tool_calls=[{'name': 'ionic_commerce_shopping_tool', 'args': {'__arg1': 'suitcases, 4, 150, 1500'}, 'id': 'chatcmpl-tool-7db5539f8c7c47f699169d99fd9f9f6c', 'type': 'tool_call'}], usage_metadata={'input_tokens': 580, 'output_tokens': 41, 'total_tokens': 621}),\n",
       " ToolMessage(content='[{\"products\": [{\"links\": [{\"text\": \"Details\", \"type\": \"pdp\", \"url\": \"https://go.ionic.click/4ggDYD\"}], \"merchant_name\": \"Adorama\", \"merchant_product_id\": \"product_9102_SLAHLKY\", \"name\": \"Slinger - Slinger Leather Case for AirTag Finder Compatible with AirTags 2021 (Yellow)\", \"price\": \"$9.95\", \"status\": \"available\", \"thumbnail\": \"https://www.adorama.com/images/xlarge/SLAHLKY.JPG\", \"brand_name\": \"Slinger\", \"upc\": \"192223165557\"}, {\"links\": [{\"text\": \"Details\", \"type\": \"pdp\", \"url\": \"https://go.ionic.click/XF5wTp\"}], \"merchant_name\": \"Walmart\", \"merchant_product_id\": \"3213314582\", \"name\": \"Tripumer 110L Extra Large Moving Bag Travel Luggage Bag Foldable Waterproof Storage Bag Double Zipper and Strong Handle Moving Available Black\", \"price\": \"$10.99\", \"status\": \"available\", \"thumbnail\": \"https://i5.walmartimages.com/asr/1030ce8d-d6f3-441d-af01-aa452b3f277b.526c53998b621552e03c9a7c75ca12fe.jpeg?odnHeight=100&odnWidth=100&odnBg=FFFFFF\", \"brand_name\": \"Tripumer\", \"upc\": \"639846850243\"}, {\"links\": [{\"text\": \"Details\", \"type\": \"pdp\", \"url\": \"https://www.amazon.com/dp/B0B7BP6CJN?tag=ioniccommer00-20&linkCode=osi&th=1&psc=1\"}], \"merchant_name\": \"Amazon\", \"merchant_product_id\": \"B0B7BP6CJN\", \"name\": \"Veken 8 Set Packing Cubes for Suitcases, Luggage Organizer Bags Set for Carry on, Travel Gifts for Mom, Travel Essentials for Women, Travel Accessories in 4 Sizes(Extra Large, Large, Medium, Small)\", \"price\": \"$19.99\", \"status\": \"available\", \"thumbnail\": \"https://m.media-amazon.com/images/I/41ROGQM8UIL._SL160_.jpg\", \"brand_name\": \"Veken\", \"upc\": \"850029083566\"}, {\"links\": [{\"text\": \"Details\", \"type\": \"pdp\", \"url\": \"https://www.amazon.com/dp/B0BGWZN7MV?tag=ioniccommer00-20&linkCode=osi&th=1&psc=1\"}], \"merchant_name\": \"Amazon\", \"merchant_product_id\": \"B0BGWZN7MV\", \"name\": \"8 Set/10 Set Packing Cubes for Travel, Sturdy Suitcase Organizer in 4 Size(Extra Large, Large, Medium, Small), OlarHike Luggage Cubes with Toiletry Bag, Travel Essentials, Cruise Ship Gifts for Women\", \"price\": \"$19.99\", \"status\": \"available\", \"thumbnail\": \"https://m.media-amazon.com/images/I/41n4jIz-HkL._SL160_.jpg\", \"brand_name\": \"OlarHike\", \"upc\": \"810080921474\"}], \"query\": {\"query\": \"suitcases\", \"max_price\": 1500, \"min_price\": 150, \"num_results\": 4}}]', name='ionic_commerce_shopping_tool', id='8acd9b18-ce55-43ea-855c-2a7652f82b70', tool_call_id='chatcmpl-tool-7db5539f8c7c47f699169d99fd9f9f6c'),\n",
       " AIMessage(content='Here are some suitcases for less than $150:\\n\\n1. [Slinger - Slinger Leather Case for AirTag Finder Compatible with AirTags 2021 (Yellow)](https://go.ionic.click/4ggDYD) - $9.95 from Adorama\\n   - Brand: Slinger\\n   - UPC: 192223165557\\n\\n2. [Tripumer 110L Extra Large Moving Bag Travel Luggage Bag Foldable Waterproof Storage Bag Double Zipper and Strong Handle Moving Available Black](https://go.ionic.click/XF5wTp) - $10.99 from Walmart\\n   - Brand: Tripumer\\n   - UPC: 639846850243\\n\\n3. [Veken 8 Set Packing Cubes for Suitcases, Luggage Organizer Bags Set for Carry on, Travel Gifts for Mom, Travel Essentials for Women, Travel Accessories in 4 Sizes(Extra Large, Large, Medium, Small)](https://www.amazon.com/dp/B0B7BP6CJN?tag=ioniccommer00-20&linkCode=osi&th=1&psc=1) - $19.99 from Amazon\\n   - Brand: Veken\\n   - UPC: 850029083566\\n\\n4. [8 Set/10 Set Packing Cubes for Travel, Sturdy Suitcase Organizer in 4 Size(Extra Large, Large, Medium, Small), OlarHike Luggage Cubes with Toiletry Bag, Travel Essentials, Cruise Ship Gifts for Women](https://www.amazon.com/dp/B0BGWZN7MV?tag=ioniccommer00-20&linkCode=osi&th=1&psc=1) - $19.99 from Amazon\\n   - Brand: OlarHike\\n   - UPC: 810080921474', additional_kwargs={}, response_metadata={'token_usage': {'completion_tokens': 476, 'prompt_tokens': 1557, 'total_tokens': 2033}, 'model_name': 'ibm/granite-3-8b-instruct', 'system_fingerprint': '', 'finish_reason': 'stop'}, id='chat-f0f67d56c54d43fcb1f45a24b7771ad5', usage_metadata={'input_tokens': 1557, 'output_tokens': 476, 'total_tokens': 2033})]"
      ]
     },
     "execution_count": 9,
     "metadata": {},
     "output_type": "execute_result"
    }
   ],
   "source": [
    "user_query = \"Find some suitcases for less than $150\"\n",
    "response = agent_executor.invoke({\"messages\": HumanMessage(content=user_query)})\n",
    "response[\"messages\"]"
   ]
  },
  {
   "cell_type": "markdown",
   "metadata": {},
   "source": [
    "### Another approach is using `bind_tools`:\n",
    "This returns the function call but does not actually show the output of the function call"
   ]
  },
  {
   "cell_type": "code",
   "execution_count": 56,
   "metadata": {},
   "outputs": [
    {
     "data": {
      "text/plain": [
       "[{'name': 'weather_search',\n",
       "  'args': {'__arg1': 'Athens, GR'},\n",
       "  'id': 'chatcmpl-tool-ff50f21ee32c4615b66b0b12f4e93ce2',\n",
       "  'type': 'tool_call'}]"
      ]
     },
     "execution_count": 56,
     "metadata": {},
     "output_type": "execute_result"
    }
   ],
   "source": [
    "llm_with_tools = llm.bind_tools(tools)\n",
    "query = 'What is the weather in Athens, GR'\n",
    "llm_with_tools.invoke(query).tool_calls"
   ]
  },
  {
   "cell_type": "markdown",
   "metadata": {},
   "source": [
    "#### We can [pass tool calls back to model](https://python.langchain.com/v0.2/docs/how_to/tool_results_pass_to_model/) to get the `AIMessage` we are looking for."
   ]
  },
  {
   "cell_type": "code",
   "execution_count": 54,
   "metadata": {},
   "outputs": [
    {
     "name": "stdout",
     "output_type": "stream",
     "text": [
      "[{'name': 'weather_search', 'args': {'__arg1': 'Athens, GR'}, 'id': 'chatcmpl-tool-51501bdb5f954bed96d9b122b3b0d2b3', 'type': 'tool_call'}]\n"
     ]
    }
   ],
   "source": [
    "messages = [HumanMessage(query)]\n",
    "ai_msg = llm_with_tools.invoke(messages)\n",
    "print(ai_msg.tool_calls)\n",
    "messages.append(ai_msg)\n"
   ]
  },
  {
   "cell_type": "code",
   "execution_count": 57,
   "metadata": {},
   "outputs": [
    {
     "name": "stdout",
     "output_type": "stream",
     "text": [
      "content='' additional_kwargs={'tool_calls': [{'id': 'chatcmpl-tool-51501bdb5f954bed96d9b122b3b0d2b3', 'type': 'function', 'function': {'name': 'weather_search', 'arguments': '{\"__arg1\": \"Athens, GR\"}'}}]} response_metadata={'token_usage': {'completion_tokens': 26, 'prompt_tokens': 223, 'total_tokens': 249}, 'model_name': 'ibm/granite-3-8b-instruct', 'system_fingerprint': '', 'finish_reason': 'tool_calls'} id='chat-7b7876f7b3314ae8ad4f9a55360cde3a' tool_calls=[{'name': 'weather_search', 'args': {'__arg1': 'Athens, GR'}, 'id': 'chatcmpl-tool-51501bdb5f954bed96d9b122b3b0d2b3', 'type': 'tool_call'}] usage_metadata={'input_tokens': 223, 'output_tokens': 26, 'total_tokens': 249}\n"
     ]
    }
   ],
   "source": [
    "print(ai_msg)"
   ]
  },
  {
   "cell_type": "code",
   "execution_count": 58,
   "metadata": {},
   "outputs": [
    {
     "data": {
      "text/plain": [
       "[HumanMessage(content='What is the weather in Athens, GR', additional_kwargs={}, response_metadata={}),\n",
       " AIMessage(content='', additional_kwargs={'tool_calls': [{'id': 'chatcmpl-tool-51501bdb5f954bed96d9b122b3b0d2b3', 'type': 'function', 'function': {'name': 'weather_search', 'arguments': '{\"__arg1\": \"Athens, GR\"}'}}]}, response_metadata={'token_usage': {'completion_tokens': 26, 'prompt_tokens': 223, 'total_tokens': 249}, 'model_name': 'ibm/granite-3-8b-instruct', 'system_fingerprint': '', 'finish_reason': 'tool_calls'}, id='chat-7b7876f7b3314ae8ad4f9a55360cde3a', tool_calls=[{'name': 'weather_search', 'args': {'__arg1': 'Athens, GR'}, 'id': 'chatcmpl-tool-51501bdb5f954bed96d9b122b3b0d2b3', 'type': 'tool_call'}], usage_metadata={'input_tokens': 223, 'output_tokens': 26, 'total_tokens': 249}),\n",
       " ToolMessage(content='In Athens, GR, the current weather is as follows:\\nDetailed status: few clouds\\nWind speed: 7.72 m/s, direction: 340°\\nHumidity: 59%\\nTemperature: \\n  - Current: 15.75°C\\n  - High: 16.78°C\\n  - Low: 15.05°C\\n  - Feels like: 14.92°C\\nRain: {}\\nHeat index: None\\nCloud cover: 20%', name='weather_search', tool_call_id='chatcmpl-tool-51501bdb5f954bed96d9b122b3b0d2b3')]"
      ]
     },
     "execution_count": 58,
     "metadata": {},
     "output_type": "execute_result"
    }
   ],
   "source": [
    "for tool_call in ai_msg.tool_calls:\n",
    "    selected_tool = {\"youtube_search\": youtube_search, \"weather_search\": weather_search}[tool_call[\"name\"].lower()]\n",
    "    tool_msg = selected_tool.invoke(tool_call)\n",
    "    messages.append(tool_msg)\n",
    "\n",
    "messages"
   ]
  },
  {
   "cell_type": "code",
   "execution_count": 59,
   "metadata": {},
   "outputs": [
    {
     "data": {
      "text/plain": [
       "AIMessage(content='The current weather in Athens, GR is:\\n- Detailed status: few clouds\\n- Wind speed: 7.72 m/s, direction: 340°\\n- Humidity: 59%\\n- Temperature:\\n  - Current: 15.75°C\\n  - High: 16.78°C\\n  - Low: 15.05°C\\n  - Feels like: 14.92°C\\n- Rain: None\\n- Heat index: None\\n- Cloud cover: 20%', additional_kwargs={}, response_metadata={'token_usage': {'completion_tokens': 127, 'prompt_tokens': 379, 'total_tokens': 506}, 'model_name': 'ibm/granite-3-8b-instruct', 'system_fingerprint': '', 'finish_reason': 'stop'}, id='chat-c580681a3aca48fd8ef5d22b3d833c3e', usage_metadata={'input_tokens': 379, 'output_tokens': 127, 'total_tokens': 506})"
      ]
     },
     "execution_count": 59,
     "metadata": {},
     "output_type": "execute_result"
    }
   ],
   "source": [
    "llm_with_tools.invoke(messages)"
   ]
  }
 ],
 "metadata": {
  "kernelspec": {
   "display_name": ".venv",
   "language": "python",
   "name": "python3"
  },
  "language_info": {
   "codemirror_mode": {
    "name": "ipython",
    "version": 3
   },
   "file_extension": ".py",
   "mimetype": "text/x-python",
   "name": "python",
   "nbconvert_exporter": "python",
   "pygments_lexer": "ipython3",
   "version": "3.11.9"
  }
 },
 "nbformat": 4,
 "nbformat_minor": 2
}
