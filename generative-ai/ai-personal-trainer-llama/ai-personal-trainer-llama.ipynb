{
 "cells": [
  {
   "cell_type": "markdown",
   "metadata": {},
   "source": [
    "# Build an personal trainer with Meta Llama 4 using watsonx.ai\n",
    "**Authors:** Ash Minhas, Anna Gutowska"
   ]
  },
  {
   "cell_type": "markdown",
   "metadata": {},
   "source": [
    "In this tutorial, you will build a generative AI-powered personal trainer. This AI trainer leverages the latest opensource [Meta Llama 4 Scout](https://www.llama.com/) [large language model (LLM)](https://www.ibm.com/think/topics/large-language-models) for processing image input and generating personalized workout plans to reach your fitness goals effectively. We will access the model through the [IBM watsonx.ai™](https://www.ibm.com/products/watsonx-ai) API. \n",
    "\n",
    "## Introduction\n",
    "Are you looking to be more active? Has your fitness journey reached a plateau and are you looking to take your workout routines to the next level? In this tutorial, you will use [AI](https://www.ibm.com/think/topics/artificial-intelligence) to provide a personalized training experience. \n",
    "\n",
    "## AI fitness: How it works\n",
    "Our workout app is composed of the following stages:\n",
    "\n",
    "1. The user uploads images of their current workout equipment, one item at a time. This set can consist of both home & gym equipment. \n",
    "2. The user selects the following criteria:   \n",
    "    * Workout type: strength, endurance, flexibility, balance, cardio and so on.\n",
    "    * Workout length: 30 minutes, 1 hour, 1.5 hours and so on.\n",
    "    * Fitness level: beginner, intermediate or advanced. \n",
    "3. Upon submission of the input, the multimodal Llama 4 Scout model iterates over the list of images and returns the following output:\n",
    "    * Description of the item: either “equipment” or “other.”\n",
    "    * Category: \"barbell\", \"dumbbell\", \"machine\", \"bodyweight\" and so on.\n",
    "    * Workout type: \"strength\", \"endurance\", \"flexibility\", \"balance\", \"cardio\" and so on.\n",
    "\n",
    "4. The same Llama 4 model then serves as a fitness coach. The LLM uses the previous output to provide a training plan that is suitable for the user’s selections.\n",
    "\n",
    "5. The training program and the images in the described personalized recommendation are all returned to the user."
   ]
  },
  {
   "cell_type": "markdown",
   "metadata": {},
   "source": [
    "# Prerequisites\n",
    "\n",
    "You need an [IBM Cloud® account](https://cloud.ibm.com/registration) to create a [watsonx.ai™](https://www.ibm.com/products/watsonx-ai) project.\n",
    "\n",
    "# Steps\n",
    "\n",
    "In order to use the watsonx® [application programming interface (API)](https://www.ibm.com/think/topics/api), you will need to complete the following steps.\n",
    "\n",
    "## Step 1. Set up your environment\n",
    "\n",
    "1. Log in to [watsonx.ai](https://dataplatform.cloud.ibm.com/registration/stepone?context=wx&apps=all) by using your IBM Cloud account.\n",
    "\n",
    "2. Create a [watsonx.ai project](https://www.ibm.com/docs/en/watsonx/saas?topic=projects-creating-project).\n",
    "\n",
    "\tYou can get your project ID from within your project. Click the **Manage** tab. Then, copy the project ID from the **Details** section of the **General** page. You need this ID for this tutorial.\n",
    "\n",
    "## Step 2. Set up watsonx.ai Runtime service and API key\n",
    "\n",
    "1. Create a [watsonx.ai Runtime](https://cloud.ibm.com/catalog/services/watsonxai-runtime) service instance (choose the Lite plan, which is a free instance).\n",
    "\n",
    "2. Generate an [API Key](https://dataplatform.cloud.ibm.com/docs/content/wsj/analyze-data/ml-authentication.html). \n",
    "\n",
    "3. Associate the watsonx.ai Runtime service to the project that you created in [watsonx.ai](https://dataplatform.cloud.ibm.com/docs/content/wsj/getting-started/assoc-services.html?context=cpdaas). "
   ]
  },
  {
   "cell_type": "markdown",
   "metadata": {},
   "source": [
    "## Step 3. Install and import relevant libraries and set up your credentials\n",
    "\n",
    "We need a few libraries and modules for this tutorial. Make sure to import the following ones; if they're not installed, you can resolve this issue with a quick pip installation."
   ]
  },
  {
   "cell_type": "code",
   "execution_count": null,
   "metadata": {},
   "outputs": [],
   "source": [
    "# Install required packages\n",
    "!pip install -q image ibm-watsonx-ai"
   ]
  },
  {
   "cell_type": "code",
   "execution_count": null,
   "metadata": {},
   "outputs": [],
   "source": [
    "# Required imports\n",
    "import getpass, os, base64, json\n",
    "from ibm_watsonx_ai import Credentials\n",
    "from ibm_watsonx_ai.foundation_models import ModelInference\n",
    "from PIL import Image"
   ]
  },
  {
   "cell_type": "markdown",
   "metadata": {},
   "source": [
    "To set our credentials, we need the `WATSONX_APIKEY` and `WATSONX_PROJECT_ID` you generated in step 1. We will also set the URL serving as the API endpoint."
   ]
  },
  {
   "cell_type": "code",
   "execution_count": null,
   "metadata": {},
   "outputs": [],
   "source": [
    "WATSONX_APIKEY = getpass.getpass(\"Please enter your watsonx.ai Runtime API key (hit enter): \")\n",
    "\n",
    "WATSONX_PROJECT_ID = getpass.getpass(\"Please enter your project ID (hit enter): \")\n",
    "\n",
    "URL = \"https://us-south.ml.cloud.ibm.com\""
   ]
  },
  {
   "cell_type": "markdown",
   "metadata": {},
   "source": [
    "We can use the `Credentials` class to encapsulate our passed credentials."
   ]
  },
  {
   "cell_type": "code",
   "execution_count": null,
   "metadata": {},
   "outputs": [],
   "source": [
    "credentials = Credentials(\n",
    "    url=URL,\n",
    "    api_key=WATSONX_APIKEY\n",
    ")"
   ]
  },
  {
   "cell_type": "markdown",
   "metadata": {},
   "source": [
    "## Step 4. Set up the API request for the LLM\n",
    "\n",
    "The `augment_api_request_body` function takes the user query and image as parameters and augments the body of the API request. We will use this function in each iteration of inferencing the LLM.\n"
   ]
  },
  {
   "cell_type": "code",
   "execution_count": null,
   "metadata": {},
   "outputs": [],
   "source": [
    "def augment_api_request_body(user_query, image):\n",
    "    messages = [\n",
    "        {\n",
    "            \"role\": \"user\",\n",
    "            \"content\": [{\n",
    "                \"type\": \"text\",\n",
    "                \"text\": user_query\n",
    "            },\n",
    "            {\n",
    "                \"type\": \"image_url\",\n",
    "                \"image_url\": {\n",
    "                    \"url\": f\"data:image/jpeg;base64,{image}\"\n",
    "                }\n",
    "            }]\n",
    "        }\n",
    "    ]\n",
    "    \n",
    "    return messages"
   ]
  },
  {
   "cell_type": "markdown",
   "metadata": {},
   "source": [
    "We can also instantiate the model interface by using the `ModelInference` class. "
   ]
  },
  {
   "cell_type": "code",
   "execution_count": null,
   "metadata": {},
   "outputs": [],
   "source": [
    "model = ModelInference(\n",
    "        model_id=\"meta-llama/llama-4-scout-17b-16e-instruct\",\n",
    "        credentials=credentials,\n",
    "        project_id=WATSONX_PROJECT_ID,\n",
    "        params={\n",
    "            \"max_tokens\": 128000,\n",
    "            \"temperature\": 0       \n",
    "        }\n",
    "    )"
   ]
  },
  {
   "cell_type": "markdown",
   "metadata": {},
   "source": [
    "## Step 5. Encode images\n",
    "\n",
    "To encode our images in a way that is digestible for the LLM, we encode them to bytes that we then decode to UTF-8 representation. In this case, our images are located in the local `images` directory. You can find sample images in the AI personal trainer directory in our [GitHub repository](https://github.com/IBM/ibmdotcom-tutorials)."
   ]
  },
  {
   "cell_type": "code",
   "execution_count": null,
   "metadata": {},
   "outputs": [
    {
     "name": "stdout",
     "output_type": "stream",
     "text": [
      "AdobeStock_91307353_Preview.jpeg\n",
      "AdobeStock_922896276_Preview.jpeg\n",
      "AdobeStock_311431811_Preview.jpeg\n",
      "AdobeStock_13628669_Preview.jpeg\n",
      "AdobeStock_263663835_Preview.jpeg\n",
      "AdobeStock_389847104_Preview.jpeg\n",
      "AdobeStock_74024563_Preview.jpeg\n",
      "AdobeStock_211228969_Preview.jpeg\n",
      "AdobeStock_94122326_Preview.jpeg\n",
      "AdobeStock_169219024_Preview.jpeg\n",
      "AdobeStock_86254899_Preview.jpeg\n"
     ]
    }
   ],
   "source": [
    "directory = \"images\"  #directory name\n",
    "images = []\n",
    "filenames = []\n",
    "\n",
    "for filename in os.listdir(directory): \n",
    "  if filename.endswith(\".jpeg\") or filename.endswith(\".png\"): \n",
    "    filepath = directory + '/' +filename\n",
    "    with  open(filepath, \"rb\") as f:\n",
    "      images.append(base64.b64encode(f.read()).decode('utf-8')) \n",
    "    filenames.append(filename)\n",
    "    print(filename)"
   ]
  },
  {
   "cell_type": "markdown",
   "metadata": {},
   "source": [
    "## Step 6. Categorize input with the Llama 4 model\n",
    "\n",
    "Now that we have loaded and encoded our images, we can query the Vision model. Our prompt is specific to our desired output to limit the model's creativity as we seek valid JSON output. We will store the description, category and workout type of each image in a list called `image_descriptions`. "
   ]
  },
  {
   "cell_type": "code",
   "execution_count": null,
   "metadata": {},
   "outputs": [
    {
     "name": "stdout",
     "output_type": "stream",
     "text": [
      "```json\n",
      "{\n",
      "    \"description\": \"yoga mat\",\n",
      "    \"category\": \"other\",\n",
      "    \"workout_type\": \"flexibility\"\n",
      "}\n",
      "```\n",
      "```json\n",
      "{\n",
      "    \"description\": \"Stairmaster\",\n",
      "    \"category\": \"machine\",\n",
      "    \"workout_type\": \"cardio\"\n",
      "}\n",
      "```\n",
      "```json\n",
      "{\n",
      "    \"description\": \"Pilates reformer\",\n",
      "    \"category\": \"machine\",\n",
      "    \"workout_type\": \"strength\"\n",
      "}\n",
      "```\n",
      "{\n",
      "    \"description\": \"elliptical trainer\",\n",
      "    \"category\": \"machine\",\n",
      "    \"workout_type\": \"cardio\"\n",
      "}\n",
      "```json\n",
      "{\n",
      "    \"description\": \"A ballet barre\",\n",
      "    \"category\": \"barre\",\n",
      "    \"workout_type\": \"strength\"\n",
      "}\n",
      "```\n",
      "```json\n",
      "{\n",
      "    \"description\": \"A dumbbell with multiple weight plates\",\n",
      "    \"category\": \"dumbbell\",\n",
      "    \"workout_type\": \"strength\"\n",
      "}\n",
      "```\n",
      "```json\n",
      "{\n",
      "    \"description\": \"treadmill\",\n",
      "    \"category\": \"machine\",\n",
      "    \"workout_type\": \"cardio\"\n",
      "}\n",
      "```\n",
      "```\n",
      "{\n",
      "  \"description\": \"exercise bike\",\n",
      "  \"category\": \"machine\",\n",
      "  \"workout_type\": \"cardio\"\n",
      "}\n",
      "```\n",
      "```json\n",
      "{\n",
      "    \"description\": \"barbell\",\n",
      "    \"category\": \"barbell\",\n",
      "    \"workout_type\": \"strength\"\n",
      "}\n",
      "```\n",
      "```json\n",
      "{\n",
      "    \"description\": \"A weightlifting bench with a barbell rack and weights\",\n",
      "    \"category\": \"barbell\",\n",
      "    \"workout_type\": \"strength\"\n",
      "}\n",
      "```\n",
      "```json\n",
      "{\n",
      "    \"description\": \"rowing machine\",\n",
      "    \"category\": \"machine\",\n",
      "    \"workout_type\": \"cardio\"\n",
      "}\n",
      "```\n"
     ]
    }
   ],
   "source": [
    "user_query = \"\"\"Provide a description, category, and workout type for the kinds of exercise equipment in each image, eg. \"barbell\", \"dumbbell\", \"machine\", \"bodyweight\", etc.   \n",
    "\n",
    "                Classify the description as \"equipment\" or \"other\".\n",
    "                Classify the category as \"barbell\", \"dumbbell\", \"machine\", \"bodyweight\", etc.\n",
    "                Classify the workout type as \"strength\", \"endurance\", \"flexibility\", \"balance\", \"cardio\", etc.\n",
    "                \n",
    "                Ensure the output is valid JSON. Do not create new categories or occasions. Only use the allowed classifications.\n",
    "                \n",
    "                Your response should be in this schema: \n",
    "                {\n",
    "                    \"description\": \"<description>\",\n",
    "                    \"category\": \"<category>\",\n",
    "                    \"workout_type\": \"<workout_type>\"\n",
    "                }\n",
    "                \"\"\"\n",
    "\n",
    "image_descriptions = []\n",
    "\n",
    "for i in range(len(images)):\n",
    "    image = images[i]\n",
    "    message = augment_api_request_body(user_query, image)\n",
    "    response = model.chat(messages=message)\n",
    "    result = response['choices'][0]['message']['content']\n",
    "    print(result)\n",
    "    image_descriptions.append(result)"
   ]
  },
  {
   "cell_type": "markdown",
   "metadata": {},
   "source": [
    "## Step 7. Generate workout plans with the LLM\n",
    "\n",
    "Now that we have each clothing and shoe item categorized, it will be much easier for the reasoning model to generate an outfit for the selected occasion. Let's instantiate and query the reasoning model."
   ]
  },
  {
   "cell_type": "code",
   "execution_count": null,
   "metadata": {},
   "outputs": [],
   "source": [
    "reasoning_model = ModelInference(\n",
    "        model_id=\"meta-llama/llama-4-scout-17b-16e-instruct\",\n",
    "        credentials=credentials,\n",
    "        project_id=WATSONX_PROJECT_ID\n",
    ")"
   ]
  },
  {
   "cell_type": "markdown",
   "metadata": {},
   "source": [
    "To align the filenames with the image descriptions, we can enumerate the list of image descriptions and create a list of dictionaries. These dictionaries will store the description, category, occasion and filename of each item in the respective fields. "
   ]
  },
  {
   "cell_type": "code",
   "execution_count": null,
   "metadata": {},
   "outputs": [
    {
     "name": "stdout",
     "output_type": "stream",
     "text": [
      "[{'description': 'yoga mat', 'category': 'other', 'workout_type': 'flexibility', 'filename': 'AdobeStock_91307353_Preview.jpeg'}, {'description': 'Stairmaster', 'category': 'machine', 'workout_type': 'cardio', 'filename': 'AdobeStock_922896276_Preview.jpeg'}, {'description': 'Pilates reformer', 'category': 'machine', 'workout_type': 'strength', 'filename': 'AdobeStock_311431811_Preview.jpeg'}, {'description': 'elliptical trainer', 'category': 'machine', 'workout_type': 'cardio', 'filename': 'AdobeStock_13628669_Preview.jpeg'}, {'description': 'A ballet barre', 'category': 'barre', 'workout_type': 'strength', 'filename': 'AdobeStock_263663835_Preview.jpeg'}, {'description': 'A dumbbell with multiple weight plates', 'category': 'dumbbell', 'workout_type': 'strength', 'filename': 'AdobeStock_389847104_Preview.jpeg'}, {'description': 'treadmill', 'category': 'machine', 'workout_type': 'cardio', 'filename': 'AdobeStock_74024563_Preview.jpeg'}, {'description': 'exercise bike', 'category': 'machine', 'workout_type': 'cardio', 'filename': 'AdobeStock_211228969_Preview.jpeg'}, {'description': 'barbell', 'category': 'barbell', 'workout_type': 'strength', 'filename': 'AdobeStock_94122326_Preview.jpeg'}, {'description': 'A weightlifting bench with a barbell rack and weights', 'category': 'barbell', 'workout_type': 'strength', 'filename': 'AdobeStock_169219024_Preview.jpeg'}, {'description': 'rowing machine', 'category': 'machine', 'workout_type': 'cardio', 'filename': 'AdobeStock_86254899_Preview.jpeg'}]\n"
     ]
    }
   ],
   "source": [
    "# Add filenames to the image descriptions\n",
    "gym_equipment = []\n",
    "for i, desc in enumerate(image_descriptions):\n",
    "    # Clean up the string by removing markdown code block markers and 'json' identifier\n",
    "    cleaned_desc = desc.strip()\n",
    "    if cleaned_desc.startswith('```'):\n",
    "        cleaned_desc = cleaned_desc.split('```')[1]  # Remove opening ```\n",
    "        if cleaned_desc.startswith('json'):\n",
    "            cleaned_desc = cleaned_desc[4:]  # Remove 'json' identifier\n",
    "        cleaned_desc = cleaned_desc.split('```')[0]  # Remove closing ```\n",
    "    cleaned_desc = cleaned_desc.strip()\n",
    "    \n",
    "    desc_dict = json.loads(cleaned_desc)\n",
    "    desc_dict['filename'] = filenames[i]\n",
    "    image_descriptions[i] = json.dumps(desc_dict)\n",
    "\n",
    "gym_equipment = [json.loads(js) for js in image_descriptions]\n",
    "print(gym_equipment)"
   ]
  },
  {
   "cell_type": "markdown",
   "metadata": {},
   "source": [
    "Now, let's query the Llama 4 model to produce a workout plan for our specified criteria by using the `gym_equipment` list. The following sample below uses the provided input: \n",
    "```python\n",
    "workout_type = \"strength\"\n",
    "length = \"1 hour\"\n",
    "fitness_level = \"beginner\"\n",
    "```"
   ]
  },
  {
   "cell_type": "code",
   "execution_count": null,
   "metadata": {},
   "outputs": [
    {
     "name": "stdout",
     "output_type": "stream",
     "text": [
      "Based on the equipment available in your gym, I've put together a beginner-friendly strength workout that can be completed within an hour. This workout will target various muscle groups and include a mix of exercises to get a good overall strength training session.\n",
      "\n",
      "**Warm-up (5 minutes)**\n",
      "\n",
      "* Start with some light cardio to get your blood flowing and warm up your muscles. You can use the treadmill or the exercise bike for this. For example, you can jog on the treadmill for 5 minutes or pedal on the exercise bike at a moderate pace.\n",
      "\n",
      "**Strength Training Circuit (45 minutes)**\n",
      "\n",
      "1. **Barbell Squats** (3 sets of 8-12 reps)\n",
      "Use the barbell and weightlifting bench with a barbell rack and weights (AdobeStock_169219024_Preview.jpeg). Stand with your feet shoulder-width apart, then bend your knees and lower your body down until your thighs are parallel to the ground. \n",
      "2. **Dumbbell Chest Press** (3 sets of 8-12 reps)\n",
      " Lie on your back with your knees bent and feet flat on the floor, holding a dumbbell in each hand (AdobeStock_389847104_Preview.jpeg). Press the dumbbells upwards, extending your arms fully, then lower them back down to the starting position.\n",
      "3. **Pilates Reformer Leg Press** (3 sets of 10-15 reps)\n",
      " Sit on the Pilates reformer (AdobeStock_311431811_Preview.jpeg) with your feet shoulder-width apart on the footrests. Push the footrests away from you, extending your legs, then return to the starting position.\n",
      "4. **Barbell Rows** (3 sets of 8-12 reps)\n",
      " Hold the barbell with your hands shoulder-width apart and your feet shoulder-width apart. Keeping your back straight, lift the barbell up to your chest, then lower it back down to the starting position.\n",
      "5. **Ballet Barre Leg Lifts** (3 sets of 10-15 reps per leg)\n",
      " Stand at the ballet barre with one hand on the barre for support and lift one leg out to the side, keeping it straight. Alternate legs with each rep.\n",
      "\n",
      "**Cool-down (10 minutes)**\n",
      "\n",
      "* Finish your workout with some static stretches to help your body recover. You can use the yoga mat for this (AdobeStock_91307353_Preview.jpeg). Focus on stretching your major muscle groups, such as your hamstrings, quadriceps, chest, back, and shoulders.\n",
      "\n",
      "Here's a sample workout routine you can follow:\n",
      "\n",
      "**Circuit:**\n",
      "\n",
      "1. Barbell Squats (3 sets of 8-12 reps)\n",
      "2. Dumbbell Chest Press (3 sets of 8-12 reps)\n",
      "3. Pilates Reformer Leg Press (3 sets of 10-15 reps)\n",
      "4. Barbell Rows (3 sets of 8-12 reps)\n",
      "5. Ballet Barre Leg Lifts (3 sets of 10-15 reps per leg)\n",
      "\n",
      "**Tips and Progression:**\n",
      "\n",
      "* Start with lighter weights and gradually increase the load as you become more comfortable with the exercises and build strength.\n",
      "* Rest for 60-90 seconds between sets, and 120-180 seconds between exercises.\n",
      "* As you get more comfortable with the workout, you can increase the number of sets, reps, or weight used.\n",
      "\n",
      "**Remember to:**\n",
      "\n",
      "* Listen to your body and only do what feels comfortable and safe.\n",
      "* Focus on proper form and technique throughout each exercise.\n",
      "* Stay hydrated and take breaks as needed.\n",
      "\n",
      "This workout should take approximately 45-50 minutes to complete, and you can adjust the weights and reps according to your fitness level. Please consult with a fitness professional or a doctor before starting any new exercise program. \n",
      "\n",
      "**Images used:**\n",
      "- AdobeStock_169219024_Preview.jpeg (Weightlifting bench and barbell)\n",
      "- AdobeStock_389847104_Preview.jpeg (Dumbbell)\n",
      "- AdobeStock_311431811_Preview.jpeg (Pilates Reformer)\n",
      "- AdobeStock_263663835_Preview.jpeg (Ballet Barre)\n",
      "- AdobeStock_94122326_Preview.jpeg (Barbell) \n",
      "\n",
      "Please let me know if you need any modifications or have any questions!\n"
     ]
    }
   ],
   "source": [
    "workout_type = input(\"Enter the workout type\")             #strength, endurance, flexibility, balance, cardio, etc. (e.g. \"strength\")\n",
    "length = input(\"Enter the length of the workout\")          #30 minutes, 1 hour, 1.5 hours, etc.\n",
    "fitness_level = input(\"Enter your fitness level\")          #beginner, intermediate or advanced\n",
    "prompt = f\"\"\"Use the description, category, and workout type of the exercise equipment in my gym to put together a workout for a {fitness_level} {workout_type} workout. The workout must be no longer than {length}.\n",
    "                You must inclue the filename of each image in your output along with the file extension. Here is the equipment in my gym: {gym_equipment}\"\"\"\n",
    "\n",
    "messages = [\n",
    "        {\n",
    "            \"role\": \"user\",\n",
    "            \"content\": [\n",
    "                {\n",
    "                    \"type\": \"text\",\n",
    "                    \"text\": f\"{prompt}\"\n",
    "                }\n",
    "            ]\n",
    "        }\n",
    "    ]\n",
    "\n",
    "workout = reasoning_model.chat(messages=messages)['choices'][0]['message']['content']\n",
    "print(workout)"
   ]
  },
  {
   "cell_type": "markdown",
   "metadata": {},
   "source": [
    "Great! This personal training algorithm returned a well-described strength training plan including the number of repetitions, or reps, and rest time. The LLM also places importance on proper form and hydration.\n",
    "\n",
    "With this generated workout description, we can also display the gym equipment that the model recommends. To do so, we can simply extract the filenames. In case the model mentions the same filename twice, it is important to check whether the image has not already been displayed as we iterate the list of images. We can do so by storing displayed images in the `selected_items` list. Finally, we can display the selected items. "
   ]
  },
  {
   "cell_type": "code",
   "execution_count": null,
   "metadata": {},
   "outputs": [],
   "source": [
    "selected_items = []\n",
    "#extract the images of clothing that the model recommends\n",
    "for item, uploaded_file in zip(gym_equipment, images):\n",
    "    if item['filename'].lower() in workout.lower() and not any(key['filename'] == item['filename'] for key in selected_items):\n",
    "        selected_items.append({\n",
    "            'image': uploaded_file,\n",
    "            'category': item['category'],\n",
    "            'filename': item['filename']\n",
    "        })\n",
    "\n",
    "#display the selected clothing items\n",
    "if len(selected_items) > 0:\n",
    "    for item in selected_items:\n",
    "        display(Image.open(directory + '/' + item['filename']))\n",
    "        "
   ]
  },
  {
   "cell_type": "markdown",
   "metadata": {},
   "source": [
    "## Conclusion\n",
    "\n",
    "In this tutorial, you built a fitness app that uses an AI coach to customize and automate training sessions for new clients. This coaching platform and other advancements alike have the potential to reshape the fitness industry by providing real-time feedback to a real person looking for online training. Using photos or screenshots of the user's equipment, workout plans are customized by the AI tool to meet the specified criteria. Workouts for weight loss, muscle gain and strength training are all possible outputs. The Llama 4 model was critical for labeling and categorizing each item as well as generating the workout plan.\n",
    "\n",
    "Some next steps for building off this application can include:\n",
    "- Creating a frontend to allow for AI chatbot functionality, similar to ChatGPT.\n",
    "- Building an app for users to use the AI personal trainer on-the-go. This might be an iOS app for iPhone users, for example.\n",
    "- Redesigning the use case to meet demand for other services such as mental health support. "
   ]
  }
 ],
 "metadata": {
  "kernelspec": {
   "display_name": "Python 3",
   "language": "python",
   "name": "python3"
  },
  "language_info": {
   "codemirror_mode": {
    "name": "ipython",
    "version": 3
   },
   "file_extension": ".py",
   "mimetype": "text/x-python",
   "name": "python",
   "nbconvert_exporter": "python",
   "pygments_lexer": "ipython3"
  }
 },
 "nbformat": 4,
 "nbformat_minor": 2
}
