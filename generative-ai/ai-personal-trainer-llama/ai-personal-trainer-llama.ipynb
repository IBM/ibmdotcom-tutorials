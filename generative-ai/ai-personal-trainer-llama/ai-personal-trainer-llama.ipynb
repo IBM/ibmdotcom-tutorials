{
 "cells": [
  {
   "cell_type": "markdown",
   "metadata": {},
   "source": [
    "# Build an personal trainer with Meta Llama 4 using watsonx.ai\n",
    "**Authors:** Ash Minhas, Anna Gutowska"
   ]
  },
  {
   "cell_type": "markdown",
   "metadata": {},
   "source": [
    "In this tutorial, you will build a generative AI-powered personal trainer. This AI trainer leverages the latest opensource [Meta Llama 4 Scout](https://www.llama.com/) [large language model (LLM)](https://www.ibm.com/think/topics/large-language-models) for processing image input and generating personalized workout plans to reach your fitness goals effectively. We will access the model through the [IBM watsonx.ai™](https://www.ibm.com/products/watsonx-ai) API. \n",
    "\n",
    "## Introduction\n",
    "Are you looking to be more active? Has your fitness journey reached a plateau and are you looking to take your workout routines to the next level? In this tutorial, you will use [AI](https://www.ibm.com/think/topics/artificial-intelligence) to provide a personalized training experience. \n",
    "\n",
    "## AI fitness: How it works\n",
    "Our workout app is composed of the following stages:\n",
    "\n",
    "1. The user uploads images of their current workout equipment, one item at a time. This set can consist of both home & gym equipment. \n",
    "2. The user selects the following criteria:   \n",
    "    * Workout type: strength, endurance, flexibility, balance, cardio and so on.\n",
    "    * Workout length: 30 minutes, 1 hour, 1.5 hours and so on.\n",
    "    * Fitness level: beginner, intermediate or advanced. \n",
    "3. Upon submission of the input, the multimodal Llama 4 Scout model iterates over the list of images and returns the following output:\n",
    "    * Description of the item: either “equipment” or “other.”\n",
    "    * Category: \"barbell\", \"dumbbell\", \"machine\", \"bodyweight\" and so on.\n",
    "    * Workout type: \"strength\", \"endurance\", \"flexibility\", \"balance\", \"cardio\" and so on.\n",
    "\n",
    "4. The same Llama 4 model then serves as a fitness coach. The LLM uses the previous output to provide a training plan that is suitable for the user’s selections.\n",
    "\n",
    "5. The training program and the images in the described personalized recommendation are all returned to the user."
   ]
  },
  {
   "cell_type": "markdown",
   "metadata": {},
   "source": [
    "# Prerequisites\n",
    "\n",
    "You need an [IBM Cloud® account](https://cloud.ibm.com/registration) to create a [watsonx.ai™](https://www.ibm.com/products/watsonx-ai) project.\n",
    "\n",
    "# Steps\n",
    "\n",
    "In order to use the watsonx® [application programming interface (API)](https://www.ibm.com/think/topics/api), you will need to complete the following steps.\n",
    "\n",
    "## Step 1. Set up your environment\n",
    "\n",
    "While you can choose from several tools, this tutorial walks you through how to set up an IBM account to use a Jupyter Notebook. \n",
    "\n",
    "1. Log in to [watsonx.ai™](https://dataplatform.cloud.ibm.com/registration/stepone?context=wx&apps=all) using your IBM Cloud account.\n",
    "\n",
    "2. Create a [watsonx.ai project](https://www.ibm.com/docs/en/watsonx/saas?topic=projects-creating-project).\n",
    "\n",
    "\tYou can get your project ID from within your project. Click the **Manage** tab. Then, copy the project ID from the **Details** section of the **General** page. You need this ID for this tutorial.\n",
    "\n",
    "3. Create a [Jupyter Notebook](https://www.ibm.com/docs/en/watsonx/saas?topic=editor-creating-managing-notebooks).\n",
    "\n",
    "\tThis step will open a Jupyter Notebook environment where you can copy the code from this tutorial.  Alternatively, you can download this notebook to your local system and upload it to your watsonx.ai project as an asset. To view more Granite tutorials, check out the [IBM Granite Community](https://github.com/ibm-granite-community). This tutorial is also available on [Github](https://github.com/IBM/ibmdotcom-tutorials).\n",
    "\n",
    "\n",
    "## Step 2. Set up watsonx.ai Runtime service and API key\n",
    "\n",
    "1. Create a [watsonx.ai Runtime](https://cloud.ibm.com/catalog/services/watsonxai-runtime) service instance (choose the Lite plan, which is a free instance).\n",
    "\n",
    "2. Generate an [API Key](https://dataplatform.cloud.ibm.com/docs/content/wsj/analyze-data/ml-authentication.html). \n",
    "\n",
    "3. Associate the watsonx.ai Runtime service to the project that you created in [watsonx.ai](https://dataplatform.cloud.ibm.com/docs/content/wsj/getting-started/assoc-services.html?context=cpdaas). "
   ]
  },
  {
   "cell_type": "markdown",
   "metadata": {},
   "source": [
    "## Step 3. Install and import relevant libraries and set up your credentials\n",
    "\n",
    "We need a few libraries and modules for this tutorial. Make sure to import the following ones; if they're not installed, you can resolve this issue with a quick pip installation."
   ]
  },
  {
   "cell_type": "code",
   "execution_count": null,
   "metadata": {},
   "outputs": [],
   "source": [
    "# Install required packages\n",
    "!pip install -q image ibm-watsonx-ai"
   ]
  },
  {
   "cell_type": "code",
   "execution_count": null,
   "metadata": {},
   "outputs": [],
   "source": [
    "# Required imports\n",
    "import getpass, os, base64, json\n",
    "from ibm_watsonx_ai import Credentials\n",
    "from ibm_watsonx_ai.foundation_models import ModelInference\n",
    "from PIL import Image"
   ]
  },
  {
   "cell_type": "markdown",
   "metadata": {},
   "source": [
    "To set our credentials, we need the `WATSONX_APIKEY` and `WATSONX_PROJECT_ID` you generated in step 1. We will also set the URL serving as the API endpoint."
   ]
  },
  {
   "cell_type": "code",
   "execution_count": null,
   "metadata": {},
   "outputs": [],
   "source": [
    "WATSONX_APIKEY = getpass.getpass(\"Please enter your watsonx.ai Runtime API key (hit enter): \")\n",
    "\n",
    "WATSONX_PROJECT_ID = getpass.getpass(\"Please enter your project ID (hit enter): \")\n",
    "\n",
    "URL = \"https://us-south.ml.cloud.ibm.com\""
   ]
  },
  {
   "cell_type": "markdown",
   "metadata": {},
   "source": [
    "We can use the `Credentials` class to encapsulate our passed credentials."
   ]
  },
  {
   "cell_type": "code",
   "execution_count": null,
   "metadata": {},
   "outputs": [],
   "source": [
    "credentials = Credentials(\n",
    "    url=URL,\n",
    "    api_key=WATSONX_APIKEY\n",
    ")"
   ]
  },
  {
   "cell_type": "markdown",
   "metadata": {},
   "source": [
    "## Step 4. Set up the API request for the LLM\n",
    "\n",
    "The `augment_api_request_body` function takes the user query and image as parameters and augments the body of the API request. We will use this function in each iteration of inferencing the LLM.\n"
   ]
  },
  {
   "cell_type": "code",
   "execution_count": null,
   "metadata": {},
   "outputs": [],
   "source": [
    "def augment_api_request_body(user_query, image):\n",
    "    messages = [\n",
    "        {\n",
    "            \"role\": \"user\",\n",
    "            \"content\": [{\n",
    "                \"type\": \"text\",\n",
    "                \"text\": user_query\n",
    "            },\n",
    "            {\n",
    "                \"type\": \"image_url\",\n",
    "                \"image_url\": {\n",
    "                    \"url\": f\"data:image/jpeg;base64,{image}\"\n",
    "                }\n",
    "            }]\n",
    "        }\n",
    "    ]\n",
    "    \n",
    "    return messages"
   ]
  },
  {
   "cell_type": "markdown",
   "metadata": {},
   "source": [
    "We can also instantiate the model interface by using the `ModelInference` class. "
   ]
  },
  {
   "cell_type": "code",
   "execution_count": null,
   "metadata": {},
   "outputs": [],
   "source": [
    "model = ModelInference(\n",
    "        model_id=\"meta-llama/llama-4-scout-17b-16e-instruct\",\n",
    "        credentials=credentials,\n",
    "        project_id=WATSONX_PROJECT_ID,\n",
    "        params={\n",
    "            \"max_tokens\": 128000,\n",
    "            \"temperature\": 0       \n",
    "        }\n",
    "    )"
   ]
  },
  {
   "cell_type": "markdown",
   "metadata": {},
   "source": [
    "## Step 5. Encode images\n",
    "\n",
    "To encode our images in a way that is digestible for the LLM, we encode them to bytes that we then decode to UTF-8 representation. In this case, our images are located in the local `images` directory. You can find sample images in the AI personal trainer directory in our [GitHub repository](https://github.com/IBM/ibmdotcom-tutorials)."
   ]
  },
  {
   "cell_type": "code",
   "execution_count": null,
   "metadata": {},
   "outputs": [
    {
     "name": "stdout",
     "output_type": "stream",
     "text": [
      "image0.jpeg\n",
      "image1.jpeg\n",
      "image6.jpeg\n",
      "image7.jpeg\n",
      "image10.jpeg\n",
      "image8.jpeg\n",
      "image4.jpeg\n",
      "image5.jpeg\n",
      "image9.jpeg\n",
      "image2.jpeg\n",
      "image3.jpeg\n"
     ]
    }
   ],
   "source": [
    "directory = \"images\"  #directory name\n",
    "images = []\n",
    "filenames = []\n",
    "\n",
    "for filename in os.listdir(directory): \n",
    "  if filename.endswith(\".jpeg\") or filename.endswith(\".png\"): \n",
    "    filepath = directory + '/' +filename\n",
    "    with  open(filepath, \"rb\") as f:\n",
    "      images.append(base64.b64encode(f.read()).decode('utf-8')) \n",
    "    filenames.append(filename)\n",
    "    print(filename)"
   ]
  },
  {
   "cell_type": "markdown",
   "metadata": {},
   "source": [
    "## Step 6. Categorize input with the Llama 4 model\n",
    "\n",
    "Now that we have loaded and encoded our images, we can query the Vision model. Our prompt is specific to our desired output to limit the model's creativity as we seek valid JSON output. We will store the description, category and workout type of each image in a list called `image_descriptions`. "
   ]
  },
  {
   "cell_type": "code",
   "execution_count": null,
   "metadata": {},
   "outputs": [
    {
     "name": "stdout",
     "output_type": "stream",
     "text": [
      "{\n",
      "    \"description\": \"elliptical trainer\",\n",
      "    \"category\": \"machine\",\n",
      "    \"workout_type\": \"cardio\"\n",
      "}\n",
      "```json\n",
      "{\n",
      "    \"description\": \"treadmill\",\n",
      "    \"category\": \"machine\",\n",
      "    \"workout_type\": \"cardio\"\n",
      "}\n",
      "```\n",
      "```\n",
      "{\n",
      "  \"description\": \"exercise bike\",\n",
      "  \"category\": \"machine\",\n",
      "  \"workout_type\": \"cardio\"\n",
      "}\n",
      "```\n",
      "```json\n",
      "{\n",
      "    \"description\": \"A ballet barre\",\n",
      "    \"category\": \"barre\",\n",
      "    \"workout_type\": \"strength\"\n",
      "}\n",
      "```\n",
      "```json\n",
      "{\n",
      "    \"description\": \"Stairmaster\",\n",
      "    \"category\": \"machine\",\n",
      "    \"workout_type\": \"cardio\"\n",
      "}\n",
      "```\n",
      "```json\n",
      "{\n",
      "    \"description\": \"Pilates reformer\",\n",
      "    \"category\": \"machine\",\n",
      "    \"workout_type\": \"strength\"\n",
      "}\n",
      "```\n",
      "```json\n",
      "{\n",
      "    \"description\": \"barbell\",\n",
      "    \"category\": \"barbell\",\n",
      "    \"workout_type\": \"strength\"\n",
      "}\n",
      "```\n",
      "```json\n",
      "{\n",
      "    \"description\": \"A weightlifting bench with a barbell rack and weights\",\n",
      "    \"category\": \"barbell\",\n",
      "    \"workout_type\": \"strength\"\n",
      "}\n",
      "```\n",
      "```json\n",
      "{\n",
      "    \"description\": \"A dumbbell with multiple weight plates\",\n",
      "    \"category\": \"dumbbell\",\n",
      "    \"workout_type\": \"strength\"\n",
      "}\n",
      "```\n",
      "```json\n",
      "{\n",
      "    \"description\": \"rowing machine\",\n",
      "    \"category\": \"machine\",\n",
      "    \"workout_type\": \"cardio\"\n",
      "}\n",
      "```\n",
      "```json\n",
      "{\n",
      "    \"description\": \"yoga mat\",\n",
      "    \"category\": \"other\",\n",
      "    \"workout_type\": \"flexibility\"\n",
      "}\n",
      "```\n"
     ]
    }
   ],
   "source": [
    "user_query = \"\"\"Provide a description, category, and workout type for the kinds of exercise equipment in each image, eg. \"barbell\", \"dumbbell\", \"machine\", \"bodyweight\", etc.   \n",
    "\n",
    "                Classify the description as \"equipment\" or \"other\".\n",
    "                Classify the category as \"barbell\", \"dumbbell\", \"machine\", \"bodyweight\", etc.\n",
    "                Classify the workout type as \"strength\", \"endurance\", \"flexibility\", \"balance\", \"cardio\", etc.\n",
    "                \n",
    "                Ensure the output is valid JSON. Do not create new categories or occasions. Only use the allowed classifications.\n",
    "                \n",
    "                Your response should be in this schema: \n",
    "                {\n",
    "                    \"description\": \"<description>\",\n",
    "                    \"category\": \"<category>\",\n",
    "                    \"workout_type\": \"<workout_type>\"\n",
    "                }\n",
    "                \"\"\"\n",
    "\n",
    "image_descriptions = []\n",
    "\n",
    "for i in range(len(images)):\n",
    "    image = images[i]\n",
    "    message = augment_api_request_body(user_query, image)\n",
    "    response = model.chat(messages=message)\n",
    "    result = response['choices'][0]['message']['content']\n",
    "    print(result)\n",
    "    image_descriptions.append(result)"
   ]
  },
  {
   "cell_type": "markdown",
   "metadata": {},
   "source": [
    "## Step 7. Generate workout plans with the LLM"
   ]
  },
  {
   "cell_type": "markdown",
   "metadata": {},
   "source": [
    "To align the filenames with the image descriptions, we can enumerate the list of image descriptions and create a list of dictionaries. These dictionaries will store the description, category, occasion and filename of each item in the respective fields. "
   ]
  },
  {
   "cell_type": "code",
   "execution_count": null,
   "metadata": {},
   "outputs": [
    {
     "name": "stdout",
     "output_type": "stream",
     "text": [
      "[{'description': 'elliptical trainer', 'category': 'machine', 'workout_type': 'cardio', 'filename': 'image0.jpeg'}, {'description': 'treadmill', 'category': 'machine', 'workout_type': 'cardio', 'filename': 'image1.jpeg'}, {'description': 'exercise bike', 'category': 'machine', 'workout_type': 'cardio', 'filename': 'image6.jpeg'}, {'description': 'A ballet barre', 'category': 'barre', 'workout_type': 'strength', 'filename': 'image7.jpeg'}, {'description': 'Stairmaster', 'category': 'machine', 'workout_type': 'cardio', 'filename': 'image10.jpeg'}, {'description': 'Pilates reformer', 'category': 'machine', 'workout_type': 'strength', 'filename': 'image8.jpeg'}, {'description': 'barbell', 'category': 'barbell', 'workout_type': 'strength', 'filename': 'image4.jpeg'}, {'description': 'A weightlifting bench with a barbell rack and weights', 'category': 'barbell', 'workout_type': 'strength', 'filename': 'image5.jpeg'}, {'description': 'A dumbbell with multiple weight plates', 'category': 'dumbbell', 'workout_type': 'strength', 'filename': 'image9.jpeg'}, {'description': 'rowing machine', 'category': 'machine', 'workout_type': 'cardio', 'filename': 'image2.jpeg'}, {'description': 'yoga mat', 'category': 'other', 'workout_type': 'flexibility', 'filename': 'image3.jpeg'}]\n"
     ]
    }
   ],
   "source": [
    "# Add filenames to the image descriptions\n",
    "gym_equipment = []\n",
    "for i, desc in enumerate(image_descriptions):\n",
    "    # Clean up the string by removing markdown code block markers and 'json' identifier\n",
    "    cleaned_desc = desc.strip()\n",
    "    if cleaned_desc.startswith('```'):\n",
    "        cleaned_desc = cleaned_desc.split('```')[1]  # Remove opening ```\n",
    "        if cleaned_desc.startswith('json'):\n",
    "            cleaned_desc = cleaned_desc[4:]  # Remove 'json' identifier\n",
    "        cleaned_desc = cleaned_desc.split('```')[0]  # Remove closing ```\n",
    "    cleaned_desc = cleaned_desc.strip()\n",
    "    \n",
    "    desc_dict = json.loads(cleaned_desc)\n",
    "    desc_dict['filename'] = filenames[i]\n",
    "    image_descriptions[i] = json.dumps(desc_dict)\n",
    "\n",
    "gym_equipment = [json.loads(js) for js in image_descriptions]\n",
    "print(gym_equipment)"
   ]
  },
  {
   "cell_type": "markdown",
   "metadata": {},
   "source": [
    "Now, let's query the Llama 4 model to produce a workout plan for our specified criteria by using the `gym_equipment` list. The following sample below uses the provided input: \n",
    "```python\n",
    "workout_type = \"cardio\"\n",
    "length = \"1 hour\"\n",
    "fitness_level = \"beginner\"\n",
    "```"
   ]
  },
  {
   "cell_type": "code",
   "execution_count": null,
   "metadata": {},
   "outputs": [
    {
     "name": "stdout",
     "output_type": "stream",
     "text": [
      "Based on the equipment available in your gym, I've put together a beginner-friendly cardio workout that can be completed within 1 hour. Since you're looking for a cardio workout, I'll focus on the equipment that falls under the 'cardio' or 'cardio' category. Here's a suggested workout:\n",
      "\n",
      "**Warm-up (5 minutes)**\n",
      "\n",
      "* Start with the 'rowing machine' (image2.jpeg) for 5 minutes to get your heart rate up and loosen your muscles.\n",
      "\n",
      "**Cardio Circuit (30 minutes)**\n",
      "\n",
      "* Move to the 'treadmill' (image1.jpeg) and set it to a walk or jog at a moderate pace. Spend 10 minutes on the treadmill to get your heart rate up and get some cardio benefits.\n",
      "* Next, head to the 'elliptical trainer' (image0.jpeg) and spend 10 minutes on it, taking your heart rate to a moderate level. You can adjust the resistance to make it more challenging.\n",
      "* Finally, hop on the 'exercise bike' (image6.jpeg) for 10 minutes to get some more cardio action.\n",
      "\n",
      "**High-Intensity Interval Training (HIIT) (20 minutes)**\n",
      "\n",
      "* Move to the 'Stairmaster' (image10.jpeg) and spend 5 minutes warming up at a moderate pace.\n",
      "* Then, increase the resistance and sprint for 2 minutes at maximum intensity.\n",
      "* Reduce the intensity and recover for 2 minutes. Repeat for a total of 15-20 minutes.\n",
      "\n",
      "**Cool-down (5 minutes)**\n",
      "\n",
      "* Finish your workout with some light stretching on the 'yoga mat' (image3.jpeg) to help prevent muscle soreness.\n",
      "\n",
      "Here's your workout schedule:\n",
      "\n",
      "1. Warm-up on the 'rowing machine' (image2.jpeg) (5 minutes)\n",
      "2. Cardio circuit:\n",
      "\t* Treadmill (10 minutes)\n",
      "\t* Elliptical trainer (image0.jpeg) (10 minutes)\n",
      "\t* Exercise bike (image6.jpeg) (10 minutes)\n",
      "3. HIIT on the Stairmaster (image10.jpeg) (20 minutes)\n",
      "4. Cool-down with stretching (5 minutes)\n",
      "\n",
      "This workout should get your heart rate up and provide a great cardio session for beginners. Remember to listen to your body and adjust the intensity and duration according to your needs.\n",
      "\n",
      "Example Output:\n",
      "```\n",
      "**Beginner Cardio Workout**\n",
      "\n",
      "Warm-up (5 minutes):\n",
      "- Rowing machine (image2.jpeg)\n",
      "\n",
      "Cardio Circuit (30 minutes):\n",
      "- Treadmill (image1.jpeg) - 10 minutes\n",
      "- Elliptical trainer (image0.jpeg) - 10 minutes\n",
      "- Exercise bike (image6.jpeg) - 10 minutes\n",
      "\n",
      "**Cool-down (5 minutes)**\n",
      "- Static stretches on the yoga mat (image3.jpeg)\n",
      "```\n"
     ]
    }
   ],
   "source": [
    "workout_type = input(\"Enter the workout type\")             #strength, endurance, flexibility, balance, cardio, etc. (e.g. \"cardio\")\n",
    "length = input(\"Enter the length of the workout\")          #30 minutes, 1 hour, 1.5 hours, etc.\n",
    "fitness_level = input(\"Enter your fitness level\")          #beginner, intermediate or advanced\n",
    "prompt = f\"\"\"Use the description, category, and workout type of the exercise equipment in my gym to put together a workout for a {fitness_level} {workout_type} workout. The workout must be no longer than {length}.\n",
    "                You must inclue the filename of each image in your output along with the file extension. Here is the equipment in my gym: {gym_equipment}\"\"\"\n",
    "\n",
    "messages = [\n",
    "        {\n",
    "            \"role\": \"user\",\n",
    "            \"content\": [\n",
    "                {\n",
    "                    \"type\": \"text\",\n",
    "                    \"text\": f\"{prompt}\"\n",
    "                }\n",
    "            ]\n",
    "        }\n",
    "    ]\n",
    "\n",
    "workout = model.chat(messages=messages)['choices'][0]['message']['content']\n",
    "print(workout)"
   ]
  },
  {
   "cell_type": "markdown",
   "metadata": {},
   "source": [
    "Great! This personal training algorithm returned a well-described cardio workout plan including the number of repetitions, or reps, and rest time. The LLM also places importance on proper form and hydration.\n",
    "\n",
    "With this generated workout description, we can also display the gym equipment that the model recommends. To do so, we can simply extract the filenames. In case the model mentions the same filename twice, it is important to check whether the image has not already been displayed as we iterate the list of images. We can do so by storing displayed images in the `selected_items` list. Finally, we can display the selected items. "
   ]
  },
  {
   "cell_type": "code",
   "execution_count": null,
   "metadata": {},
   "outputs": [],
   "source": [
    "selected_items = []\n",
    "#extract the images of clothing that the model recommends\n",
    "for item, uploaded_file in zip(gym_equipment, images):\n",
    "    if item['filename'].lower() in workout.lower() and not any(key['filename'] == item['filename'] for key in selected_items):\n",
    "        selected_items.append({\n",
    "            'image': uploaded_file,\n",
    "            'category': item['category'],\n",
    "            'filename': item['filename']\n",
    "        })\n",
    "\n",
    "#display the selected clothing items\n",
    "if len(selected_items) > 0:\n",
    "    for item in selected_items:\n",
    "        display(Image.open(directory + '/' + item['filename']))\n",
    "        "
   ]
  },
  {
   "cell_type": "markdown",
   "metadata": {},
   "source": [
    "## Conclusion\n",
    "\n",
    "In this tutorial, you built a fitness app that uses an AI coach to customize and automate training sessions for new clients. This coaching platform and other advancements alike have the potential to reshape the fitness industry by providing real-time feedback to a real person looking for online training. Using photos or screenshots of the user's equipment, workout plans are customized by the AI tool to meet the specified criteria. Workouts for weight loss, muscle gain and strength training are all possible outputs. The Llama 4 model was critical for labeling and categorizing each item as well as generating the workout plan.\n",
    "\n",
    "Some next steps for building off this application can include:\n",
    "- Creating a frontend to allow for AI chatbot functionality, similar to ChatGPT.\n",
    "- Building an app for users to use the AI personal trainer on-the-go. This might be an iOS app for iPhone users, for example.\n",
    "- Redesigning the use case to meet demand for other services such as mental health support. "
   ]
  }
 ],
 "metadata": {
  "kernelspec": {
   "display_name": "Python 3",
   "language": "python",
   "name": "python3"
  },
  "language_info": {
   "codemirror_mode": {
    "name": "ipython",
    "version": 3
   },
   "file_extension": ".py",
   "mimetype": "text/x-python",
   "name": "python",
   "nbconvert_exporter": "python",
   "pygments_lexer": "ipython3"
  }
 },
 "nbformat": 4,
 "nbformat_minor": 2
}
