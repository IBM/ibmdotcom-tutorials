{
 "cells": [
  {
   "cell_type": "markdown",
   "metadata": {},
   "source": [
    "# Build a PPT AI image analysis question answering system with Granite vision model "
   ]
  },
  {
   "cell_type": "markdown",
   "metadata": {},
   "source": [
    "As AI-driven technologies evolve, image analysis is becoming increasingly sophisticated, enabling deeper insights from visual data. With advancements in machine learning models, AI can process uploaded images, extract metadata, and support content moderation at large scale. These analysis tools also contribute to predictive modeling for applications like pricing, visual optimization, and image generation, making workflows more cost-effective and efficient. By integrating data-driven approaches, AI enhances automation and decision-making, offering new possibilities for intelligent visual interpretation."
   ]
  },
  {
   "cell_type": "markdown",
   "metadata": {},
   "source": [
    "## Use cases\n",
    "\n",
    "With the rapid advancements in Computer Vision and advanced AI, businesses and researchers are leveraging image-based technologies for a wide range of applications. From image classification and OCR (Optical Character Recognition) to segmentation and video analysis, AI-powered tools are transforming the way we extract and analyze visual information.\n",
    "\n",
    "In industries like social media, AI enhances content moderation by analyzing images at the pixel level, ensuring compliance and improving engagement. Businesses can also utilize Vision API for automated document processing, converting scanned files, excels, and reports into structured data. These applications streamline workflows, improve efficiency, and enable organizations to extract meaningful insights from large-scale visual datasets.\n",
    "\n",
    "These use cases highlight the growing role of AI-powered image analysis across industries. In this tutorial, we focus on applying these capabilities to PowerPoint presentations, enabling interactive Q&A on text and images using advanced computer vision and AI models"
   ]
  },
  {
   "cell_type": "markdown",
   "metadata": {},
   "source": [
    "## AI-powered interactive Q&A for presentations \n",
    "\n",
    "Large language models (LLMs) have revolutionized machine learning by enabling intelligent insights from vast datasets of unstructured text. However, traditional LLMs often struggle with image analysis, making it challenging to extract insights from charts, diagrams, and visual elements in presentations. \n",
    "\n",
    "[IBM® Granite™](https://www.ibm.com/products/watsonx-ai/foundation-models) open source model - Vision-3.1-2B-Preview model bridges this gap by integrating AI tools with advanced object detection algorithms, allowing users to automate multimodal analysis. This tutorial demonstrates how to streamline your workflow by using AI to extract and analyze text and images from PowerPoint (.pptx) files, enabling interactive Q&A for enhanced presentation insights."
   ]
  },
  {
   "cell_type": "markdown",
   "metadata": {},
   "source": [
    "In this tutorial, you will learn to build an AI-driven system capable of answering real-time user queries from PowerPoint slides, using both text and images as context. This tutorial will guide you through:\n",
    "\n",
    "**PowerPoint processing:** Extract text and images from .pptx files for AI-based analysis.\n",
    "\n",
    "**Text-based Q&A:** Use Granite Vision to generate answers based on extracted slide text.\n",
    "\n",
    "**Image-based Q&A:** Ask AI to analyze images, charts, and diagrams from slides.\n",
    "\n",
    "**Optimized question formulation:** Learn how to craft effective questions for accurate and relevant AI responses."
   ]
  },
  {
   "cell_type": "markdown",
   "metadata": {},
   "source": [
    "## Technologies used"
   ]
  },
  {
   "cell_type": "markdown",
   "metadata": {},
   "source": [
    "This tutorial leverages cutting-edge AI technologies, including:\n",
    "\n",
    "1. **IBM Granite Vision:** A powerful vision-language model (VLM) that processes both text and images.\n",
    "2. **Python-PPTX:** A library for extracting text and images from PowerPoint files.\n",
    "3. **Transformers:** A framework to process AI model inputs efficiently."
   ]
  },
  {
   "cell_type": "markdown",
   "metadata": {},
   "source": [
    "## What you will achieve"
   ]
  },
  {
   "cell_type": "markdown",
   "metadata": {},
   "source": [
    "By the end of this tutorial, you will:\n",
    "\n",
    "1. Extract and process PowerPoint content (text and images).\n",
    "2. Use [Granite vision model](https://huggingface.co/ibm-granite/granite-vision-3.1-2b-preview) for AI-driven Q&A on slide content.\n",
    "3. Ask AI insightful questions about text and images.\n",
    "4. Improve user interaction with presentations using AI-powered explanations.\n",
    "\n",
    "This tutorial is designed for AI developers, researchers, content creators, and business professionals looking to enhance their presentations with AI-driven insights."
   ]
  },
  {
   "cell_type": "markdown",
   "metadata": {},
   "source": [
    "## Prerequisites"
   ]
  },
  {
   "cell_type": "markdown",
   "metadata": {},
   "source": [
    "You need an [IBM Cloud account](https://cloud.ibm.com/registration?utm_source=ibm_developer&utm_content=in_content_link&utm_id=tutorials_awb-implement-xgboost-in-python&cm_sp=ibmdev-_-developer-_-trial) to create a [watsonx.ai](https://www.ibm.com/products/watsonx-ai?utm_source=ibm_developer&utm_content=in_content_link&utm_id=tutorials_awb-implement-xgboost-in-python&cm_sp=ibmdev-_-developer-_-product) project."
   ]
  },
  {
   "cell_type": "markdown",
   "metadata": {},
   "source": [
    "## Step 1. Set up your environment"
   ]
  },
  {
   "cell_type": "markdown",
   "metadata": {},
   "source": [
    "While you can choose from several tools, this tutorial walks you through how to set up an IBM account to use a Jupyter Notebook.\n",
    "\n",
    "1. Log in to [watsonx.ai](https://dataplatform.cloud.ibm.com/registration/stepone?context=wx&apps=all) using your IBM Cloud account.\n",
    "2. Create a [watsonx.ai project](https://www.ibm.com/docs/en/watsonx/saas?topic=projects-creating-project). You can get your project ID from within your project. Click the **Manage** tab. Then, copy the project ID from the **Details** section of the **General** page. You need this ID for this tutorial.\n",
    "3. Create a [Jupyter Notebook](https://www.ibm.com/docs/en/watsonx/saas?topic=editor-creating-managing-notebooks).\n",
    "4. Upload the PPTX file as [asset in watsonx.ai](https://dataplatform.cloud.ibm.com/docs/content/wsj/manage-data/add-data-project.html?context=wx#files)\n",
    "\n",
    "This step will open a Notebook environment where you can copy the code from this tutorial. Alternatively, you can download this notebook to your local system and upload it to your watsonx.ai project as an asset. This tutorial is also available on [Github](https://github.com/IBM/ibmdotcom-tutorials).\n",
    "\n",
    "*Note: This tutorial needs GPU infrastructure to run the code, so it is recommended to use watsonx.ai as illustrated in this tutorial.*"
   ]
  },
  {
   "cell_type": "markdown",
   "metadata": {},
   "source": [
    "## Step 2: Install required dependencies"
   ]
  },
  {
   "cell_type": "markdown",
   "metadata": {},
   "source": [
    "Before we begin extracting and processing PowerPoint content, we need to install the necessary Python libraries:\n",
    "\n",
    "`transformers` – Provides access to IBM Granite Vision and other AI models.\n",
    "\n",
    "`torch` – A deep learning framework required for running the model efficiently.\n",
    "\n",
    "`python-pptx` – A library to extract text and images from PowerPoint (.pptx) files.\n",
    "\n",
    "Run the following commands to install and upgrade these packages:"
   ]
  },
  {
   "cell_type": "code",
   "execution_count": null,
   "metadata": {},
   "outputs": [],
   "source": [
    "!pip install --upgrade transformers\n",
    "!pip install --upgrade torch\n",
    "!pip install python-pptx\n",
    "!pip install botocore\n",
    "!pip install ibm-cos-sdk"
   ]
  },
  {
   "cell_type": "markdown",
   "metadata": {},
   "source": [
    "## Step 3: Import Required Libraries"
   ]
  },
  {
   "cell_type": "markdown",
   "metadata": {},
   "source": [
    "In this step, we import the necessary libraries for processing PowerPoint files, handling images, and interacting with the IBM Granite Vision model:\n",
    "\n",
    "1. `os` and `io` – For file handling and input/output operations.\n",
    "\n",
    "2. `torch` – Ensures compatibility with the AI model.\n",
    "\n",
    "3. `pptx.Presentation` – Extracts text and images from PowerPoint (.pptx) files.\n",
    "\n",
    "4. `PIL.Image` – Processes images extracted from slides.\n",
    "\n",
    "5. `transformers` – Loads IBM Granite Vision for AI-based Q&A.\n",
    "\n",
    "6. `botocore.client.Config` & `ibm_boto3` – Handles cloud-based storage access (IBM Cloud Object Storage)."
   ]
  },
  {
   "cell_type": "code",
   "execution_count": null,
   "metadata": {},
   "outputs": [],
   "source": [
    "import os\n",
    "import io\n",
    "import torch\n",
    "from pptx import Presentation\n",
    "from PIL import Image\n",
    "from io import BytesIO\n",
    "from transformers import AutoProcessor, AutoModelForVision2Seq\n",
    "from botocore.client import Config\n",
    "import ibm_boto3"
   ]
  },
  {
   "cell_type": "markdown",
   "metadata": {},
   "source": [
    "## Step 4: Connect to IBM cloud object storage"
   ]
  },
  {
   "cell_type": "markdown",
   "metadata": {},
   "source": [
    "In this step, we establish a connection to **IBM cloud object storage (COS)** to access and retrieve PowerPoint files stored in the cloud.\n",
    "\n",
    "You can levrage the python support, provided through a fork of the boto3 library with features to make the most of IBM Cloud® Object Storage. [Check out the official documentation](https://cloud.ibm.com/docs/cloud-object-storage?topic=cloud-object-storage-python) to get these credentials. \n",
    "\n",
    "`ibm_boto3.client` – Creates a client to interact with IBM COS.\n",
    "`ibm_api_key_id` – Your IBM Cloud API key for authentication.\n",
    "`ibm_auth_endpoint` – The authentication endpoint for IBM Cloud.\n",
    "`endpoint_url` – The specific COS storage endpoint."
   ]
  },
  {
   "cell_type": "code",
   "execution_count": null,
   "metadata": {},
   "outputs": [],
   "source": [
    "# IBM COS credentials\n",
    "cos_client = ibm_boto3.client(\n",
    "    service_name='s3',\n",
    "    ibm_api_key_id='Enter your API Key',\n",
    "    ibm_auth_endpoint='[Enter your auth end-point url]',\n",
    "    config=Config(signature_version='oauth'),\n",
    "    endpoint_url='[Enter your end-point url]'\n",
    ")"
   ]
  },
  {
   "cell_type": "markdown",
   "metadata": {},
   "source": [
    "*Note: When you [upload a file as assets in watsonx.ai](https://dataplatform.cloud.ibm.com/docs/content/wsj/manage-data/add-data-project.html?context=wx), it is automatically stored in IBM Cloud Object Storage (COS). When you later import the file into a Jupyter Notebook, Watsonx.ai generates and inserts the necessary credentials (API key, authentication endpoint, and storage endpoint) into your notebook. The provided IBM COS credentials allow secure access to retrieve files from storage, enabling seamless integration between Watsonx.ai Assets and the notebook environment for further processing.* "
   ]
  },
  {
   "cell_type": "markdown",
   "metadata": {},
   "source": [
    "By configuring this connection, we can seamlessly download and process PowerPoint presentations stored in IBM Cloud for AI-powered analysis"
   ]
  },
  {
   "cell_type": "markdown",
   "metadata": {},
   "source": [
    "## Step 5: Define storage parameters"
   ]
  },
  {
   "cell_type": "markdown",
   "metadata": {},
   "source": [
    "In this step, we specify the **IBM Cloud Object Storage bucket and file details** to locate and retrieve the PowerPoint presentation (.pptx) for processing.\n",
    "\n",
    "[Check out this official document](https://cloud.ibm.com/docs/atracker?topic=atracker-cos#cos_bucket_details) to get the bucket configuration details through the IBM Cloud UI. \n",
    "\n",
    "`bucket` – The name of the IBM COS storage bucket where the file is stored.\n",
    "\n",
    "`object_key` – The exact filename of the PowerPoint presentation to be accessed."
   ]
  },
  {
   "cell_type": "code",
   "execution_count": null,
   "metadata": {},
   "outputs": [],
   "source": [
    "bucket = 'Enter your bucket key'\n",
    "object_key = 'Application Integration client presentation.PPTX [You can replace this with your PPT name]'"
   ]
  },
  {
   "cell_type": "markdown",
   "metadata": {},
   "source": [
    "These parameters ensure that the correct file is fetched for text and image extraction, enabling AI-driven Q&A with IBM Granite Vision."
   ]
  },
  {
   "cell_type": "markdown",
   "metadata": {},
   "source": [
    "## Step 6: Retrieve the PowerPoint file from IBM cloud object storage"
   ]
  },
  {
   "cell_type": "markdown",
   "metadata": {},
   "source": [
    "In this step, we download the PowerPoint (.pptx) file from IBM Cloud Object Storage (COS) to process it locally.\n",
    "\n",
    "`cos_client.get_object()` – Retrieves the file from the specified bucket and object key.\n",
    "\n",
    "`streaming_body.read()` – Reads the file contents into a byte stream for further processing."
   ]
  },
  {
   "cell_type": "code",
   "execution_count": null,
   "metadata": {},
   "outputs": [],
   "source": [
    "# Download PPTX file from IBM COS\n",
    "streaming_body = cos_client.get_object(Bucket=bucket, Key=object_key)['Body']\n",
    "pptx_bytes = streaming_body.read()"
   ]
  },
  {
   "cell_type": "markdown",
   "metadata": {},
   "source": [
    "## Step 7: Save the PowerPoint file on local path"
   ]
  },
  {
   "cell_type": "markdown",
   "metadata": {},
   "source": [
    "In this step, we store the downloaded PowerPoint file (.pptx) locally so it can be processed.\n",
    "\n",
    "`pptx_path` – Defines the local filename where the presentation will be saved.\n",
    "\n",
    "`open(pptx_path, 'wb')` – Opens the file in write-binary mode to store the retrieved bytes.\n",
    "\n",
    "`f.write(pptx_bytes)` – Writes the downloaded file content into the newly created .pptx file."
   ]
  },
  {
   "cell_type": "code",
   "execution_count": null,
   "metadata": {},
   "outputs": [],
   "source": [
    "# Save the bytes to a local PPTX file\n",
    "pptx_path = \"downloaded_presentation.pptx\"\n",
    "with open(pptx_path, 'wb') as f:\n",
    "    f.write(pptx_bytes)"
   ]
  },
  {
   "cell_type": "markdown",
   "metadata": {},
   "source": [
    "## Step 8: Confirm file save location"
   ]
  },
  {
   "cell_type": "markdown",
   "metadata": {},
   "source": [
    "In this step, we print a confirmation message to ensure that the PowerPoint file has been successfully saved. `print` function displays the file path where the .pptx file is stored locally."
   ]
  },
  {
   "cell_type": "code",
   "execution_count": null,
   "metadata": {},
   "outputs": [],
   "source": [
    "print(f\"PPTX file saved as: {pptx_path}\")"
   ]
  },
  {
   "cell_type": "markdown",
   "metadata": {},
   "source": [
    "## Step 9: Extract text and images from the PowerPoint file"
   ]
  },
  {
   "cell_type": "markdown",
   "metadata": {},
   "source": [
    "In this step, we define a function to process the PowerPoint file (.pptx) and extract its content:\n",
    "\n",
    "`slide_texts` – Stores extracted text from each slide.\n",
    "\n",
    "`slide_images` – Stores extracted images as PIL image objects, along with their corresponding slide numbers.\n",
    "\n",
    "Iterates through slides to extract **Text** from shapes containing textual content and **Images** embedded within slides.\n",
    "\n",
    "This function separates the text and images from the PPT, allowing the chat agent to easily answer user questions based on the extracted content."
   ]
  },
  {
   "cell_type": "code",
   "execution_count": null,
   "metadata": {},
   "outputs": [],
   "source": [
    "def extract_text_and_images_from_pptx(pptx_path):\n",
    "    presentation = Presentation(pptx_path)\n",
    "    slide_texts = []\n",
    "    slide_images = []\n",
    "\n",
    "    for slide_number, slide in enumerate(presentation.slides):\n",
    "        # Extract text from slide\n",
    "        slide_text = []\n",
    "        for shape in slide.shapes:\n",
    "            if hasattr(shape, \"text\"):\n",
    "                slide_text.append(shape.text)\n",
    "        slide_texts.append(\"\\n\".join(slide_text))\n",
    "\n",
    "        # Extract images from slide\n",
    "        for shape in slide.shapes:\n",
    "            if hasattr(shape, \"image\"):\n",
    "                image_stream = BytesIO(shape.image.blob)\n",
    "                image = Image.open(image_stream)\n",
    "                slide_images.append((slide_number, image))\n",
    "\n",
    "    return slide_texts, slide_images"
   ]
  },
  {
   "cell_type": "markdown",
   "metadata": {},
   "source": [
    "## Step 10: Process the PowerPoint file"
   ]
  },
  {
   "cell_type": "markdown",
   "metadata": {},
   "source": [
    "In this step, we call the function to extract text and images from the saved PowerPoint file.\n",
    "\n",
    "`pptx_path` – Specifies the local path of the downloaded PowerPoint file.\n",
    "\n",
    "`extract_text_and_images_from_pptx(pptx_path)` – Extracts text and images from the slides.\n",
    "\n",
    "`slide_texts` – Stores the extracted text from all slides.\n",
    "\n",
    "`slide_images` – Stores the extracted images along with their respective slide numbers."
   ]
  },
  {
   "cell_type": "code",
   "execution_count": null,
   "metadata": {},
   "outputs": [],
   "source": [
    "pptx_path = \"downloaded_presentation.pptx\"\n",
    "slide_texts, slide_images = extract_text_and_images_from_pptx(pptx_path)"
   ]
  },
  {
   "cell_type": "markdown",
   "metadata": {},
   "source": [
    "## Step 11: Display extracted text from slides"
   ]
  },
  {
   "cell_type": "markdown",
   "metadata": {},
   "source": [
    "In this step, we print the extracted text from each slide to verify that the PowerPoint content has been processed correctly.\n",
    "\n",
    "`enumerate(slide_texts)` – Iterates through the extracted text, associating each with its respective slide number.\n",
    "\n",
    "`Separator ('-' * 40)` – Helps visually distinguish content from different slides."
   ]
  },
  {
   "cell_type": "code",
   "execution_count": null,
   "metadata": {},
   "outputs": [],
   "source": [
    "# Display extracted text and images\n",
    "for i, text in enumerate(slide_texts):\n",
    "    print(f\"Slide {i + 1} Text:\\n{text}\\n{'-'*40}\")"
   ]
  },
  {
   "cell_type": "markdown",
   "metadata": {},
   "source": [
    "## Step 12: Display extracted images from slides"
   ]
  },
  {
   "cell_type": "markdown",
   "metadata": {},
   "source": [
    "In this step, we confirm and visualize the extracted images from the PowerPoint slides.\n",
    "\n",
    "`len` – Counts the total number of images extracted.\n",
    "\n",
    "`img.show()` – Opens each extracted image for review.\n",
    "\n",
    "*You can replace `.show()` with `.save('filename.png')` to store the images locally.*"
   ]
  },
  {
   "cell_type": "code",
   "execution_count": null,
   "metadata": {},
   "outputs": [],
   "source": [
    "print(f\"\\nExtracted {len(slide_images)} images.\")\n",
    "for slide_num, img in slide_images:\n",
    "    img.show()  # This will open the image, or you can save it using img.save('filename.png')"
   ]
  },
  {
   "cell_type": "markdown",
   "metadata": {},
   "source": [
    "## Step 13: Load the IBM Granite vision model"
   ]
  },
  {
   "cell_type": "markdown",
   "metadata": {},
   "source": [
    "In this step, we initialize the IBM Granite-Vision-3.1-2B-Preview model for AI-powered text and image processing.\n",
    "\n",
    "`MODEL_NAME` specifies the pre-trained Granite Vision model to be used and `torch.cuda.is_available()` checks if a GPU (CUDA) is available for faster processing; otherwise, it defaults to the CPU."
   ]
  },
  {
   "cell_type": "code",
   "execution_count": null,
   "metadata": {},
   "outputs": [],
   "source": [
    "# Load IBM Granite-Vision-3.1-2B-Preview model and processor\n",
    "MODEL_NAME = \"ibm-granite/granite-vision-3.1-2b-preview\"\n",
    "device = \"cuda\" if torch.cuda.is_available() else \"cpu\""
   ]
  },
  {
   "cell_type": "markdown",
   "metadata": {},
   "source": [
    "## Step 14: Initialize the model and processor"
   ]
  },
  {
   "cell_type": "markdown",
   "metadata": {},
   "source": [
    "In this step, we load the IBM Granite Vision model and its corresponding processor to handle both text and image inputs.\n",
    "\n",
    "`AutoProcessor.from_pretrained(MODEL_NAME, trust_remote_code=True)` – Loads the pre-trained processor to format inputs (text and images) for the model.\n",
    "\n",
    "`AutoModelForVision2Seq.from_pretrained(MODEL_NAME, trust_remote_code=True, ignore_mismatched_sizes=True).to(device)` – Loads the Granite Vision model and transfers it to the available device (GPU or CPU).\n",
    "\n",
    "where,\n",
    "\n",
    "`trust_remote_code=True` – Ensures compatibility with custom model implementations.\n",
    "\n",
    "`ignore_mismatched_sizes=True` – Prevents errors if there are minor inconsistencies in model size.\n",
    "\n",
    "*Note: This may take a while to load.*"
   ]
  },
  {
   "cell_type": "code",
   "execution_count": null,
   "metadata": {},
   "outputs": [],
   "source": [
    "processor = AutoProcessor.from_pretrained(MODEL_NAME, trust_remote_code=True)\n",
    "model = AutoModelForVision2Seq.from_pretrained(MODEL_NAME, trust_remote_code=True, ignore_mismatched_sizes=True).to(device)"
   ]
  },
  {
   "cell_type": "markdown",
   "metadata": {},
   "source": [
    "## Step 15: Implement text-based AI Chat"
   ]
  },
  {
   "cell_type": "markdown",
   "metadata": {},
   "source": [
    "In this step, we create a chat function that allows users to ask questions based on the extracted text from the PowerPoint slides.\n",
    "\n",
    "**How It Works:**\n",
    "\n",
    "1. User inputs a question related to the slide content.\n",
    "\n",
    "2. The entire extracted text from the PPT is formatted into a structured conversation for the model. This will give the model accurate contaxt to generate the specific answer from the PPT content itself.\n",
    "\n",
    "3. `apply_chat_template()` prepares the input for the AI model in a conversational format.\n",
    "\n",
    "4. `model.generate()` generates a response based on the input query.\n",
    "\n",
    "5. `processor.decode()` decodes the AI-generated response into human-readable text.\n",
    "\n",
    "6. Loop continues until the user types `exit` to quit the chat."
   ]
  },
  {
   "cell_type": "code",
   "execution_count": null,
   "metadata": {},
   "outputs": [],
   "source": [
    "# Chat based on Text Only\n",
    "def chat_with_text(model, processor, slide_texts):\n",
    "    while True:\n",
    "        query = input(\"Ask a question based on the presentation text (or type 'exit' to quit): \")\n",
    "        if query.lower() == 'exit':\n",
    "            break\n",
    "        conversation = [\n",
    "            {\n",
    "                \"role\": \"user\",\n",
    "                \"content\": [\n",
    "                    {\"type\": \"text\", \"text\": \"\\n\".join(slide_texts) + f\"\\nQuery: {query}\"},\n",
    "                ],\n",
    "            },\n",
    "        ]\n",
    "        inputs = processor.apply_chat_template(\n",
    "            conversation,\n",
    "            add_generation_prompt=True,\n",
    "            tokenize=True,\n",
    "            return_dict=True,\n",
    "            return_tensors=\"pt\"\n",
    "        ).to(device)\n",
    "        \n",
    "        outputs = model.generate(**inputs, max_new_tokens=150)\n",
    "        response = processor.decode(outputs[0], skip_special_tokens=True)\n",
    "        print(\"Model Response:\", response)"
   ]
  },
  {
   "cell_type": "markdown",
   "metadata": {},
   "source": [
    "## Step 16: Implement image-based AI Chat"
   ]
  },
  {
   "cell_type": "markdown",
   "metadata": {},
   "source": [
    "In this step, we create a chat function that allows users to ask questions about individual images extracted from the PowerPoint slides.\n",
    "\n",
    "**How It Works:**\n",
    "\n",
    "1. The user inputs a question related to slide images.\n",
    "\n",
    "2. They specify a slide number to reference a particular image.\n",
    "\n",
    "3. The selected image is saved temporarily as `slide_image_temp.png`.\n",
    "\n",
    "4. A structured conversation is created, including:\n",
    "    * The image file path.\n",
    "    * The user's question.  \n",
    "    \n",
    "5. `apply_chat_template()` processes the input in a format suitable for the AI model.\n",
    "\n",
    "6. `model.generate()` generates a response based on the image and query.\n",
    "\n",
    "7. The response is decoded and printed for the user.\n",
    "\n",
    "8. The loop continues until the user types `exit` to quit."
   ]
  },
  {
   "cell_type": "code",
   "execution_count": null,
   "metadata": {},
   "outputs": [],
   "source": [
    "# Chat based on Images Only\n",
    "def chat_with_images(model, processor, slide_images):\n",
    "    while True:\n",
    "        query = input(\"Ask a question based on the presentation images (or type 'exit' to quit): \")\n",
    "        if query.lower() == 'exit':\n",
    "            break\n",
    "        slide_num = int(input(f\"Enter slide number (1 to {len(slide_images)}) to ask about its image: \")) - 1\n",
    "        image = slide_images[slide_num][1]\n",
    "        \n",
    "        img_path = \"slide_image_temp.png\"\n",
    "        image.save(img_path)  # Save the image temporarily\n",
    "        \n",
    "        conversation = [\n",
    "            {\n",
    "                \"role\": \"user\",\n",
    "                \"content\": [\n",
    "                    {\"type\": \"image\", \"url\": img_path},\n",
    "                    {\"type\": \"text\", \"text\": query},\n",
    "                ],\n",
    "            },\n",
    "        ]\n",
    "        \n",
    "        inputs = processor.apply_chat_template(\n",
    "            conversation,\n",
    "            add_generation_prompt=True,\n",
    "            tokenize=True,\n",
    "            return_dict=True,\n",
    "            return_tensors=\"pt\"\n",
    "        ).to(device)\n",
    "        \n",
    "        outputs = model.generate(**inputs, max_new_tokens=150)\n",
    "        response = processor.decode(outputs[0], skip_special_tokens=True)\n",
    "        print(\"Model Response:\", response)"
   ]
  },
  {
   "cell_type": "markdown",
   "metadata": {},
   "source": [
    "## Step 17: Run the Text-Based AI Chat"
   ]
  },
  {
   "cell_type": "markdown",
   "metadata": {},
   "source": [
    "In this step, we call the chat_with_text function, allowing the user to ask questions about the extracted text from the PowerPoint slides.\n",
    "\n",
    "**How It Works:**\n",
    "\n",
    "1. `chat_with_text()` starts the text-based Q&A session.\n",
    "\n",
    "2. The function continuously prompts the user for input, answering questions based on the extracted slide text.\n",
    "\n",
    "3. The chat loop continues until the user types `exit` to quit."
   ]
  },
  {
   "cell_type": "code",
   "execution_count": null,
   "metadata": {},
   "outputs": [],
   "source": [
    "chat_with_text(model, processor, slide_texts)"
   ]
  },
  {
   "cell_type": "markdown",
   "metadata": {
    "vscode": {
     "languageId": "html"
    }
   },
   "source": [
    "**OUTPUT**\n",
    "\n",
    "**Query: Is integration a competitive advantage for your organization?**\n",
    "\n",
    "**<|assistant|>**\n",
    "\n",
    "*Yes, integration is a competitive advantage for your organization. It helps you move faster and overcome challenges, and can lead to increased costs, inefficiencies, security risks, and a poor user experience, ultimately jeopardizing an organization's competitiveness and ability to thrive in a rapidly evolving business landscape.*\n",
    "\n",
    "**Ask a question based on the presentation text (or type 'exit' to quit):  exit**\n"
   ]
  },
  {
   "cell_type": "markdown",
   "metadata": {},
   "source": [
    "When the user asked, \"Is integration a competitive advantage for your organization?\", the Granite Vision model processed the query using the extracted PowerPoint slide text and generated a response.\n",
    "\n",
    "The model recognized \"integration\" as a business concept and provided a structured answer from `slide number 7` explaining both its benefits and risks. It highlighted that integration enhances speed and problem-solving, but also noted potential downsides like increased costs, inefficiencies, security risks, and poor user experience if not managed effectively.\n",
    "\n",
    "This response demonstrates the model's ability to interpret extracted slide text and generate a contextually relevant and well-balanced answer"
   ]
  },
  {
   "cell_type": "markdown",
   "metadata": {},
   "source": [
    "## Step 18: Run the Image-Based AI Chat"
   ]
  },
  {
   "cell_type": "markdown",
   "metadata": {},
   "source": [
    "In this step, we call the chat_with_images function, enabling the user to ask questions about images extracted from the PowerPoint slides.\n",
    "\n",
    "**How It Works:**\n",
    "\n",
    "1. `chat_with_images()` starts the image-based Q&A session.\n",
    "\n",
    "2. The function prompts the user to select a specific slide number containing an image.\n",
    "\n",
    "3. The selected image is processed and formatted into a structured conversation for the vision model.\n",
    "\n",
    "4. The model generates a response based on the image content and the user’s query.\n",
    "\n",
    "5. The loop continues until the user types `exit` to quit."
   ]
  },
  {
   "cell_type": "code",
   "execution_count": null,
   "metadata": {},
   "outputs": [],
   "source": [
    "chat_with_images(model, processor, slide_images)"
   ]
  },
  {
   "cell_type": "markdown",
   "metadata": {},
   "source": [
    "**OUTPUT**\n",
    "\n",
    "Ask a question based on the presentation images (or type 'exit' to quit):  *what is this image?*\n",
    "\n",
    "Enter slide number (1 to 41) to ask about its image:  *2*\n",
    "\n",
    "Model Response: <|system|>\n",
    "\n",
    "A chat between a curious user and an artificial intelligence assistant. The assistant gives helpful, detailed, and polite answers to the user's questions.\n",
    "\n",
    "<|user|>\n",
    "\n",
    "what is this image?\n",
    "\n",
    "**<|assistant|>**\n",
    "\n",
    "*3d model*\n",
    "\n",
    "Ask a question based on the presentation images (or type 'exit' to quit):  *explain this image*\n",
    "\n",
    "Enter slide number (1 to 41) to ask about its image:  *2*\n",
    "\n",
    "Model Response: <|system|>\n",
    "\n",
    "A chat between a curious user and an artificial intelligence assistant. The assistant gives helpful, detailed, and polite answers to the user's questions.\n",
    "\n",
    "<|user|>\n",
    "\n",
    "explain this image\n",
    "\n",
    "**<|assistant|>**\n",
    "\n",
    "*the image is a 3d model of a cube*\n",
    "\n",
    "Ask a question based on the presentation images (or type 'exit' to quit):  *can you explain this chart?*\n",
    "\n",
    "Enter slide number (1 to 41) to ask about its image:  *1*\n",
    "\n",
    "Model Response: <|system|>\n",
    "\n",
    "A chat between a curious user and an artificial intelligence assistant. The assistant gives helpful, detailed, and polite answers to the user's questions.\n",
    "\n",
    "<|user|>\n",
    "\n",
    "can you explain this chart?\n",
    "\n",
    "**<|assistant|>**\n",
    "\n",
    "Here a is a bar plot titled Maturity progression of the enterprise cloud market from 1st to 4th generation. The x-axis measures Generations Progression while the y-axis plots Maturity progression over the years. The chart shows that as the generations progress, the maturity of the enterprise cloud market increases.\n",
    "\n",
    "Ask a question based on the presentation images (or type 'exit' to quit):  exit\n"
   ]
  },
  {
   "cell_type": "markdown",
   "metadata": {},
   "source": [
    "When the user asked image-related questions, the Granite Vision model processed the selected images and generated responses based on its understanding of visual content.\n",
    "\n",
    "For the question **\"What is this image?\" (Slide 2)** - The model identified the image as a *\"3D model\"* but provided a minimal description.\n",
    "\n",
    "For **\"Explain this image\" (Slide 2)** - The model refined its response, identifying it as *\"a 3D model of a cube.*\"\n",
    "\n",
    "For **\"Can you explain this chart?\" (Slide 1)** - The model provided a detailed description of the bar chart, explaining its title, x-axis, y-axis, and overall trend, indicating how enterprise cloud maturity progresses across generations.\n",
    "\n",
    "This step allows users to interact with visual elements, such as charts, diagrams, and infographics, by leveraging IBM Granite Vision model for intelligent analysis and explanations"
   ]
  },
  {
   "cell_type": "markdown",
   "metadata": {},
   "source": [
    "## Key takeaways:\n",
    "\n",
    "1. The model recognizes basic shapes and objects but may provide generalized descriptions for some images.\n",
    "2. For charts and diagrams, it provides structured insights, including titles, axis labels, and trends, making it useful for business and data presentations.\n",
    "3. The accuracy of responses depends on image clarity and complexity—simpler visuals (like 3D models) may receive shorter responses, while structured visuals (like charts) get more detailed insights.\n",
    "\n",
    "This demonstrates IBM Granite Vision’s ability to interpret images. "
   ]
  },
  {
   "cell_type": "markdown",
   "metadata": {},
   "source": []
  }
 ],
 "metadata": {
  "kernelspec": {
   "display_name": "Python 3",
   "language": "python",
   "name": "python3"
  },
  "language_info": {
   "codemirror_mode": {
    "name": "ipython",
    "version": 3
   },
   "file_extension": ".py",
   "mimetype": "text/x-python",
   "name": "python",
   "nbconvert_exporter": "python",
   "pygments_lexer": "ipython3",
   "version": "3.12.4"
  }
 },
 "nbformat": 4,
 "nbformat_minor": 2
}
