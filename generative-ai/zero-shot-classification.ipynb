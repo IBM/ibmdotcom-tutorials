{
 "cells": [
  {
   "cell_type": "markdown",
   "metadata": {},
   "source": [
    "# Perform zero-shot classification with a foundation model  \n",
    "  \n",
    "In this tutorial, we will use an IBM Granite (TM) model to perform zero-shot classification.  \n",
    "  \n",
    "## What is zero-shot classification?\n",
    "\n",
    "Zero-shot classification uses zero-shot prompting, a prompt engineering technique that allows a model to perform a task without any specific training or examples. This is an application of zero-shot learning ([ZSL](https://www.ibm.com/topics/zero-shot-learning)) which is a machine learning method that relies on the pre-trained models’ ability to recognize and categorize objects or concepts on post-training. ZSL is similar to few-shot learning ([FSL](https://www.ibm.com/topics/few-shot-learning)), the ability for a model to make an accurate prediction by training on a small number of labeled examples. Both techniques are used to enable models to perform tasks that they haven’t been explicitly trained on.\n",
    "\n",
    "Researchers have been experimenting with machine learning models for classification tasks since the 50’s. [The Perceptron](https://courses.cs.washington.edu/courses/cse490h1/19wi/exhibit/machine-learning-1.html#:~:text=Finally%2C%20the%20first%20neural%20network,(History%20of%20the%20Perceptron)) is an early classification model that uses a decision-boundary to classify data into different groups. Most ML/DL [methods](https://www.researchgate.net/publication/359103439_A_Zero-Shot_Learning_Approach_to_Classifying_Requirements_A_Preliminary_Study) rely on supervised learning techniques, and therefore need to be trained using a large amount of task-specific labeled training data. This presents a challenge as the large, annotated datasets required to train these models simply do not exist for every domain. [Some researchers](https://arxiv.org/abs/2312.01044#:~:text=%5B2312.01044%5D%20Large%20Language%20Models%20Are%20Zero%2DShot%20Text%20Classifiers) motivated by these constraints say that LLMs are the way around these data limitations.\n",
    "\n",
    "LLMs are designed to perform natural language processing (NLP) and natural language inferencing (NLI) tasks which gives them a natural ability to perform zero-shot text classification. The model can generate data based on semantic descriptions [because](https://arxiv.org/html/2405.06410v1) it’s trained on a large corpus of data. Like LLMs, foundation models use a transformer architecture that enables them to classify labels without any specific training data for a classification task. This is [possible](https://research.ibm.com/blog/what-are-foundation-models) because of the models’ ability to perform self-supervised learning and transfer learning to classify data into unseen classes. To the advantage of data science, this approach eliminates the requirement for large datasets with human-annotated labels because it automates the preprocessing portion of the classification pipeline.\n",
    "\n",
    "### How foundation models perform zero-shot classification  \n",
    "  \n",
    "Foundation models are built on the [transformer architecture](https://research.ibm.com/blog/larger-context-window) that that can take raw text at scale through its attention mechanism, and understand how words relate to each other to form a statistical representation of language. The [transformer](https://arxiv.org/pdf/2304.10557) is a type of neural network architecture designed to interpret meaningful representations of sequences or collections of data points. This capability is the reason why these models perform so well on NLP tasks.\n",
    "\n",
    "The [transformer model architecture](https://proceedings.neurips.cc/paper_files/paper/2017/file/3f5ee243547dee91fbd053c1c4a845aa-Paper.pdf) includes an encoder-decoder structure and self-attention mechanism that allows the model to draw connections between input and output using [an auto-regressive](https://www.ibm.com/topics/autoregressive-model#:~:text=An%20autoregressive%20model%20is%20when,to%20predict%20the%20value%20now.) prediction. The encoder processes the [tokenized](https://www.ibm.com/docs/en/watsonx/saas?topic=solutions-tokens) input data into embeddings that represent the data in a format the model can read. The decoder interprets the embeddings to generate an output. The [self-attention mechanism](https://www.ibm.com/topics/transformer-model) computes the weights for each word, *or token,* in sentence based on its relationship to every other word in the sentence. This allows the model to take the semantic and syntactic relationships between words. The self-attention mechanism is integral for [entailment](https://research.ibm.com/publications/infusing-knowledge-into-the-textual-entailment-task-using-graph-convolutional-networks), a NLI task that heavily relies on the self-attention mechanism because it helps the model understand the context within text data.\n",
    "\n",
    "### What models are best for zero-shot classification?\n",
    "\n",
    "Choosing the right model for your zero-shot classification depends on your classification task. It’s no surprise that there is an abundance to choose from, let’s consider three types of models:  \n",
    "  \n",
    "- **Zero-shot classification model** is a type of model that can classify data into categories without task-specific labeled examples during the prediction phase. The models rely on training data, which is normally a large-scale, general dataset to classify new, unseen classes. One of the most popular zero-shot classification models for zero-shot text classification is HuggingFace’s facebook/[bart-large-mnli](https://huggingface.co/tasks/zero-shot-classification) model based on the BART-large transformer model architecture. Zero-shot classification models perform well on generalized tasks but, because there is no fine-tuning on specific tasks or datasets, accuracy may be limited. Because of this limitation, the model requires well-formulated prompts.\n",
    "\n",
    "- **Large Language Models** (LLMs) like GPT and BERT are designed to perform a variety of natural language processing tasks. This can limit use cases using multimodal datasets such as images and audio. These models are designed to handle text data, often using deep learning architectures likes [transformers](https://www.ibm.com/topics/transformer-model). LLMs are trained on a large corpora of text data, giving them extensive knowledge of language, syntax, semantics, and some domain-specific knowledge. These models generally perform well with little to no task-specific fine-tuning, making them suitable for zero-shot and few-shot classification scenarios. Due to their generalized training, LLMs may have limited accuracy for specialized tasks especially ones that require domain specific data. These models are best to work with when the dataset is text-based.\n",
    "\n",
    "- **Foundation models** are multimodal, meaning they are often trained on a myriad of modalities including text, images, and speech. These models are generally versatile and after pretraining can undergo optimization for many different tasks. IBM’s Granite (TM) models classify data by using a large language model (LLM) trained on a curated dataset of business-relevant information, including legal, financial, and technical domains, which allows it to analyze text and identify patterns to categorize data into specific classes based on the context and semantic meaning within the text. Because of their multimodal capacity, these types of models can handle image and text classification. These models are ideal when you need a broad range of capabilities or want to handle multiple types of data for instance, image or audio classification.\n",
    "\n",
    "### Use cases \n",
    "\n",
    "-   **Image classification** – Computer vision is a type of artificial intelligence (AI) that allows uses machine learning models to analyze images and videos. A crucial task within computer vision is [image classification](https://www.sciencedirect.com/topics/engineering/image-classification#:~:text=Image%20classification-,Image%20classification%20is%20the%20process%20of%20categorizing%20and%20labeling%20groups,supervised'%20and%20'unsupervised), which involves labeling and categorizing groups of pixels within an image. Image classification is used in many domains such as social media for photo tagging, self-driving cars, and even [healthcare](https://openaccess.thecvf.com/content/ICCV2021W/CVAMD/papers/Mahapatra_Medical_Image_Classification_Using_Generalized_Zero_Shot_Learning_ICCVW_2021_paper.pdf).\n",
    "\n",
    "-   **Text classification** – [NLP](https://www.ibm.com/topics/natural-language-processing) utilizes text classification to enable the models understanding of human language. Text classification is used for many NLP tasks such as sentiment analysis, similarity scoring, key phrase detection and much more. A popular use case, and one we’ll be exploring in this tutorial, is for customer service analysis.\n",
    "\n",
    "-   **Audio Classification** – The goal of audio classification is to use the model to recognize and distinguish between audio recordings so that it can perform sound categorization. This form of classification is used in smart home and security systems and technologies like text to speech applications.\n",
    "\n",
    "\n",
    "# Prerequisites\n",
    "\n",
    "To follow this tutorial you need an [IBM Cloud account](https://cloud.ibm.com/registration?utm_source=ibm_developer&utm_content=in_content_link&utm_id=tutorials_awb-create-langchain-rag-system-python-watsonx&cm_sp=ibmdev-_-developer-_-trial) to create a [watsonx.ai](https://www.ibm.com/products/watsonx-ai?utm_source=ibm_developer&utm_content=in_content_link&utm_id=tutorials_awb-create-langchain-rag-system-python-watsonx&cm_sp=ibmdev-_-developer-_-product) project.\n",
    "\n",
    "\n",
    "# Steps\n",
    "\n",
    "## Step 1. Set up your environment\n",
    "\n",
    "While you can choose from several tools, this tutorial walks you through how to set up an IBM account to use a Jupyter Notebook. Jupyter Notebooks are widely used within [data science](https://www.ibm.com/topics/data-science?utm_source=ibm_developer&utm_content=in_content_link&utm_id=tutorials_awb-create-langchain-rag-system-python-watsonx&cm_sp=ibmdev-_-developer-tutorials-_-ibmcom) to combine code, text, images, and [data visualizations](https://www.ibm.com/topics/data-visualization?utm_source=ibm_developer&utm_content=in_content_link&utm_id=tutorials_awb-create-langchain-rag-system-python-watsonx&cm_sp=ibmdev-_-developer-tutorials-_-ibmcom) to formulate a well-formed analysis.\n",
    "\n",
    "1. Log in to [watsonx.ai Runtime](https://dataplatform.cloud.ibm.com/registration/stepone?utm_source=ibm_developer&utm_content=in_content_link&utm_id=tutorials_awb-create-langchain-rag-system-python-watsonx&cm_sp=ibmdev-_-developer-_-trial) using your IBM Cloud account.\n",
    "\n",
    "2. Create a [watsonx.ai project](https://www.ibm.com/docs/en/watsonx/saas?utm_source=ibm_developer&utm_content=in_content_link&utm_id=tutorials_awb-create-langchain-rag-system-python-watsonx&topic=projects-creating-project&cm_sp=ibmdev-_-developer-tutorials-_-ibmcom).\n",
    "\n",
    "\tTake note of the project ID in project > Manage > General > Project ID. You’ll need this ID for this tutorial.\n",
    "\n",
    "3. Create a [Jupyter Notebook](https://www.ibm.com/docs/en/watsonx/saas?utm_source=ibm_developer&utm_content=in_content_link&utm_id=tutorials_awb-create-langchain-rag-system-python-watsonx&topic=editor-creating-managing-notebooks&cm_sp=ibmdev-_-developer-tutorials-_-ibmcom).\n",
    "\n",
    "This step will open a Notebook environment where you can copy the code from this tutorial to perform zero-shot classification on your own. Alternatively, you can download this notebook to your local system and upload it to your watsonx.ai project as an asset. This Jupyter Notebook is available on [GitHub](https://github.com/vannawinland/think/blob/main/tutorials/zero-shot-classification.ipynb).\n",
    "\n",
    "## Step 2. Set up watsonx.ai Runtime instance and API key\n",
    "\n",
    "In this step, you associate your project with the watsonx.ai service.\n",
    "\n",
    "1. Create a [watsonx.ai](https://dataplatform.cloud.ibm.com/registration/stepone?context=wx) Runtime instance (choose the Lite plan, which is a free instance).\n",
    "\n",
    "2. Generate an [API Key in watsonx.ai](https://dataplatform.cloud.ibm.com/docs/content/wsj/analyze-data/ml-authentication.html?utm_source=ibm_developer&utm_content=in_content_link&utm_id=tutorials_awb-create-langchain-rag-system-python-watsonx&context=cpdaas). \n",
    "\n",
    "\n",
    "3. Associate the watsonx.ai Runtime to the project you created in [watsonx.ai](https://dataplatform.cloud.ibm.com/docs/content/wsj/getting-started/assoc-services.html?utm_source=ibm_developer&utm_content=in_content_link&utm_id=tutorials_awb-create-langchain-rag-system-python-watsonx&context=cpdaas). \n",
    "\n",
    "\n",
    "## Step 3. Install and import relevant libraries and set up your credentials\n",
    "\n",
    "We'll need some libraries and modules for this tutorial. Make sure to import the ones below, and if they're not installed, you can resolve this with a quick pip install."
   ]
  },
  {
   "cell_type": "code",
   "execution_count": null,
   "metadata": {},
   "outputs": [],
   "source": [
    "!pip install -U langchain_ibm\n",
    "!pip install \"ibm-watson-machine-learning>=1.0.327\"\n",
    "\n",
    "from langchain_ibm import WatsonxLLM\n",
    "from ibm_watson_machine_learning.metanames import GenTextParamsMetaNames as GenParams"
   ]
  },
  {
   "cell_type": "markdown",
   "metadata": {},
   "source": [
    "## Step 4. Set up your Watsonx credentials\n",
    "\n",
    "Run the following to input and save your watsonx.ai Runtime API key and project id:"
   ]
  },
  {
   "cell_type": "code",
   "execution_count": null,
   "metadata": {},
   "outputs": [],
   "source": [
    "import getpass\n",
    "from langchain_ibm import WatsonxLLM\n",
    "\n",
    "credentials = {\n",
    "    \"url\": \"https://us-south.ml.cloud.ibm.com\",\n",
    "    \"apikey\": getpass.getpass(\"Please enter your watsonx.ai Runtime API key (hit enter): \"),\n",
    "    \"project_id\": getpass.getpass(\"Please enter your project ID (hit enter): \"),\n",
    "}"
   ]
  },
  {
   "cell_type": "markdown",
   "metadata": {},
   "source": [
    "## Step 5. Set up the model for zero-shot classification\n",
    "\n",
    "Next we'll setup IBM's [Granite-3.0-8B-Instruct](https://huggingface.co/ibm-granite/granite-3.0-8b-instruct) to perform zero-shot classification."
   ]
  },
  {
   "cell_type": "code",
   "execution_count": null,
   "metadata": {},
   "outputs": [],
   "source": [
    "model = WatsonxLLM(\n",
    "\tmodel_id =  \"ibm/granite-3-8b-instruct\",\n",
    "\turl = credentials.get(\"url\"),\n",
    "\tapikey = credentials.get(\"apikey\"),\n",
    "\tproject_id =  credentials.get(\"project_id\"),\n",
    "\tparams={\n",
    "        # GenParams.DECODING_METHOD: 'greedy',\n",
    "        GenParams.MAX_NEW_TOKENS: 500,\n",
    "        GenParams.MIN_NEW_TOKENS: 1,\n",
    "        GenParams.REPETITION_PENALTY: 1.1,\n",
    "        GenParams.STOP_SEQUENCES: [],  # Leave this empty if not needed\n",
    "        GenParams.TEMPERATURE: 0.7, # Adjust for variable responses\n",
    "        GenParams.TOP_K: 100,\n",
    "        GenParams.TOP_P: 0,\n",
    "    },\n",
    "\t)"
   ]
  },
  {
   "cell_type": "markdown",
   "metadata": {},
   "source": [
    "## Step 6. Define the prompt\n",
    "\n",
    "Now that the model is prepared to perform zero-shot classification, let's define a prompt. Imagine a scenario where it's imperative to triage certain data, perhaps an IT department's flooded inbox full of user-described technical issues. In this example, the model is asked to classify an IT issue as belonging to either the class \"High\" or \"Low,\" indicating the priority of the issue. The prompt should showcase the model's out-of-the box capability to classify the priority of IT issues. \n",
    "\n",
    "\n",
    "The code block below sets up and defines the prompt that the model will respond to. The prompt can be any input, but let's try out the example first. Run the code block to define your user prompt along with some example input text. "
   ]
  },
  {
   "cell_type": "code",
   "execution_count": null,
   "metadata": {},
   "outputs": [],
   "source": [
    "def generate_text(prompt):\n",
    "    response = None  # Ensure the variable is defined before the try block\n",
    "    try:\n",
    "        response = model.generate([prompt])\n",
    "        return str(response)\n",
    "    except Exception as e:\n",
    "        print(f\"Error: {e}\")\n",
    "        if response:\n",
    "            print(f\"Response: {response}\")\n",
    "            return None\n",
    "    # Define the prompt here\n",
    "defined_prompt = \"Set the class name for the issue described to either: high or low. Issue: Users are reporting that they are unable to upload files.\""
   ]
  },
  {
   "cell_type": "markdown",
   "metadata": {},
   "source": [
    "## Step 7. Perform zero-shot classification\n",
    "\n",
    "Once the prompt is defined, we can run the next block to allow the model to predict and print its output."
   ]
  },
  {
   "cell_type": "code",
   "execution_count": null,
   "metadata": {},
   "outputs": [],
   "source": [
    "# Generate and print the text based on the defined prompt\n",
    "generated_text = generate_text(defined_prompt)\n",
    "print(\"Generated text:\", generated_text)"
   ]
  },
  {
   "cell_type": "markdown",
   "metadata": {},
   "source": [
    "In this example, the model correctly infers the classification label \"high\" based on its ability to understand the critical impact of the inability to upload files for users.  "
   ]
  },
  {
   "cell_type": "markdown",
   "metadata": {},
   "source": [
    "# Classify service reviews based on sentiment classification\n",
    "\n",
    "Let's apply zero-shot classification to a different aspect of a department's everyday workflow. The same IT department used in the above example has a backlog of customer support reviews that need organized and analyzed. The organization feels the best way to accomplish this is to classify them based on sentiment: \"Postive,\" \"Negative,\", \"Neutral\".\n",
    "\n",
    "\n",
    "Run the code block below with the defined prompt and customer review to classify the sentiment of the text."
   ]
  },
  {
   "cell_type": "code",
   "execution_count": null,
   "metadata": {},
   "outputs": [],
   "source": [
    "# Define the prompt here\n",
    "defined_prompt = \"Classify the following customer review as 'Postive', 'Negative', 'Neutral': Customer review: 'My IT issue was not resolved.'\"\n",
    "\n",
    "# Generate and print the text based on the defined prompt\n",
    "generated_text = generate_text(defined_prompt)\n",
    "print(\"Generated text:\", generated_text)"
   ]
  },
  {
   "cell_type": "markdown",
   "metadata": {},
   "source": [
    "The model is able to perform sentiment analysis and classify the review correctly as \"Negative\". This capability can be useful for a variety of domains, not just IT. Try out your own prompts to explore how you could use zero-shot classification to automate time-consuming tasks. \n",
    "\n",
    "# Summary\n",
    "\n",
    "In this tutorial we set up IBM's 3-8B-Instruct model to perform zero-shot classification. Then we defined a user prompt and scenario to perform zero-shot classification. We tested out two examples including one semantic and one sentiment analysis. "
   ]
  }
 ],
 "metadata": {
  "kernelspec": {
   "display_name": ".venv",
   "language": "python",
   "name": "python3"
  },
  "language_info": {
   "codemirror_mode": {
    "name": "ipython",
    "version": 3
   },
   "file_extension": ".py",
   "mimetype": "text/x-python",
   "name": "python",
   "nbconvert_exporter": "python",
   "pygments_lexer": "ipython3",
   "version": "3.12.4"
  }
 },
 "nbformat": 4,
 "nbformat_minor": 2
}
