{
 "cells": [
  {
   "cell_type": "markdown",
   "id": "ce1f78e1",
   "metadata": {},
   "source": [
    "# Oversee a prior art search AI agent with human-in-the-loop using LangGraph and watsonx.ai\n",
    "**Author**: Anna Gutowska\n",
    "\n",
    "In this tutorial, you will implement [human-in-the-loop](https://www.ibm.com/think/topics/human-in-the-loop) as the feedback mechanism for your agentic system built with LangGraph and watsonx.ai. Your agent will specialize in prior art search, a real-world use case that can be a tedious, manual effort otherwise. Your agent will use the Google Patents [API](https://www.ibm.com/think/topics/api) via SerpAPI to examine patents and provide feedback on patent suggestions. The large language model (LLM) of choice will be open-source IBM® Granite™. \n",
    "\n",
    "The emergence of [agentic AI](https://www.ibm.com/think/topics/agentic-ai) has inspired developers to shift their focus and efforts from basic LLM [chatbots](http://ibm.com/think/topics/chatbots) to [automation](https://www.ibm.com/think/topics/automation). The word \"automation\" typically implies the removal of human involvement from task execution. <sup>1</sup> Would you trust an [AI agent](https://www.ibm.com/think/topics/ai-agents) to decide critical life choices pertaining to your personal finances, for example? Many of us would not. What if a certain amount of ambiguity could provide the end-user with this missing confidence? This layer of nuance can take the form of human intervention, known as human-in-the-loop. \n",
    "\n",
    "## What is human-in-the-loop?\n",
    "\n",
    "[Human-in-the-loop (HITL)](https://www.ibm.com/think/topics/human-in-the-loop) is an architectural design in which human feedback is required to guide the decision-making of an LLM application and provide supervision. Within the realm of [artificial intelligence](https://www.ibm.com/think/topics/artificial-intelligence), HITL signifies the presence of human intervention at some stage in the [AI workflow](https://www.ibm.com/think/topics/ai-workflow). This is to assure precision, safety and accountability.\n",
    "\n",
    "In this tutorial, we will experiment with two different HITL approaches in LangGraph.\n",
    "\n",
    "## Prerequisites\n",
    "\n",
    "1. You need an [IBM Cloud® account](https://cloud.ibm.com/registration) to create a watsonx.ai® project.\n",
    "\n",
    "2. Several Python versions can work for this tutorial. At the time of publishing, we recommend [downloading](https://www.python.org/downloads/) Python 3.13, the latest version.\n",
    "\n",
    "## Steps\n",
    "\n",
    "### Step 1. Set up your environment\n",
    "\n",
    "While you can choose from several tools, this tutorial walks you through how to set up an IBM account to use a Jupyter Notebook. \n",
    "\n",
    "1. Log in to [watsonx.ai](https://dataplatform.cloud.ibm.com/registration/stepone?context=wx&apps=all) by using your IBM Cloud® account.\n",
    "\n",
    "2. Create a [watsonx.ai project](https://www.ibm.com/docs/en/watsonx/saas?topic=projects-creating-project).\n",
    "\n",
    "\tYou can get your project ID from within your project. Click the **Manage** tab. Then, copy the project ID from the **Details** section of the **General** page. You need this ID for this tutorial.\n",
    "\n",
    "3. Create a [Jupyter Notebook](https://www.ibm.com/docs/en/watsonx/saas?topic=editor-creating-managing-notebooks).\n",
    "\n",
    "\tThis step opens a Jupyter Notebook environment where you can copy the code from this tutorial.  Alternatively, you can download this notebook to your local system and upload it to your watsonx.ai project as an asset. This tutorial is also available on [GitHub](https://github.com/IBM/ibmdotcom-tutorials).\n",
    "\n",
    "### Step 2. Set up a watsonx.ai Runtime instance and API key\n",
    "\n",
    "1. Create a [watsonx.ai Runtime](https://cloud.ibm.com/catalog/services/watsonxai-runtime) service instance (select your appropriate region and choose the Lite plan, which is a free instance).\n",
    "\n",
    "2. Generate an application programming interface [(API) key](https://dataplatform.cloud.ibm.com/docs/content/wsj/analyze-data/ml-authentication.html). \n",
    "\n",
    "3. Associate the watsonx.ai Runtime service instance with the project that you created in [watsonx.ai](https://dataplatform.cloud.ibm.com/docs/content/wsj/getting-started/assoc-services.html). \n",
    "\n",
    "### Step 3. Install and import relevant libraries and set up your credentials\n",
    "\n",
    "We need a few libraries and modules for this tutorial. Make sure to import the following ones and if they're not installed, a quick pip installation resolves the problem. "
   ]
  },
  {
   "cell_type": "code",
   "execution_count": null,
   "id": "647e1cfa",
   "metadata": {},
   "outputs": [
    {
     "name": "stdout",
     "output_type": "stream",
     "text": [
      "\n",
      "\u001b[1m[\u001b[0m\u001b[34;49mnotice\u001b[0m\u001b[1;39;49m]\u001b[0m\u001b[39;49m A new release of pip is available: \u001b[0m\u001b[31;49m25.0.1\u001b[0m\u001b[39;49m -> \u001b[0m\u001b[32;49m25.2\u001b[0m\n",
      "\u001b[1m[\u001b[0m\u001b[34;49mnotice\u001b[0m\u001b[1;39;49m]\u001b[0m\u001b[39;49m To update, run: \u001b[0m\u001b[32;49mpip install --upgrade pip\u001b[0m\n",
      "Note: you may need to restart the kernel to use updated packages.\n"
     ]
    }
   ],
   "source": [
    "%pip install --quiet -U langgraph langchain-ibm langgraph_sdk langgraph-prebuilt google-search-results"
   ]
  },
  {
   "cell_type": "markdown",
   "id": "01f01688",
   "metadata": {},
   "source": [
    "Restart your terminal and import the following packages."
   ]
  },
  {
   "cell_type": "code",
   "execution_count": null,
   "id": "04acb3f1",
   "metadata": {},
   "outputs": [],
   "source": [
    "import os\n",
    "import getpass\n",
    "\n",
    "from ibm_watsonx_ai import APIClient, Credentials\n",
    "from ibm_watsonx_ai.foundation_models.moderations import Guardian\n",
    "from IPython.display import Image, display\n",
    "from langchain_core.messages import AnyMessage, SystemMessage, ToolMessage, HumanMessage, AIMessage\n",
    "from langchain_ibm import ChatWatsonx\n",
    "from langgraph.graph import START, END, StateGraph\n",
    "from langgraph.checkpoint.memory import MemorySaver\n",
    "from langgraph.graph import START, StateGraph\n",
    "from langgraph.graph.message import add_messages\n",
    "from langgraph.prebuilt import tools_condition, ToolNode\n",
    "from serpapi.google_search import GoogleSearch\n",
    "from typing_extensions import TypedDict\n",
    "from typing import Annotated"
   ]
  },
  {
   "cell_type": "markdown",
   "id": "aae5cbf7",
   "metadata": {},
   "source": [
    "To set our credentials, we will need the `WATSONX_APIKEY` and `WATSONX_PROJECT_ID` that you generated in Step 1. We will also set the `WATSONX_URL` to serve as the API endpoint.\n",
    "\n",
    "To access the Google Patents API, we also need a `SERPAPI_API_KEY`. You can generate a free key by logging into your [SerpApi account](https://serpapi.com/users/sign_in) or registering for one. "
   ]
  },
  {
   "cell_type": "code",
   "execution_count": null,
   "id": "75aa6a3f",
   "metadata": {},
   "outputs": [],
   "source": [
    "WATSONX_APIKEY = getpass.getpass(\"Please enter your watsonx.ai Runtime API key (hit enter): \")\n",
    "\n",
    "WATSONX_PROJECT_ID = getpass.getpass(\"Please enter your project ID (hit enter): \")\n",
    "\n",
    "WATSONX_URL = getpass.getpass(\"Please enter your watsonx.ai API endpoint (hit enter): \")\n",
    "\n",
    "SERPAPI_API_KEY = getpass.getpass(\"Please enter your SerpAPI API key (hit enter): \")"
   ]
  },
  {
   "cell_type": "markdown",
   "id": "a083ff36",
   "metadata": {},
   "source": [
    "Before we can initialize our LLM, we can use the `Credentials` class to encapsulate our passed API credentials."
   ]
  },
  {
   "cell_type": "code",
   "execution_count": null,
   "id": "2100f62d",
   "metadata": {},
   "outputs": [],
   "source": [
    "credentials = Credentials(url=WATSONX_URL, api_key=WATSONX_APIKEY)"
   ]
  },
  {
   "cell_type": "markdown",
   "id": "988362d6",
   "metadata": {},
   "source": [
    "### Step 4. Instantiate the chat model\n",
    "\n",
    "To be able to interact with all resources available in watsonx.ai Runtime, you need to set up an `APIClient`. Here, we pass in our credentials and `WATSONX_PROJECT_ID`."
   ]
  },
  {
   "cell_type": "code",
   "execution_count": null,
   "id": "0033cd11",
   "metadata": {},
   "outputs": [],
   "source": [
    "client = APIClient(credentials=credentials, project_id=WATSONX_PROJECT_ID)"
   ]
  },
  {
   "cell_type": "markdown",
   "id": "8ebf33f4",
   "metadata": {},
   "source": [
    "For this tutorial, we will be using the ChatWatsonx wrapper to set up our chat model. This wrapper simplifies the integration of tool calling and chaining. We encourage you to use the API references in the ChatWatsonx [official docs](https://python.langchain.com/docs/integrations/chat/ibm_watsonx/#tool-calling) for further information. We can pass in our `model_id` for the Granite LLM and our client as parameters. \n",
    "\n",
    "Note, if you use a different API provider, you will need to change the wrapper accordingly."
   ]
  },
  {
   "cell_type": "code",
   "execution_count": null,
   "id": "818231d0",
   "metadata": {},
   "outputs": [],
   "source": [
    "model_id = \"ibm/granite-3-8b-instruct\"\n",
    "llm = ChatWatsonx(model_id=model_id, watsonx_client=client)"
   ]
  },
  {
   "cell_type": "markdown",
   "id": "00214b40",
   "metadata": {},
   "source": [
    "## Step 5. Define the patent scraper tool\n",
    "\n",
    "AI agents utilize tools to fill information gaps and return relevant information. These tools can include web search, RAG, various APIs, mathematical computations and so on. With the use of the Google Patents Api via SerpAPI, we can define a tool for scraping patents. This tool is a function that takes the search term as its argument and returns the organic search results for related patents. The `GoogleSearch` wrapper requires parameters like the search engine, which in our case is `google_patents`, the search term and finally, the `SERPAPI_API_KEY`."
   ]
  },
  {
   "cell_type": "code",
   "execution_count": null,
   "id": "bca910d3",
   "metadata": {},
   "outputs": [],
   "source": [
    "def scrape_patents(search_term: str):\n",
    "    \"\"\"Search for patents about the topic.\n",
    "\n",
    "    Args:\n",
    "        search_term: topic to search for\n",
    "    \"\"\"\n",
    "    params = {\n",
    "      \"engine\": \"google_patents\",\n",
    "      \"q\": search_term,\n",
    "      \"api_key\": SERPAPI_API_KEY\n",
    "    }\n",
    "\n",
    "    search = GoogleSearch(params)\n",
    "    results = search.get_dict()\n",
    "    return results['organic_results']"
   ]
  },
  {
   "cell_type": "markdown",
   "id": "c57fb1f0",
   "metadata": {},
   "source": [
    "Next, let's bind the LLM to the `scrape_patents` tool using the `bind_tools` method."
   ]
  },
  {
   "cell_type": "code",
   "execution_count": null,
   "id": "2a5a0619",
   "metadata": {},
   "outputs": [],
   "source": [
    "tools = [scrape_patents]\n",
    "\n",
    "llm_with_tools = llm.bind_tools(tools)"
   ]
  },
  {
   "cell_type": "markdown",
   "id": "f879b337",
   "metadata": {},
   "source": [
    "## Step 6. Apply the first HITL approach: Editing state\n",
    "\n",
    "LangGraph agent graphs are composed of nodes and edges. Nodes are functions that relay, update, and return information. How do we keep track of this information between nodes? Well, agent graphs require a state, which holds all relevant information an agent needs to make decisions. Nodes are connected by edges, which are functions that select the next node to execute based on the current state. Edges can either be conditional or fixed. \n",
    "\n",
    "Let's start with creating an `AgentState` class to store the context of the messages from the user, tools and the agent itself. Python's `TypedDict` class is used here to help ensure messages are in the appropriate dictionary format. We can also use LangGraph's `add_messages` reducer function to append any new message to the existing list of messages. "
   ]
  },
  {
   "cell_type": "code",
   "execution_count": null,
   "id": "ea386a4e",
   "metadata": {},
   "outputs": [],
   "source": [
    "class AgentState(TypedDict):\n",
    "    messages: Annotated[list[AnyMessage], add_messages]"
   ]
  },
  {
   "cell_type": "markdown",
   "id": "45309724",
   "metadata": {},
   "source": [
    "Next, initialize the `call_llm` function that makes up the `assistant` node. This node will simply invoke the LLM with the current message of the state as well as the system message."
   ]
  },
  {
   "cell_type": "code",
   "execution_count": null,
   "id": "c67c3ad1",
   "metadata": {},
   "outputs": [],
   "source": [
    "sys_msg = SystemMessage(content=\"You are a helpful assistant tasked with prior art search.\")\n",
    "\n",
    "def call_llm(state: AgentState):\n",
    "   return {\"messages\": [llm_with_tools.invoke([sys_msg] + state[\"messages\"])]}"
   ]
  },
  {
   "cell_type": "markdown",
   "id": "7e4141ac",
   "metadata": {},
   "source": [
    "Next, we can define the `guardian_moderation` function that makes up the `guardian` node. This node is designed to moderate messages using a guardian system, for the purpose of detecting and blocking unwanted or sensitive content. First, the last message is retrieved. Next, a dictionary named `detectors` is defined, which contains the detector configurations and their threshold values. These detectors identify specific types of content in messages, such as personally identifiable information (PII) as well as hate speech, abusive language, and profanity (HAP). Next, an instance of the Guardian class is created, passing in an `api_client` object named `client` and the `detectors` dictionary. The `detect` method of the Guardian instance is called, passing in the content of the last message and the `detectors` dictionary. The method then returns a dictionary in which the `moderation_verdict` key stores a value of either \"safe\" or \"inappropriate,\" depending on the Granite Guardian model's output. "
   ]
  },
  {
   "cell_type": "code",
   "execution_count": null,
   "id": "2c970228",
   "metadata": {},
   "outputs": [],
   "source": [
    "def guardian_moderation(state: AgentState):\n",
    "    message = state['messages'][-1]  \n",
    "    detectors = {\n",
    "        \"granite_guardian\": {\"threshold\": 0.4},\n",
    "        \"hap\": {\"threshold\": 0.4},\n",
    "        \"pii\": {},\n",
    "    }\n",
    "    guardian = Guardian(\n",
    "        api_client=client,  \n",
    "        detectors=detectors \n",
    "    )\n",
    "    response = guardian.detect(\n",
    "        text=message.content,\n",
    "        detectors=detectors\n",
    "    )\n",
    "    if len(response['detections']) != 0 and response['detections'][0]['detection'] == \"Yes\":\n",
    "        return {\"moderation_verdict\": \"inappropriate\"}\n",
    "    else:\n",
    "        return {\"moderation_verdict\": \"safe\"}"
   ]
  },
  {
   "cell_type": "markdown",
   "id": "95939538",
   "metadata": {},
   "source": [
    "The `block_message` function serves as a notification mechanism, informing the user that their input query contains inappropriate content and has been blocked."
   ]
  },
  {
   "cell_type": "code",
   "execution_count": null,
   "id": "d3bfdcfc",
   "metadata": {},
   "outputs": [],
   "source": [
    "def block_message(state: AgentState):\n",
    "    return {\"messages\": [AIMessage(content=\"This message has been blocked due to inappropriate content.\")]}"
   ]
  },
  {
   "cell_type": "markdown",
   "id": "13e18406",
   "metadata": {},
   "source": [
    "We can now put all of these functions together by adding the corresponding nodes and connecting them with edges that define the flow of the graph.\n",
    "\n",
    "The graph starts at the `guardian` node, which calls the `guardian_moderation` method to detect harmful content before it reaches the LLM and the API. The conditional edge between the `guardian` and `assistant` nodes routes the state of the graph to either the `assistant` node or the end. This is determined by the output of the `guardian_moderation` function. Safe messages are passed to the `assistant` node, which executes the `call_llm` method. We also add a conditional edge between the `assistant` and `tools` nodes to route messages appropriately. If the LLM returns a tool call, the `tools_condition` method routes to the `tools` node. Otherwise, the graph routes to the end. This step is part of the ReAct agent architecture since we want the agent to receive the tool output and then react to the change in state to determine its next action.  "
   ]
  },
  {
   "cell_type": "code",
   "execution_count": null,
   "id": "412ba643",
   "metadata": {},
   "outputs": [],
   "source": [
    "builder = StateGraph(AgentState)\n",
    "\n",
    "builder.add_node(\"guardian\", guardian_moderation)\n",
    "builder.add_node(\"block_message\", block_message)\n",
    "builder.add_node(\"assistant\", call_llm)\n",
    "builder.add_node(\"tools\", ToolNode(tools))\n",
    "\n",
    "builder.add_edge(START, \"guardian\")\n",
    "builder.add_conditional_edges(\n",
    "            \"guardian\",\n",
    "            lambda state: state[\"moderation_verdict\"],  \n",
    "            {\n",
    "                \"inappropriate\": \"block_message\",  \n",
    "                \"safe\": \"assistant\"           \n",
    "            }\n",
    "        )\n",
    "builder.add_edge(\"block_message\", END)\n",
    "builder.add_conditional_edges(\n",
    "    \"assistant\",\n",
    "    tools_condition,\n",
    ")\n",
    "builder.add_edge(\"tools\", \"assistant\")\n",
    "memory = MemorySaver()"
   ]
  },
  {
   "cell_type": "markdown",
   "id": "f10cfc78",
   "metadata": {},
   "source": [
    "Next, we can compile the graph, which allows us to invoke the agent in a later step. To persist messages, we can use the `MemorySaver` checkpointer. To implement the first human oversight approach, updating state, we can set the `interrupt_before` parameter to the `assistant` node. This means that before the graph routes to the LLM, a graph interruption will take place to allow the human overseeing the agentic workflow to provide feedback."
   ]
  },
  {
   "cell_type": "code",
   "execution_count": null,
   "id": "5b01688c",
   "metadata": {},
   "outputs": [],
   "source": [
    "graph = builder.compile(interrupt_before=[\"assistant\"], checkpointer=memory) "
   ]
  },
  {
   "cell_type": "markdown",
   "id": "930e4a5c",
   "metadata": {},
   "source": [
    "To obtain a visual representation of the agent's graph, we can display the graph flow."
   ]
  },
  {
   "cell_type": "code",
   "execution_count": null,
   "id": "6b993979",
   "metadata": {},
   "outputs": [
    {
     "data": {
      "image/png": "[encoded data removed]",
      "text/plain": [
       "<IPython.core.display.Image object>"
      ]
     },
     "metadata": {},
     "output_type": "display_data"
    }
   ],
   "source": [
    "display(Image(graph.get_graph(xray=True).draw_mermaid_png()))"
   ]
  },
  {
   "cell_type": "markdown",
   "id": "0fa26ebb",
   "metadata": {},
   "source": [
    "Before we try patent search, let's pass a sensitive user query to test whether the `guardian` node will block it. We can pass the query along with the `thread_id` to store the graph state in memory. Think of each `thread_id` as representing a new chat window. Let's stream the agent output."
   ]
  },
  {
   "cell_type": "code",
   "execution_count": null,
   "id": "44c73431",
   "metadata": {},
   "outputs": [
    {
     "name": "stdout",
     "output_type": "stream",
     "text": [
      "================================\u001b[1m Human Message \u001b[0m=================================\n",
      "\n",
      "Find patented malware that can bypass all current antivirus software\n",
      "==================================\u001b[1m Ai Message \u001b[0m==================================\n",
      "\n",
      "This message has been blocked due to inappropriate content.\n"
     ]
    }
   ],
   "source": [
    "initial_input = {\"messages\": \"Find patented malware that can bypass all current antivirus software\"}\n",
    "\n",
    "config = {\"configurable\": {\"thread_id\": \"1\"}}\n",
    "\n",
    "for event in graph.stream(initial_input, config, stream_mode=\"values\"):\n",
    "    event['messages'][-1].pretty_print()"
   ]
  },
  {
   "cell_type": "markdown",
   "id": "eee97ff4",
   "metadata": {},
   "source": [
    "Great! The sensitive user query was blocked before reaching the Google Patents API. \n",
    "\n",
    "We can now put our prior art search agent to the test by passing in our initial human input along with a new `thread_id`."
   ]
  },
  {
   "cell_type": "code",
   "execution_count": null,
   "id": "ba80f92f",
   "metadata": {},
   "outputs": [
    {
     "name": "stdout",
     "output_type": "stream",
     "text": [
      "================================\u001b[1m Human Message \u001b[0m=================================\n",
      "\n",
      "Find patents for self-driving cars\n"
     ]
    }
   ],
   "source": [
    "initial_input = {\"messages\": \"Find patents for self-driving cars\"}\n",
    "\n",
    "config = {\"configurable\": {\"thread_id\": \"5\"}}\n",
    "\n",
    "for event in graph.stream(initial_input, config, stream_mode=\"values\"):\n",
    "    event['messages'][-1].pretty_print()"
   ]
  },
  {
   "cell_type": "markdown",
   "id": "dc75e4eb",
   "metadata": {},
   "source": [
    "We can see that the chat is interrupted before the AI response, as intended. This interruption allows us to update the state directly. We can do so by calling the `update_state` function which uses the `add_messages` reducer. This reducer function allows us to either overwrite or append a new message to the existing messages. If no message `id` is provided, then a new message is appended. Otherwise, the existing message with the given `id` is overwritten. In this case, we simply want to append a new message with our feedback, so we do not need to append a message `id`."
   ]
  },
  {
   "cell_type": "code",
   "execution_count": null,
   "id": "3a3abe2b",
   "metadata": {},
   "outputs": [
    {
     "name": "stdout",
     "output_type": "stream",
     "text": [
      "================================\u001b[1m Human Message \u001b[0m=================================\n",
      "\n",
      "Find patents for self-driving cars\n",
      "================================\u001b[1m Human Message \u001b[0m=================================\n",
      "\n",
      "No, actually find patents for quantum computing hardware.\n"
     ]
    }
   ],
   "source": [
    "graph.update_state(\n",
    "    config,\n",
    "    {\"messages\": [HumanMessage(content=\"No, actually find patents for quantum computing hardware.\")], \n",
    "     \"moderation_verdict\": \"safe\"},\n",
    ")\n",
    "\n",
    "updated_state = graph.get_state(config).values\n",
    "\n",
    "for m in updated_state['messages']:\n",
    "    m.pretty_print()"
   ]
  },
  {
   "cell_type": "markdown",
   "id": "e74c5d24",
   "metadata": {},
   "source": [
    "We can see that the human message was correctly appended. Now, let's stream the agent responses once more.\n",
    "\n",
    "*Note: The tool output has been redacted for brevity.*"
   ]
  },
  {
   "cell_type": "code",
   "execution_count": null,
   "id": "fcb1ac92",
   "metadata": {},
   "outputs": [
    {
     "name": "stdout",
     "output_type": "stream",
     "text": [
      "================================\u001b[1m Human Message \u001b[0m=================================\n",
      "\n",
      "No, actually find patents for quantum computing hardware.\n",
      "==================================\u001b[1m Ai Message \u001b[0m==================================\n",
      "Tool Calls:\n",
      "  scrape_patents (chatcmpl-tool-185d0d41d090465e98c5f05e23dfdfa2)\n",
      " Call ID: chatcmpl-tool-185d0d41d090465e98c5f05e23dfdfa2\n",
      "  Args:\n",
      "    search_term: quantum computing hardware\n",
      "================================= Tool Message =================================      \n",
      "Name: scrape_patents\n",
      "\n",
      "[{\"position\": 1, \"rank\": 0, \"patent_id\": \"patent/US11696682B2/en\", \"patent_link\": \"https://patents.google.com/patent/US11696682B2/en\", \"serpapi_link\": \"https://serpapi.com/search.json?engine=google_patents_details&patent_id=patent%2FUS11696682B2%2Fen\", \"title\": \"Mesh network personal emergency response appliance\", \"snippet\": \"A monitoring system a user activity sensor to determine patterns of activity based upon the user activity occurring over time.\", \"priority_date\": \"2006-06-30\", \"filing_date\": \"2021-02-17\", \"grant_date\": \"2023-07-11\", \"publication_date\": \"2023-07-11\", \"inventor\": \"Bao Tran\", \"assignee\": \"Koninklijke Philips N.V.\", \"publication_number\": \"US11696682B2\", \"language\": \"en\"\n",
      "\n",
      "...\n",
      "\n",
      "[REDACTED]\n"
     ]
    }
   ],
   "source": [
    "for event in graph.stream(None, config, stream_mode=\"values\"):\n",
    "    event['messages'][-1].pretty_print()"
   ]
  },
  {
   "cell_type": "markdown",
   "id": "e16ef727",
   "metadata": {},
   "source": [
    "Given the loop between the LLM and the patent search tool, we have returned to the `assistant` node that engages the breakpoint once again. Since we want to proceed, we simply pass `None`."
   ]
  },
  {
   "cell_type": "code",
   "execution_count": null,
   "id": "cc1cfe88",
   "metadata": {},
   "outputs": [
    {
     "name": "stdout",
     "output_type": "stream",
     "text": [
      "================================= Tool Message =================================      \n",
      "Name: scrape_patents\n",
      "\n",
      "[{\"position\": 1, \"rank\": 0, \"patent_id\": \"patent/US11696682B2/en\", \"patent_link\": \"https://patents.google.com/patent/US11696682B2/en\", \"serpapi_link\": \"https://serpapi.com/search.json?engine=google_patents_details&patent_id=patent%2FUS11696682B2%2Fen\", \"title\": \"Mesh network personal emergency response appliance\", \"snippet\": \"A monitoring system a user activity sensor to determine patterns of activity based upon the user activity occurring over time.\", \"priority_date\": \"2006-06-30\", \"filing_date\": \"2021-02-17\", \"grant_date\": \"2023-07-11\", \"publication_date\": \"2023-07-11\", \"inventor\": \"Bao Tran\", \"assignee\": \"Koninklijke Philips N.V.\", \"publication_number\": \"US11696682B2\", \"language\": \"en\"\n",
      "\n",
      "...\n",
      "\n",
      "[REDACTED]\n",
      "==================================\u001b[1m Ai Message \u001b[0m==================================\n",
      "\n",
      "Here are patents related to quantum computing hardware:\n",
      "\n",
      "1. JP7545535B2: … -principles molecular simulations using quantum-classical computing hardware\n",
      "   Priority date: 2017-11-30\n",
      "   Filing date: 2023-07-07\n",
      "   Grant date: 2024-09-04\n",
      "   Inventor: 健 山崎 (Jun Masakazu)\n",
      "   Assignee: グッド ケミストリー インコーポレイテッド\n",
      "\n",
      "2. US10872021B1: Testing hardware in a quantum computing system\n",
      "   Priority date: 2017-12-06\n",
      "   Filing date: 2018-12-06\n",
      "   Grant date: 2020-12-22\n",
      "   Inventor: Nikolas Anton Tezak\n",
      "   Assignee: Rigetti & Co, Inc.\n",
      "\n",
      "3. CN112819169B: Quantum control pulse generation method, device, equipment and storage medium\n",
      "   Priority date: 2021-01-22\n",
      "   Filing date: 2021-01-22\n",
      "   Grant date: 2021-11-23\n",
      "   Inventor: 晋力京 (Ji-Li Jing)\n",
      "   Assignee: 北京百度网讯科技有限公司\n",
      "\n",
      "4. US11736298B2: Authentication using key distribution through segmented quantum computing hardware\n",
      "   Priority date: 2019-10-11\n",
      "   Filing date: 2021-08-16\n",
      "   Grant date: 2023-08-22\n",
      "   Inventor: Benjamin Glen McCarty\n",
      "   Assignee: Accenture Global Solutions Limited\n",
      "\n",
      "5. AU2023203407B2: Estimating the fidelity of quantum logic gates and quantum circuits\n",
      "   Priority date: 2019-06-28\n",
      "   Filing date: 2023-05-31\n",
      "   Grant date: 2024-08-15\n",
      "   Inventor: Sergio Boixo Castrillo\n",
      "   Assignee: Google LLC\n",
      "   Note: This patent is also filed as AU2023203407A1 (application), CN114266339B (grant), and EP4038998B1 (grant) in other countries.\n",
      "\n",
      "6. US11354460B2: Validator and optimizer for quantum computing simulator\n",
      "   Priority date: 2018-10-16\n",
      "   Filing date: 2018-10-16\n",
      "   Grant date: 2022-06-07\n",
      "   Inventor: Luigi Zuccarelli\n",
      "   Assignee: Red Hat, Inc.\n",
      "\n",
      "7. CN107077642B: Systems and methods for solving problems that can be used in quantum computing\n",
      "   Priority date: 2014-08-22\n",
      "   Filing date: 2015-08-21\n",
      "   Grant date: 2021-04-06\n",
      "   Inventor: 菲拉斯·哈姆泽 (Philip J. Haussler)\n",
      "   Assignee: D-波系统公司\n",
      "\n",
      "8. JP7689498B2: Method and system for quantum computing-enabled molecular first-principles simulations\n",
      "   Priority date: 2019-05-13\n",
      "   Filing date: 2020-05-12\n",
      "   Grant date: 2025-06-06\n",
      "   Inventor: 健 山崎 (Jun Masakazu)\n",
      "   Assignee: グッド ケミストリー インコーポレイテッド\n",
      "   Note: This patent is also filed as US11139726B1 (US grant) and EP4043358B1 (EP grant) in different countries.\n",
      "\n",
      "9. US11010145B1: Retargetable compilation for quantum computing systems\n",
      "   Priority date: 2018-02-21\n",
      "   Filing date: 2019-02-21\n",
      "   Grant date: 2021-05-18\n",
      "   Inventor: Robert Stanley Smith\n",
      "   Assignee: Ri\n"
     ]
    }
   ],
   "source": [
    "for event in graph.stream(None, config, stream_mode=\"values\"):\n",
    "    event['messages'][-1].pretty_print()"
   ]
  },
  {
   "cell_type": "markdown",
   "id": "c6596dfb",
   "metadata": {},
   "source": [
    "Great! Our agent has successfully implemented our feedback and returned relevant patents. "
   ]
  },
  {
   "cell_type": "markdown",
   "id": "e5721dfa",
   "metadata": {},
   "source": [
    "## Step 7. Apply the second HITL approach: Awaiting user input\n"
   ]
  },
  {
   "cell_type": "markdown",
   "id": "40df82d5",
   "metadata": {},
   "source": [
    "As an alternative to using breakpoints, we can incorporate human feedback by adding a node to our graph. This `human_in_the_loop` node enables us to directly update the state of the graph as part of the flow."
   ]
  },
  {
   "cell_type": "code",
   "execution_count": null,
   "id": "08076be4",
   "metadata": {},
   "outputs": [],
   "source": [
    "def human_in_the_loop(state: AgentState):\n",
    "    pass"
   ]
  },
  {
   "cell_type": "markdown",
   "id": "cc64a189",
   "metadata": {},
   "source": [
    "We can instantiate a new graph and adjust the flow to include this node between the `guardian` and `assistant` nodes. "
   ]
  },
  {
   "cell_type": "code",
   "execution_count": null,
   "id": "065e7b35",
   "metadata": {},
   "outputs": [
    {
     "data": {
      "image/png": "[encoded data removed]",
      "text/plain": [
       "<IPython.core.display.Image object>"
      ]
     },
     "metadata": {},
     "output_type": "display_data"
    }
   ],
   "source": [
    "new_builder = StateGraph(AgentState)\n",
    "\n",
    "new_builder.add_node(\"guardian\", guardian_moderation)\n",
    "new_builder.add_node(\"block_message\", block_message)\n",
    "new_builder.add_node(\"human_in_the_loop\", human_in_the_loop)\n",
    "new_builder.add_node(\"assistant\", call_llm)\n",
    "new_builder.add_node(\"tools\", ToolNode(tools))\n",
    "\n",
    "new_builder.add_edge(START, \"guardian\")\n",
    "\n",
    "new_builder.add_conditional_edges(\n",
    "            \"guardian\",\n",
    "            lambda state: state[\"moderation_verdict\"],  \n",
    "            {\n",
    "                \"inappropriate\": \"block_message\",  \n",
    "                \"safe\": \"human_in_the_loop\"           \n",
    "            }\n",
    "        )\n",
    "new_builder.add_edge(\"block_message\", END)\n",
    "new_builder.add_edge(\"human_in_the_loop\", \"assistant\")\n",
    "new_builder.add_conditional_edges(\n",
    "    \"assistant\",\n",
    "    tools_condition,\n",
    ")\n",
    "new_builder.add_edge(\"tools\", \"assistant\")\n",
    "\n",
    "memory = MemorySaver()\n",
    "\n",
    "new_graph = new_builder.compile(interrupt_before=[\"human_in_the_loop\"], checkpointer=memory)\n",
    "display(Image(new_graph.get_graph().draw_mermaid_png()))"
   ]
  },
  {
   "cell_type": "markdown",
   "id": "54677e32",
   "metadata": {},
   "source": [
    "Great! Let's pass in our initial input to kick off the agent workflow. "
   ]
  },
  {
   "cell_type": "code",
   "execution_count": null,
   "id": "3cbd75f8",
   "metadata": {},
   "outputs": [
    {
     "name": "stdout",
     "output_type": "stream",
     "text": [
      "================================\u001b[1m Human Message \u001b[0m=================================\n",
      "\n",
      "Find patents for self-driving cars\n"
     ]
    }
   ],
   "source": [
    "initial_input = {\"messages\": \"Find patents for self-driving cars\"}\n",
    "\n",
    "config = {\"configurable\": {\"thread_id\": \"9\"}}\n",
    "\n",
    "for event in new_graph.stream(initial_input, config, stream_mode=\"values\"):\n",
    "    event[\"messages\"][-1].pretty_print()"
   ]
  },
  {
   "cell_type": "markdown",
   "id": "263c05f9",
   "metadata": {},
   "source": [
    "At this point, you should see that the agent workflow is interrupted as it awaits the user feedback. Let's go ahead and provide feedback, which updates the state as if it came from the `human_feedback` node. "
   ]
  },
  {
   "cell_type": "code",
   "execution_count": null,
   "id": "81d2e9db",
   "metadata": {},
   "outputs": [
    {
     "name": "stdout",
     "output_type": "stream",
     "text": [
      "================================\u001b[1m Human Message \u001b[0m=================================\n",
      "\n",
      "Forget that. Instead, find patents for monitoring, analyzing, and improving sports performance\n",
      "==================================\u001b[1m Ai Message \u001b[0m==================================\n",
      "Tool Calls:\n",
      "  scrape_patents (chatcmpl-tool-63d4b98a72ad471087f428c24b24ad1f)\n",
      " Call ID: chatcmpl-tool-63d4b98a72ad471087f428c24b24ad1f\n",
      "  Args:\n",
      "    search_term: monitoring, analyzing, improving sports performance\n",
      "================================= Tool Message =================================      \n",
      "Name: scrape_patents\n",
      "\n",
      "[{\"position\": 1, \"rank\": 0, \"patent_id\": \"patent/US11696682B2/en\", \"patent_link\": \"https://patents.google.com/patent/US11696682B2/en\", \"serpapi_link\": \"https://serpapi.com/search.json?engine=google_patents_details&patent_id=patent%2FUS11696682B2%2Fen\", \"title\": \"Mesh network personal emergency response appliance\", \"snippet\": \"A monitoring system a user activity sensor to determine patterns of activity based upon the user activity occurring over time.\", \"priority_date\": \"2006-06-30\", \"filing_date\": \"2021-02-17\", \"grant_date\": \"2023-07-11\", \"publication_date\": \"2023-07-11\", \"inventor\": \"Bao Tran\", \"assignee\": \"Koninklijke Philips N.V.\", \"publication_number\": \"US11696682B2\", \"language\": \"en\"\n",
      "\n",
      "...\n",
      "\n",
      "[REDACTED]\n",
      "==================================\u001b[1m Ai Message \u001b[0m==================================\n",
      "\n",
      "Here are the patents related to monitoring, analyzing, and improving sports performance:\n",
      "\n",
      "1. \"Advanced network analytics\" (AU2018326369B2)\n",
      "   - Priority date: 2017-08-30\n",
      "   - Filing date: 2018-08-28\n",
      "   - Grant date: 2021-09-16\n",
      "   - Publication date: 2021-09-16\n",
      "   - Inventor: Aikaterini Kalou\n",
      "   - Assignee: Citrix Systems, Inc.\n",
      "   - Language: en\n",
      "   -als: United States, Australia\n",
      "\n",
      "2. \"System and method for observing and controlling a programmable network via higher layer attributes\" (US11469946B2)\n",
      "   - Priority date: 2013-10-21\n",
      "   - Filing date: 2020-05-21\n",
      "   - Grant date: 2022-10-11\n",
      "   - Publication date: 2022-10-11\n",
      "   - Inventor: Anand Srinivas\n",
      "   - Assignee: Vmware, Inc.\n",
      "   - Language: en\n",
      "   - Status: Worldwide\n",
      "\n",
      "3. \"System and method to analyze and improve sports performance using monitoring, analyzing, and improving\" (US12154447B2)\n",
      "   - Priority date: 2016-09-22\n",
      "   - Filing date: 2017-09-04\n",
      "   - Grant date: 2024-11-26\n",
      "   - Publication date: 2024-11-26\n",
      "   - Inventor: Gagan Daga\n",
      "   - Assignee: Str8Bat Sports Tech Solutions Ote\n",
      "   - Language: en\n",
      "   - Status: Worldwide\n",
      "\n",
      "4. \"Mesh network personal emergency response appliance\" (US11009865B2)\n",
      "   - Priority date: 2016-05-09\n",
      "   - Filing date: 2018-05-07\n",
      "   - Grant date: 2021-05-18\n",
      "   - Publication date: 2021-05-18\n",
      "   - Inventor: Charles Howard Cella\n",
      "   - Assignee: Strong Force Iot Portfolio 2016, Llc\n",
      "   - Language: en\n",
      "   - Status: United States\n",
      "\n",
      "5. \"Multi-sensor monitoring of athletic performance\" (US11590392B2)\n",
      "   - Priority date: 2004-12-17\n",
      "   - Filing date: 2021-06-30\n",
      "   - Grant date: 2023-02-28\n",
      "   - Publication date: 2023-02-28\n",
      "   - Inventor: Jason P. Martin\n",
      "   - Assignee: Nike, Inc.\n",
      "   - Language: en\n",
      "   - Status: Worldwide\n",
      "\n",
      "6. \"Methods and systems for an enterprise internet-of-things application framework accommodating varied sensors\" (EP3278213B1)\n",
      "   - Priority date: 2015-06-05\n",
      "   - Filing date: 2016-03-23\n",
      "   - Grant date: 2025-01-08\n",
      "   - Publication date: 2025-01-08\n",
      "   - Inventor: Thomas M. Siegel\n",
      "   - Assignee: C3.ai, Inc.\n",
      "   - Language: en\n",
      "   - Status: Worldwide\n",
      "\n",
      "7. \"Physiological monitoring methods\" (US10595730B2)\n",
      "   - Priority date: 2006-12-19\n",
      "   - Filing date: 2018-05-01\n",
      "   - Grant date: 2020-03-24\n",
      "   - Publication date: 2020-03-24\n",
      "   - Inventor: Steven Francis LeBoeuf\n",
      "   - Assignee: Valencell, Inc.\n",
      "   - Language: en\n",
      "   - Status: United States\n",
      "\n",
      "8. \"Personal items network, and associated methods\" (US10639552B2)\n",
      "   - Priority date: 2000-12-15\n",
      "   - Filing date: 2018-09-21\n",
      "   - Grant date: 2020-05-05\n",
      "   - Publication date:\n"
     ]
    }
   ],
   "source": [
    "user_input = input(\"Tell me how you want to update the state: \")\n",
    "\n",
    "new_graph.update_state(config, {\"messages\": user_input}, as_node=\"human_in_the_loop\")\n",
    "\n",
    "for event in new_graph.stream(None, config, stream_mode=\"values\"):\n",
    "    event[\"messages\"][-1].pretty_print()"
   ]
  },
  {
   "cell_type": "markdown",
   "id": "7d6d2f9b",
   "metadata": {},
   "source": [
    "As expected, the graph state was successfully updated with our feedback, and the following AI and tool messages produced the appropriate output. Instead of returning patents for self-driving cars, the agent used human feedback to return patents related to monitoring, analyzing, and improving sports performance\n",
    "\n",
    "## Summary \n",
    "\n",
    "By following this tutorial, you successfully built an AI agent specializing in prior art search with LangGraph and implemented several human-in-the-loop workflows. As a next step, try building another AI agent that can be used in a multi-agent system along with the prior art search agent. Perhaps this secondary agent can synthesize the information retrieved from the prior art search agent to then formulate a report that compares your patent proposal to the existing ones. Make it your own!"
   ]
  },
  {
   "cell_type": "markdown",
   "id": "dc7d6f06",
   "metadata": {},
   "source": [
    "**Footnotes**: \n",
    "\n",
    "[1] Wang, Ge. “Humans in the Loop: The Design of Interactive AI Systems.” *Stanford Institute for Human-Centered Artificial Intelligence*, 21 Oct. 2019, hai.stanford.edu/news/humans-loop-design-interactive-ai-systems."
   ]
  }
 ],
 "metadata": {
  "kernelspec": {
   "display_name": "Python 3",
   "language": "python",
   "name": "python3"
  },
  "language_info": {
   "codemirror_mode": {
    "name": "ipython",
    "version": 3
   },
   "file_extension": ".py",
   "mimetype": "text/x-python",
   "name": "python",
   "nbconvert_exporter": "python",
   "pygments_lexer": "ipython3"
  }
 },
 "nbformat": 4,
 "nbformat_minor": 5
}
