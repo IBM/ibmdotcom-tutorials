{
 "cells": [
  {
   "cell_type": "markdown",
   "metadata": {},
   "source": [
    "# Implement function calling with the Granite-3.0-8B-Instruct model in Python with watsonx"
   ]
  },
  {
   "cell_type": "markdown",
   "metadata": {},
   "source": [
    "\n",
    "**Authors:** Erika Russi, Anna Gutowska, Jess Bozorg\n",
    "\n",
    "In this tutorial, you will use the IBM® [Granite-3.0-8B-Instruct model](https://www.ibm.com/granite) now available on watsonx.ai™ to perform custom function calling.  \n",
    "\n",
    "Traditional [large language models (LLMs)](https://www.ibm.com/topics/large-language-models), like the OpenAI GPT-4 (generative pre-trained transformer) model available through ChatGPT, and the IBM Granite™ models that we'll use in this tutorial, are limited in their knowledge and reasoning. They produce their responses based on the data used to train them and are difficult to adapt to personalized user queries. To obtain the missing information, these [generative AI](https://www.ibm.com/topics/generative-ai) models can integrate external tools within the function calling. This method is one way to avoid fine-tuning a foundation model for each specific use-case. The function calling examples in this tutorial will implement external [API](https://www.ibm.com/topics/api) calls.\n",
    "\n",
    "The Granite-3.0-8B-Instruct model and tokenizer use [natural language processing (NLP)](https://www.ibm.com/topics/natural-language-processing) to parse query syntax. In addition, the models use function descriptions and function parameters to determine the appropriate tool calls. Key information is then extracted from user queries to be passed as function arguments."
   ]
  },
  {
   "cell_type": "markdown",
   "metadata": {},
   "source": [
    "# Steps"
   ]
  },
  {
   "cell_type": "markdown",
   "metadata": {},
   "source": [
    "## Step 1. Set up your environment\n",
    "\n",
    "While you can choose from several tools, this tutorial walks you through how to set up an IBM account to use a Jupyter Notebook. \n",
    "\n",
    "1. Log in to [watsonx.ai](https://dataplatform.cloud.ibm.com/registration/stepone?context=wx&apps=all) using your IBM Cloud account.\n",
    "\n",
    "2. Create a [watsonx.ai project](https://www.ibm.com/docs/en/watsonx/saas?topic=projects-creating-project).\n",
    "\n",
    "\tYou can get your project ID from within your project. Click the **Manage** tab. Then, copy the project ID from the **Details** section of the **General** page. You need this ID for this tutorial.\n",
    "\n",
    "3. Create a [Jupyter Notebook](https://www.ibm.com/docs/en/watsonx/saas?topic=editor-creating-managing-notebooks).\n",
    "\n",
    "This step opens a notebook environment where you can copy the code from this tutorial. Alternatively, you can download this notebook to your local system and upload it to your watsonx.ai project as an asset in Step 2. To view more Granite tutorials, check out the [IBM Granite Community](https://github.com/ibm-granite-community). This Jupyter Notebook is also available on [GitHub](https://github.com/IBM/ibmdotcom-tutorials/blob/main/generative-ai/function-calling.ipynb).\n",
    "\n",
    "## Step 2. Set up watsonx.ai Runtime service and API key\n",
    "\n",
    "1. Create a [watsonx.ai Runtime](https://cloud.ibm.com/catalog/services/watsonxai-runtime) service instance (choose the Lite plan, which is a free instance).\n",
    "\n",
    "2. Generate an [API Key](https://dataplatform.cloud.ibm.com/docs/content/wsj/analyze-data/ml-authentication.html). \n",
    "\n",
    "3. Associate the watsonx.ai Runtime service to the project you created in [watsonx.ai](https://dataplatform.cloud.ibm.com/docs/content/wsj/getting-started/assoc-services.html?context=cpdaas). \n",
    "\n",
    "## Step 3. Install and import relevant libraries and set up your credentials\n",
    "\n",
    "We'll need a few libraries and modules for this tutorial. Make sure to import the following ones; if they're not installed, you can resolve this with a quick pip install. If you are running this tutorial locally, we recommend setting up a [virtual environment](https://docs.python.org/3/library/venv.html) to avoid Python package dependency conflicts.\n"
   ]
  },
  {
   "cell_type": "code",
   "execution_count": null,
   "metadata": {},
   "outputs": [],
   "source": [
    "# installations\n",
    "%pip install -q transformers\n",
    "%pip install -q torch torchvision\n",
    "%pip install -q langchain-ibm"
   ]
  },
  {
   "cell_type": "code",
   "execution_count": null,
   "metadata": {},
   "outputs": [
    {
     "data": {
      "text/plain": [
       "True"
      ]
     },
     "execution_count": null,
     "metadata": {},
     "output_type": "execute_result"
    }
   ],
   "source": [
    "#imports\n",
    "import requests\n",
    "import ast\n",
    "import re\n",
    "import getpass\n",
    "\n",
    "from transformers import AutoTokenizer\n",
    "from transformers.utils import get_json_schema\n",
    "from langchain_ibm import WatsonxLLM"
   ]
  },
  {
   "cell_type": "markdown",
   "metadata": {},
   "source": [
    "Next, we can prepare our environment by setting the model ID for the `granite-3-8b-instruct` model, and the tokenizer for the same Granite model.\n",
    "\n",
    "Input your `WATSONX_APIKEY` and `WATSONX_PROJECT_ID` that you created in steps 1 and 2 upon running the following cell."
   ]
  },
  {
   "cell_type": "code",
   "execution_count": null,
   "metadata": {},
   "outputs": [],
   "source": [
    "MODEL_ID = \"ibm/granite-3-8b-instruct\"\n",
    "\n",
    "TOKENIZER = AutoTokenizer.from_pretrained(\"ibm-granite/granite-3.0-8b-instruct\")\n",
    "\n",
    "WATSONX_URL = \"https://us-south.ml.cloud.ibm.com\"\n",
    "\n",
    "WATSONX_APIKEY = getpass.getpass(\"Please enter your watsonx.ai Runtime API key (hit enter): \")\n",
    "\n",
    "WATSONX_PROJECT_ID = getpass.getpass(\"Please enter your project ID (hit enter): \")"
   ]
  },
  {
   "cell_type": "markdown",
   "metadata": {},
   "source": [
    "The `get_stock_price` function in this tutorial requires an `AV_STOCK_API_KEY` key. To generate a free `AV_STOCK_API_KEY`, please visit the [Alpha Vantage website](https://www.alphavantage.co/support/#api-key).\n",
    "\n",
    "Secondly, the `get_current_weather` function requires a `WEATHER_API_KEY`. To generate one, please [create an account](https://home.openweathermap.org/users/sign_up). Upon creating an account, select the \"API Keys\" tab to display your free key."
   ]
  },
  {
   "cell_type": "code",
   "execution_count": null,
   "metadata": {},
   "outputs": [],
   "source": [
    "AV_STOCK_API_KEY = getpass.getpass(\"Please enter your AV_STOCK_API_KEY (hit enter): \")\n",
    "\n",
    "WEATHER_API_KEY = getpass.getpass(\"Please enter your WEATHER_API_KEY (hit enter): \")"
   ]
  },
  {
   "cell_type": "markdown",
   "metadata": {},
   "source": [
    "## Step 4. Define the functions"
   ]
  },
  {
   "cell_type": "markdown",
   "metadata": {},
   "source": [
    "We can now define our functions. The function's docstring and type information are important for generating the proper tool information.\n",
    "\n",
    "In this tutorial, the `get_stock_price` function uses the Stock Market Data API available through Alpha Vantage."
   ]
  },
  {
   "cell_type": "code",
   "execution_count": null,
   "metadata": {},
   "outputs": [],
   "source": [
    "def get_stock_price(ticker: str, date: str) -> dict:\n",
    "    \"\"\"\n",
    "    Retrieves the lowest and highest stock prices for a given ticker and date.\n",
    "\n",
    "    Args:\n",
    "        ticker: The stock ticker symbol, e.g., \"IBM\".\n",
    "        date: The date in \"YYYY-MM-DD\" format for which you want to get stock prices.\n",
    "\n",
    "    Returns:\n",
    "        A dictionary containing the low and high stock prices on the given date.\n",
    "    \"\"\"\n",
    "    print(f\"Getting stock price for {ticker} on {date}\")\n",
    "    try:\n",
    "        stock_url = f\"https://www.alphavantage.co/query?function=TIME_SERIES_DAILY&symbol={ticker}&apikey={AV_STOCK_API_KEY}\"\n",
    "        stock_data = requests.get(stock_url)\n",
    "        stock_low = stock_data.json()[\"Time Series (Daily)\"][date][\"3. low\"]\n",
    "        stock_high = stock_data.json()[\"Time Series (Daily)\"][date][\"2. high\"]\n",
    "        return {\n",
    "            \"low\": stock_low,\n",
    "            \"high\": stock_high\n",
    "        }\n",
    "    except Exception as e:\n",
    "        print(f\"Error fetching stock data: {e}\")\n",
    "        return {\n",
    "            \"low\": \"none\",\n",
    "            \"high\": \"none\"\n",
    "        }"
   ]
  },
  {
   "cell_type": "markdown",
   "metadata": {},
   "source": [
    "The `get_current_weather` function retrieves the real-time weather in a given location using the Current Weather Data API via [OpenWeather](https://openweathermap.org/api)."
   ]
  },
  {
   "cell_type": "code",
   "execution_count": null,
   "metadata": {},
   "outputs": [],
   "source": [
    "def get_current_weather(location: str) -> dict:\n",
    "    \"\"\"\n",
    "    Fetches the current weather for a given location (default: San Francisco).\n",
    "\n",
    "    Args:\n",
    "        location: The name of the city for which to retrieve the weather information.\n",
    "\n",
    "    Returns:\n",
    "        A dictionary containing weather information such as temperature, weather description, and humidity.\n",
    "    \"\"\"\n",
    "    print(f\"Getting current weather for {location}\")\n",
    "\n",
    "    try:\n",
    "        # API request to fetch weather data\n",
    "        weather_url = f\"http://api.openweathermap.org/data/2.5/weather?q={location}&appid={WEATHER_API_KEY}&units=metric\"\n",
    "        weather_data = requests.get(weather_url)\n",
    "        data = weather_data.json()\n",
    "        # Extracting relevant weather details\n",
    "        weather_description = data[\"weather\"][0][\"description\"]\n",
    "        temperature = data[\"main\"][\"temp\"]\n",
    "        humidity = data[\"main\"][\"humidity\"]\n",
    "\n",
    "        # Returning weather details\n",
    "        return {\n",
    "            \"description\": weather_description,\n",
    "            \"temperature\": temperature,\n",
    "            \"humidity\": humidity\n",
    "        }\n",
    "    except Exception as e:\n",
    "        print(f\"Error fetching weather data: {e}\")\n",
    "        return {\n",
    "            \"description\": \"none\",\n",
    "            \"temperature\": \"none\",\n",
    "            \"humidity\": \"none\"\n",
    "        }"
   ]
  },
  {
   "cell_type": "markdown",
   "metadata": {},
   "source": [
    "## Step 5. Set up the API request"
   ]
  },
  {
   "cell_type": "markdown",
   "metadata": {},
   "source": [
    "Now that our functions are defined, we can create a function that generates a watsonx API request for the provided instructions the watsonx API endpoint. We will use this function each time we make a request."
   ]
  },
  {
   "cell_type": "code",
   "execution_count": null,
   "metadata": {},
   "outputs": [],
   "source": [
    "def make_api_request(instructions: str) -> str:\n",
    "    model_parameters = {\n",
    "        \"decoding_method\": \"greedy\",\n",
    "        \"max_new_tokens\": 200,\n",
    "        \"repetition_penalty\": 1.05,\n",
    "        \"stop_sequences\": [TOKENIZER.eos_token]\n",
    "    }\n",
    "    model = WatsonxLLM(\n",
    "        model_id=MODEL_ID,\n",
    "        url= WATSONX_URL,\n",
    "        apikey=WATSONX_APIKEY,\n",
    "        project_id=WATSONX_PROJECT_ID,\n",
    "        params=model_parameters\n",
    "    )\n",
    "    response = model.invoke(instructions)\n",
    "    return response\n"
   ]
  },
  {
   "cell_type": "markdown",
   "metadata": {},
   "source": [
    "Next, we can create a list of available functions. Here, we declare our function definitions that require the function names, descriptions, parameters and required properties."
   ]
  },
  {
   "cell_type": "code",
   "execution_count": null,
   "metadata": {},
   "outputs": [
    {
     "data": {
      "text/plain": [
       "[{'type': 'function',\n",
       "  'function': {'name': 'get_stock_price',\n",
       "   'description': 'Retrieves the lowest and highest stock prices for a given ticker and date.',\n",
       "   'parameters': {'type': 'object',\n",
       "    'properties': {'ticker': {'type': 'string',\n",
       "      'description': 'The stock ticker symbol, e.g., \"IBM\".'},\n",
       "     'date': {'type': 'string',\n",
       "      'description': 'The date in \"YYYY-MM-DD\" format for which you want to get stock prices.'}},\n",
       "    'required': ['ticker', 'date']},\n",
       "   'return': {'type': 'object',\n",
       "    'description': 'A dictionary containing the low and high stock prices on the given date.'}}},\n",
       " {'type': 'function',\n",
       "  'function': {'name': 'get_current_weather',\n",
       "   'description': 'Fetches the current weather for a given location (default: San Francisco).',\n",
       "   'parameters': {'type': 'object',\n",
       "    'properties': {'location': {'type': 'string',\n",
       "      'description': 'The name of the city for which to retrieve the weather information.'}},\n",
       "    'required': ['location']},\n",
       "   'return': {'type': 'object',\n",
       "    'description': 'A dictionary containing weather information such as temperature, weather description, and humidity.'}}}]"
      ]
     },
     "execution_count": null,
     "metadata": {},
     "output_type": "execute_result"
    }
   ],
   "source": [
    "tools = [get_json_schema(tool) for tool in (get_stock_price, get_current_weather)]\n",
    "tools"
   ]
  },
  {
   "cell_type": "markdown",
   "metadata": {},
   "source": [
    "## Step 6. Perform function calling\n"
   ]
  },
  {
   "cell_type": "markdown",
   "metadata": {},
   "source": [
    "### Step 6a. Calling the get_stock_price function"
   ]
  },
  {
   "cell_type": "markdown",
   "metadata": {},
   "source": [
    "To prepare for the API requests, we must set our `query` used in the tokenizer chat template."
   ]
  },
  {
   "cell_type": "code",
   "execution_count": null,
   "metadata": {},
   "outputs": [],
   "source": [
    "query = \"What were the IBM stock prices on October 7, 2024?\""
   ]
  },
  {
   "cell_type": "markdown",
   "metadata": {},
   "source": [
    "Applying a chat template is useful for breaking up long strings of texts into one or more messages with corresponding labels. This allows the LLM to process the input in a format that it expects. Because we want our output to be in a string format, we can set the `tokenize` parameter to false. The `add_generation_prompt` can be set to true in order to append the tokens indicating the beginning of an assistant message to the output. This will be useful when generating chat completions with the model."
   ]
  },
  {
   "cell_type": "code",
   "execution_count": null,
   "metadata": {},
   "outputs": [
    {
     "data": {
      "text/plain": [
       "'<|start_of_role|>available_tools<|end_of_role|>\\n{\\n    \"type\": \"function\",\\n    \"function\": {\\n        \"name\": \"get_stock_price\",\\n        \"description\": \"Retrieves the lowest and highest stock prices for a given ticker and date.\",\\n        \"parameters\": {\\n            \"type\": \"object\",\\n            \"properties\": {\\n                \"ticker\": {\\n                    \"type\": \"string\",\\n                    \"description\": \"The stock ticker symbol, e.g., \\\\\"IBM\\\\\".\"\\n                },\\n                \"date\": {\\n                    \"type\": \"string\",\\n                    \"description\": \"The date in \\\\\"YYYY-MM-DD\\\\\" format for which you want to get stock prices.\"\\n                }\\n            },\\n            \"required\": [\\n                \"ticker\",\\n                \"date\"\\n            ]\\n        },\\n        \"return\": {\\n            \"type\": \"object\",\\n            \"description\": \"A dictionary containing the low and high stock prices on the given date.\"\\n        }\\n    }\\n}\\n\\n{\\n    \"type\": \"function\",\\n    \"function\": {\\n        \"name\": \"get_current_weather\",\\n        \"description\": \"Fetches the current weather for a given location (default: San Francisco).\",\\n        \"parameters\": {\\n            \"type\": \"object\",\\n            \"properties\": {\\n                \"location\": {\\n                    \"type\": \"string\",\\n                    \"description\": \"The name of the city for which to retrieve the weather information.\"\\n                }\\n            },\\n            \"required\": [\\n                \"location\"\\n            ]\\n        },\\n        \"return\": {\\n            \"type\": \"object\",\\n            \"description\": \"A dictionary containing weather information such as temperature, weather description, and humidity.\"\\n        }\\n    }\\n}<|end_of_text|>\\n<|start_of_role|>system<|end_of_role|>You are a helpful assistant with access to the following function calls. Your task is to produce a list of function calls necessary to generate response to the user utterance. Use the following function calls as required.<|end_of_text|>\\n<|start_of_role|>user<|end_of_role|>What were the IBM stock prices on October 7, 2024?<|end_of_text|>\\n<|start_of_role|>assistant<|end_of_role|>'"
      ]
     },
     "execution_count": null,
     "metadata": {},
     "output_type": "execute_result"
    }
   ],
   "source": [
    "conversation = [\n",
    "    {\"role\": \"system\",\"content\": \"You are a helpful assistant with access to the following function calls. Your task is to produce a list of function calls necessary to generate response to the user utterance. Use the following function calls as required.\"},\n",
    "    {\"role\": \"user\", \"content\": query },\n",
    "]\n",
    "\n",
    "instruction_1 = TOKENIZER.apply_chat_template(conversation=conversation, tools=tools, tokenize=False, add_generation_prompt=True)\n",
    "instruction_1"
   ]
  },
  {
   "cell_type": "markdown",
   "metadata": {},
   "source": [
    "Now, we can call the `make_api_request` function and pass the instructions we generated."
   ]
  },
  {
   "cell_type": "code",
   "execution_count": null,
   "metadata": {},
   "outputs": [
    {
     "data": {
      "text/plain": [
       "'[{\"name\": \"get_stock_price\", \"arguments\": {\"ticker\": \"IBM\", \"date\": \"2024-10-07\"}}]'"
      ]
     },
     "execution_count": null,
     "metadata": {},
     "output_type": "execute_result"
    }
   ],
   "source": [
    "data_1 = make_api_request(instruction_1)\n",
    "data_1"
   ]
  },
  {
   "cell_type": "markdown",
   "metadata": {},
   "source": [
    "As you can see by the function name in the JSON object produced by the model, the appropriate `get_stock_price` tool use was selected from the set of functions. To run the api call within the function, let's extract relevant information from the output. With the function name and arguments extracted, we can call the function. To call the function using its name as a string, we can use the `globals()` function."
   ]
  },
  {
   "cell_type": "code",
   "execution_count": null,
   "metadata": {},
   "outputs": [],
   "source": [
    "def tool_call(llm_response: str):\n",
    "    tool_request = ast.literal_eval(re.search(\"({.+})\", llm_response).group(0))\n",
    "    tool_name = tool_request[\"name\"]\n",
    "    tool_arguments = tool_request[\"arguments\"]\n",
    "    tool_response = globals()[tool_name](**tool_arguments)\n",
    "    return tool_response"
   ]
  },
  {
   "cell_type": "markdown",
   "metadata": {},
   "source": [
    "Get the response from the requested tool."
   ]
  },
  {
   "cell_type": "code",
   "execution_count": null,
   "metadata": {},
   "outputs": [
    {
     "name": "stdout",
     "output_type": "stream",
     "text": [
      "Getting stock price for IBM on 2024-10-07\n"
     ]
    },
    {
     "data": {
      "text/plain": [
       "{'low': '225.0200', 'high': '227.6700'}"
      ]
     },
     "execution_count": null,
     "metadata": {},
     "output_type": "execute_result"
    }
   ],
   "source": [
    "tool_response = tool_call(data_1)\n",
    "tool_response"
   ]
  },
  {
   "cell_type": "markdown",
   "metadata": {},
   "source": [
    "The function successfully retrieved the requested stock price. To generate a synthesized final response, we can pass another prompt to the Granite model along with the information collected from function calling."
   ]
  },
  {
   "cell_type": "code",
   "execution_count": null,
   "metadata": {},
   "outputs": [
    {
     "data": {
      "text/plain": [
       "'On October 7, 2024, the IBM stock prices ranged from a low of $225.02 to a high of $227.67.'"
      ]
     },
     "execution_count": null,
     "metadata": {},
     "output_type": "execute_result"
    }
   ],
   "source": [
    "conversation2 = conversation + [\n",
    "    {\"role\": \"system\", \"content\": \"You are a helpful assistant.\"},\n",
    "    {\"role\": \"user\", \"content\": \"Display the tool response in natural language.\" },\n",
    "    {\"role\": \"tool_response\", \"content\": str(tool_response) },\n",
    "]\n",
    "\n",
    "instruction_2 = TOKENIZER.apply_chat_template(conversation=conversation2, tools=tools, tokenize=False, add_generation_prompt=True)\n",
    "data_2 = make_api_request(instruction_2)\n",
    "data_2"
   ]
  },
  {
   "cell_type": "markdown",
   "metadata": {},
   "source": [
    "### Step 6b. Calling the get_current_weather function\n",
    "\n",
    "As our next query, let’s inquire about the current weather in San Francisco. We can follow the same steps as in Step 5a by adjusting the query."
   ]
  },
  {
   "cell_type": "code",
   "execution_count": null,
   "metadata": {},
   "outputs": [],
   "source": [
    "query = \"What is the current weather in San Francisco?\""
   ]
  },
  {
   "cell_type": "code",
   "execution_count": null,
   "metadata": {},
   "outputs": [
    {
     "data": {
      "text/plain": [
       "'<|start_of_role|>available_tools<|end_of_role|>\\n{\\n    \"type\": \"function\",\\n    \"function\": {\\n        \"name\": \"get_stock_price\",\\n        \"description\": \"Retrieves the lowest and highest stock prices for a given ticker and date.\",\\n        \"parameters\": {\\n            \"type\": \"object\",\\n            \"properties\": {\\n                \"ticker\": {\\n                    \"type\": \"string\",\\n                    \"description\": \"The stock ticker symbol, e.g., \\\\\"IBM\\\\\".\"\\n                },\\n                \"date\": {\\n                    \"type\": \"string\",\\n                    \"description\": \"The date in \\\\\"YYYY-MM-DD\\\\\" format for which you want to get stock prices.\"\\n                }\\n            },\\n            \"required\": [\\n                \"ticker\",\\n                \"date\"\\n            ]\\n        },\\n        \"return\": {\\n            \"type\": \"object\",\\n            \"description\": \"A dictionary containing the low and high stock prices on the given date.\"\\n        }\\n    }\\n}\\n\\n{\\n    \"type\": \"function\",\\n    \"function\": {\\n        \"name\": \"get_current_weather\",\\n        \"description\": \"Fetches the current weather for a given location (default: San Francisco).\",\\n        \"parameters\": {\\n            \"type\": \"object\",\\n            \"properties\": {\\n                \"location\": {\\n                    \"type\": \"string\",\\n                    \"description\": \"The name of the city for which to retrieve the weather information.\"\\n                }\\n            },\\n            \"required\": [\\n                \"location\"\\n            ]\\n        },\\n        \"return\": {\\n            \"type\": \"object\",\\n            \"description\": \"A dictionary containing weather information such as temperature, weather description, and humidity.\"\\n        }\\n    }\\n}<|end_of_text|>\\n<|start_of_role|>system<|end_of_role|>You are a helpful assistant with access to the following function calls. Your task is to produce a list of function calls necessary to generate response to the user utterance. Use the following function calls as required.<|end_of_text|>\\n<|start_of_role|>user<|end_of_role|>What is the current weather in San Francisco?<|end_of_text|>\\n<|start_of_role|>assistant<|end_of_role|>'"
      ]
     },
     "execution_count": null,
     "metadata": {},
     "output_type": "execute_result"
    }
   ],
   "source": [
    "conversation = [\n",
    "    {\"role\": \"system\",\"content\": \"You are a helpful assistant with access to the following function calls. Your task is to produce a list of function calls necessary to generate response to the user utterance. Use the following function calls as required.\"},\n",
    "    {\"role\": \"user\", \"content\": query },\n",
    "]\n",
    "\n",
    "instruction_1 = TOKENIZER.apply_chat_template(conversation=conversation, tools=tools, tokenize=False, add_generation_prompt=True)\n",
    "instruction_1"
   ]
  },
  {
   "cell_type": "code",
   "execution_count": null,
   "metadata": {},
   "outputs": [
    {
     "data": {
      "text/plain": [
       "'[{\"name\": \"get_current_weather\", \"arguments\": {\"location\": \"San Francisco\"}}]'"
      ]
     },
     "execution_count": null,
     "metadata": {},
     "output_type": "execute_result"
    }
   ],
   "source": [
    "data_1 = make_api_request(instruction_1)\n",
    "data_1"
   ]
  },
  {
   "cell_type": "markdown",
   "metadata": {},
   "source": [
    "Once again, the model decides the appropriate tool choice, in this case `get_current_weather`, and extracts the location correctly. Now, let's call the function with the argument generated by the model."
   ]
  },
  {
   "cell_type": "code",
   "execution_count": null,
   "metadata": {},
   "outputs": [
    {
     "name": "stdout",
     "output_type": "stream",
     "text": [
      "Getting current weather for San Francisco\n"
     ]
    },
    {
     "data": {
      "text/plain": [
       "{'description': 'clear sky', 'temperature': 15.52, 'humidity': 68}"
      ]
     },
     "execution_count": null,
     "metadata": {},
     "output_type": "execute_result"
    }
   ],
   "source": [
    "tool_response = tool_call(data_1)\n",
    "tool_response"
   ]
  },
  {
   "cell_type": "markdown",
   "metadata": {},
   "source": [
    "The function response correctly describes the current weather in San Francisco. Lastly, let's generate a synthesized final response with the results of this function call."
   ]
  },
  {
   "cell_type": "code",
   "execution_count": null,
   "metadata": {},
   "outputs": [
    {
     "data": {
      "text/plain": [
       "'The current weather in San Francisco is clear with a temperature of 15.52 degrees and a humidity of 68%.'"
      ]
     },
     "execution_count": null,
     "metadata": {},
     "output_type": "execute_result"
    }
   ],
   "source": [
    "conversation2 = conversation + [\n",
    "    {\"role\": \"system\", \"content\": \"You are a helpful assistant.\"},\n",
    "    {\"role\": \"user\", \"content\": \"Display the tool response in natural language.\" },\n",
    "    {\"role\": \"tool_response\", \"content\": str(tool_response) },\n",
    "]\n",
    "\n",
    "instruction_2 = TOKENIZER.apply_chat_template(conversation=conversation2, tools=tools, tokenize=False, add_generation_prompt=True)\n",
    "data_2 = make_api_request(instruction_2)\n",
    "data_2"
   ]
  },
  {
   "cell_type": "markdown",
   "metadata": {},
   "source": [
    "## Summary\n",
    "\n",
    "In this tutorial, you built custom functions and used the Granite-3.0-8B-Instruct model to determine which function to call based on  key information from user queries. With this information, you called the function with the arguments as stated in the model response. These function calls produce the expected output. Finally, you called the Granite-3.0-8B-Instruct model again to synthesize the information returned by the functions."
   ]
  }
 ],
 "metadata": {
  "colab": {
   "provenance": []
  },
  "kernelspec": {
   "display_name": ".venv",
   "language": "python",
   "name": "python3"
  },
  "language_info": {
   "codemirror_mode": {
    "name": "ipython",
    "version": 3
   },
   "file_extension": ".py",
   "mimetype": "text/x-python",
   "name": "python",
   "nbconvert_exporter": "python",
   "pygments_lexer": "ipython3",
   "version": "3.11.9"
  }
 },
 "nbformat": 4,
 "nbformat_minor": 4
}
