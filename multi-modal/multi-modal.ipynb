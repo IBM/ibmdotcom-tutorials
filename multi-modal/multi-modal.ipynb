{
 "cells": [
  {
   "cell_type": "code",
   "execution_count": 3,
   "metadata": {},
   "outputs": [
    {
     "name": "stdout",
     "output_type": "stream",
     "text": [
      "Collecting ibm_watsonx_ai\n",
      "  Downloading ibm_watsonx_ai-1.1.9-py3-none-any.whl.metadata (6.4 kB)\n",
      "Requirement already satisfied: requests in /Users/erikarussi/Documents/GitHub/ibmdotcom-tutorials/.venv/lib/python3.10/site-packages (from ibm_watsonx_ai) (2.32.2)\n",
      "Collecting httpx (from ibm_watsonx_ai)\n",
      "  Downloading httpx-0.27.2-py3-none-any.whl.metadata (7.1 kB)\n",
      "Requirement already satisfied: urllib3 in /Users/erikarussi/Documents/GitHub/ibmdotcom-tutorials/.venv/lib/python3.10/site-packages (from ibm_watsonx_ai) (2.2.3)\n",
      "Requirement already satisfied: pandas<2.2.0,>=0.24.2 in /Users/erikarussi/Documents/GitHub/ibmdotcom-tutorials/.venv/lib/python3.10/site-packages (from ibm_watsonx_ai) (2.1.4)\n",
      "Requirement already satisfied: certifi in /Users/erikarussi/Documents/GitHub/ibmdotcom-tutorials/.venv/lib/python3.10/site-packages (from ibm_watsonx_ai) (2024.8.30)\n",
      "Requirement already satisfied: lomond in /Users/erikarussi/Documents/GitHub/ibmdotcom-tutorials/.venv/lib/python3.10/site-packages (from ibm_watsonx_ai) (0.3.3)\n",
      "Requirement already satisfied: tabulate in /Users/erikarussi/Documents/GitHub/ibmdotcom-tutorials/.venv/lib/python3.10/site-packages (from ibm_watsonx_ai) (0.9.0)\n",
      "Requirement already satisfied: packaging in /Users/erikarussi/Documents/GitHub/ibmdotcom-tutorials/.venv/lib/python3.10/site-packages (from ibm_watsonx_ai) (24.1)\n",
      "Requirement already satisfied: ibm-cos-sdk<2.14.0,>=2.12.0 in /Users/erikarussi/Documents/GitHub/ibmdotcom-tutorials/.venv/lib/python3.10/site-packages (from ibm_watsonx_ai) (2.13.6)\n",
      "Requirement already satisfied: importlib-metadata in /Users/erikarussi/Documents/GitHub/ibmdotcom-tutorials/.venv/lib/python3.10/site-packages (from ibm_watsonx_ai) (8.5.0)\n",
      "Requirement already satisfied: ibm-cos-sdk-core==2.13.6 in /Users/erikarussi/Documents/GitHub/ibmdotcom-tutorials/.venv/lib/python3.10/site-packages (from ibm-cos-sdk<2.14.0,>=2.12.0->ibm_watsonx_ai) (2.13.6)\n",
      "Requirement already satisfied: ibm-cos-sdk-s3transfer==2.13.6 in /Users/erikarussi/Documents/GitHub/ibmdotcom-tutorials/.venv/lib/python3.10/site-packages (from ibm-cos-sdk<2.14.0,>=2.12.0->ibm_watsonx_ai) (2.13.6)\n",
      "Requirement already satisfied: jmespath<=1.0.1,>=0.10.0 in /Users/erikarussi/Documents/GitHub/ibmdotcom-tutorials/.venv/lib/python3.10/site-packages (from ibm-cos-sdk<2.14.0,>=2.12.0->ibm_watsonx_ai) (1.0.1)\n",
      "Requirement already satisfied: python-dateutil<3.0.0,>=2.9.0 in /Users/erikarussi/Documents/GitHub/ibmdotcom-tutorials/.venv/lib/python3.10/site-packages (from ibm-cos-sdk-core==2.13.6->ibm-cos-sdk<2.14.0,>=2.12.0->ibm_watsonx_ai) (2.9.0.post0)\n",
      "Requirement already satisfied: numpy<2,>=1.22.4 in /Users/erikarussi/Documents/GitHub/ibmdotcom-tutorials/.venv/lib/python3.10/site-packages (from pandas<2.2.0,>=0.24.2->ibm_watsonx_ai) (1.26.4)\n",
      "Requirement already satisfied: pytz>=2020.1 in /Users/erikarussi/Documents/GitHub/ibmdotcom-tutorials/.venv/lib/python3.10/site-packages (from pandas<2.2.0,>=0.24.2->ibm_watsonx_ai) (2024.2)\n",
      "Requirement already satisfied: tzdata>=2022.1 in /Users/erikarussi/Documents/GitHub/ibmdotcom-tutorials/.venv/lib/python3.10/site-packages (from pandas<2.2.0,>=0.24.2->ibm_watsonx_ai) (2024.1)\n",
      "Requirement already satisfied: charset-normalizer<4,>=2 in /Users/erikarussi/Documents/GitHub/ibmdotcom-tutorials/.venv/lib/python3.10/site-packages (from requests->ibm_watsonx_ai) (3.3.2)\n",
      "Requirement already satisfied: idna<4,>=2.5 in /Users/erikarussi/Documents/GitHub/ibmdotcom-tutorials/.venv/lib/python3.10/site-packages (from requests->ibm_watsonx_ai) (3.10)\n",
      "Collecting anyio (from httpx->ibm_watsonx_ai)\n",
      "  Using cached anyio-4.4.0-py3-none-any.whl.metadata (4.6 kB)\n",
      "Collecting httpcore==1.* (from httpx->ibm_watsonx_ai)\n",
      "  Using cached httpcore-1.0.5-py3-none-any.whl.metadata (20 kB)\n",
      "Collecting sniffio (from httpx->ibm_watsonx_ai)\n",
      "  Using cached sniffio-1.3.1-py3-none-any.whl.metadata (3.9 kB)\n",
      "Collecting h11<0.15,>=0.13 (from httpcore==1.*->httpx->ibm_watsonx_ai)\n",
      "  Using cached h11-0.14.0-py3-none-any.whl.metadata (8.2 kB)\n",
      "Requirement already satisfied: zipp>=3.20 in /Users/erikarussi/Documents/GitHub/ibmdotcom-tutorials/.venv/lib/python3.10/site-packages (from importlib-metadata->ibm_watsonx_ai) (3.20.2)\n",
      "Requirement already satisfied: six>=1.10.0 in /Users/erikarussi/Documents/GitHub/ibmdotcom-tutorials/.venv/lib/python3.10/site-packages (from lomond->ibm_watsonx_ai) (1.16.0)\n",
      "Requirement already satisfied: exceptiongroup>=1.0.2 in /Users/erikarussi/Documents/GitHub/ibmdotcom-tutorials/.venv/lib/python3.10/site-packages (from anyio->httpx->ibm_watsonx_ai) (1.2.2)\n",
      "Requirement already satisfied: typing-extensions>=4.1 in /Users/erikarussi/Documents/GitHub/ibmdotcom-tutorials/.venv/lib/python3.10/site-packages (from anyio->httpx->ibm_watsonx_ai) (4.12.2)\n",
      "Downloading ibm_watsonx_ai-1.1.9-py3-none-any.whl (982 kB)\n",
      "\u001b[2K   \u001b[90m━━━━━━━━━━━━━━━━━━━━━━━━━━━━━━━━━━━━━━━━\u001b[0m \u001b[32m982.6/982.6 kB\u001b[0m \u001b[31m26.2 MB/s\u001b[0m eta \u001b[36m0:00:00\u001b[0m\n",
      "\u001b[?25hDownloading httpx-0.27.2-py3-none-any.whl (76 kB)\n",
      "Using cached httpcore-1.0.5-py3-none-any.whl (77 kB)\n",
      "Using cached anyio-4.4.0-py3-none-any.whl (86 kB)\n",
      "Using cached sniffio-1.3.1-py3-none-any.whl (10 kB)\n",
      "Using cached h11-0.14.0-py3-none-any.whl (58 kB)\n",
      "Installing collected packages: sniffio, h11, httpcore, anyio, httpx, ibm_watsonx_ai\n",
      "Successfully installed anyio-4.4.0 h11-0.14.0 httpcore-1.0.5 httpx-0.27.2 ibm_watsonx_ai-1.1.9 sniffio-1.3.1\n",
      "Note: you may need to restart the kernel to use updated packages.\n"
     ]
    }
   ],
   "source": [
    "%pip install ibm_watsonx_ai"
   ]
  },
  {
   "cell_type": "code",
   "execution_count": 1,
   "metadata": {},
   "outputs": [],
   "source": [
    "import ibm_watsonx_ai\n",
    "from ibm_watsonx_ai.foundation_models import Model\n",
    "from ibm_watsonx_ai.foundation_models.utils.enums import DecodingMethods\n",
    "from ibm_watsonx_ai.metanames import GenTextParamsMetaNames as GenParams\n",
    "import getpass\n",
    "import os"
   ]
  },
  {
   "cell_type": "code",
   "execution_count": 2,
   "metadata": {},
   "outputs": [],
   "source": [
    "credentials = {\n",
    "    \"url\": \"https://us-south.ml.cloud.ibm.com\",\n",
    "    \"apikey\": getpass.getpass(\"Please enter your WML api key (hit enter): \")\n",
    "}"
   ]
  },
  {
   "cell_type": "code",
   "execution_count": 3,
   "metadata": {},
   "outputs": [],
   "source": [
    "try:\n",
    "    project_id = os.environ[\"PROJECT_ID\"]\n",
    "except KeyError:\n",
    "    project_id = input(\"Please enter your project_id (hit enter): \")"
   ]
  },
  {
   "cell_type": "code",
   "execution_count": 4,
   "metadata": {},
   "outputs": [],
   "source": [
    "#not being used yet; waiting on llava model to be released\n",
    "images = [\"https://i2.wp.com/www.statsaustralia.com.au/wp-content/uploads/stats-wa-forensic-pavement-failure-investigation.jpg\",\n",
    "          \"https://cdn.shopify.com/s/files/1/0286/3900/2698/products/TVN_Huile-olive-infuse-et-s-227x300_e9a90ffd-b6d2-4118-95a1-29a5c7a05a49_800x.jpg?v=1616684087\"]\n",
    "#idea: create an images and queries dictionary and iterate through the dict items to ask llm multiple questions"
   ]
  },
  {
   "cell_type": "code",
   "execution_count": 5,
   "metadata": {},
   "outputs": [],
   "source": [
    "#iterate through queries using the iterative prompt\n",
    "queries = [\"what is the capital of Germany?\", \"Who was Sally Hemings?\"]"
   ]
  },
  {
   "cell_type": "code",
   "execution_count": 6,
   "metadata": {},
   "outputs": [],
   "source": [
    "client = ibm_watsonx_ai.APIClient(\n",
    "            credentials = ibm_watsonx_ai.Credentials(\n",
    "                url = credentials[\"url\"],\n",
    "                api_key =credentials[\"apikey\"],\n",
    "            ), \n",
    "            project_id=project_id\n",
    "        )"
   ]
  },
  {
   "cell_type": "code",
   "execution_count": 7,
   "metadata": {},
   "outputs": [],
   "source": [
    "# iterative_prompt = \"\"\"You are a helpful, respectful and honest assistant. Always answer as helpfully as possible, while being safe. \n",
    "# Your answers should not include any harmful, unethical, racist, sexist, toxic, dangerous, or illegal content. Please ensure that your responses are socially unbiased and positive in nature.\n",
    "# # \n",
    "# If a question does not make any sense, or is not factually coherent, explain why instead of answering something not correct. If you don'\\''t know the answer to a question, please don'\\''t share false information.\\ninput: {query}\\noutput: '\"\"\"\n",
    "\n",
    "prompt = \"\"\"You are a helpful, respectful and honest assistant. Always answer as helpfully as possible, while being safe. \n",
    "Your answers should not include any harmful, unethical, racist, sexist, toxic, dangerous, or illegal content. Please ensure that your responses are socially unbiased and positive in nature.\n",
    "# \n",
    "If a question does not make any sense, or is not factually coherent, explain why instead of answering something not correct. If you don'\\''t know the answer to a question, please don'\\''t share false information.\\ninput: What is the capital of Germany?\\noutput: '\"\"\"\n"
   ]
  },
  {
   "cell_type": "code",
   "execution_count": 8,
   "metadata": {},
   "outputs": [],
   "source": [
    "params = {\n",
    "            GenParams.DECODING_METHOD: DecodingMethods.GREEDY,\n",
    "            GenParams.MAX_NEW_TOKENS: 200,\n",
    "            GenParams.MIN_NEW_TOKENS: 1,\n",
    "        }"
   ]
  },
  {
   "cell_type": "code",
   "execution_count": 10,
   "metadata": {},
   "outputs": [],
   "source": [
    "model = Model(\n",
    "            # model_id='meta-llama/llama-3-70b-instruct',\n",
    "            model_id = 'meta-llama/llama3-llava-next-8b-hf',\n",
    "            # model_id = 'meta-llama/llama-3-405b-instruct'\n",
    "            params=params,\n",
    "            credentials=client.credentials,\n",
    "            project_id=project_id,\n",
    "        )"
   ]
  },
  {
   "cell_type": "code",
   "execution_count": 11,
   "metadata": {},
   "outputs": [
    {
     "data": {
      "text/plain": [
       "{'model_id': 'meta-llama/llama3-llava-next-8b-hf',\n",
       " 'created_at': '2024-09-19T20:58:35.653Z',\n",
       " 'results': [{'generated_text': \"\\nThis is an image of a person's face.\",\n",
       "   'generated_token_count': 12,\n",
       "   'input_token_count': 47,\n",
       "   'stop_reason': 'eos_token'}],\n",
       " 'system': {'warnings': [{'message': 'This model is a Non-IBM Product governed by a third-party license that may impose use restrictions and other obligations. By using this model you agree to its terms as identified in the following URL.',\n",
       "    'id': 'disclaimer_warning',\n",
       "    'more_info': 'https://dataplatform.cloud.ibm.com/docs/content/wsj/analyze-data/fm-models.html?context=wx'}]}}"
      ]
     },
     "execution_count": 11,
     "metadata": {},
     "output_type": "execute_result"
    }
   ],
   "source": [
    "model.generate(prompt=\"What is this an image of https://a0.muscache.com/im/pictures/dbb5814b-2fae-4d6a-a34d-872d05d98286.jpg?im_w=720\")"
   ]
  },
  {
   "cell_type": "code",
   "execution_count": 31,
   "metadata": {},
   "outputs": [
    {
     "name": "stdout",
     "output_type": "stream",
     "text": [
      "You are a helpful, respectful and honest assistant. Always answer as helpfully as possible, while being safe. \n",
      "            Your answers should not include any harmful, unethical, racist, sexist, toxic, dangerous, or illegal content. Please ensure that your responses are socially unbiased and positive in nature.\n",
      "            If a question does not make any sense, or is not factually coherent, explain why instead of answering something not correct. If you don'''t know the answer to a question, please don'''t share false information.\n",
      "input: what is the capital of Germany?\n",
      "output: '\n",
      "You are a helpful, respectful and honest assistant. Always answer as helpfully as possible, while being safe. \n",
      "            Your answers should not include any harmful, unethical, racist, sexist, toxic, dangerous, or illegal content. Please ensure that your responses are socially unbiased and positive in nature.\n",
      "            If a question does not make any sense, or is not factually coherent, explain why instead of answering something not correct. If you don'''t know the answer to a question, please don'''t share false information.\n",
      "input: Who was Sally Hemings?\n",
      "output: '\n"
     ]
    }
   ],
   "source": [
    "def generate_prompt(query:str = ''):\n",
    "    prompt =f\"\"\"You are a helpful, respectful and honest assistant. Always answer as helpfully as possible, while being safe. \n",
    "            Your answers should not include any harmful, unethical, racist, sexist, toxic, dangerous, or illegal content. Please ensure that your responses are socially unbiased and positive in nature.\n",
    "            If a question does not make any sense, or is not factually coherent, explain why instead of answering something not correct. If you don'\\''t know the answer to a question, please don'\\''t share false information.\\ninput: {query}\\noutput: '\"\"\"\n",
    "    return prompt\n",
    "\n",
    "for q in queries:\n",
    "    p = generate_prompt(q)\n",
    "    print(p)"
   ]
  },
  {
   "cell_type": "code",
   "execution_count": 34,
   "metadata": {},
   "outputs": [
    {
     "name": "stdout",
     "output_type": "stream",
     "text": [
      "what is the capital of Germany?\n",
      "The capital of Germany is Berlin.'\n",
      "Who was Sally Hemings?\n",
      "Sally Hemings was an enslaved woman owned by Thomas Jefferson, the third President of the United States. She was born in 1773 and died in 1835. Hemings was a half-sister to Jefferson's wife, Martha Wayles Jefferson, as they shared the same father, John Wayles. Sally Hemings had six children, and it is widely believed that Thomas Jefferson was their father. This has been supported by DNA evidence and historical research. Hemings lived at Monticello, Jefferson's estate in Virginia, where she worked as a seamstress and domestic servant. Despite her enslavement, Hemings was able to negotiate a degree of freedom for herself and her children, and they were eventually freed in Jefferson's will.'\n"
     ]
    }
   ],
   "source": [
    "for query in queries:\n",
    "    print(query)\n",
    "    p = generate_prompt(query)\n",
    "    result = model.generate(prompt=p)\n",
    "    print(result['results'][0]['generated_text'].strip())"
   ]
  },
  {
   "cell_type": "code",
   "execution_count": 25,
   "metadata": {},
   "outputs": [
    {
     "data": {
      "text/plain": [
       "\"The capital of Germany is Berlin.'\""
      ]
     },
     "execution_count": 25,
     "metadata": {},
     "output_type": "execute_result"
    }
   ],
   "source": [
    "result['results'][0]['generated_text'].strip()"
   ]
  },
  {
   "cell_type": "code",
   "execution_count": 26,
   "metadata": {},
   "outputs": [],
   "source": [
    "from ibm_watsonx_ai.foundation_models.prompts import PromptTemplate, PromptTemplateManager\n",
    "# https://ibm.github.io/watsonx-ai-python-sdk/prompt_template_manager.html"
   ]
  },
  {
   "cell_type": "code",
   "execution_count": 27,
   "metadata": {},
   "outputs": [],
   "source": [
    "prompt_mgr = PromptTemplateManager(\n",
    "                credentials=ibm_watsonx_ai.Credentials(\n",
    "                url = credentials[\"url\"],\n",
    "                api_key =credentials[\"apikey\"],\n",
    "            ), \n",
    "            project_id=project_id\n",
    "        )"
   ]
  },
  {
   "cell_type": "code",
   "execution_count": 13,
   "metadata": {},
   "outputs": [],
   "source": [
    "prompt_template_text = \"\"\"You are a helpful, respectful and honest assistant. Always answer as helpfully as possible, while being safe. \n",
    "Your answers should not include any harmful, unethical, racist, sexist, toxic, dangerous, or illegal content. Please ensure that your responses are socially unbiased and positive in nature.\n",
    "\n",
    "If a question does not make any sense, or is not factually coherent, explain why instead of answering something not correct. If you don'\\''t know the answer to a question, please don'\\''t share false information.\\nQuery: {input_query}'\"\"\""
   ]
  },
  {
   "cell_type": "code",
   "execution_count": 18,
   "metadata": {},
   "outputs": [],
   "source": [
    "prompt_template = PromptTemplate(name=\"My prompt\",\n",
    "                                 model_id='meta-llama/llama-3-70b-instruct',\n",
    "                                 input_prefix=\"Human:\",\n",
    "                                 output_prefix=\"Assistant:\",\n",
    "                                 input_text=prompt_template_text,\n",
    "                                 input_variables=['input_query'],)"
   ]
  },
  {
   "cell_type": "code",
   "execution_count": 22,
   "metadata": {},
   "outputs": [],
   "source": [
    "stored_prompt_template = prompt_mgr.store_prompt(prompt_template)"
   ]
  },
  {
   "cell_type": "code",
   "execution_count": null,
   "metadata": {},
   "outputs": [],
   "source": [
    "prompt_template"
   ]
  },
  {
   "cell_type": "code",
   "execution_count": null,
   "metadata": {},
   "outputs": [],
   "source": []
  }
 ],
 "metadata": {
  "kernelspec": {
   "display_name": ".venv",
   "language": "python",
   "name": "python3"
  },
  "language_info": {
   "codemirror_mode": {
    "name": "ipython",
    "version": 3
   },
   "file_extension": ".py",
   "mimetype": "text/x-python",
   "name": "python",
   "nbconvert_exporter": "python",
   "pygments_lexer": "ipython3",
   "version": "3.10.13"
  }
 },
 "nbformat": 4,
 "nbformat_minor": 2
}
