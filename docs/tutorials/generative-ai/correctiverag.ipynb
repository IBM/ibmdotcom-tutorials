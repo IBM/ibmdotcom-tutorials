{
 "cells": [
  {
   "cell_type": "markdown",
   "metadata": {
    "id": "f5502a30-13ed-4026-884f-21b522cea2e1"
   },
   "source": [
    "# Build a corrective RAG agent using IBM Granite and Tavily"
   ]
  },
  {
   "cell_type": "markdown",
   "metadata": {
    "id": "45741328-2a53-492f-842d-55f7b38a5081"
   },
   "source": [
    "[Large Language Models](https://www.ibm.com/think/topics/large-language-models) (LLMs) are incredibly powerful, but their knowledge is limited to their training [datasets](https://www.ibm.com/think/topics/dataset). When answering questions, especially about specific, evolving, or proprietary information, LLMs can hallucinate or provide general, irrelevant answers. [Retrieval Augmented Generation](https://www.ibm.com/think/topics/retrieval-augmented-generation) (RAG) helps by giving the LLM relevant retrieved information from external data sources.\n",
    "\n",
    "However, not all RAG is created equal. Corrective Retrieval Augmented Generation (cRAG) does not simply build on top of the more traditional RAG, it represents a significant improvement. It's devised to be more robust by evaluating the quality and relevance of the retrieved results. If the context is weak, irrelevant, or from an untrustworthy source, cRAG attempts to find better information through corrective actions or, explicitly refuse to answer rather than fabricating a response. This makes cRAG systems more reliable and trustworthy for critical applications like answering policy-related questions.\n",
    "\n",
    "In this tutorial, you'll learn how to build a robust Corrective RAG (cRAG) system using IBM Granite models on Watsonx and LangChain. Similar frameworks like [LlamaIndex](https://www.ibm.com/think/topics/llamaindex) or [LangGraph](https://www.ibm.com/think/topics/langgraph) can also be used for building complex RAG flows with distinct nodes. Techniques like [fine-tuning](https://www.ibm.com/think/topics/fine-tuning) can further enhance specific LLM performance for domain-specific RAG. LLMs like those from OpenAI (e.g., [GPT](https://www.ibm.com/think/topics/gpt) models like [ChatGPT](https://www.ibm.com/think/topics/chatgpt)) are also popular choices for such agents, though this tutorial focuses on IBM Granite.\n",
    "\n",
    "Here, we'll focus on a use case: answering questions about a specific insurance policy document (a PDF). This tutorial will guide you in implementing a sophisticated RAG algorithm that:\n",
    "\n",
    "- [Retrieves information](https://www.ibm.com/think/topics/information-retrieval) from your own PDF document.\n",
    "\n",
    "- If the internal documents are not sufficient for generating the answer, the agent can use an external web search (Tavily) as a fallback.\n",
    "\n",
    "- The agent intelligently filters out irrelevant external results so the answers are tailored to private policies.\n",
    "\n",
    "- The agent will give clear, limited responses, with partial information when available, or a clear refusal where context is missing."
   ]
  },
  {
   "cell_type": "markdown",
   "metadata": {
    "id": "a6961ad4-b317-45bc-9e7d-33665409e8bf"
   },
   "source": [
    "## Use case: building a reliable insurance policy query agent"
   ]
  },
  {
   "cell_type": "markdown",
   "metadata": {
    "id": "ffb8cf1e-f250-4109-8c78-335ee77a7771"
   },
   "source": [
    "This tutorial is a demonstration of creating of an insurance policy query agent designed to analyze policy documents (a PDF brochure) and answer user queries accurately. We use IBM Granite models and LangChain to build the agent with robust retrieval and verification steps ensuring high-quality, source-constrained answers.\n",
    "\n",
    "Let's understand how the key principles of reliable RAG apply in our use case.\n",
    "\n",
    "### Application of key principles\n",
    "\n",
    "**Internal knowledge base (PDF):** The agent's primary source of truth is your provided insurance policy PDF. It converts this document into a searchable vector store.\n",
    "\n",
    "**External search fallback (Tavily):** If the internal knowledge base doesn't have enough information, the agent can consult external web sources via Tavily. Tavily is a search engine built specifically for AI agents and LLMs, which results in a faster and real-time retrieval via its API for RAG based applications.\n",
    "\n",
    "**Context scoring:** The LLM-based retrieval evaluator (acting as a grader) will provide a score to the relevance of the items retrieved from your internal PDF while ensuring that only high quality retrieved items are included.\n",
    "\n",
    "**Query rewriting:** For web searches, the agent can rephrase the user's query to improve the chances of finding relevant external information.\n",
    "\n",
    "**Source verification:** An LLM-powered check evaluates whether external web search results are actually relevant to a private insurance policy, filtering out general information or details about public health programs (like Medi-Cal). This prevents the generation of misleading answers and enables self-correction, aiding in knowledge refinement.\n",
    "\n",
    "**Constrained generation:** The final prompt to the LLM strictly instructs it to use only the provided context, offer exact answers, state when information is unavailable, or provide partial answers with explicit limitations. This enhances the adaptability and reliability of the generated responses."
   ]
  },
  {
   "cell_type": "markdown",
   "metadata": {
    "id": "bbff9e95-4b1e-4fcd-8765-42c3f98aaebd"
   },
   "source": [
    "## Prerequisites\n",
    "\n",
    "You need an [IBM Cloud® account](https://cloud.ibm.com/registration?utm_source=ibm_developer&utm_content=in_content_link&utm_id=tutorials_awb-implement-xgboost-in-python&cm_sp=ibmdev-_-developer-_-trial) to create a [watsonx.ai®](https://www.ibm.com/products/watsonx-ai?utm_source=ibm_developer&utm_content=in_content_link&utm_id=tutorials_awb-implement-xgboost-in-python&cm_sp=ibmdev-_-developer-_-product) project. Ensure you have access to both your Watsonx API Key and Project ID. You will also need an [API](https://www.ibm.com/think/topics/api) key for Tavily AI for web search capabilities.\n",
    "\n",
    "## Steps\n",
    "\n",
    "### Step 1. Set up your environment\n",
    "\n",
    "While you can choose from several tools, this tutorial walks you through how to set up an IBM account by using a Jupyter Notebook.\n",
    "\n",
    "1. Log in to [watsonx.ai](https://dataplatform.cloud.ibm.com/registration/stepone?context=wx&apps=all) by using your IBM Cloud account.\n",
    "2. Create a [watsonx.ai project](https://www.ibm.com/docs/en/watsonx/saas?topic=projects-creating-project). You can get your project ID from within your project. Click the Manage tab. Then, copy the project ID from the Details section of the General page. You need this ID for this tutorial.\n",
    "3. Create a [Jupyter Notebook](https://www.ibm.com/docs/en/watsonx/saas?topic=editor-creating-managing-notebooks).\n",
    "\n",
    "This step opens a notebook environment where you can copy the code from this tutorial. Alternatively, you can download this notebook to your local system and upload it to your watsonx.ai project as an asset. To view more Granite tutorials, check out the [IBM Granite Community](https://github.com/ibm-granite-community). This tutorial is also available on [GitHub](https://github.com/IBM/ibmdotcom-tutorials).\n"
   ]
  },
  {
   "cell_type": "markdown",
   "metadata": {
    "id": "45ef42b1-dea7-4b42-b89a-19e259cb7864"
   },
   "source": [
    "### Step 2. Set up watsonx.ai runtime service and API key\n",
    "\n",
    "1. Create a [watsonx.ai Runtime](https://cloud.ibm.com/catalog/services/watsonxai-runtime) service instance (choose the Lite plan, which is a free instance).\n",
    "2. Generate an application programming interface [(API) Key](https://dataplatform.cloud.ibm.com/docs/content/wsj/analyze-data/ml-authentication.html).\n",
    "3. Associate the watsonx.ai Runtime service to the project that you created in [watsonx.ai](https://dataplatform.cloud.ibm.com/docs/content/wsj/getting-started/assoc-services.html?context=cpdaas)."
   ]
  },
  {
   "cell_type": "markdown",
   "metadata": {
    "id": "94c635bf-4d95-4211-9e86-3f4e9ac56878"
   },
   "source": [
    "### Step 3. Installation of the packages\n",
    "\n",
    "To work with the LangChain framework and integrate IBM WatsonxLLM, we need to install some essential libraries. Let’s start by installing the required packages. This includes `langchain` for the RAG framework, `langchain-ibm` for the Watsonx integration, `faiss-cpu` for efficient vector storage, `PyPDF2` for processing PDFs, `sentence-transformers` for getting an [embedding](https://www.ibm.com/think/topics/embedding), and `requests` for web API calls. These libraries are critical to applying [machine learning](https://www.ibm.com/think/topics/machine-learning) and NLP solutions."
   ]
  },
  {
   "cell_type": "code",
   "execution_count": null,
   "metadata": {
    "id": "133d34ad-3b1b-42ad-add6-c50496180d05"
   },
   "outputs": [],
   "source": [
    "# Install Libraries\n",
    "!pip install langchain langchain-ibm faiss-cpu PyPDF2 sentence-transformers requests\n"
   ]
  },
  {
   "cell_type": "markdown",
   "metadata": {
    "id": "4961ed4d-bdb3-4a5d-bc33-1c3da537fd0c"
   },
   "source": [
    "**Note:** No GPU is required, but execution can be slower on CPU-based systems. This step opens a notebook environment where you can copy the code from this tutorial. This tutorial is also available on GitHub."
   ]
  },
  {
   "cell_type": "markdown",
   "metadata": {
    "id": "4a1b4ee7-64ac-4a84-b30b-4ed0e3a59bfe"
   },
   "source": [
    "### Step 4. Import required libraries\n",
    "\n",
    "Next, import all the required modules and securely provide your API keys for Watsonx and Tavily, along with your Watsonx Project ID."
   ]
  },
  {
   "cell_type": "code",
   "execution_count": null,
   "metadata": {
    "id": "1f4f6ead-41b6-4976-ad0f-5df610390689"
   },
   "outputs": [],
   "source": [
    "# Import required libraries\n",
    "\n",
    "import os\n",
    "import io\n",
    "import getpass\n",
    "from PyPDF2 import PdfReader\n",
    "from langchain_ibm import WatsonxLLM\n",
    "from langchain.embeddings import HuggingFaceEmbeddings\n",
    "from langchain.vectorstores import FAISS\n",
    "from langchain.text_splitter import RecursiveCharacterTextSplitter\n",
    "from langchain.schema import Document\n",
    "import requests\n",
    "from botocore.client import Config\n",
    "import ibm_boto3\n",
    "from langchain.prompts import PromptTemplate\n",
    "from langchain.tools import BaseTool\n",
    "\n",
    "# Watsonx\n",
    "WML_URL = \"https://us-south.ml.cloud.ibm.com\"\n",
    "WML_API_KEY = getpass.getpass(\" Enter Watsonx API Key: \")\n",
    "PROJECT_ID = input(\" Enter Watsonx Project ID: \")\n",
    "\n",
    "# Tavily\n",
    "TAVILY_API_KEY = getpass.getpass(\" Enter Tavily API Key: \")\n",
    "\n",
    "print(\" Credentials loaded.\")\n"
   ]
  },
  {
   "cell_type": "markdown",
   "metadata": {},
   "source": [
    "`os:` helps to work with the operating system.\n",
    "\n",
    "`io:` allows for working with streams of data.\n",
    "\n",
    "`getpass:` uses a safe way to capture sensitive information like API keys and doesn't display input to the screen.\n",
    "\n",
    "`PyPDF2.PdfReader:` allows for content extraction from PDFs.\n",
    "\n",
    "`langchain_ibm.WatsonxLLM:` allows us to use the IBM Watsonx Granite LLM easily within the LangChain framework.\n",
    "\n",
    "`langchain.embeddings.HuggingFaceEmbeddings:` takes a HuggingFace model and generates the textual embeddings, which is important for semantic search.\n",
    "\n",
    "`langchain.vectorstores.FAISS:` a library for efficient vector storage and similarity search and allows us to build a vector index and and query it.\n",
    "\n",
    "`langchain.text_splitter.RecursiveCharacterTextSplitter:` helps split large constituents of text into smaller chunks, which are needed to process documents that would not otherwise fit into memory.\n",
    "\n",
    "`langchain.schema.Document:` represents an arbitraty unit of text with associated metadata, thus it is a building block in langchain.\n",
    "\n",
    "`requests:` used for making HTTP requests externally to APIs.\n",
    "\n",
    "`botocore.client.Config:` configuration class used to define configuration settings for an AWS/IBM COS client.\n",
    "\n",
    "`ibm_boto3:` the IBM Cloud Object Storage SDK for Python that helps to interact with COS.\n",
    "\n",
    "`langchain.prompts.PromptTemplate:` offers a way to create reusable, structured prompts for language models.\n",
    "\n",
    "`langchain.tools.BaseTool:` the base class from which you build custom tools that can be given to LangChain agents for use.\n",
    "\n",
    "This step sets up all the tools and modules that we need to process text, create embeddings, store them in a vector database and interact with IBM's Watsonx LLM. This step will establish all the parts needed to create a real-world RAG system, capable of sourcing, querying and searching a range of data types."
   ]
  },
  {
   "cell_type": "markdown",
   "metadata": {
    "id": "bd9dbc36-bc17-4da3-90cc-c8ac4ba0b612"
   },
   "source": [
    "### Step 5. Load and process PDF from IBM COS\n",
    "\n",
    "In this step we will load the insurance policy PDF from IBM Cloud Object Storage (COS). The code reads the PDF, read the text content and split the text into smaller and manageable chunks. These chunks are converted into numerical embeddings and stored in a FAISS vector store, which prepares us for semantic similarity search later in local context to optimize retrieval results."
   ]
  },
  {
   "cell_type": "code",
   "execution_count": null,
   "metadata": {
    "id": "92f5d55d-a55f-4f6e-ab30-0d0d3300cab2"
   },
   "outputs": [],
   "source": [
    "\n",
    "import os, types\n",
    "import pandas as pd\n",
    "from botocore.client import Config\n",
    "import ibm_boto3\n",
    "\n",
    "def __iter__(self): return 0\n",
    "\n",
    "cos_client = ibm_boto3.client(service_name='s3',\n",
    "    ibm_api_key_id='YOUR_IBM_API_KEY',\n",
    "    ibm_auth_endpoint=\"https://iam.cloud.ibm.com/identity/token\",\n",
    "    config=Config(signature_version='oauth'),\n",
    "    endpoint_url='https://s3.direct.us-south.cloud-object-storage.appdomain.cloud')\n",
    "\n",
    "bucket = 'YOUR_BUCKET_NAME'\n",
    "object_key = 'YOUR_OBJECT_KEY'\n",
    "\n",
    "streaming_body_2 = cos_client.get_object(Bucket=bucket, Key=object_key)['Body']"
   ]
  },
  {
   "cell_type": "code",
   "execution_count": null,
   "metadata": {
    "id": "8c449983-bdad-43fc-8d7c-dff0441a516e"
   },
   "outputs": [],
   "source": [
    "pdf_bytes = io.BytesIO(streaming_body_2.read())\n",
    "\n",
    "reader = PdfReader(pdf_bytes)\n",
    "text = \"\"\n",
    "for page in reader.pages:\n",
    "    extracted = page.extract_text()\n",
    "    if extracted:\n",
    "        text += extracted\n",
    "\n",
    "print(f\" Extracted {len(text)} characters from PDF.\")\n",
    "\n"
   ]
  },
  {
   "cell_type": "code",
   "execution_count": null,
   "metadata": {
    "id": "6964c6b5-7792-46f4-a062-c17100de590f"
   },
   "outputs": [],
   "source": [
    "splitter = RecursiveCharacterTextSplitter(chunk_size=500, chunk_overlap=50)\n",
    "chunks = splitter.split_text(text)\n",
    "print(f\" Split into {len(chunks)} chunks.\")\n",
    "\n",
    "embeddings = HuggingFaceEmbeddings(model_name=\"sentence-transformers/all-MiniLM-L6-v2\")\n",
    "vectorstore = FAISS.from_texts(chunks, embeddings)\n",
    "\n",
    "print(f\" Created FAISS index.\")\n"
   ]
  },
  {
   "cell_type": "markdown",
   "metadata": {},
   "source": [
    "`ibm_boto3.client:` enables the client to interact with IBM Cloud Object Storage.\n",
    "\n",
    "`Bucket:` the name of the COS bucket that contains the PDF.\n",
    "\n",
    "`object_key:` the name of the PDF in the COS bucket.\n",
    "\n",
    "`cos_client.get_object(...).read():` retrieves the content of the PDF file in COS as bytes.\n",
    "\n",
    "`io.BytesIO:` converts the PDF raw bytes into an in-memory binary stream in a format that can be utilized by PdfReader.\n",
    "\n",
    "`PdfReader:` creates an object that can parse and extract text from the PDF.\n",
    "\n",
    "`page.extract_text():` extracts the text of a single page in the PDF.\n",
    "\n",
    "`RecursiveCharacterTextSplitter:` configured to split the extracted text into chunks of 500 characters with an overlap of 50 characters, therefore keeping everything in context.\n",
    "\n",
    "`splitter.split_text(text):` runs the splitting of all pages of the PDF text into the smaller chunks.\n",
    "\n",
    "`HuggingFaceEmbeddings:` loads a sentence transformer model that has been pre-trained to convert the text chunks into dense vector representations.\n",
    "\n",
    "`FAISS.from_texts(chunks, embeddings):` builds an in-memory FAISS index that enables chunks of text to be searchable by their semantic similarities.\n",
    "\n",
    "This step handles full ingestion of a PDF document from cloud to LLM-ready text and comfortable indexing for real-time retrieval."
   ]
  },
  {
   "cell_type": "markdown",
   "metadata": {
    "id": "6a423b60-a063-4027-851d-fe0cc0cfdb91"
   },
   "source": [
    "### Step 6. Initialize LLM and tools\n",
    "\n",
    "In this step, you'll configure the IBM Granite LLM to drive your agent's reasoning, and integrate it with the Tavily web search function. The parameters of the LLM are set up for factual, stable responses."
   ]
  },
  {
   "cell_type": "code",
   "execution_count": null,
   "metadata": {
    "id": "53a5581f-6430-4972-bb18-c9867d0efcb9"
   },
   "outputs": [],
   "source": [
    "llm = WatsonxLLM(\n",
    "    model_id=\"ibm/granite-3-2b-instruct\",\n",
    "    url=WML_URL,\n",
    "    apikey=WML_API_KEY,\n",
    "    project_id=PROJECT_ID,\n",
    "    params={\n",
    "        \"max_new_tokens\": 300,   # ~2-3 paragraphs, good for corrective RAG\n",
    "        \"temperature\": 0.2,       # low temperature = more factual, stable answers\n",
    "    }\n",
    ")\n",
    "\n",
    "print(\" Watsonx Granite LLM ready.\")\n"
   ]
  },
  {
   "cell_type": "code",
   "execution_count": null,
   "metadata": {
    "id": "252c569d-b928-4267-a523-d2348637f857"
   },
   "outputs": [],
   "source": [
    "class TavilySearch(BaseTool):\n",
    "    name: str = \"tavily_search\"\n",
    "    description: str = \"Search the web using Tavily for extra info.\"\n",
    "\n",
    "    def _run(self, query: str):\n",
    "        response = requests.post(\n",
    "            \"https://api.tavily.com/search\",\n",
    "            json={\"api_key\": TAVILY_API_KEY, \"query\": query}\n",
    "        )\n",
    "        response.raise_for_status()\n",
    "        return response.json()['results'][0]['content']\n",
    "\n",
    "\n",
    "tavily_tool = TavilySearch()"
   ]
  },
  {
   "cell_type": "markdown",
   "metadata": {},
   "source": [
    "`WatsonxLLM:` instantiates the LLM wrapper for IBM Watsonx, allowing interaction with Granite models.\n",
    "\n",
    "`model_id=\"ibm/granite-3-2b-instruct\":` the IBM Granite model (a 2.7 billion parameter instruct model) designed for instruction-based generative AI tasks.\n",
    "\n",
    "`class TavilySearch(BaseTool):` defines a custom LangChain tool for performing web searches using the Tavily API.\n",
    "\n",
    "`tavily_tool = TavilySearch():` creates an executable instance of the custom Tavily search tool.\n",
    "\n",
    "When we initialize WatsonxLLM, the `url`, `apikey`, and `project_id` values from our previously set up credentials are passed, in order to authenticate and connect to the service. Its parameters, such as `\"max_new_tokens\": 300`, limit the response length, and `\"temperature\": 0.2` controls output creativity, favoring more deterministic results.\n",
    "\n",
    "The `TavilySearch` class definition includes a description of its function. It's logic is contained within the `def _run(self, query: str)` method. In this method we make an HTTP POST request to the Tavily API endpoint, including the `TAVILY_API_KEY` and the search query in the JSON payload. We then verify if there  is any HTTP errors with `response.raise_for_status()` and parse the JSON response to access the content snippet from the first search result.\n",
    "\n",
    "This step sets up the language model for text generation, and includes an external web search tool as way to augment the language model knowledge."
   ]
  },
  {
   "cell_type": "markdown",
   "metadata": {
    "id": "80366e13-9477-46bf-8b26-e0275443beeb"
   },
   "source": [
    "### Step 7. Define prompt templates and helper functions\n",
    "\n",
    "This step defines the various prompt templates that guide the LLM's behavior at different stages of the RAG process. This includes prompts for scoring the relevance of internal document chunks, rewriting user queries for better web search, and a critical new prompt for verifying the source of web search results. Helper functions for scoring chunks and retrieving from the vector store are also defined."
   ]
  },
  {
   "cell_type": "code",
   "execution_count": null,
   "metadata": {
    "id": "5c271826-ba73-42e6-8066-e951312cebd4"
   },
   "outputs": [],
   "source": [
    "# Define Prompt Templates and Helper Functions\n",
    "\n",
    "# Prompt for scoring the relevance of retrieved chunks\n",
    "scoring_prompt_template = PromptTemplate.from_template(\n",
    "    \"\"\"\n",
    "You are an evaluator. Score the relevance of the context chunk to the given insurance question.\n",
    "\n",
    "Question: \"{query}\"\n",
    "\n",
    "Context:\n",
    "\\\"\\\"\\\"\n",
    "{chunk}\n",
    "\\\"\\\"\\\"\n",
    "\n",
    "Respond only in this format:\n",
    "Score: <0-5>\n",
    "Reason: <one line reason>\n",
    "\"\"\"\n",
    ")\n",
    "\n",
    "# Prompt for rewriting the user's query for better web search results\n",
    "rewrite_prompt_template = PromptTemplate.from_template(\n",
    "    \"\"\"\n",
    "You are a helpful assistant. Improve the following question to be clearer for an insurance information search.\n",
    "Focus on making the query more specific if possible.\n",
    "\n",
    "Original Question: \"{query}\"\n",
    "\n",
    "Rewrite it to be clearer:\n",
    "\"\"\"\n",
    ")\n",
    "\n",
    "# NEW: Prompt for verifying if Tavily context is from a relevant source (private policy vs. public program)\n",
    "CONTEXT_SOURCE_VERIFICATION_PROMPT = PromptTemplate.from_template(\n",
    "    \"\"\"\n",
    "You are an expert at identifying if a piece of text is from a general, public, or unrelated source\n",
    "versus a specific, private, or relevant policy document.\n",
    "\n",
    "Read the following context and determine if it appears to discuss general information,\n",
    "public health programs (like Medi-Cal, Medicaid, Medicare, NHS, government-funded programs, state-funded),\n",
    "or information that is clearly *not* specific to a private insurance policy like the one\n",
    "the user might be asking about (assuming the user is asking about their own private policy).\n",
    "\n",
    "If the context explicitly mentions or heavily implies public health programs, or is too general\n",
    "to be useful for a specific private policy question, respond with \"NO\".\n",
    "Otherwise (if it seems like it *could* be from a private policy context, a general insurance guide,\n",
    "or does not explicitly mention public programs), respond with \"YES\".\n",
    "\n",
    "Context:\n",
    "\\\"\\\"\\\"\n",
    "Response:\n",
    "\"\"\"\n",
    ")\n",
    "\n",
    "\n",
    "# Function to score chunks using the LLM\n",
    "def score_chunks(chunks, query):\n",
    "    scored = []\n",
    "    for chunk in chunks:\n",
    "        prompt = scoring_prompt_template.format(query=query, chunk=chunk)\n",
    "        response = llm(prompt).strip()\n",
    "\n",
    "        try:\n",
    "            # Extract score using more robust parsing\n",
    "            score_line = [line for line in response.splitlines() if \"Score:\" in line]\n",
    "            if score_line:\n",
    "                score = int(score_line[0].replace(\"Score:\", \"\").strip())\n",
    "            else:\n",
    "                score = 0 # Default to 0 if score line not found\n",
    "        except Exception as e:\n",
    "            print(f\" Could not parse score for chunk: {e}. Response: {response[:50]}...\")\n",
    "            score = 0 # Default to 0 on error\n",
    "\n",
    "        scored.append((chunk, score))\n",
    "    return scored\n",
    "\n",
    "# Function to retrieve documents from FAISS vector store\n",
    "def retrieve_from_vectorstore(query):\n",
    "    # Retrieve top 8 similar documents from your PDF content\n",
    "    docs = vectorstore.similarity_search(query, k=8)\n",
    "    return [doc.page_content for doc in docs]\n",
    "\n",
    "print(\" Prompt templates and helper functions defined.\")"
   ]
  },
  {
   "cell_type": "markdown",
   "metadata": {},
   "source": [
    "`PromptTemplate.from_template:` a utility function from LangChain to create a reusable template for constructing prompts.\n",
    "\n",
    "`scoring_prompt_template:` defines a prompt that instructs the LLM to act as an evaluator and assign a relevance score (0-5) to a given context chunk based on a question.\n",
    "\n",
    "`rewrite_prompt_template:` defines a prompt that guides the LLM to improve or make a user's original question clearer for searching.\n",
    "\n",
    "`CONTEXT_SOURCE_VERIFICATION_PROMPT:` defines a prompt that instructs the LLM to verify if a piece of text (for example, from web search) is from a private policy context or a general or public source.\n",
    "\n",
    "`def score_chunks(chunks, query):` defines a function that takes a list of text chunks and a query, then uses the LLM to score the relevance of each chunk.\n",
    "\n",
    "`def retrieve_from_vectorstore(query):` defines a function to retrieve the most similar documents from the FAISS vector store.\n",
    "\n",
    "Within the `score_chunks` function, an empty scored list is initialized. For each chunk, the `scoring_prompt_template` is formatted with the specific query and chunk. This formatted prompt is then sent to the LLM and the response is stripped. The function attempts to extract the integer score (a binary score if simplified to just relevant or not relevant) by identifying the \"Score:\" line in the model's response. The chunk along with its parsed or defaulted score is then added to the scored list. This part of the system acts as a retrieval evaluator or grader.\n",
    "\n",
    "The function `retrieve_from_vectorstore` implements a `vectorstore.similarity_search` to find the 8 most relevant document chunks based on the query and retrieves the `page_content` from these retrieved LangChain Document objects.\n",
    "\n",
    "This step builds the conceptual scaffolding for the Corrective RAG system, so that both the LLM will evaluate context and how to retrieve knowledge from both internal and external knowledge sources."
   ]
  },
  {
   "cell_type": "markdown",
   "metadata": {
    "id": "9643abb2-ce09-46bd-bd9d-bb92eea704d6"
   },
   "source": [
    "### Step 8. Implement the Corrective RAG logic\n",
    "\n",
    "**Initial retrieval:** The function scans the vector store of the PDF. \n",
    "\n",
    "**Context scoring:** The PDF chunks that have been retrieved are context scored according to relevancy. \n",
    "\n",
    "**Fallback to tavily:** If not enough relevant context from the PDF, it queries Tavily (web search).\n",
    "\n",
    "**Source verification:** An LLM-powered step checks if the Tavily results are relevant to a private policy before using them. This prevents misleading answers from public health programs.\n",
    "\n",
    "**Query rewriting and second tavily search:** If it's still no good context, it rewrites the query and tries Tavily search again.\n",
    "\n",
    "**Final decision:** If there is any relevant context, it is sent to the LLM with a (strict) prompt to create the answer. If there is no relevant context after all viable attempts, it sends a very polite denial."
   ]
  },
  {
   "cell_type": "code",
   "execution_count": null,
   "metadata": {
    "id": "6026617f-52a3-46b5-828c-2c54de95d629"
   },
   "outputs": [],
   "source": [
    "# Implement the Corrective RAG Logic\n",
    "\n",
    "MIN_CONTEXT_LENGTH = 100 # Adjust this based on how much minimal context you expect for a partial answer\n",
    "SIMILARITY_THRESHOLD = 3 # Only scores >= 3 used for vector store chunks\n",
    "\n",
    "def corrective_rag(query: str, policy_context_keywords: list = None):\n",
    "    \"\"\"\n",
    "    Executes the Corrective RAG process to answer insurance queries.\n",
    "\n",
    "    Args:\n",
    "        query (str): The user's question.\n",
    "        policy_context_keywords (list, optional): Keywords related to the specific policy\n",
    "                                                  (e.g., [\"Super Star Health\", \"Care Health Insurance\"]).\n",
    "                                                  Used to make external searches more specific. Defaults to None.\n",
    "    Returns:\n",
    "        str: The final answer generated by the LLM or a predefined refusal.\n",
    "    \"\"\"\n",
    "    retrieved_context_pieces = [] # To store all relevant pieces found throughout the process\n",
    "\n",
    "    # Initial vector search & Scoring (from your PDF)\n",
    "    chunks_from_vectorstore = retrieve_from_vectorstore(query)\n",
    "    scored_chunks_vector = score_chunks(chunks_from_vectorstore, query)\n",
    "    good_chunks_vector = [chunk for chunk, score in scored_chunks_vector if score >= SIMILARITY_THRESHOLD]\n",
    "    retrieved_context_pieces.extend(good_chunks_vector)\n",
    "\n",
    "    current_context = \"\\n\\n\".join(retrieved_context_pieces)\n",
    "    print(f\" Context length after initial vector scoring: {len(current_context)}\")\n",
    "\n",
    "    # Prepare specific query for Tavily by optionally adding policy keywords\n",
    "    tavily_search_query = query\n",
    "    if policy_context_keywords:\n",
    "        tavily_search_query = f\"{query} {' '.join(policy_context_keywords)}\"\n",
    "\n",
    "    # Fallback: Tavily direct search (only if current context is too short from vector store)\n",
    "    if len(current_context) < MIN_CONTEXT_LENGTH:\n",
    "        print(f\" Context too short from internal docs, trying Tavily direct with query: '{tavily_search_query}'...\")\n",
    "        tavily_context_direct = tavily_tool._run(tavily_search_query)\n",
    "\n",
    "        if tavily_context_direct:\n",
    "            # --- NEW STEP: Verify Tavily Context Source ---\n",
    "            # Ask the LLM if the Tavily result seems to be from a private policy context or a public program\n",
    "            verification_prompt = CONTEXT_SOURCE_VERIFICATION_PROMPT.format(context=tavily_context_direct)\n",
    "            is_relevant_source = llm(verification_prompt).strip().upper()\n",
    "\n",
    "            if is_relevant_source == \"YES\":\n",
    "                retrieved_context_pieces.append(tavily_context_direct)\n",
    "                current_context = \"\\n\\n\".join(retrieved_context_pieces) # Re-combine all good context\n",
    "                print(f\" Context length after Tavily direct (verified and added): {len(current_context)}\")\n",
    "            else:\n",
    "                print(f\" Tavily direct context source rejected (e.g., public program): {tavily_context_direct[:100]}...\")\n",
    "                # Context is NOT added, so it remains short and triggers the next fallback or final refusal\n",
    "\n",
    "    # Fallback: Rewrite query + Tavily (only if context is still too short after direct Tavily)\n",
    "    if len(current_context) < MIN_CONTEXT_LENGTH:\n",
    "        print(\" Context still too short, rewriting query and trying Tavily...\")\n",
    "        rewrite_prompt = rewrite_prompt_template.format(query=query)\n",
    "        improved_query = llm(rewrite_prompt).strip()\n",
    "\n",
    "        # Add policy keywords to the rewritten query too\n",
    "        if policy_context_keywords:\n",
    "            improved_query = f\"{improved_query} {' '.join(policy_context_keywords)}\"\n",
    "\n",
    "        print(f\" Rewritten query: '{improved_query}'\")\n",
    "        tavily_context_rewritten = tavily_tool._run(improved_query)\n",
    "\n",
    "        if tavily_context_rewritten:\n",
    "            # --- NEW STEP: Verify Rewritten Tavily Context Source ---\n",
    "            verification_prompt = CONTEXT_SOURCE_VERIFICATION_PROMPT.format(context=tavily_context_rewritten)\n",
    "            is_relevant_source = llm(verification_prompt).strip().upper()\n",
    "\n",
    "            if is_relevant_source == \"YES\":\n",
    "                retrieved_context_pieces.append(tavily_context_rewritten)\n",
    "                current_context = \"\\n\\n\".join(retrieved_context_pieces) # Re-combine all good context\n",
    "                print(f\" Context length after rewritten Tavily (verified and added): {len(current_context)}\")\n",
    "            else:\n",
    "                print(f\" Tavily rewritten context source rejected (e.g., public program): {tavily_context_rewritten[:100]}...\")\n",
    "\n",
    "    # --- Final Decision Point ---\n",
    "    # Now, `current_context` holds ALL the \"good\" and \"verified\" context we managed to gather.\n",
    "    # The decision to call the LLM for an answer or give a hard refusal is based on `current_context`'s length.\n",
    "\n",
    "    # Final check for absolutely no good context\n",
    "    # This triggers only if *no* relevant internal or external context was found or verified.\n",
    "    if len(current_context.strip()) == 0:\n",
    "        print(\" No good context found after all attempts. Returning absolute fallback.\")\n",
    "        return (\n",
    "            \"Based on the information provided, there is no clear mention of this specific detail \"\n",
    "            \"in the policy documents available.\"\n",
    "        )\n",
    "\n",
    "    # If we have *any* context (even if short), pass it to the LLM to process\n",
    "    # The LLM will then decide how to phrase the answer based on its prompt instructions\n",
    "    # (exact, partial, or full refusal if context is irrelevant or insufficient based on its own reasoning).\n",
    "    final_prompt = (\n",
    "        f\"You are a careful insurance expert.\\n\"\n",
    "        f\"Use ONLY the following context to answer the user's question. If the context is too short \"\n",
    "        f\"or does not contain the answer, you must indicate that.\\n\"\n",
    "        f\"Context:\\n```\\n{current_context}\\n```\\n\\n\" # Pass the gathered context\n",
    "        f\"User's Question: {query}\\n\\n\" # Pass the original query for the LLM's reference\n",
    "        f\"NEVER add new details that are not in the context word-for-word.\\n\"\n",
    "        f\"If the context clearly says the answer, give it exactly as written in the context, but in prose.\\n\"\n",
    "        f\"If the context does not mention the topic at all, or the answer is not in the context, say:\\n\"\n",
    "        f\"\\\"I'm sorry, but this information is not available in the provided policy details.\\\"\\n\"\n",
    "        f\"If the context partially mentions the topic but does not directly answer the specific question (e.g., mentions 'dental' but not 'wisdom tooth removal'), reply like this:\\n\"\n",
    "        f\"\\\"Based on the information provided, here’s what is known: [quote relevant details from the context related to the broad topic.] \"\n",
    "        f\"There is no clear mention of the specific detail asked about.\\\"\\n\"\n",
    "        f\"Do NOT assume. Do NOT make up extra information.\\n\"\n",
    "        f\"Do NOT generate extra questions or conversational filler.\\n\"\n",
    "        f\"Final Answer:\"\n",
    "    )\n",
    "\n",
    "    return llm(final_prompt)\n",
    "\n",
    "print(\" Corrective RAG logic implemented.\")"
   ]
  },
  {
   "cell_type": "markdown",
   "metadata": {},
   "source": [
    "The first pass of the `policy_context_keywords` parameter allows you to add specific terms from your policy (for example, its name, insurer) to help narrow searches for Tavily.\n",
    "\n",
    "`MIN_CONTEXT_LENGTH:` defines the minimum acceptable length of retrieved context.\n",
    "\n",
    "`SIMILARITY_THRESHOLD:` defines the minimum relevance score a chunk must have to be considered \"good.\"\n",
    "\n",
    "`def corrective_rag(...):` defines the main function that orchestrates the entire Corrective RAG [workflow](https://www.ibm.com/think/topics/workflow).\n",
    "\n",
    "The `corrective_rag` function begins by creating `retrieved_context_pieces` to gather relevant context. It first fetches and scores `chunks_from_vectorstore` from the PDF vector store based on the query, then `scored_chunks_vector` evaluates their relevance using the language model. Only `good_chunks_vector` that meet the `SIMILARITY_THRESHOLD` are kept. The `current_context` is then compiled from these pieces.\n",
    "\n",
    "If the current_context is below `MIN_CONTEXT_LENGTH`, the system attempts a web search. It constructs `tavily_search_query`, potentially incorporating `policy_context_keywords`. A direct search (`tavily_context_direct`) is performed. Crucially, a `verification_prompt` is created and sent to the LLM to determine if the web search result (`is_relevant_source`)  is from a private policy rather than a public program. If it's YES, the context is added.\n",
    "\n",
    "If the context remains insufficient, the system prepares to rewrite the query. It uses `rewrite_prompt` to get an `improved_query` from the LLM, then performs a second web search (`tavily_context_rewritten`). This new context also undergoes the same source verification.\n",
    "\n",
    "Finally, `if len(current_context.strip()) == 0:` is a last check. If no relevant context is found after all attempts, a predefined refusal message is returned. Otherwise, a `final_prompt` is created with all the verified context and sent to the language model to generate it's final answer.  \n",
    "\n",
    "The entire `corrective_rag` function handles the staged retrieving, scoring and verifying functions of Corrective RAG in detail. It allows for constant updating of the knowledge base and knowledge stream, and brings the benefit of robustness and contextually aware answers."
   ]
  },
  {
   "cell_type": "markdown",
   "metadata": {
    "id": "1e29b6c8-6181-4d52-badc-0a4cd7df1be1"
   },
   "source": [
    "### Step 9. Test the system\n",
    "\n",
    "Finally, execute your `corrective_rag` function with a sample query. It's crucial to provide `policy_context_keywords` that are specific to your PDF document. These keywords will help the Tavily web search become more relevant to your actual policy, preventing general or public health program information from polluting your context.\n",
    "\n",
    "Observe the print statements for context length and verification results to understand the flow of information."
   ]
  },
  {
   "cell_type": "code",
   "execution_count": null,
   "metadata": {
    "id": "254f35d4-f0e2-42bc-a2df-9d3851730eaa"
   },
   "outputs": [],
   "source": [
    "query = \"How does the policy cover for In-Patient Hospitalisation?\"\n",
    "result = corrective_rag(query)\n",
    "\n",
    "print(\"\\n FINAL ANSWER:\\n\")\n",
    "print(result)"
   ]
  },
  {
   "cell_type": "code",
   "execution_count": null,
   "metadata": {
    "id": "976abaff-6839-48dc-bf39-a2b8784f7829"
   },
   "outputs": [],
   "source": [
    "query = \"Does this insurance cover hospitalization for COVID-19 and what are the exclusions?\"\n",
    "result = corrective_rag(query)\n",
    "\n",
    "print(\"\\n FINAL ANSWER:\\n\")\n",
    "print(result)\n"
   ]
  },
  {
   "cell_type": "markdown",
   "metadata": {},
   "source": [
    "`policy_specific_keywords = [\"Super Star Health\", \"Care Health Insurance\"]:` this defines a list of keywords which are relevant to uploaded insurance policy, helping to narrow down web search results.\n",
    "\n",
    "`query = \"...\":` defines the particular question a user might ask.\n",
    "\n",
    "`result = corrective_rag(query, policy_context_keywords=policy_specific_keywords):` calls the main corrective_rag function and passes the user's query and policy-specific keywords to begin the entire RAG process.\n",
    "\n",
    "`print(\"\\n FINAL ANSWER (...)\"):` displays a clear header before printing the generated answer.\n",
    "\n",
    "`print(result):` this outputs the final answer returned by the corrective_rag system.\n",
    "\n",
    "This step shows how to invoke the complete Corrective RAG system with a sample query and keywords, demonstrating its end-to-end functionality in a real-world scenario."
   ]
  },
  {
   "cell_type": "markdown",
   "metadata": {
    "id": "71ed0cf3-e4ec-4f1c-adf8-56b673365710"
   },
   "source": [
    "## Key takeaways\n",
    "\n",
    "The Corrective RAG implemented fully coordinated an internal PDF knowledge base with external service (Tavily) to retrieve comprehensive information for complex requests. \n",
    "\n",
    "It accurately evaluated and filtered through retrieved context using LLM based scoring and critical source verification to ensure valid and reliable information is being used. \n",
    "\n",
    "The system demonstrated the ability to improve external search by intelligently rewriting user queries to request more targeted and higher quality information. \n",
    "\n",
    "Using constrained generation, a reliable and contextually accurate answer was commonly generated and the system politely refused to answer if there was not enough known verified information. \n",
    "\n",
    "This example demonstrated how LangChain and IBM Granite LLMs on Watsonx can be used to develop powerful and trustworthy AI-based applications in sensitive domains such as asking questions about insurance policies."
   ]
  }
 ],
 "metadata": {
  "kernelspec": {
   "display_name": "Python 3.11",
   "language": "python",
   "name": "python3"
  },
  "language_info": {
   "codemirror_mode": {
    "name": "ipython",
    "version": 3
   },
   "file_extension": ".py",
   "mimetype": "text/x-python",
   "name": "python",
   "nbconvert_exporter": "python",
   "pygments_lexer": "ipython3",
   "version": "3.11.13"
  }
 },
 "nbformat": 4,
 "nbformat_minor": 4
}
