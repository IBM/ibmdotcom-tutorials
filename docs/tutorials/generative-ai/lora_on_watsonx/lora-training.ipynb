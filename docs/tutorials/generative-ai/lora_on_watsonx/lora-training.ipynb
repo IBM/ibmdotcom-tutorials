{
 "cells": [
  {
   "cell_type": "markdown",
   "metadata": {
    "id": "1oHFCsV0z-Jw"
   },
   "source": [
    "# Fine-tuning Granite with LoRA\n",
    "\n",
    "LoRA is an efficient method of fine tuning transformers and LLMs which reduces the number of trainable parameters that increases the speed and resource usage of training while retaining the same quality of output. Instead of updating all model weights in a neural network during a full finetuning, LoRA freezes the original pre-trained weights and adds small, trainable low-rank matrices that approximate the changes needed for the new task.\n",
    "\n",
    "One additional benefit of LoRA is that since the pre-trained model weights from the original model are kept frozen, the generated LoRA weight matrix is lightweight and portable and can easily be stored. \n",
    "\n",
    "In this step-by-step tutorial, you'll use [LLaMa Factory](https://llamafactory.readthedocs.io/). LLaMa Factory is a platform for training and fine-tuning LLMs that allows users to tune LLMs on domain-specific datasets, evaluate model performance for specific tasks, and serve models. It has both a web UI and CLI that is user-friendly and supports over 100 LLMs. The platform supports datasets in Alpaca and ShareGPT formats. LLaMa Factory isn’t the only way to fine-tune LLMs, the PEFT library for Parameter-efficient fine-tuning is another option for updating large models. PEFT provides the ability to perform quantized LoRA (QLoRA) to even further compact the fine-tuned model. In this tutorial, you’ll use a non-quantized version of Granite 3.3.\n",
    "\n",
    "Although LLaMa Factory can runs without the use of extensive compute resources, it does require a GPU and a great deal of memory. In this tutorial you'll use LLaMa Factory on watsonx to provide GPU resources and storage for generated adapter. "
   ]
  },
  {
   "cell_type": "markdown",
   "metadata": {},
   "source": [
    "## Watson Studio Config\n",
    "\n",
    "a. Log in to [watsonx.ai](https://dataplatform.cloud.ibm.com/registration/stepone?context=wx&apps=all) using your IBM Cloud account.\n",
    "\n",
    "b. Create a [watsonx.ai project](https://www.ibm.com/docs/en/watsonx/saas?topic=projects-creating-project#create-a-project).\n",
    "    >Take note of your project ID in project > Manage > General > Project ID.  \n",
    "    You'll need this ID for this tutorial.\n",
    "\n",
    "c. Create a [watsonx.ai Runtime](https://cloud.ibm.com/catalog/services/watsonxai-runtime) service instance. For this tutorial you'll need to create a paid instance to access a GPU.\n",
    "\n",
    "d. Generate a watsonx [API Key](https://dataplatform.cloud.ibm.com/docs/content/wsj/analyze-data/ml-authentication.html).\n",
    "\n",
    "e. Associate the watsonx.ai Runtime service to the project you created in [watsonx.ai](https://dataplatform.cloud.ibm.com/docs/content/wsj/getting-started/assoc-services.html?context=cpdaas).\n",
    "\n",
    "\n",
    "## Cloud Object Storage\n",
    "\n",
    "a. In order to create COS for your notebook you'll go to https://cloud.ibm.com/ and then select \"Create Instance\".\n",
    "\n",
    "b. That will take you to a Create dialog where you can select a pricing plan. For this tutorial a Standard Plan will be adequate.\n",
    "\n",
    "c. Then give your COS Instance a name. \n",
    "\n",
    "d. Once you've created your Instance, go back to the Project and select \"New Asset\", then select \"Connect to a data source\". \n",
    "\n",
    "[Connect to Data Source](connect_to_data.png)\n",
    "\n",
    "e. Select \"Cloud Object Storage\" \n",
    "\n",
    "f. In the next dialogue, select the Instance that you created in steps **a**-**d** by name.\n",
    "\n",
    "g. Select \"Create\".\n",
    "\n",
    "### Create a Jupyter Notebook\n",
    "\n",
    "Create a Jupyter Notebook.\n",
    "\n",
    "a. Select the Assets tab in your project environment.\n",
    "\n",
    "b. Click New asset.\n",
    "\n",
    "c. Select the Working with models option in the left panel.\n",
    "\n",
    "d. Click Working with data and models using Python and R notebooks.\n",
    "\n",
    "e. Enter a name for your notebook in the Name field. Choose Runtime 23.1 on Python (4 vCPU 16 GB RAM) to define the configuration.\n",
    "\n",
    "f. Select Create."
   ]
  },
  {
   "cell_type": "markdown",
   "metadata": {
    "id": "lr7rB3szzhtx"
   },
   "source": [
    "## Install Dependencies"
   ]
  },
  {
   "cell_type": "markdown",
   "metadata": {},
   "source": [
    "Next, you'll install dependencies onto the runtime. First, Llama-Factory in order to generate the Low Rank Adapters, and then Pandas to format the dataset in Alpaca format."
   ]
  },
  {
   "cell_type": "code",
   "execution_count": null,
   "metadata": {
    "id": "giM74oK1rRIH",
    "scrolled": true
   },
   "outputs": [],
   "source": [
    "!pip install -q llamafactory 2>/dev/null\n",
    "# pandas needed to format the dataset\n",
    "!pip install -q --upgrade pandas 2>/dev/null"
   ]
  },
  {
   "cell_type": "markdown",
   "metadata": {
    "id": "H9RXn_YQnn9f"
   },
   "source": [
    "### Check GPU environment\n",
    "\n",
    "Next, you'll ensure that your watsonx environment has provides a Torch compatible GPU that will be required to use LLaMa-Factory."
   ]
  },
  {
   "cell_type": "code",
   "execution_count": 2,
   "metadata": {
    "id": "ZkN-ktlsnrdU"
   },
   "outputs": [],
   "source": [
    "import torch\n",
    "\n",
    "try:\n",
    "  assert torch.cuda.is_available() is True\n",
    "except AssertionError:\n",
    "  print(\"No GPU found, please set up a GPU before using LLaMA Factory.\")"
   ]
  },
  {
   "cell_type": "markdown",
   "metadata": {},
   "source": [
    "If the above code snippet doesn't print \"No GPU found\" then you're good to go.\n",
    "\n",
    "Next you'll import libraries to manipulate data and to create the LLaMa Factory configuration file used for training."
   ]
  },
  {
   "cell_type": "code",
   "execution_count": 3,
   "metadata": {
    "colab": {
     "base_uri": "https://localhost:8080/"
    },
    "id": "hVlcMQ4E3Rq3",
    "outputId": "17fa52e4-729a-48eb-ed83-c21fe8273647"
   },
   "outputs": [],
   "source": [
    "# Import libraries\n",
    "import pandas as pd\n",
    "import json\n",
    "import yaml"
   ]
  },
  {
   "cell_type": "markdown",
   "metadata": {
    "id": "fY6mXxpgjwAE"
   },
   "source": [
    "## Download and Process MedReason Dataset\n",
    "\n",
    "In this tutorial you'll use a part of the [MedReason](https://arxiv.org/abs/2504.00993) dataset. MedReason is an in-depth medical reasoning dataset designed to help enable explainable real-world medical problem-solving in large language models (LLMs). While MedReason focuses on the reasoning of a model and validating the chains of thought that a model uses, in this case it is also helpful to provide a dataset that is too recent to be included in the training data for Granite 3.3.\n",
    "\n",
    "Granite 3.3 has been designed to learn through fine-tuning, both of which will be run with LLaMa Factory. Granite models can be efficiently fine-tuned even with limited computing resources.\n",
    "\n",
    "You'll load a selection of the MedReason dataset from Github:"
   ]
  },
  {
   "cell_type": "code",
   "execution_count": null,
   "metadata": {
    "id": "d237842d-93a5-4b2b-863c-685da13e7316"
   },
   "outputs": [],
   "source": [
    "from datasets import load_dataset\n",
    "\n",
    "train_dataset = pd.read_json(\"https://raw.githubusercontent.com/UCSC-VLAA/MedReason/refs/heads/main/eval_data/medbullets_op4.jsonl\", lines=True)"
   ]
  },
  {
   "cell_type": "markdown",
   "metadata": {},
   "source": [
    "LLaMa Factory requires the dataset to be preformatted in Alpaca or ShareGPT formats. Thus, we reformat the question and answer fields of the original legal dataset to contain instruction, input, and output fields as per [Alpaca format]((https://github.com/hiyouga/LLaMA-Factory/tree/main/data#alpaca-format)).\n",
    "\n",
    "Alpaca is a JSON format to represent an instruction, user input, and system output like so:\n",
    "\n",
    "```\n",
    "{\n",
    "    \"instruction\": \"user instruction (required)\",\n",
    "    \"input\": \"user input (optional)\",\n",
    "    \"output\": \"model response (required)\",\n",
    "    \"system\": \"system prompt (optional)\",\n",
    "}\n",
    "```\n",
    "\n",
    "Since MedReason isn't formatted in Alpaca, you'll create an Alpaca dataset in the next cell:"
   ]
  },
  {
   "cell_type": "code",
   "execution_count": null,
   "metadata": {
    "colab": {
     "base_uri": "https://localhost:8080/"
    },
    "id": "noJetjnDjvaO",
    "outputId": "dcee37ba-c809-47f8-d6cb-82a3c8a8312f"
   },
   "outputs": [],
   "source": [
    "!mkdir -p data\n",
    "\n",
    "# Format Legal Dataset to Alpaca Format\n",
    "formatted_data = [\n",
    "    {\n",
    "        \"instruction\": row[\"question\"] + str(row[\"options\"]),\n",
    "        \"input\": \"\",\n",
    "        \"output\": row[\"answer\"]\n",
    "    }\n",
    "    for _, row in train_dataset.iterrows()\n",
    "]\n",
    "\n",
    "# output formatted MedReason dataset\n",
    "with open(\"data/med.json\", \"w\", encoding=\"utf-8\") as f:\n",
    "  json.dump(formatted_data, f, indent=2, ensure_ascii=False)"
   ]
  },
  {
   "cell_type": "markdown",
   "metadata": {},
   "source": [
    "Llama Factory utilizes a specific file to understand how to load datasets for training. This file must exist at path `data/dataset_info.json`. Thus, we must create a `dataset_info.json` file that includes the path to the new formatted medical dataset we created in order for the Llama Factory CLI to access the dataset. For details on the `dataset_info.json` file see the [documentation](https://github.com/hiyouga/LLaMA-Factory/blob/v0.9.2/data/README.md). Within the Llama Factory repository there are datasets available to use, however, since we are using our own custom dataset we must add our dataset to the JSON file."
   ]
  },
  {
   "cell_type": "code",
   "execution_count": 6,
   "metadata": {
    "id": "4w7VVtgL4Rn0"
   },
   "outputs": [],
   "source": [
    "# \"med\" will be the identifier for the dataset \n",
    "# which points to the local file that contains the dataset\n",
    "dataset_info = {\n",
    "  \"med\": {\n",
    "    \"file_name\": \"med.json\",\n",
    "  }\n",
    "}\n",
    "\n",
    "# Create dataset_info.json with legal dataset so can reference with llama factory\n",
    "with open(\"data/dataset_info.json\", \"w\", encoding=\"utf-8\") as f:\n",
    "  json.dump(dataset_info, f, indent=2, ensure_ascii=False)"
   ]
  },
  {
   "cell_type": "markdown",
   "metadata": {},
   "source": [
    "Now that the Alpaca formatted JSON object has been saved into the environment, you're ready to start training."
   ]
  },
  {
   "cell_type": "markdown",
   "metadata": {
    "id": "rgR3UFhB0Ifq"
   },
   "source": [
    "## LoRA fine-tune model with LLaMa Factory via Command Line\n",
    "\n",
    "The next step is to set up the training configurations and then write the configs to a YAML file that LLaMa-Factory uses to run training.\n",
    "\n",
    "Now you'll run Supervised Fine-Tuning (SFT) on the subset of the MedReason dataset. LLaMa Factory supports several different types of training. Some of the most commonly used are:\n",
    "\n",
    "Pre-Training: where a model undergoes initial training using an extensive dataset to generate responses to fundamental language and ideas.\n",
    "Supervised Fine-Tuning (SFT): where a model receives additional training with annotated data to enhance precision for a particular function or on a specific topic.\n",
    "Reward Modeling: where the model acquires knowledge on how to achieve a specific incentive or reward that will inform its output\n",
    "Proximal Policy Optimization (PPO) Training: is a reinforcement learning (RL) technique where the model is further honed through policy gradient techniques to boost its effectiveness in a specific setting.\n",
    "\n",
    "There are many settings used in configuring LoRA but a few of the most commonly used are:\n",
    "\n",
    "Learning Rate (LR): the learning rate determines how significantly model parameters are updated during each iteration of training. A higher LR can speed up convergence by allowing larger updates but risks overshooting the optimal solution or oscillating around it. A lower LR leads to slower but more stable convergence, reducing the risk of instability near the optimal solution.\n",
    "\n",
    "loraplus_lr_ratio: this sets the the ratio of learning rates. Generally it should be > 1, but the optimal choice of loraplus_lr_ratio is model and task dependent. As a rule of thumb, loraplus_lr_ratio should be larger when the task is more difficult and the model needs to update its features to learn well. In this case, it helps to make the learning rate slightly smaller (e.g., by a factor of 2) than typical vanilla LoRA learning rates.\n",
    "\n",
    "Effective Batch Size: Correctly configuring your batch size is critical for balancing training stability with the VRAM limitations of the GPU you're using. The Effective Batch Size is set by the product of `per_device_train_batch_size` * `gradient_accumulation_steps`. A larger Effective Batch Size generally leads to smoother, more stable training, but also may require more VRAM than your GPU contains. A smaller Effective Batch Size may introduce more variance."
   ]
  },
  {
   "cell_type": "code",
   "execution_count": null,
   "metadata": {
    "colab": {
     "base_uri": "https://localhost:8080/"
    },
    "id": "CS0Qk5OR0i4Q",
    "outputId": "b958af33-cbb5-4718-91c1-42f4184a921c"
   },
   "outputs": [],
   "source": [
    "# setup training configurations\n",
    "loraconfig = dict(\n",
    "  stage=\"sft\",                                                      # do supervised fine-tuning\n",
    "  do_train=True,                                                    # we're actually training\n",
    "  model_name_or_path=\"ibm-granite/granite-3.3-2b-instruct\",         # use IBM Granite 3.3 2b instruct model\n",
    "  dataset=\"med\",                                                    # use medical datasets we created\n",
    "  template=\"granite3\",                                              # use granite3 prompt template\n",
    "  finetuning_type=\"lora\",                                           # use LoRA adapters to save memory\n",
    "  lora_target=\"all\",                                                # attach LoRA adapters to all linear layers\n",
    "  loraplus_lr_ratio=16.0,                                           # use LoRA+ algorithm with lambda=16.0\n",
    "  output_dir=\"granite3_lora\",                                       # the path to save LoRA adapters\n",
    "  per_device_train_batch_size=4,                                    # the batch size\n",
    "  gradient_accumulation_steps=2,                                    # the gradient accumulation steps\n",
    "  learning_rate=1e-4,                                               # the learning rate\n",
    "  num_train_epochs=3.0,                                             # the epochs of training\n",
    "  max_samples=500,                                                  # use 500 examples in each dataset\n",
    "  fp16=True,                                                        # use float16 mixed precision training\n",
    "  report_to=\"none\",                                                 # disable wandb logging\n",
    ")\n",
    "\n",
    "# create training config file to run with llama factory\n",
    "with open(\"train_granite3_lora_med.yaml\", \"w\", encoding=\"utf-8\") as file:\n",
    "  yaml.dump(loraconfig, file, indent=2)"
   ]
  },
  {
   "cell_type": "markdown",
   "metadata": {},
   "source": [
    "The next cell will train the model and may take up to 10 minutes to run:"
   ]
  },
  {
   "cell_type": "code",
   "execution_count": null,
   "metadata": {
    "id": "6bc631fc-dc96-4654-b7ee-1fa9c25c6a89",
    "scrolled": true
   },
   "outputs": [],
   "source": [
    "!llamafactory-cli train train_granite3_lora_med.yaml;"
   ]
  },
  {
   "cell_type": "markdown",
   "metadata": {},
   "source": [
    "Next you'll create two methods to upload and download data from IBM Cloud Object Storage:"
   ]
  },
  {
   "cell_type": "code",
   "execution_count": null,
   "metadata": {
    "id": "fb1fae38-6aa7-4ea3-92ac-f8b9dbbc16dd"
   },
   "outputs": [],
   "source": [
    "from ibm_botocore.client import Config\n",
    "import ibm_boto3\n",
    "\n",
    "def upload_file_cos(credentials, local_file_name, key):  \n",
    "    cos = ibm_boto3.client(service_name='s3',\n",
    "    ibm_api_key_id=credentials['IBM_API_KEY_ID'],\n",
    "    ibm_service_instance_id=credentials['IAM_SERVICE_ID'],\n",
    "    ibm_auth_endpoint=credentials['IBM_AUTH_ENDPOINT'],\n",
    "    config=Config(signature_version='oauth'),\n",
    "    endpoint_url=credentials['ENDPOINT'])\n",
    "    try:\n",
    "        res=cos.upload_file(Filename=local_file_name, Bucket=credentials['BUCKET'],Key=key)\n",
    "    except Exception as e:\n",
    "        print(Exception, e)\n",
    "    else:\n",
    "        print(' File Uploaded')\n",
    "\n",
    "\n",
    "def download_file_cos(credentials,local_file_name,key):  \n",
    "    cos = ibm_boto3.client(service_name='s3',\n",
    "    ibm_api_key_id=credentials['IBM_API_KEY_ID'],\n",
    "    ibm_service_instance_id=credentials['IAM_SERVICE_ID'],\n",
    "    ibm_auth_endpoint=credentials['IBM_AUTH_ENDPOINT'],\n",
    "    config=Config(signature_version='oauth'),\n",
    "    endpoint_url=credentials['ENDPOINT'])\n",
    "    try:\n",
    "        res=cos.download_file(Bucket=credentials['BUCKET'],Key=key,Filename=local_file_name)\n",
    "    except Exception as e:\n",
    "        print(Exception, e)\n",
    "    else:\n",
    "        print('File Downloaded')"
   ]
  },
  {
   "cell_type": "markdown",
   "metadata": {},
   "source": [
    "The next cell contains the credentials of Cloud Object Storage (COS).\n",
    "\n",
    "In your Notebook, click on the Code Snippets tab in the right corner. This will bring up a menu with several options for generated code snippets. Select \"Read Data\":\n",
    "\n",
    "[Read Data option](read_data.png)\n",
    "\n",
    "This will bring up a menu to select a data file. If you haven't uploaded anything to your COS Instance you'll need to upload something in order to generate credentials. That can be a classic dataset like `wine.csv`.\n",
    "\n",
    "[Select Data option](select_data.png)\n",
    "\n",
    "After clicking \"Select\" you can now generate the credentials snippet under the \"Load as\" option:\n",
    "\n",
    "[Load as option](insert_credentials.png)\n",
    "\n",
    "This will generate a cell like the one below with the correct assets:"
   ]
  },
  {
   "cell_type": "markdown",
   "metadata": {},
   "source": [
    "```\n",
    "# @hidden_cell \n",
    "# The following code contains metadata for a file in your project storage. You might want to remove secret properties before you share your notebook.# \n",
    "storage_metadata = { \n",
    "    'IAM_SERVICE_ID': '<>', \n",
    "    'IAM_API_KEY_ID': '<>', \n",
    "    'ENDPOINT': '<>', \n",
    "    'IBM_AUTH_ENDPOINT': '<>', \n",
    "    'BUCKET ': '<>' \n",
    "}\n",
    "```"
   ]
  },
  {
   "cell_type": "markdown",
   "metadata": {},
   "source": [
    "Now zip folder containing the adapter and the information about the adapter itself:"
   ]
  },
  {
   "cell_type": "code",
   "execution_count": 12,
   "metadata": {
    "id": "c86a0f8c-8cf5-4acb-847d-e0c16d5c9eb9"
   },
   "outputs": [
    {
     "name": "stdout",
     "output_type": "stream",
     "text": [
      "  adding: granite3_lora/ (stored 0%)\n",
      "  adding: granite3_lora/adapter_config.json (deflated 56%)\n",
      "  adding: granite3_lora/trainer_log.jsonl (deflated 29%)\n",
      "  adding: granite3_lora/training_args.bin (deflated 51%)\n",
      "  adding: granite3_lora/added_tokens.json (deflated 58%)\n",
      "  adding: granite3_lora/special_tokens_map.json (deflated 78%)\n",
      "  adding: granite3_lora/vocab.json (deflated 57%)\n",
      "  adding: granite3_lora/trainer_state.json (deflated 59%)\n",
      "  adding: granite3_lora/tokenizer_config.json (deflated 81%)\n",
      "  adding: granite3_lora/merges.txt (deflated 51%)\n",
      "  adding: granite3_lora/adapter_model.safetensors (deflated 8%)\n",
      "  adding: granite3_lora/README.md (deflated 47%)\n",
      "  adding: granite3_lora/train_results.json (deflated 39%)\n",
      "  adding: granite3_lora/tokenizer.json (deflated 81%)\n",
      "  adding: granite3_lora/checkpoint-114/ (stored 0%)\n",
      "  adding: granite3_lora/checkpoint-114/adapter_config.json (deflated 56%)\n",
      "  adding: granite3_lora/checkpoint-114/training_args.bin (deflated 51%)\n",
      "  adding: granite3_lora/checkpoint-114/added_tokens.json (deflated 58%)\n",
      "  adding: granite3_lora/checkpoint-114/rng_state.pth (deflated 25%)\n",
      "  adding: granite3_lora/checkpoint-114/special_tokens_map.json (deflated 78%)\n",
      "  adding: granite3_lora/checkpoint-114/scaler.pt (deflated 60%)\n",
      "  adding: granite3_lora/checkpoint-114/vocab.json (deflated 57%)\n",
      "  adding: granite3_lora/checkpoint-114/trainer_state.json (deflated 56%)\n",
      "  adding: granite3_lora/checkpoint-114/tokenizer_config.json (deflated 81%)\n",
      "  adding: granite3_lora/checkpoint-114/optimizer.pt (deflated 8%)\n",
      "  adding: granite3_lora/checkpoint-114/merges.txt (deflated 51%)\n",
      "  adding: granite3_lora/checkpoint-114/adapter_model.safetensors (deflated 8%)\n",
      "  adding: granite3_lora/checkpoint-114/README.md (deflated 66%)\n",
      "  adding: granite3_lora/checkpoint-114/tokenizer.json (deflated 81%)\n",
      "  adding: granite3_lora/checkpoint-114/scheduler.pt (deflated 53%)\n",
      "  adding: granite3_lora/all_results.json (deflated 39%)\n"
     ]
    }
   ],
   "source": [
    "!zip -r \"granite3_lora.zip\" \"granite3_lora\""
   ]
  },
  {
   "cell_type": "markdown",
   "metadata": {},
   "source": [
    "Check that you've created the zip correctly:"
   ]
  },
  {
   "cell_type": "code",
   "execution_count": null,
   "metadata": {
    "id": "50d22b0b-e243-4e4a-b729-1a1064570e87"
   },
   "outputs": [],
   "source": [
    "!ls"
   ]
  },
  {
   "cell_type": "markdown",
   "metadata": {},
   "source": [
    "Now it's time to upload the results of the LoRA SFT so that you can use it elsewhere without needing to re-run LLaMa Factory training."
   ]
  },
  {
   "cell_type": "code",
   "execution_count": null,
   "metadata": {
    "id": "290108a7-f5ac-4a71-9dc0-222e52ffdcd5"
   },
   "outputs": [
    {
     "name": "stdout",
     "output_type": "stream",
     "text": [
      " File Uploaded\n"
     ]
    }
   ],
   "source": [
    "upload_file_cos(storage_metadata, \"granite3_lora.zip\", \"granite3_lora.zip\")"
   ]
  },
  {
   "cell_type": "markdown",
   "metadata": {},
   "source": [
    "## Infer with the Granite Base Model\n",
    "\n",
    "Now it's time to run inference. The inference will be backed by [HuggingFace generation](https://huggingface.co/docs/transformers/en/main_classes/text_generation), which provides a `model.generate()` method for text generation using PyTorch.\n",
    "\n",
    "This tutorial shows asking the base model a medical question pulled from the MedReason dataset. It's reasonable that the base model may not be able to answer this question since it is a general-purpose model trained on large, diverse datasets. \n",
    "\n",
    "Let's ask the chatbot the question: `What does assessing unit mean?`\n",
    "\n",
    "Note: The input typed into the prompt box created from the chat service will be hidden if running in Google Colab as Google Colab hides user input in case a secret is being passed. However, the chat service will print out the input provided so you can see what you inputted.\n",
    "\n",
    "That chat stream is ongoing so you will have to stop the code block in order to continue."
   ]
  },
  {
   "cell_type": "code",
   "execution_count": 6,
   "metadata": {
    "id": "cb3e2d67-aab0-4e64-8707-a79f4e5763e9",
    "scrolled": true
   },
   "outputs": [],
   "source": [
    "# setup inference configurations\n",
    "args = dict(\n",
    "  model_name_or_path=\"ibm-granite/granite-3.3-2b-instruct\",       # use IBM Granite 3.3 2b instruct model\n",
    "  template=\"granite3\",                                            # set to the same one used in training, template for constructing prompts\n",
    "  infer_backend=\"huggingface\"                                     # choices： [huggingface, vllm]\n",
    ")\n",
    "\n",
    "# create inference config file to run with llama factory\n",
    "with open(\"inference_config.yaml\", \"w\", encoding=\"utf-8\") as file:\n",
    "  yaml.dump(args, file, indent=2)"
   ]
  },
  {
   "cell_type": "code",
   "execution_count": null,
   "metadata": {
    "id": "8c73c348-44b2-4e45-964d-b44707bb6cce",
    "scrolled": true
   },
   "outputs": [],
   "source": [
    "from llamafactory.chat import ChatModel\n",
    "chat_model = ChatModel(args)"
   ]
  },
  {
   "cell_type": "code",
   "execution_count": null,
   "metadata": {
    "id": "abfbd80a-bf75-4a69-a897-33b58024c0c8"
   },
   "outputs": [],
   "source": [
    "messages = []\n",
    "\n",
    "# run inference chatbot\n",
    "question = '''\n",
    "A 1-year-old girl is brought to a neurologist due to increasing seizure frequency over the past 2 months. \n",
    "She recently underwent a neurology evaluation which revealed hypsarrhythmia on electroencephalography (EEG) with a mix of slow waves, multifocal spikes, and asynchrony. \n",
    "Her parents have noticed the patient occasionally stiffens and spreads her arms at home. She was born at 38-weeks gestational age without complications. \n",
    "She has no other medical problems. Her medications consist of lamotrigine and valproic acid. Her temperature is 98.3\\u00b0F (36.8\\u00b0C), blood pressure is 90/75 mmHg, pulse is 94/min, and respirations are 22/min. \n",
    "Physical exam reveals innumerable hypopigmented macules on the skin and an irregularly shaped, thickened, and elevated plaque on the lower back. \n",
    "Which of the following is most strongly associated with this patient's condition?\"\n",
    "\"A\": \"Cardiac rhabdomyoma\", \"B\": \"Glaucoma\", \"C\": \"Optic glioma\", \"D\": \"Polyostotic fibrous dysplasia\"\n",
    "'''\n",
    "messages.append({\"role\": \"user\", \"content\": question})\n",
    "\n",
    "response = \"\"\n",
    "for new_text in chat_model.stream_chat(messages):\n",
    "    response += new_text\n",
    "\n",
    "print(response)\n",
    "messages.append({\"role\": \"assistant\", \"content\": response})"
   ]
  },
  {
   "cell_type": "markdown",
   "metadata": {},
   "source": [
    "Here's the sample output from the base Granite 3.3 model:\n",
    "\n",
    "- **User**: \n",
    "\n",
    "```\n",
    "A 1-year-old girl is brought to a neurologist due to increasing seizure frequency over the past 2 months. \n",
    "She recently underwent a neurology evaluation which revealed hypsarrhythmia on electroencephalography (EEG) with a mix of slow waves, multifocal spikes, and asynchrony. \n",
    "Her parents have noticed the patient occasionally stiffens and spreads her arms at home. She was born at 38-weeks gestational age without complications. \n",
    "She has no other medical problems. Her medications consist of lamotrigine and valproic acid. Her temperature is 98.3\\F (36.8\\C), blood pressure is 90/75 mmHg, pulse is 94/min, and respirations are 22/min. \n",
    "Physical exam reveals innumerable hypopigmented macules on the skin and an irregularly shaped, thickened, and elevated plaque on the lower back. \n",
    "Which of the following is most strongly associated with this patient's condition?\"\n",
    "\"A\": \"Cardiac rhabdomyoma\", \"B\": \"Glaucoma\", \"C\": \"Optic glioma\", \"D\": \"Polyostotic fibrous dysplasia\"\n",
    "```\n",
    "\n",
    "- **Response**: \n",
    "```\n",
    "The most strongly associated condition with this patient's condition is \"C\": \"Optic glioma\".\n",
    "\n",
    "The patient's symptoms of hypsarrhythmia on EEG, seizure frequency increase, and the presence of hypopigmented macules and a thickened plaque on the lower back are indicative of a neurological disorder. Optic glioma is a type of brain tumor that can present with these symptoms, including seizures and visual disturbances.\n",
    "\n",
    "Option A, \"Cardiac rhabdomyoma\", typically presents with cardiac involvement and is not associated with the described EEG findings or skin manifestations.\n",
    "\n",
    "Option B, \"Glaucoma\", is an eye disease that can lead to vision loss but is not associated with the EEG findings or skin lesions described.\n",
    "\n",
    "Option D, \"Polyostotic fibrous dysplasia\", is a bone disorder characterized by multiple bone lesions and is not associated with the neurological symptoms and EEG findings presented.\n",
    "\n",
    "Therefore, based on the clinical presentation, the most likely diagnosis is an optic glioma.\n",
    "```\n",
    "\n",
    "The correct response from the dataset is:\n",
    "\n",
    "```\n",
    "answer: Cardiac rhabdomyoma\n",
    "```\n",
    "\n",
    "The base model doesn't generate the correct answer."
   ]
  },
  {
   "cell_type": "markdown",
   "metadata": {
    "id": "PVNaC-xS5N40"
   },
   "source": [
    "## Infer with the LoRA fine-tuned adapter\n",
    "\n",
    "We will compare the results by running against the base model and the LoRA tuned adapter and asking the same question to see how tuning with the legal dataset allowed the model to better understand and answer medical questions."
   ]
  },
  {
   "cell_type": "markdown",
   "metadata": {},
   "source": [
    "The following cell won't be necessary if you've performed LoRA in the same session, however, if you're coming back to the Jupyter Notebook and don't want to retrain, you can download the fine-tuned adapters from your COS Instance."
   ]
  },
  {
   "cell_type": "code",
   "execution_count": null,
   "metadata": {
    "id": "fa6987cb-4877-4940-bde1-f8fa7d68454b"
   },
   "outputs": [],
   "source": [
    "download_file_cos(credentials, \"granite3_lora.zip\", \"granite3_lora.zip\")\n",
    "!unzip granite3_lora.zip"
   ]
  },
  {
   "cell_type": "markdown",
   "metadata": {},
   "source": [
    "Now you'll configure the options for the ChatModel so that it will incorporate the adapters."
   ]
  },
  {
   "cell_type": "code",
   "execution_count": null,
   "metadata": {
    "id": "EoXxX14dGL_G"
   },
   "outputs": [],
   "source": [
    "# setup inference configurations\n",
    "args = dict(\n",
    "  model_name_or_path=\"ibm-granite/granite-3.3-2b-instruct\",       # use IBM Granite 3.3 2b instruct model\n",
    "  adapter_name_or_path=\"granite3_lora\",                           # load the saved LoRA adapters\n",
    "  template=\"granite3\",                                            # set to the same one used in training, template for constructing prompts\n",
    "  finetuning_type=\"lora\",                                         # which fine-tuning technique used in training\n",
    "  infer_backend=\"huggingface\"                                     # choices： [huggingface, vllm]\n",
    ")\n",
    "\n",
    "# create inference config file to run with llama factory\n",
    "with open(\"inference_config.yaml\", \"w\", encoding=\"utf-8\") as file:\n",
    "  yaml.dump(args, file, indent=2)\n",
    "\n",
    "\n",
    "from llamafactory.chat import ChatModel\n",
    "chat_model = ChatModel(args)"
   ]
  },
  {
   "cell_type": "markdown",
   "metadata": {},
   "source": [
    "Now we can test the same reasoning challenge to the fine-tuned model:"
   ]
  },
  {
   "cell_type": "code",
   "execution_count": null,
   "metadata": {
    "id": "692546cf-3097-4d2f-891b-e85238a02969"
   },
   "outputs": [
    {
     "name": "stdout",
     "output_type": "stream",
     "text": [
      "Cardiac rhabdomyoma\n"
     ]
    }
   ],
   "source": [
    "messages = []\n",
    "\n",
    "# run inference chatbot\n",
    "question = '''\n",
    "A 1-year-old girl is brought to a neurologist due to increasing seizure frequency over the past 2 months. \n",
    "She recently underwent a neurology evaluation which revealed hypsarrhythmia on electroencephalography (EEG) with a mix of slow waves, multifocal spikes, and asynchrony. \n",
    "Her parents have noticed the patient occasionally stiffens and spreads her arms at home. She was born at 38-weeks gestational age without complications. \n",
    "She has no other medical problems. Her medications consist of lamotrigine and valproic acid. Her temperature is 98.3\\u00b0F (36.8\\u00b0C), blood pressure is 90/75 mmHg, pulse is 94/min, and respirations are 22/min. \n",
    "Physical exam reveals innumerable hypopigmented macules on the skin and an irregularly shaped, thickened, and elevated plaque on the lower back. \n",
    "Which of the following is most strongly associated with this patient's condition?\"\n",
    "\"A\": \"Cardiac rhabdomyoma\", \"B\": \"Glaucoma\", \"C\": \"Optic glioma\", \"D\": \"Polyostotic fibrous dysplasia\"\n",
    "'''\n",
    "messages.append({\"role\": \"user\", \"content\": question})\n",
    "\n",
    "response = \"\"\n",
    "for new_text in chat_model.stream_chat(messages):\n",
    "    response += new_text\n",
    "\n",
    "print(response)\n",
    "messages.append({\"role\": \"assistant\", \"content\": response})"
   ]
  },
  {
   "cell_type": "markdown",
   "metadata": {},
   "source": [
    "### Sample output from fine-tuned model:\n",
    "\n",
    "- **User**: \n",
    "```\n",
    "A 1-year-old girl is brought to a neurologist due to increasing seizure frequency over the past 2 months. \n",
    "She recently underwent a neurology evaluation which revealed hypsarrhythmia on electroencephalography (EEG) with a mix of slow waves, multifocal spikes, and asynchrony. \n",
    "Her parents have noticed the patient occasionally stiffens and spreads her arms at home. She was born at 38-weeks gestational age without complications. \n",
    "She has no other medical problems. Her medications consist of lamotrigine and valproic acid. Her temperature is 98.3\\u00b0F (36.8\\u00b0C), blood pressure is 90/75 mmHg, pulse is 94/min, and respirations are 22/min. \n",
    "Physical exam reveals innumerable hypopigmented macules on the skin and an irregularly shaped, thickened, and elevated plaque on the lower back. \n",
    "Which of the following is most strongly associated with this patient's condition?\"\n",
    "\"A\": \"Cardiac rhabdomyoma\", \"B\": \"Glaucoma\", \"C\": \"Optic glioma\", \"D\": \"Polyostotic fibrous dysplasia\"\n",
    "```\n",
    "- **Response**: \n",
    "```\n",
    "Cardiac rhabdomyoma\n",
    "```\n",
    "\n",
    "This time the model did generate the correct answer, thanks to the trained adapter.\n",
    "\n",
    "One aspect to note: the model no longer responds with its reasoning. This is because the dataset that was used for LoRA has only the correct answer as the desired model output. LoRA fine-tuning can be used both to provide new information but also to instruct the model how to respond."
   ]
  },
  {
   "cell_type": "markdown",
   "metadata": {},
   "source": [
    "## Summary\n",
    "\n",
    "In this tutorial you LoRA fine-tuned the IBM Granite-3.3-2b-Instruct model with new medical knowledge and a detailed template for how to respond. You saw Granite 3.3's capacity to learn even with a small model and limited samples from the dataset."
   ]
  }
 ],
 "metadata": {
  "accelerator": "GPU",
  "colab": {
   "gpuType": "T4",
   "provenance": []
  },
  "kernelspec": {
   "display_name": "Python 3.11",
   "language": "python",
   "name": "python3"
  },
  "language_info": {
   "codemirror_mode": {
    "name": "ipython",
    "version": 3
   },
   "file_extension": ".py",
   "mimetype": "text/x-python",
   "name": "python",
   "nbconvert_exporter": "python",
   "pygments_lexer": "ipython3",
   "version": "3.11.13"
  }
 },
 "nbformat": 4,
 "nbformat_minor": 4
}
