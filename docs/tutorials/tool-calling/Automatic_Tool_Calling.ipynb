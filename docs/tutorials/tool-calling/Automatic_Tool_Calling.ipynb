{
 "cells": [
  {
   "cell_type": "markdown",
   "id": "0",
   "metadata": {},
   "source": [
    "# Implement Automatic Tool Calling with Granite-3 Models in LM Studio"
   ]
  },
  {
   "cell_type": "markdown",
   "id": "1",
   "metadata": {},
   "source": [
    "This notebook serves as a practical guide to implementing automatic tool calling with Large Language Models (LLMs) like the Granite-3 series in LM Studio. While LLMs excel at understanding and generating human-like text, they often face limitations when tasks require precise computation, access to real-time external data, or the execution of specific, well-defined procedures. By equipping LLMs with a set of \"tools\"—essentially external functions they can choose to call—we can significantly extend their capabilities. This tutorial will demonstrate how to define these tools and integrate them, enabling the LLM to perform a wider range of tasks with greater reliability."
   ]
  },
  {
   "cell_type": "markdown",
   "id": "2",
   "metadata": {},
   "source": [
    "### Getting Started with Granite models on LM Studio\n",
    "\n",
    "[Download LM Studio](https://lmstudio.ai/download) and follow [these instructions](https://lmstudio.ai/docs/app/basics/download-model) to download models to your local machine. We will be using the [granite-3.3-8b-instruct model](https://huggingface.co/ibm-granite/granite-3.3-8b-instruct-GGUF) for this recipe, but feel free to use any LLM of your choice."
   ]
  },
  {
   "cell_type": "markdown",
   "id": "3",
   "metadata": {},
   "source": [
    "We first need to install the necessary libraries:"
   ]
  },
  {
   "cell_type": "code",
   "execution_count": null,
   "id": "4",
   "metadata": {},
   "outputs": [],
   "source": [
    "%pip install git+https://github.com/ibm-granite-community/utils \\\n",
    "    lmstudio \\\n",
    "    chess"
   ]
  },
  {
   "cell_type": "code",
   "execution_count": null,
   "id": "5",
   "metadata": {},
   "outputs": [],
   "source": [
    "import lmstudio as lms"
   ]
  },
  {
   "cell_type": "markdown",
   "id": "6",
   "metadata": {},
   "source": [
    "And now you can load your desired model and start chatting!"
   ]
  },
  {
   "cell_type": "code",
   "execution_count": null,
   "id": "7",
   "metadata": {},
   "outputs": [],
   "source": [
    "model = lms.llm(\"ibm-granite/granite-3.3-8b-instruct-GGUF\")\n",
    "\n",
    "print(model.respond(\"Hello Granite!\"))"
   ]
  },
  {
   "cell_type": "markdown",
   "id": "8",
   "metadata": {},
   "source": [
    "### Performing Calculations Without Tools\n",
    "\n",
    "Let's start by asking the model to do a straightforward calculation."
   ]
  },
  {
   "cell_type": "code",
   "execution_count": null,
   "id": "9",
   "metadata": {},
   "outputs": [],
   "source": [
    "print(model.respond(\"What is 26.97 divided by 6.28? Don't round.\"))"
   ]
  },
  {
   "cell_type": "markdown",
   "id": "10",
   "metadata": {},
   "source": [
    "While the model may be able to provide a close approximation, it won't return the exact answer, because it can't actually calculate the quotient on it's own. "
   ]
  },
  {
   "cell_type": "markdown",
   "id": "11",
   "metadata": {},
   "source": [
    "### Creating Tools\n",
    "\n",
    "To solve this, we will provide the model some tools. Tools are python functions that we provide to the model at inference. The model can choose to call one or more of these tools to answer the user's query. \n",
    "\n",
    "Take a look at the [LM Studio Docs](https://lmstudio.ai/docs/python) for more information on how to write tools. In general, you should make sure your tooling functions have an appropriate name, defined input and output types, and a description that explains the purpose of the tool. All of this information is passed to the model, and can help it select the correct tool to answer your query."
   ]
  },
  {
   "cell_type": "markdown",
   "id": "12",
   "metadata": {},
   "source": [
    "We will write several simple math functions for the model to use as tools: "
   ]
  },
  {
   "cell_type": "code",
   "execution_count": null,
   "id": "13",
   "metadata": {},
   "outputs": [],
   "source": [
    "def add(a: float, b:float):\n",
    "    \"\"\"Given two numbers a and b, return a + b.\"\"\"\n",
    "    return a + b\n",
    "\n",
    "def subtract(a: float, b:float):\n",
    "    \"\"\"Given two numbers a and b, return a - b.\"\"\"\n",
    "    return a - b\n",
    "\n",
    "def multiply(a: float, b: float):\n",
    "    \"\"\"Given two numbers a and b, return a * b.\"\"\"\n",
    "    return a * b\n",
    "\n",
    "def divide(a: float, b: float):\n",
    "    \"\"\"Given two numbers a and b, return a / b.\"\"\"\n",
    "    return a / b\n",
    "\n",
    "def exp(a: float, b:float):\n",
    "    \"\"\"Given two numbers a and b, return a^b\"\"\"\n",
    "    return a ** b\n"
   ]
  },
  {
   "cell_type": "markdown",
   "id": "14",
   "metadata": {},
   "source": [
    "Now, we can rerun the same query, but provide the model some tools to help it answer."
   ]
  },
  {
   "cell_type": "code",
   "execution_count": null,
   "id": "15",
   "metadata": {},
   "outputs": [],
   "source": [
    "model.act(\n",
    "  \"What is 26.97 divided by 6.28? Don't round.\",\n",
    "  [add, subtract, multiply, divide, exp],\n",
    "  on_message=print,\n",
    ")"
   ]
  },
  {
   "cell_type": "markdown",
   "id": "16",
   "metadata": {},
   "source": [
    "The model was able to select the correct tool, and call it to get an exact answer to the question. It was also able to avoid using the irrelevant tools."
   ]
  },
  {
   "cell_type": "markdown",
   "id": "17",
   "metadata": {},
   "source": [
    "### How Many R's in Strawberry?\n",
    "\n",
    "A very simple question that stumps even the smartest language models. Almost every single LLM with a training cutoff prior to 2024 answers that there are only 2 r's in the word \"strawberry\". As a bonus, it might even hallucinate incorrect positions for the letters. \n",
    "\n",
    "Nowadays LLMs tend to get this specific question right, purely because it's virality landed it in most training datasets. However LLMs still commonly fail on similar letter counting tasks."
   ]
  },
  {
   "cell_type": "code",
   "execution_count": null,
   "id": "18",
   "metadata": {},
   "outputs": [],
   "source": [
    "print(model.respond(\"How many b's are in the word 'blackberry'?\"))\n"
   ]
  },
  {
   "cell_type": "markdown",
   "id": "19",
   "metadata": {},
   "source": [
    "Let's write a tool to help the model do a better job."
   ]
  },
  {
   "cell_type": "code",
   "execution_count": null,
   "id": "20",
   "metadata": {},
   "outputs": [],
   "source": [
    "def get_letter_frequency(word: str) -> dict:\n",
    "    \"\"\"Takes in a word (string) and returns a dictionary containing the counts of each letter that appears in the word. \"\"\"\n",
    "\n",
    "    letter_frequencies = {}\n",
    "\n",
    "    for letter in word:\n",
    "        if letter in letter_frequencies:\n",
    "            letter_frequencies[letter] += 1\n",
    "        else:\n",
    "            letter_frequencies[letter] = 1\n",
    "\n",
    "    return letter_frequencies"
   ]
  },
  {
   "cell_type": "markdown",
   "id": "21",
   "metadata": {},
   "source": [
    "Now we can pass the tool to the model, and rerun the prompt."
   ]
  },
  {
   "cell_type": "code",
   "execution_count": null,
   "id": "22",
   "metadata": {},
   "outputs": [],
   "source": [
    "model.act(\n",
    "  \"How many b's are in the word 'blackberry'?\",\n",
    "  [get_letter_frequency],\n",
    "  on_message=print,\n",
    ")"
   ]
  },
  {
   "cell_type": "markdown",
   "id": "23",
   "metadata": {},
   "source": [
    "### An Interactive Example ♟️\n",
    "\n",
    "One of the best use-cases of this automatic tool calling workflow is to give your model the ability to interact with it's external environment.\n",
    "\n",
    "Let's build an agent that uses tools to play chess!\n",
    "\n"
   ]
  },
  {
   "cell_type": "markdown",
   "id": "24",
   "metadata": {},
   "source": [
    "While language models may have strong conceptual knowledge of chess, they aren't inherently designed to understand a chess board. If you try to play a game of chess with an online chatbot, it will often derail after several turns, making illegal or irrational moves.\n",
    "\n",
    "We are providing the model several tools that help it understand and interact with the board.\n",
    "\n",
    "- **get_move_history()**: provides a list of all moves played so far\n",
    "- **legal_moves()**: provides a list of all legal moves in the current position\n",
    "- **possible_captures()**: provides a list of all possible captures in the current position\n",
    "- **possible_checks()**: provides a list of all possible checks in the current position\n",
    "- **make_ai_move()**: an interface to let the model input it's move\n",
    "\n",
    "It's not a lot: but it is enough for the model to play a full game of chess without hallucinating, and use some intelligent reasoning to base it's decisions.\n"
   ]
  },
  {
   "cell_type": "code",
   "execution_count": null,
   "id": "25",
   "metadata": {},
   "outputs": [],
   "source": [
    "import chess\n",
    "from IPython.display import display, SVG, clear_output\n",
    "import random\n",
    "\n",
    "board = chess.Board()\n",
    "ai_pos = 0\n",
    "\n",
    "def legal_moves() -> list[str]:\n",
    "    \"\"\"\n",
    "    Returns a list of legal moves in standard algebraic notation.\n",
    "    \"\"\"\n",
    "    return [board.san(move) for move in board.legal_moves]\n",
    "\n",
    "def possible_captures() -> list[str]:\n",
    "    \"\"\"\n",
    "    Returns a list of possible captures in standard algebraic notation.\n",
    "    \"\"\"\n",
    "    return [board.san(move) for move in board.generate_legal_captures()]\n",
    "\n",
    "def possible_checks() -> list[str]:\n",
    "    \"\"\"\n",
    "    Returns a list of possible checks in standard algebraic notation.\n",
    "    \"\"\"\n",
    "    return [board.san(move) for move in board.legal_moves if board.gives_check(move)]\n",
    "\n",
    "def get_move_history() -> list[str]:\n",
    "    \"\"\"\n",
    "    Returns a list of moves made in the game so far in standard algebraic notation.\n",
    "    \"\"\"\n",
    "    return [board.san(move) for move in board.move_stack]\n",
    "\n",
    "def is_ai_turn() -> bool:\n",
    "    return bool(board.turn) == (ai_pos == 0)\n",
    "\n",
    "def make_ai_move(move: str) -> None:\n",
    "    \"\"\"\n",
    "    Given a string representing a valid move in chess notation, pushes move onto chess board.\n",
    "    If non-valid move, raises a ValueError with message \"Illegal move.\n",
    "    If called when it is not the AI's turn, raises a ValueError with message \"Not AI's turn.\"\n",
    "    THIS FUNCTION DIRECTLY ENABLES THE AI TO MAKE A MOVE ON THE CHESS BOARD.\n",
    "    \"\"\"\n",
    "    if is_ai_turn():\n",
    "        try:\n",
    "            board.push_san(move)\n",
    "        except ValueError as e:\n",
    "            raise ValueError(e)\n",
    "    else:\n",
    "        raise ValueError(\"Not AI's turn.\")\n",
    "\n",
    "def make_user_move(move: str) -> None:\n",
    "    \"\"\"\n",
    "    Given a string representing a valid move in chess notation, pushes move onto chess board.\n",
    "    If non-valid move, raises a ValueError with message \"Illegal move.\n",
    "    If called when it is not the player's turn, raises a ValueError with message \"Not player's turn.\"\n",
    "    If valid-move, updates the board and displays the current state of the board.\n",
    "    \"\"\"\n",
    "    if not is_ai_turn():\n",
    "        try:\n",
    "            board.push_san(move)\n",
    "        except ValueError as e:\n",
    "            raise ValueError(e)\n",
    "    else:\n",
    "        raise ValueError(\"Not player's turn.\")\n",
    "\n",
    "def print_fragment(fragment, round_index=0):\n",
    "    print(fragment.content, end=\"\", flush=True)\n"
   ]
  },
  {
   "cell_type": "markdown",
   "id": "26",
   "metadata": {},
   "source": [
    "Now we can play a match with the AI!"
   ]
  },
  {
   "cell_type": "code",
   "execution_count": null,
   "id": "27",
   "metadata": {},
   "outputs": [],
   "source": [
    "move = 0\n",
    "import chess.svg\n",
    "\n",
    "board.reset()\n",
    "ai_pos = round(random.random())\n",
    "\n",
    "def update_board(move = move, ai_pos = ai_pos):\n",
    "    \"\"\"\n",
    "    Updates the chess board display in the notebook.\n",
    "    \"\"\"\n",
    "    clear_output(wait=True)  # Clear previous output\n",
    "    print(f\"Board after move {move+1}\")\n",
    "    if (ai_pos == 1):\n",
    "        display(SVG(chess.svg.board(board, size=400)))\n",
    "    else:\n",
    "        display(SVG(chess.svg.board(board, size=400, orientation = chess.BLACK)))\n",
    "\n",
    "def get_end_state():\n",
    "    \"\"\"\n",
    "    Returns the end state of the chess game.\n",
    "    \"\"\"\n",
    "    if board.is_checkmate():\n",
    "        return \"Checkmate!\"\n",
    "    elif board.is_stalemate():\n",
    "        return \"Stalemate!\"\n",
    "    elif board.is_insufficient_material():\n",
    "        return \"Draw by insufficient material!\"\n",
    "    elif board.is_seventyfive_moves():\n",
    "        return \"Draw by 75-move rule!\"\n",
    "    elif board.is_fivefold_repetition():\n",
    "        return \"Draw by fivefold repetition!\"\n",
    "    else:\n",
    "        return None\n",
    "\n",
    "clear_output(wait=True) # Clear any previous output from the cell\n",
    "if (ai_pos == 1):\n",
    "    display(SVG(chess.svg.board(board, size=400)))\n",
    "else:\n",
    "    display(SVG(chess.svg.board(board, size=400, orientation = chess.BLACK)))\n",
    "\n",
    "# 2. Loop through moves, apply each move, clear previous output, and display new board\n",
    "userEndGame = False\n",
    "while True:\n",
    "\n",
    "    if ai_pos == 0:\n",
    "        # AI's turn\n",
    "        model.act(\n",
    "            \"\"\"\n",
    "            You are a chess AI, playing for black. Your task is to make the best move in the current position, using the provided tools. You should use your overall chess knowledge, including openings, tactics, and strategies, as your primary method to determine good moves. Use the provided tools as an assistant to improve your understanding of the board state and to make your moves.\n",
    "            \"\"\",\n",
    "            [get_move_history, legal_moves, possible_captures, possible_checks, make_ai_move],\n",
    "            max_prediction_rounds = 5,\n",
    "        )\n",
    "\n",
    "        if is_ai_turn(): # failsafe in case AI does not make a move\n",
    "           make_ai_move(legal_moves()[0])  # Default to the first legal move if AI does not respond\n",
    "\n",
    "        update_board(move)\n",
    "        move += 1\n",
    "        game_over_message = get_end_state()\n",
    "        if game_over_message:\n",
    "            print(game_over_message)\n",
    "            break\n",
    "\n",
    "        # User's turn\n",
    "        while True:\n",
    "            user_move = input(\"User (Playing Black): Input your move. Input 'help' to see the list of possible moves. Input 'quit' to end the game ->\")\n",
    "            if user_move.lower() == 'quit':\n",
    "                print(\"Game ended by user.\")\n",
    "                userEndGame = True\n",
    "                break\n",
    "            if user_move.lower() == 'help':\n",
    "                print(\"Possible moves:\", legal_moves())\n",
    "                continue\n",
    "            try:\n",
    "                make_user_move(user_move)\n",
    "                break\n",
    "            except ValueError as e:\n",
    "                print(e)\n",
    "\n",
    "        if userEndGame:\n",
    "            break\n",
    "\n",
    "        update_board(move)\n",
    "        move += 1\n",
    "        game_over_message = get_end_state()\n",
    "        if game_over_message:\n",
    "            print(game_over_message)\n",
    "            break\n",
    "    else:\n",
    "        # User's turn\n",
    "        while True:\n",
    "            user_move = input(\"User (Playing White): Input your move. Input 'help' to see the list of possible moves. Input 'quit' to end the game ->\")\n",
    "            if user_move.lower() == 'quit':\n",
    "                print(\"Game ended by user.\")\n",
    "                userEndGame = True\n",
    "                break\n",
    "            if user_move.lower() == 'help':\n",
    "                print(\"Possible moves:\", legal_moves())\n",
    "                continue\n",
    "            try:\n",
    "                make_user_move(user_move)\n",
    "                break\n",
    "            except ValueError as e:\n",
    "                print(e)\n",
    "\n",
    "        if userEndGame:\n",
    "            break\n",
    "\n",
    "        update_board(move)\n",
    "        move += 1\n",
    "        game_over_message = get_end_state()\n",
    "        if game_over_message:\n",
    "            print(game_over_message)\n",
    "            break\n",
    "\n",
    "        model.act(\n",
    "            \"\"\"\n",
    "            You are a chess AI, playing for black. Your task is to make the best move in the current position, using the provided tools. You should use your overall chess knowledge, including openings, tactics, and strategies, as your primary method to determine good moves. Use the provided tools as an assistant to improve your understanding of the board state and to make your moves.\n",
    "            \"\"\",\n",
    "            [get_move_history, legal_moves, possible_captures, possible_checks, make_ai_move],\n",
    "            max_prediction_rounds = 5,\n",
    "        )\n",
    "\n",
    "        if is_ai_turn(): # failsafe in case AI does not make a move\n",
    "           make_ai_move(legal_moves()[0])  # Default to the first legal move if AI does not respond\n",
    "\n",
    "        update_board(move)\n",
    "        move += 1\n",
    "        game_over_message = get_end_state()\n",
    "        if game_over_message:\n",
    "            print(game_over_message)\n",
    "            break"
   ]
  },
  {
   "cell_type": "markdown",
   "id": "28",
   "metadata": {},
   "source": [
    "### Summary\n",
    "\n",
    "In this notebook, we demonstrated how integrating tools can enhance the utility and agentic capability of LLMs. We illustrated that by providing an LLM with access to predefined external functions, it can transcend its core language processing capabilities to perform tasks like accurate calculations or interface with external systems, which it cannot do reliably on its own. The key takeaway is that tool-use empowers LLMs to delegate specific sub-problems to specialized routines, allowing them to ground their responses in factual data or precise operations. This approach not only improves accuracy but also enables LLMs to engage in more complex, interactive workflows, effectively transforming them into more versatile and powerful assistants."
   ]
  }
 ],
 "metadata": {
  "language_info": {
   "codemirror_mode": {
    "name": "ipython",
    "version": 3
   },
   "file_extension": ".py",
   "mimetype": "text/x-python",
   "name": "python",
   "nbconvert_exporter": "python",
   "pygments_lexer": "ipython3"
  }
 },
 "nbformat": 4,
 "nbformat_minor": 5
}
