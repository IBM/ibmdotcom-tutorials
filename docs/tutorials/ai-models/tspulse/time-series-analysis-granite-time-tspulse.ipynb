{
 "cells": [
  {
   "cell_type": "markdown",
   "id": "7d0ce403",
   "metadata": {},
   "source": [
    "It’s summertime and that means that ice cream sales are booming, especially in Seattle. Long sunny days, street fairs, cruise ships and baseball games make for great sales at our chain of three ice cream shops. Each shop is in a different neighborhood of the city and has different patterns of sales throughout the year.\n",
    "\n",
    "The ice cream shops have several critical data science tasks that they need to accomplish. First, they need to complete missing data in their sales data. Second, they need to find out which of their sales data from the last few years isn’t representative of normal traffic and understand why. Finally, they’ll want to look at how different kinds of events nearby their shops affect the number of customers in the shop. This tutorial will teach you how to accomplish each of these tasks by using TSPulse and the time series foundation model (TSFM) framework.\n",
    "TSPulse is a foundation model that uses deep learning to enable a variety of data analysis techniques. TSPulse can go beyond standard time series forecasting tasks to detect anomalies, complete missing values, classify time series data and search recurring patterns. It’s also tiny enough to run on a laptop. There’s more to using historical data than forecasting and TSPulse is designed to help uncover deeper insights. It helps detect anomalies, fill gaps where data is missing and classify sequences. It outperforms time series models that are 10–100 times larger on key benchmarks.\n",
    "\n",
    "TSPulse uses IBM’s TSMixer architecture, alternating multilayer perceptron blocks with gated attention blocks. This hybrid design enables efficient tuning and deployment on devices as small as a laptop without special hardware. It can help capture complex cyclical or seasonal patterns, subtle or sporadic signals, and trends visible at both broad and detailed time scales.\n",
    "Statistical models like ARIMA models (autoregressive integrated moving average) or SARIMA (seasonal ARIMA) have long dominated time-series analysis. Machine learning models like RNN (recurrent neural network) or LSTM (long short-term memory) have been used as forecasting models but now, foundation models trained on raw data are showing impressive results. Foundation models are highly versatile, compatible with a variety of forecasting methods and types of time series data. On the leading anomaly detection benchmark TSB-AD (time-series benchmark anomaly detection), TSPulse surpassed state-of-the-art results, beating top statistical models by 24% and larger foundation models by at least 33%. Results are detailed in the paper that introduces TSPulse.\n",
    "\n",
    "\n",
    "The notebooks, data, and utilities for this tutorial are all available here along with notebooks and data for many other tutorials.\n",
    "First, create a Jupyter Notebook in a new virtual environment. Then you’ll need to install all the dependencies:"
   ]
  },
  {
   "cell_type": "code",
   "execution_count": null,
   "id": "a747ae9c",
   "metadata": {},
   "outputs": [],
   "source": [
    "!pip install \"granite-tsfm[notebooks] @ git+https://github.com/ibm-granite/granite-tsfm.git@v0.3.1\";"
   ]
  },
  {
   "cell_type": "markdown",
   "id": "37be277b",
   "metadata": {},
   "source": [
    "Next, import the libraries that contain and support TSPulse:"
   ]
  },
  {
   "cell_type": "code",
   "execution_count": null,
   "id": "15752bcd",
   "metadata": {},
   "outputs": [],
   "source": [
    "from tsfm_public.models.tspulse import TSPulseForReconstruction\n",
    "from tsfm_public.models.tspulse.utils.helpers import get_embeddings\n",
    "from tsfm_public.models.tspulse import TSPulseForClassification\n",
    "from tsfm_public.toolkit.dataset import ClassificationDFDataset\n",
    "from tsfm_public import TimeSeriesPreprocessor\n",
    "from tsfm_public.models.tspulse import TSPulseForReconstruction\n",
    "from tsfm_public.toolkit.time_series_imputation_pipeline import TimeSeriesImputationPipeline\n",
    "from tsfm_public.toolkit.time_series_classification_preprocessor import (\n",
    "    TimeSeriesClassificationPreprocessor,\n",
    ")\n",
    "from tsfm_public.models.tspulse.modeling_tspulse import TSPulseForReconstruction\n",
    "from tsfm_public.toolkit.ad_helpers import AnomalyScoreMethods\n",
    "from tsfm_public.toolkit.time_series_anomaly_detection_pipeline import TimeSeriesAnomalyDetectionPipeline\n",
    "from tsfm_public.toolkit.util import convert_tsfile_to_dataframe\n",
    "import numpy as np\n",
    "import pandas as pd\n",
    "import matplotlib.pyplot as plt\n",
    "import utils\n",
    "import torch"
   ]
  },
  {
   "cell_type": "markdown",
   "id": "f63c3f38",
   "metadata": {},
   "source": [
    "The first time series dataset is an example of time series sales data that contains the sales for each day across 3 different shops."
   ]
  },
  {
   "cell_type": "code",
   "execution_count": null,
   "id": "93af89aa",
   "metadata": {},
   "outputs": [],
   "source": [
    "df = pd.read_csv(\"ice_cream_sales.csv\", index_col=False)\n",
    "df.head(10)"
   ]
  },
  {
   "cell_type": "markdown",
   "id": "813a805d",
   "metadata": {},
   "source": [
    "The data has an extra column that you’ll drop by using the `drop()` method. Next, set the date column to a Pandas DateTime object:"
   ]
  },
  {
   "cell_type": "code",
   "execution_count": null,
   "id": "3978fec7",
   "metadata": {},
   "outputs": [],
   "source": [
    "df = df.drop(\"Unnamed: 0\", axis=1)\n",
    "df_with_nans = df\n",
    "df_with_nans['date'] = pd.to_datetime(df_with_nans['date'])"
   ]
  },
  {
   "cell_type": "markdown",
   "id": "8cffabbf",
   "metadata": {},
   "source": [
    "One feature of TSPulse is that, unlike more statistical algorithms, it performs well on nonstationary time series data. This means that you don’t have to check for stationarity, decompose the time series or perform differencing. Linear regression models usually require that you check the autocorrelation function (ACF) and partial autocorrelation function (PACF) to determine which lags are most predictive. With TSPulse, we can often simply skip preprocessing and work with multiple time series datasets immediately."
   ]
  },
  {
   "cell_type": "code",
   "execution_count": null,
   "id": "53ed26ab",
   "metadata": {},
   "outputs": [],
   "source": [
    "timestamp_column = \"date\"\n",
    "id_columns = []  # mention the ids that uniquely identify a time-series.\n",
    "target_columns = [\n",
    "    \"Pike Place Sales\",\n",
    "    \"Fremont Sales\",\n",
    "    \"Ballard Sales\"\n",
    "]  # mention the target column names in the dataset that should be imputed by the model\n",
    "\n",
    "print(df_with_nans.shape)\n",
    "print(df_with_nans.head())\n",
    "\n",
    "column_specifiers = {\n",
    "    \"timestamp_column\": timestamp_column,\n",
    "    \"id_columns\": id_columns,\n",
    "    \"target_columns\": target_columns,\n",
    "    \"control_columns\": [] # does adding these help?\n",
    "}"
   ]
  },
  {
   "cell_type": "markdown",
   "id": "f2312b54",
   "metadata": {},
   "source": [
    "Now, create a visualization of the fluctuations in sales data:"
   ]
  },
  {
   "cell_type": "code",
   "execution_count": null,
   "id": "4bbb1a07",
   "metadata": {},
   "outputs": [],
   "source": [
    "plt.figure(figsize=(16,6))\n",
    "plt.plot(df_with_nans['date'], df_with_nans[\"Pike Place Sales\"])\n",
    "plt.title(\"Pike Place Sales\")"
   ]
  },
  {
   "cell_type": "markdown",
   "id": "75e3b12e",
   "metadata": {},
   "source": [
    "We can see that the time series has a strong seasonal component (often called “seasonality”) and a weak stochastic variation across days.\n",
    "\n",
    "To see how TSPulse can help the owner of the ice cream shops, imagine that they lose 10% of their sales data. The missing values create nonlinear relationships from one period of time to another, making forecasting tricky. To create those missing values a utility function, which is available in the GitHub repository, will set about 10% of the sales values to NaN. About half of the NaN values will be individual data points and about half will be a sequence of data points."
   ]
  },
  {
   "cell_type": "code",
   "execution_count": null,
   "id": "dca05ebe",
   "metadata": {},
   "outputs": [],
   "source": [
    "import random\n",
    "\n",
    "df_with_nans = utils.introduce_nans(df_with_nans, targets=target_columns, nan_fraction=0.1)\n",
    "df_with_nans.head(10)"
   ]
  },
  {
   "cell_type": "markdown",
   "id": "712b8b70",
   "metadata": {},
   "source": [
    "The imputation tracks the trends in a multivariate time series and uses them to extrapolate what missing values might be. This task is common in time series analysis because data gets corrupted, errors happen in data collection and pipelines break down.\n",
    "\n",
    "Now create a TimeSeriesPreprocessor to the target columns in the data."
   ]
  },
  {
   "cell_type": "code",
   "execution_count": null,
   "id": "8a8c98e1",
   "metadata": {},
   "outputs": [],
   "source": [
    "tsp = TimeSeriesPreprocessor(\n",
    "    **column_specifiers,\n",
    "    context_length=512,\n",
    "    prediction_length=0,\n",
    "    scaling=True,\n",
    "    encode_categorical=False,\n",
    "    scaler_type=\"standard\",\n",
    ")\n",
    "\n",
    "tsp.train(df_with_nans)  # train the tsp"
   ]
  },
  {
   "cell_type": "markdown",
   "id": "3b833588",
   "metadata": {},
   "source": [
    "Now download the TSPulse model itself and create a pipeline to use it for imputation:"
   ]
  },
  {
   "cell_type": "code",
   "execution_count": null,
   "id": "daa05db8",
   "metadata": {},
   "outputs": [],
   "source": [
    "\n",
    "model = TSPulseForReconstruction.from_pretrained(\n",
    "    \"ibm-granite/granite-timeseries-tspulse-r1\",\n",
    "    revision=\"tspulse-hybrid-dualhead-512-p8-r1\",\n",
    "    num_input_channels=tsp.num_input_channels,\n",
    "    mask_type=\"user\", \n",
    ")\n",
    "\n",
    "device = \"cuda\" if torch.cuda.is_available() else \"cpu\"\n",
    "\n",
    "pipe = TimeSeriesImputationPipeline(model, feature_extractor=tsp, batch_size=1000, device=device)\n",
    "imputed_df = pipe(df_with_nans)"
   ]
  },
  {
   "cell_type": "markdown",
   "id": "3da7a6d2",
   "metadata": {},
   "source": [
    "Graph the output of the model against the ground truth:"
   ]
  },
  {
   "cell_type": "code",
   "execution_count": null,
   "id": "b07b4050",
   "metadata": {},
   "outputs": [],
   "source": [
    "plt.figure(figsize=(15, 9))\n",
    "\n",
    "number_of_days_to_plot = 365\n",
    "\n",
    "#x_range = np.arange(0, len(imputed_df), dtype=float)\n",
    "x_range = np.arange(0, number_of_days_to_plot, dtype=float)\n",
    "\n",
    "for i, base_col in enumerate(target_columns):\n",
    "\n",
    "    imputed_col = f\"{base_col}_imputed\"\n",
    "    print(imputed_col)\n",
    "    observed_vals = df_with_nans[base_col][:number_of_days_to_plot]\n",
    "    imputed_vals = imputed_df[imputed_col][:number_of_days_to_plot]\n",
    "\n",
    "    pos_observed = ~observed_vals.isna()\n",
    "    pos_imputed = observed_vals.isna()\n",
    "    plt.subplot(len(target_columns), 1, i + 1)\n",
    "\n",
    "    full_vals = df[base_col][:number_of_days_to_plot]\n",
    "    y_min = np.min(full_vals)\n",
    "    y_max = np.max(full_vals)\n",
    "\n",
    "    plt.vlines(x=x_range[pos_imputed], ymin=y_min, ymax=y_max, color='#f2f2f2', linestyle='-', zorder=0)\n",
    "    plt.plot(x_range, full_vals, color=\"blue\", linewidth=1, label=\"Ground_Truth\")  # actual ground truth\n",
    "    plt.scatter(x_range[pos_imputed], imputed_vals[pos_imputed], color=\"red\", s=5, label=\"Imputed\")\n",
    "\n",
    "    plt.title(base_col)\n",
    "    plt.legend()\n",
    "    plt.grid(False)\n",
    "\n",
    "plt.tight_layout()\n",
    "plt.show()"
   ]
  },
  {
   "cell_type": "markdown",
   "id": "fe801750",
   "metadata": {},
   "source": [
    "To get a precise accuracy metric, you’ll calculate the RMSE, MAE and MAPE metrics"
   ]
  },
  {
   "cell_type": "code",
   "execution_count": null,
   "id": "335a26bb",
   "metadata": {},
   "outputs": [],
   "source": [
    "actual = df[target_columns].to_numpy(dtype=float)\n",
    "imputed_values = imputed_df[[f\"{col}_imputed\" for col in target_columns]]  # df having imputed values at the missing data positions\n",
    "imputed = imputed_values.to_numpy(dtype=float)\n",
    "\n",
    "missing_positions = np.isnan(df_with_nans[target_columns])\n",
    "\n",
    "print(pd.DataFrame(\n",
    "    {\n",
    "        \"results\": {\n",
    "            \"root_mean_squared_error\": np.sqrt(np.mean(np.square(actual[missing_positions] - imputed[missing_positions]))),\n",
    "            \"mean_absolute_error\": np.mean(np.abs(actual[missing_positions] - imputed[missing_positions])),\n",
    "            \"mape\": np.mean(np.abs((actual[missing_positions] - imputed[missing_positions]) / actual[missing_positions])) * 100,\n",
    "        }\n",
    "    }\n",
    "))\n"
   ]
  },
  {
   "cell_type": "markdown",
   "id": "422660ab",
   "metadata": {},
   "source": [
    "The next task is to look at anomalies and outliers that diverge from the usual underlying patterns and seasonal variations. In many domains, an anomaly can be an early warning of trouble. For instance, a sensor spike in industrial machinery might indicate failing equipment or a sudden drop in website traffic might indicate server issues. \n",
    "\n",
    "However, not all anomalies are bad. Sometimes anomalies are interesting and worth accounting for in planning and forecasting. A viral marketing campaign can cause unusual sales growth or a special event might cause a traffic surge on city streets. In either case, having a tool to detect anomalous signals in a time series is a powerful tool. The ice cream shops are interested in what days had anomalous sales so that they can explore what might have caused those anomalies. To do this, you’ll examine one location by isolating the “Ballard Sales” column. To do this, create a TimeSeriesAnomalyDetectionPipeline and set the target_colums to “Ballard Sales”."
   ]
  },
  {
   "cell_type": "code",
   "execution_count": null,
   "id": "104e59f7",
   "metadata": {},
   "outputs": [],
   "source": [
    "anomaly_model = TSPulseForReconstruction.from_pretrained(\n",
    "    \"ibm-granite/granite-timeseries-tspulse-r1\",\n",
    "    num_input_channels=1,\n",
    "    revision=\"main\",\n",
    "    mask_type=\"user\",\n",
    ")\n",
    "\n",
    "pipeline = TimeSeriesAnomalyDetectionPipeline(\n",
    "    anomaly_model,\n",
    "    timestamp_column=\"date\",\n",
    "    target_columns=[\"Ballard Sales\"],\n",
    "    prediction_mode=[\n",
    "        AnomalyScoreMethods.FREQUENCY_RECONSTRUCTION.value,\n",
    "        AnomalyScoreMethods.PREDICTIVE.value\n",
    "    ],\n",
    "    aggregation_length=32,\n",
    "    aggr_function=\"max\",\n",
    "    smoothing_length=1, #no smoothing, we're looking for 1 off events\n",
    "    least_significant_scale=0.01,\n",
    "    least_significant_score=0.1,\n",
    ")\n",
    "\n",
    "result = pipeline(df, batch_size=32, predictive_score_smoothing=False)"
   ]
  },
  {
   "cell_type": "markdown",
   "id": "a26e45e2",
   "metadata": {},
   "source": [
    "The anomaly detection needs 512 data points of past values to set a baseline against which to detect anomalies, so visualize the results of the anomaly detection after the 512th day:"
   ]
  },
  {
   "cell_type": "code",
   "execution_count": null,
   "id": "c142a381",
   "metadata": {},
   "outputs": [],
   "source": [
    "fig, ax = plt.subplots(1, 1, figsize=(15, 3))\n",
    "ax2 = ax.twinx()\n",
    "\n",
    "date_array  = df[512:]['date']\n",
    "\n",
    "bsales = ax.plot(date_array, result[512:]['Ballard Sales'], linewidth=1, linestyle = 'solid', label=\"Ballard Sales\")\n",
    "anom = ax2.plot(date_array, result[512:].anomaly_score, linewidth=1, color=\"orange\", label=\"Anomaly Score\")\n",
    "\n",
    "ax.legend(loc=2)\n",
    "ax2.legend(loc=1)\n",
    "\n",
    "ax.set_title(\"Anomaly Detection after 512th date\", fontsize=16)"
   ]
  },
  {
   "cell_type": "markdown",
   "id": "5abdaa8a",
   "metadata": {},
   "source": [
    "The anomalous values are mostly on relatively warm and dry winter days:"
   ]
  },
  {
   "cell_type": "code",
   "execution_count": null,
   "id": "306f0cdd",
   "metadata": {},
   "outputs": [],
   "source": [
    "result[result[\"anomaly_score\"] > 0.9]"
   ]
  },
  {
   "cell_type": "markdown",
   "id": "04e169ec",
   "metadata": {},
   "source": [
    "Finally, TSPulse offers functionality to classify time series data as well. This technique is a powerful way to analyze a sequence of data and classify the sequence. The ice cream shops have kept track of the number of customers in the store during special events so they can make informed decisions about staffing and scheduling. The dataset consists of 200 events with type of event and number of customers in the store averaged across a 10-minute increment. With this exercise, the ice cream shop wants to determine the pattern of customer visits based on the type of event happening around the store."
   ]
  },
  {
   "cell_type": "code",
   "execution_count": null,
   "id": "da8c7c3d",
   "metadata": {},
   "outputs": [],
   "source": [
    "sales_patterns = pd.read_csv(\"ic_patterns.csv\")\n",
    "sales_patterns = sales_patterns.drop(\"Unnamed: 0\", axis=1)\n",
    "sales_patterns.head(5)\n"
   ]
  },
  {
   "cell_type": "markdown",
   "id": "49dd7e7c",
   "metadata": {},
   "source": [
    "The event data needs to be formatted so that each row contains the class of the event with a Pandas Series that contains all the readings for the time series. To create this, take a list of events and create a row with the type of the event and all the measurements for that event."
   ]
  },
  {
   "cell_type": "code",
   "execution_count": null,
   "id": "ad6f7fa1",
   "metadata": {},
   "outputs": [],
   "source": [
    "events = []\n",
    "event_ids = sales_patterns[\"event\"].unique()\n",
    "for e in event_ids:\n",
    "    events.append({\"type\":sales_patterns[sales_patterns[\"event\"] == e].iloc[0][\"type\"], \"ts\":pd.Series(sales_patterns[sales_patterns[\"event\"] == e][\"sales\"].tolist())})\n",
    "\n",
    "event_time_series = pd.DataFrame(events)\n",
    "\n",
    "# plot the first event:\n",
    "event_time_series.iloc[0]['ts'].plot()"
   ]
  },
  {
   "cell_type": "markdown",
   "id": "5475641b",
   "metadata": {},
   "source": [
    "Now you're ready to create two datasets: a test set and a train set."
   ]
  },
  {
   "cell_type": "code",
   "execution_count": null,
   "id": "d7161b7f",
   "metadata": {},
   "outputs": [],
   "source": [
    "test_dataset, train_dataset = utils.test_train_dataset(event_time_series, test_size = 0.25, input_columns = ['ts'], label_column=['type'])"
   ]
  },
  {
   "cell_type": "markdown",
   "id": "161faf4c",
   "metadata": {},
   "source": [
    "With the datasets ready, download the classifier from HuggingFace and configure it for our dataset and use case."
   ]
  },
  {
   "cell_type": "code",
   "execution_count": null,
   "id": "b81e7081",
   "metadata": {},
   "outputs": [],
   "source": [
    "config_dict = {\n",
    "    \"head_reduce_d_model\": 1,\n",
    "    \"decoder_mode\": \"mix_channel\",\n",
    "    \"head_gated_attention_activation\": \"softmax\",\n",
    "    \"mask_ratio\": 0.3,\n",
    "    \"channel_virtual_expand_scale\": 1,\n",
    "    \"loss\": \"cross_entropy\",\n",
    "    \"disable_mask_in_classification_eval\": True,\n",
    "    \"ignore_mismatched_sizes\": True,\n",
    "    \"num_input_channels\" : 1, # how many different series are in each time series\n",
    "    \"num_targets\" : 4 # how many classes are in the dataset?\n",
    "}\n",
    "\n",
    "classifier_model = TSPulseForClassification.from_pretrained(\n",
    "    \"ibm-granite/granite-timeseries-tspulse-r1\", revision=\"tspulse-block-dualhead-512-p16-r1\", **config_dict\n",
    ");"
   ]
  },
  {
   "cell_type": "markdown",
   "id": "e2d15f90",
   "metadata": {},
   "source": [
    "Before fine-tuning the model, freeze the parameters and set only the last layers to `requires_grad = True`. This will update the final patch embedding layers while leaving the rest of the model un-touched."
   ]
  },
  {
   "cell_type": "code",
   "execution_count": null,
   "id": "9e9a3590",
   "metadata": {},
   "outputs": [],
   "source": [
    "# Freezing the Backbone\n",
    "for param in classifier_model.backbone.parameters():\n",
    "    param.requires_grad = False\n",
    "\n",
    "# Unfreezing the patch embedding layers\n",
    "for param in classifier_model.backbone.time_encoding.parameters():\n",
    "    param.requires_grad = True\n",
    "for param in classifier_model.backbone.fft_encoding.parameters():\n",
    "    param.requires_grad = True"
   ]
  },
  {
   "cell_type": "markdown",
   "id": "c5a92fbf",
   "metadata": {},
   "source": [
    "The model fine-tuning process requires a validation dataset to use in training, so take 25% of the records from the train_dataset and use them for validation:"
   ]
  },
  {
   "cell_type": "code",
   "execution_count": null,
   "id": "2868db34",
   "metadata": {},
   "outputs": [],
   "source": [
    "from torch.utils.data import DataLoader, random_split\n",
    "\n",
    "valid_size = int(len(train_dataset) * 0.25)\n",
    "print(\"validation dataset size \" + str(valid_size))\n",
    "train_dataset, valid_dataset = utils.random_split(train_dataset, [len(train_dataset) - valid_size, valid_size])"
   ]
  },
  {
   "cell_type": "markdown",
   "id": "179b2494",
   "metadata": {},
   "source": [
    "Now you're ready to train the model by creating a `Trainer` instance and passing it the model and data for fine-tuning:"
   ]
  },
  {
   "cell_type": "code",
   "execution_count": null,
   "id": "cfdccfb8",
   "metadata": {},
   "outputs": [],
   "source": [
    "finetune_trainer = utils.create_classify_trainer(classifier_model, train_dataset, valid_dataset)\n",
    "finetune_trainer.train()"
   ]
  },
  {
   "cell_type": "markdown",
   "id": "f503d7ad",
   "metadata": {},
   "source": [
    "This process might take up to 30 minutes depending on the hardware that it’s being trained on but when it’s done, the Trainer instance contains the fine-tuned model. To test it, pass the dataset and get the most likely class for each row:"
   ]
  },
  {
   "cell_type": "code",
   "execution_count": null,
   "id": "23c549bc",
   "metadata": {},
   "outputs": [],
   "source": [
    "predictions_dict = finetune_trainer.predict(test_dataset)\n",
    "preds_np = predictions_dict.predictions[0]\n",
    "\n",
    "test_dataloader = DataLoader(test_dataset, batch_size=32, shuffle=False)\n",
    "target_list = []\n",
    "for batch in test_dataloader:\n",
    "    batch_labels = batch[\"target_values\"].numpy()\n",
    "    target_list.append(batch_labels)\n",
    "targets_np = np.concatenate(target_list, axis=0)\n",
    "\n",
    "test_accuracy = np.mean(targets_np == np.argmax(preds_np, axis=1))\n",
    "print(\"test_accuracy : \", test_accuracy * 100.0)"
   ]
  },
  {
   "cell_type": "markdown",
   "id": "7ab86084",
   "metadata": {},
   "source": [
    "\n",
    "We can see the accuracy here:\n",
    "\n",
    "```\n",
    "test_accuracy :  100.0 %\n",
    "```"
   ]
  },
  {
   "cell_type": "markdown",
   "id": "17f1bd85",
   "metadata": {},
   "source": [
    "While classifying real-world data might be more difficult, the accuracy that TSPulse demonstrates on benchmark datasets means that you might want to test it out for any classification task.\n",
    "\n",
    "TSPulse is a versatile model that enables many different time series analysis tasks and can be run on limited resources like a laptop or a lightweight virtual machine."
   ]
  }
 ],
 "metadata": {
  "kernelspec": {
   "display_name": ".venv",
   "language": "python",
   "name": "python3"
  },
  "language_info": {
   "codemirror_mode": {
    "name": "ipython",
    "version": 3
   },
   "file_extension": ".py",
   "mimetype": "text/x-python",
   "name": "python",
   "nbconvert_exporter": "python",
   "pygments_lexer": "ipython3",
   "version": "3.12.7"
  }
 },
 "nbformat": 4,
 "nbformat_minor": 5
}
