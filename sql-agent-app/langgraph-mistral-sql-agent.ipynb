{
 "cells": [
  {
   "cell_type": "markdown",
   "id": "dc4b7d5e",
   "metadata": {},
   "source": [
    "# Build an SQL agent with LangGraph and Mistral Medium 3 by using watsonx.ai\n",
    "\n",
    "**Author**: Anna Gutowska\n",
    "\n",
    "In this tutorial, you will build an [AI agent](https://www.ibm.com/think/topics/ai-agents) that can execute and generate Python and [SQL](https://www.ibm.com/think/topics/structured-query-language) queries for your custom SQLite database. Your agent will be built from scratch by using [LangGraph](https://www.ibm.com/think/topics/langgraph) and the Mistral Medium 3 [large language model (LLM)](https://www.ibm.com/think/topics/large-language-models). This LLM is optimized for professional use cases such as coding and multimodal understanding, thus making it an excellent choice for this task.<sup>1</sup> We will also detect and block harmful messages by using the IBM® Granite® Guardian model.\n",
    "\n",
    "## What is LangGraph? \n",
    "\n",
    "[LangGraph](https://www.ibm.com/think/topics/langgraph), created by [LangChain](https://www.ibm.com/think/topics/langchain), is an [open source](https://www.ibm.com/think/topics/open-source) [AI agent framework](https://www.ibm.com/think/insights/top-ai-agent-frameworks) designed to build, deploy and manage complex generative [AI agent workflows](https://www.ibm.com/think/topics/agentic-workflows). It provides a set of [tools](https://www.ibm.com/think/topics/tool-calling) and libraries that enable users to create, run and optimize LLMs in a scalable and efficient manner. At its core, LangGraph uses the power of graph-based architectures to model and manage the intricate relationships between various [components](https://www.ibm.com/think/topics/components-of-ai-agents) of an AI agent workflow, including those found in multi-agent systems.\n",
    "\n",
    "\n",
    "## Prerequisites\n",
    "\n",
    "1. You need an [IBM Cloud® account](https://cloud.ibm.com/registration) to create a watsonx.ai® project.\n",
    "\n",
    "2. Several Python versions can work for this tutorial. At the time of publishing, we recommend [downloading](https://www.python.org/downloads/) Python 3.13, the latest version.\n",
    "\n",
    "## Steps\n",
    "\n",
    "### Step 1. Set up your environment\n",
    "\n",
    "While you can choose from several tools, this tutorial walks you through how to set up an IBM account to use a Jupyter Notebook. \n",
    "\n",
    "1. Log in to [watsonx.ai](https://dataplatform.cloud.ibm.com/registration/stepone?context=wx&apps=all) by using your IBM Cloud® account.\n",
    "\n",
    "2. Create a [watsonx.ai project](https://www.ibm.com/docs/en/watsonx/saas?topic=projects-creating-project).\n",
    "\n",
    "\tYou can get your project ID from within your project. Click the **Manage** tab. Then, copy the project ID from the **Details** section of the **General** page. You need this ID for this tutorial.\n",
    "\n",
    "3. Create a [Jupyter Notebook](https://www.ibm.com/docs/en/watsonx/saas?topic=editor-creating-managing-notebooks).\n",
    "\n",
    "\tThis step opens a Jupyter Notebook environment where you can copy the code from this tutorial.  Alternatively, you can download this notebook to your local system and upload it to your watsonx.ai project as an asset. This tutorial is also available on [GitHub](https://github.com/IBM/ibmdotcom-tutorials).\n",
    "\n",
    "\n",
    "### Step 2. Set up a watsonx.ai Runtime instance and API key\n",
    "\n",
    "1. Create a [watsonx.ai Runtime](https://cloud.ibm.com/catalog/services/watsonxai-runtime) service instance (select your appropriate region and choose the Lite plan, which is a free instance).\n",
    "\n",
    "2. Generate an application programming interface [(API) key](https://dataplatform.cloud.ibm.com/docs/content/wsj/analyze-data/ml-authentication.html). \n",
    "\n",
    "3. Associate the watsonx.ai Runtime service instance with the project that you created in [watsonx.ai](https://dataplatform.cloud.ibm.com/docs/content/wsj/getting-started/assoc-services.html). \n",
    "\n",
    "### Step 3. Install and import relevant libraries and set up your credentials\n",
    "\n",
    "We need a few libraries and modules for this tutorial. Make sure to import the following ones and if they're not installed, a quick pip installation resolves the problem. "
   ]
  },
  {
   "cell_type": "code",
   "execution_count": null,
   "id": "cbebe9de",
   "metadata": {},
   "outputs": [],
   "source": [
    "#installations\n",
    "%pip install -qU ibm-watsonx-ai \\\n",
    "    langchain-ibm \\\n",
    "    langgraph \\\n",
    "    langchain_experimental \\\n",
    "    tavily-python \\\n",
    "    langchain-community"
   ]
  },
  {
   "cell_type": "markdown",
   "id": "b58f8342",
   "metadata": {},
   "source": [
    "Restart your terminal and import the following packages."
   ]
  },
  {
   "cell_type": "code",
   "execution_count": null,
   "id": "49f020de",
   "metadata": {},
   "outputs": [],
   "source": [
    "# imports\n",
    "import sqlite3\n",
    "import getpass\n",
    "\n",
    "from ibm_watsonx_ai import APIClient, Credentials\n",
    "from ibm_watsonx_ai.foundation_models.moderations import Guardian\n",
    "from IPython.display import Image, display\n",
    "from langchain import hub  \n",
    "from langchain_ibm import ChatWatsonx\n",
    "from langgraph.graph.message import add_messages\n",
    "from langgraph.graph import StateGraph, START, END\n",
    "from langgraph.checkpoint.memory import MemorySaver\n",
    "from langchain_community.utilities.sql_database import SQLDatabase\n",
    "from langchain_community.agent_toolkits.sql.toolkit import SQLDatabaseToolkit\n",
    "from langchain_core.messages import AnyMessage, SystemMessage, HumanMessage, ToolMessage, AIMessage\n",
    "from langchain_experimental.tools.python.tool import PythonREPLTool\n",
    "from sqlalchemy import create_engine\n",
    "from typing_extensions import TypedDict\n",
    "from typing import Annotated"
   ]
  },
  {
   "cell_type": "markdown",
   "id": "b1f6cfe8",
   "metadata": {},
   "source": [
    "To set our credentials, we will need the `WATSONX_APIKEY` and `WATSONX_PROJECT_ID` that you generated in Step 1. We will also set the `URL` to serve as the API endpoint."
   ]
  },
  {
   "cell_type": "code",
   "execution_count": null,
   "id": "a5d40e0b",
   "metadata": {},
   "outputs": [],
   "source": [
    "WATSONX_APIKEY = getpass.getpass(\"Please enter your watsonx.ai Runtime API key (hit enter): \")\n",
    "\n",
    "WATSONX_PROJECT_ID = getpass.getpass(\"Please enter your project ID (hit enter): \")\n",
    "\n",
    "URL = \"https://us-south.ml.cloud.ibm.com\""
   ]
  },
  {
   "cell_type": "markdown",
   "id": "0c5ed979",
   "metadata": {},
   "source": [
    "Before we can initialize our LLM, we can use the `Credentials` class to encapsulate our passed API credentials."
   ]
  },
  {
   "cell_type": "code",
   "execution_count": null,
   "id": "254be562",
   "metadata": {},
   "outputs": [],
   "source": [
    "credentials = Credentials(url=URL, api_key=WATSONX_APIKEY)"
   ]
  },
  {
   "cell_type": "markdown",
   "id": "e5aa6d8d",
   "metadata": {},
   "source": [
    "### Step 4. Instantiate the chat model\n",
    "\n",
    "To be able to interact with all resources available in watsonx.ai Runtime, you need to set up an `APIClient`. Here, we pass in our credentials and `WATSONX_PROJECT_ID`."
   ]
  },
  {
   "cell_type": "code",
   "execution_count": null,
   "id": "e8b999d6",
   "metadata": {},
   "outputs": [],
   "source": [
    "client = APIClient(credentials=credentials, project_id=WATSONX_PROJECT_ID)"
   ]
  },
  {
   "cell_type": "markdown",
   "id": "0dd461f1",
   "metadata": {},
   "source": [
    "For this tutorial, we will be using the ChatWatsonx wrapper to set up our chat model. This wrapper simplifies the integration of tool calling and chaining. We encourage you to use the API references in the ChatWatsonx [official docs](https://python.langchain.com/docs/integrations/chat/ibm_watsonx/#tool-calling) for further information. We can pass in our `model_id` for Mistral Medium 3 and our client as parameters. \n",
    "\n",
    "Note, if you use a different API provider, you will need to change the wrapper accordingly. For example, to use the OpenAI API to access models such as GPT-4, you will need an `openai_api_key` as well as the `ChatOpenAI` wrapper. "
   ]
  },
  {
   "cell_type": "code",
   "execution_count": null,
   "id": "9b5981cf",
   "metadata": {},
   "outputs": [],
   "source": [
    "model_id = \"mistralai/mistral-medium-2505\" \n",
    "\n",
    "llm = ChatWatsonx(model_id=model_id, watsonx_client=client)"
   ]
  },
  {
   "cell_type": "markdown",
   "id": "31052fda",
   "metadata": {},
   "source": [
    "### Step 5. Set up the SQLite database\n",
    "\n",
    "In this tutorial, your agent will use its available tools to interact with an SQLite database. If you already have a dataset stored in a relational database management system such as PostgreSQL or SQLite, you can skip this step. Otherwise, run the following cell to set the `sql_script` variable equal to a script that generates a database containing synthetic car dealership sales data. This database will contain several tables for storing individual dealership, sales and vehicle data."
   ]
  },
  {
   "cell_type": "code",
   "execution_count": null,
   "id": "f7987f57",
   "metadata": {},
   "outputs": [],
   "source": [
    "sql_script = \"\"\"\n",
    "DROP TABLE IF EXISTS [Dealerships];\n",
    "\n",
    "DROP TABLE IF EXISTS [Cars];\n",
    "\n",
    "DROP TABLE IF EXISTS [Sales];\n",
    "\n",
    "CREATE TABLE [Dealerships] (\n",
    "    [id] INTEGER PRIMARY KEY,\n",
    "    [name] TEXT NOT NULL,\n",
    "    [location] TEXT NOT NULL\n",
    ");\n",
    "\n",
    "CREATE TABLE [Cars] (\n",
    "    [id] INTEGER PRIMARY KEY,\n",
    "    [make] TEXT NOT NULL,\n",
    "    [model] TEXT NOT NULL,\n",
    "    [year] INTEGER NOT NULL,\n",
    "    [color] TEXT NOT NULL\n",
    ");\n",
    "\n",
    "CREATE TABLE [Sales] (\n",
    "    [id] INTEGER PRIMARY KEY,\n",
    "    [car_id] INTEGER NOT NULL,\n",
    "    [dealership_id] INTEGER NOT NULL,\n",
    "    [sale_date] DATE NOT NULL,\n",
    "    [sale_price] REAL NOT NULL,\n",
    "    FOREIGN KEY ([car_id]) REFERENCES [Cars] ([id]),\n",
    "    FOREIGN KEY ([dealership_id]) REFERENCES [Dealerships] ([id])\n",
    ");\n",
    "\n",
    "\n",
    "INSERT INTO [Dealerships] ([id], [name], [location]) VALUES\n",
    "    (1, 'Dealership A', 'New York'),\n",
    "    (2, 'Dealership B', 'Los Angeles'),\n",
    "    (3, 'Dealership C', 'Chicago'),\n",
    "    (4, 'Dealership D', 'Houston'),\n",
    "    (5, 'Dealership E', 'Phoenix'),\n",
    "    (6, 'Dealership F', 'Philadelphia'),\n",
    "    (7, 'Dealership G', 'San Antonio'),\n",
    "    (8, 'Dealership H', 'San Diego'),\n",
    "    (9, 'Dealership I', 'Dallas'),\n",
    "    (10, 'Dealership J', 'San Jose');\n",
    "\n",
    "INSERT INTO [Cars] ([id], [make], [model], [year], [color]) VALUES\n",
    "    (1, 'Toyota', 'Camry', 2020, 'Blue'),\n",
    "    (2, 'Honda', 'Civic', 2019, 'Red'),\n",
    "    (3, 'Ford', 'Mustang', 2021, 'Black'),\n",
    "    (4, 'Chevrolet', 'Silverado', 2018, 'White'),\n",
    "    (5, 'Nissan', 'Altima', 2020, 'Gray'),\n",
    "    (6, 'Kia', 'Optima', 2020, 'Silver'),\n",
    "    (7, 'Hyundai', 'Elantra', 2019, 'Black'),\n",
    "    (8, 'Volkswagen', 'Golf', 2021, 'Red'),\n",
    "    (9, 'BMW', '3 Series', 2018, 'White'),\n",
    "    (10, 'Mercedes-Benz', 'C-Class', 2020, 'Gray'),\n",
    "    (11, 'Audi', 'A4', 2019, 'Blue'),\n",
    "    (12, 'Lexus', 'ES', 2021, 'Black'),\n",
    "    (13, 'Toyota', 'Corolla', 2018, 'White'),\n",
    "    (14, 'Honda', 'Accord', 2020, 'Gray'),\n",
    "    (15, 'Ford', 'Fusion', 2019, 'Red');\n",
    "\n",
    "INSERT INTO [Sales] ([id], [car_id], [dealership_id], [sale_date], [sale_price]) VALUES\n",
    "    (1, 1, 1, '2022-01-01', 25000.0),\n",
    "    (2, 2, 2, '2022-02-01', 20000.0),\n",
    "    (3, 3, 3, '2022-03-01', 30000.0),\n",
    "    (4, 4, 1, '2022-04-01', 40000.0),\n",
    "    (5, 5, 2, '2022-05-01', 28000.0),\n",
    "    (6, 6, 4, '2022-06-01', 22000.0),\n",
    "    (7, 7, 5, '2022-07-01', 20000.0),\n",
    "    (8, 8, 6, '2022-08-01', 28000.0),\n",
    "    (9, 9, 7, '2022-09-01', 35000.0),\n",
    "    (10, 10, 8, '2022-10-01', 32000.0),\n",
    "    (11, 11, 9, '2022-11-01', 30000.0),\n",
    "    (12, 12, 10, '2022-12-01', 38000.0),\n",
    "    (13, 13, 1, '2023-01-01', 25000.0),\n",
    "    (14, 14, 2, '2023-02-01', 28000.0),\n",
    "    (15, 15, 3, '2023-03-01', 22000.0);\n",
    "    \n",
    "\"\"\""
   ]
  },
  {
   "cell_type": "markdown",
   "id": "11728a50",
   "metadata": {},
   "source": [
    "In order to run this script and create the local SQLite database, we need to set up a database `Connection` object. By passing the \":memory:\" path name, we can connect to a transient in-memory database. "
   ]
  },
  {
   "cell_type": "code",
   "execution_count": null,
   "id": "e5b60e45",
   "metadata": {},
   "outputs": [],
   "source": [
    "connection = sqlite3.connect(\":memory:\")"
   ]
  },
  {
   "cell_type": "markdown",
   "id": "2d63b4a3",
   "metadata": {},
   "source": [
    "Next, we can use the `executescript` method to create a database cursor and to run our SQL script. This `Cursor` object allows us to run such scripts. "
   ]
  },
  {
   "cell_type": "code",
   "execution_count": null,
   "id": "409a6a39",
   "metadata": {},
   "outputs": [
    {
     "data": {
      "text/plain": [
       "<sqlite3.Cursor at 0x30c511240>"
      ]
     },
     "execution_count": null,
     "metadata": {},
     "output_type": "execute_result"
    }
   ],
   "source": [
    "connection.executescript(sql_script)"
   ]
  },
  {
   "cell_type": "markdown",
   "id": "86bb0bc7",
   "metadata": {},
   "source": [
    "Finally, run the following command to create a `SQLAlechemy` Engine instance with a connection to the database file in your working directory. The file should have the same name as your Jupyter Notebook with a database file extension. We can keep the URL empty so that the connection is made to the SQLite local database. We can provide our `Connection` object in the `creator` parameter. This parameter is responsible for creating the connection to the database. "
   ]
  },
  {
   "cell_type": "code",
   "execution_count": null,
   "id": "321a9055",
   "metadata": {},
   "outputs": [],
   "source": [
    "engine = create_engine(\n",
    "    \"sqlite://\",\n",
    "    creator=lambda: connection\n",
    ")"
   ]
  },
  {
   "cell_type": "markdown",
   "id": "060192f3",
   "metadata": {},
   "source": [
    "If you prefer to use an alternative database for this tutorial that is not stored locally, simply replace the empty path with \"sqlite:///Chinook.db\" to access a sample digital media store database.  "
   ]
  },
  {
   "cell_type": "markdown",
   "id": "ee5a28bc",
   "metadata": {},
   "source": [
    "### Step 6. Set up the tools\n",
    "\n",
    "This tutorial uses the LangChain pre-built `SQLDatabaseToolkit`. The toolkit requires a `SQLDatabase` object, which takes the `SQLAlchemy` Engine as a parameter, and the LLM of choice. Once we instantiate the toolkit, we can then retrieve its tools. Let's print the tools to see more details."
   ]
  },
  {
   "cell_type": "code",
   "execution_count": null,
   "id": "7888b93a",
   "metadata": {},
   "outputs": [
    {
     "data": {
      "text/plain": [
       "[QuerySQLDatabaseTool(description=\"Input to this tool is a detailed and correct SQL query, output is a result from the database. If the query is not correct, an error message will be returned. If an error is returned, rewrite the query, check the query, and try again. If you encounter an issue with Unknown column 'xxxx' in 'field list', use sql_db_schema to query the correct table fields.\", db=<langchain_community.utilities.sql_database.SQLDatabase object at 0x30c3ecd10>),\n",
       " InfoSQLDatabaseTool(description='Input to this tool is a comma-separated list of tables, output is the schema and sample rows for those tables. Be sure that the tables actually exist by calling sql_db_list_tables first! Example Input: table1, table2, table3', db=<langchain_community.utilities.sql_database.SQLDatabase object at 0x30c3ecd10>),\n",
       " ListSQLDatabaseTool(db=<langchain_community.utilities.sql_database.SQLDatabase object at 0x30c3ecd10>),\n",
       " QuerySQLCheckerTool(description='Use this tool to double check if your query is correct before executing it. Always use this tool before executing a query with sql_db_query!', db=<langchain_community.utilities.sql_database.SQLDatabase object at 0x30c3ecd10>, llm=ChatWatsonx(model_id='mistralai/mistral-medium-2505', apikey=SecretStr('**********'), params={}, watsonx_model=<ibm_watsonx_ai.foundation_models.inference.model_inference.ModelInference object at 0x309c34690>, watsonx_client=<ibm_watsonx_ai.client.APIClient object at 0x30c3e3250>), llm_chain=LLMChain(verbose=False, prompt=PromptTemplate(input_variables=['dialect', 'query'], input_types={}, partial_variables={}, template='\\n{query}\\nDouble check the {dialect} query above for common mistakes, including:\\n- Using NOT IN with NULL values\\n- Using UNION when UNION ALL should have been used\\n- Using BETWEEN for exclusive ranges\\n- Data type mismatch in predicates\\n- Properly quoting identifiers\\n- Using the correct number of arguments for functions\\n- Casting to the correct data type\\n- Using the proper columns for joins\\n\\nIf there are any of the above mistakes, rewrite the query. If there are no mistakes, just reproduce the original query.\\n\\nOutput the final SQL query only.\\n\\nSQL Query: '), llm=ChatWatsonx(model_id='mistralai/mistral-medium-2505', apikey=SecretStr('**********'), params={}, watsonx_model=<ibm_watsonx_ai.foundation_models.inference.model_inference.ModelInference object at 0x309c34690>, watsonx_client=<ibm_watsonx_ai.client.APIClient object at 0x30c3e3250>), output_parser=StrOutputParser(), llm_kwargs={}))]"
      ]
     },
     "execution_count": null,
     "metadata": {},
     "output_type": "execute_result"
    }
   ],
   "source": [
    "db = SQLDatabase(engine)\n",
    "toolkit = SQLDatabaseToolkit(db=db, llm=llm)\n",
    "tools = toolkit.get_tools()\n",
    "tools"
   ]
  },
  {
   "cell_type": "markdown",
   "id": "df207e1d",
   "metadata": {},
   "source": [
    "We can see there are 4 tools available as part of the toolkit. Each tool serves its own purpose, as seen by the tool descriptions. The tools are built to list the databases, run queries, return table schemas and verify SQL queries before running them.\n",
    "\n",
    "To equip our agent with the ability to generate and execute Python code, we can leverage LangChain's `PythonREPLTool` class. This code sets up a Python REPL (Read-Eval-Print Loop) tool, defining its functionality and appending it to a list of tools for later use."
   ]
  },
  {
   "cell_type": "code",
   "execution_count": null,
   "id": "b1b80f3b",
   "metadata": {},
   "outputs": [],
   "source": [
    "python_repl = PythonREPLTool()\n",
    "tools.append(python_repl)"
   ]
  },
  {
   "cell_type": "markdown",
   "id": "ff4dc4c7",
   "metadata": {},
   "source": [
    "To help ensure that our agent is provided with a system prompt that is tailored toward SQL tools and databases, we can pull a prompt provided by the [LangChain Hub](https://smith.langchain.com/hub). Let's print the `system_message` to see the prompt in detail."
   ]
  },
  {
   "cell_type": "code",
   "execution_count": null,
   "id": "0469e22d",
   "metadata": {},
   "outputs": [
    {
     "name": "stdout",
     "output_type": "stream",
     "text": [
      "System: You are an agent designed to interact with a SQL database.\n",
      "Given an input question, create a syntactically correct SQLite query to run, then look at the results of the query and return the answer.\n",
      "Unless the user specifies a specific number of examples they wish to obtain, always limit your query to at most 5 results.\n",
      "You can order the results by a relevant column to return the most interesting examples in the database.\n",
      "Never query for all the columns from a specific table, only ask for the relevant columns given the question.\n",
      "You have access to tools for interacting with the database.\n",
      "Only use the below tools. Only use the information returned by the below tools to construct your final answer.\n",
      "You MUST double check your query before executing it. If you get an error while executing a query, rewrite the query and try again.\n",
      "\n",
      "DO NOT make any DML statements (INSERT, UPDATE, DELETE, DROP etc.) to the database.\n",
      "\n",
      "To start you should ALWAYS look at the tables in the database to see what you can query.\n",
      "Do NOT skip this step.\n",
      "Then you should query the schema of the most relevant tables.\n"
     ]
    }
   ],
   "source": [
    "chatprompttemplate = hub.pull(\"langchain-ai/sql-agent-system-prompt\")  \n",
    "system_message = chatprompttemplate.format(dialect=\"SQLite\", top_k=5)  \n",
    "print(system_message)"
   ]
  },
  {
   "cell_type": "markdown",
   "id": "32dc261c",
   "metadata": {},
   "source": [
    "### Step 7. Define the agent state\n",
    "\n",
    "There is a prebuilt `create_react_agent` function available in LangGraph that generates an agent graph that follows the [ReAct (reasoning and action) architecture](https://www.ibm.com/think/topics/react-agent). This architecture allows the agent to iteratively [call tools](https://www.ibm.com/think/topics/tool-calling) in a loop until a stopping condition is met.\n",
    "\n",
    "To provide a more hands-on approach, we will build a ReAct agent from scratch in this tutorial. As a first step, we can create an `AgentState` class to store the context of the messages from the user, tools and the agent itself. Python's `TypedDict` class is used here to help ensure messages are in the appropriate dictionary format. We can also use LangGraph's `add_messages` reducer function to append any new message to the existing list of messages."
   ]
  },
  {
   "cell_type": "code",
   "execution_count": null,
   "id": "3d3e13cf",
   "metadata": {},
   "outputs": [],
   "source": [
    "class AgentState(TypedDict):\n",
    "    messages: Annotated[list[AnyMessage], add_messages]"
   ]
  },
  {
   "cell_type": "markdown",
   "id": "bf4470f8",
   "metadata": {},
   "source": [
    "### Step 8. Define the ReActAgent class\n",
    "\n",
    "Next, we can create the `ReActAgent` class. This class provides a basic structure for creating agents that can react to changes in their surroundings. The functions in the `ReActAgent` class allow for iterative tool calling in response to the graph state. \n",
    "\n",
    "The `__init__` function  initializes the attributes of the class with the large language model, tools and system message as parameters. This constructor creates a state graph with nodes for the guardian model, LLM and tools. The graph start at the `guardian` node, which calls the `guardian_moderation` method to detect harmful content before it reaches the LLM and the database. The conditional edge between the `guardian` and `llm` nodes routes the state of the graph to either the `llm` node or the end. This is determined by the output of the `guardian_moderation` function. Safe messages are passed to the `llm` node, which executes the `call_llm` method. We also add a conditional edge between the `llm` and `tools` nodes to route messages appropriately. If the LLM returns a tool call, the `should_call_tools` method returns a `True` boolean. Otherwise, `False` is returned and the graph routes to the end. This step is part of the ReAct agent architecture—we want the agent to receive the tool output and then react to the change in state to determine its next action.  \n",
    "\n",
    "Next, we can compile the graph, which allows us to invoke the agent in a later step. To persist messages, we can use the `MemorySaver` checkpointer.\n",
    "\n",
    "The final two lines of this method initialize the `tools` and `llm` attributes of the class instance. The tools attribute is a dictionary that maps tool names to tool objects. The llm attribute is the LLM, which is bound to tools by using the `bind_tools` method.\n",
    "\n",
    "```python\n",
    "class ReActAgent:\n",
    "    \n",
    "    def __init__(self, llm, tools, system_message=\"\"):\n",
    "        memory = MemorySaver()\n",
    "        graph = StateGraph(AgentState)\n",
    "        graph.add_node(\"guardian\", self.guardian_moderation)\n",
    "        graph.add_node(\"llm\", self.call_llm)\n",
    "        graph.add_node(\"tools\", self.call_tools)\n",
    "        graph.add_node(\"block_message\", self.block_message)\n",
    "        graph.add_conditional_edges(\n",
    "            \"guardian\",\n",
    "            lambda state: state[\"moderation_verdict\"],  \n",
    "            {\n",
    "                \"inappropriate\": \"block_message\",  \n",
    "                \"safe\": \"llm\"           \n",
    "            }\n",
    "        )\n",
    "        graph.add_edge(\"block_message\", END)\n",
    "        graph.add_conditional_edges(\n",
    "            \"llm\",\n",
    "            self.should_call_tools,\n",
    "            [\"tools\", END]\n",
    "        )\n",
    "        graph.add_edge(\"tools\", \"llm\")\n",
    "        graph.add_edge(START, \"guardian\")\n",
    "        self.system_message = system_message\n",
    "        self.graph = graph.compile(checkpointer=memory)\n",
    "        self.tools = {t.name: t for t in tools}\n",
    "        self.llm = llm.bind_tools(tools)\n",
    "```"
   ]
  },
  {
   "cell_type": "markdown",
   "id": "36ee2954",
   "metadata": {},
   "source": [
    "The next function in the `ReActAgent` class is `call_llm`. This function calls the LLM by retrieving the messages from the state. If a system message is present, the method adds it to the beginning of the messages list. The LLM is then invoked with the messages, and a new state with an LLM response is returned. \n",
    "\n",
    "```python\n",
    "def call_llm(self, state: AgentState):\n",
    "    messages = state['messages']\n",
    "    if self.system_message:\n",
    "        messages = [SystemMessage(content=self.system_message)] + messages\n",
    "    message = self.llm.invoke(messages)\n",
    "    return {'messages': [message]}\n",
    "```"
   ]
  },
  {
   "cell_type": "markdown",
   "id": "fba17dc6",
   "metadata": {},
   "source": [
    "The `call_tools` function is next in the `ReActAgent` class. This method retrieves the tool calls from the last message in the state, iterates over them and invokes each tool with the given arguments. Next, the results of each tool call are stored in a list called `results`. Finally, this new state is returned in the form of a dictionary, where the messages key maps to the results list.\n",
    "\n",
    "```python\n",
    "def call_tools(self, state: AgentState):\n",
    "    tool_calls = state['messages'][-1].tool_calls\n",
    "    results = []\n",
    "    for t in tool_calls:\n",
    "        result = self.tools[t['name']].invoke(t['args'])\n",
    "        results.append(ToolMessage(tool_call_id=t['id'], \n",
    "                                    name=t['name'], \n",
    "                                    content=str(result)))\n",
    "    return {'messages': results}\n",
    "```"
   ]
  },
  {
   "cell_type": "markdown",
   "id": "1ea4cee5",
   "metadata": {},
   "source": [
    "The following function in the `ReActAgent` class is `should_call_tools`. This function determines whether to call the tools based on the state by retrieving the previous LLM response from the state and checking if it contains any tool calls.\n",
    "\n",
    "```python\n",
    "def should_call_tools(self, state: AgentState):\n",
    "    result = state['messages'][-1]\n",
    "    return \"tools\" if len(result.tool_calls) > 0 else END\n",
    "```\n",
    "\n",
    "The `guardian_moderation` function executed in the `guardrain` node is designed to moderate messages using a guardian system, for the purpose of detecting and blocking unwanted or sensitive content. First, the last message is retrieved. Next, a dictionary named `detectors` is defined, which contains the detector configurations and their threshold values. These detectors identify specific types of content in messages, such as personally identifiable information (PII) as well as hate speech, abusive language, and profanity (HAP). Next, an instance of the Guardian class is created, passing in an `api_client` object named `client` and the `detectors` dictionary. The `detect` method of the Guardian instance is called, passing in the content of the last message and the `detectors` dictionary. The method then returns a dictionary in which the `moderation_verdict` key stores a value of either \"safe\" or \"inappropriate,\" depending on the Granite Guardian model's output. \n",
    "\n",
    "```python\n",
    "def guardian_moderation(self, state: AgentState):\n",
    "    message = state['messages'][-1]  \n",
    "    detectors = {\n",
    "        \"granite_guardian\": {\"threshold\": 0.4},\n",
    "        \"hap\": {\"threshold\": 0.4},\n",
    "        \"pii\": {},\n",
    "    }\n",
    "    guardian = Guardian(\n",
    "        api_client=client,  \n",
    "        detectors=detectors \n",
    "    )\n",
    "    response = guardian.detect(\n",
    "        text=message.content,\n",
    "        detectors=detectors\n",
    "    )\n",
    "    if len(response['detections']) != 0 and response['detections'][0]['detection'] == \"Yes\":\n",
    "        return {\"moderation_verdict\": \"inappropriate\"}\n",
    "    else:\n",
    "        return {\"moderation_verdict\": \"safe\"}\n",
    "```\n",
    "\n",
    "The `block_message` function serves as a notification mechanism, informing the user that their input query contains inappropriate content and has been blocked.\n",
    "\n",
    "```python\n",
    "def block_message(self, state: AgentState):\n",
    "    return {\"messages\": [AIMessage(content=\"This message has been blocked due to inappropriate content.\")]}\n",
    "```\n",
    "\n",
    "We can now put all of this code together and run the following cell."
   ]
  },
  {
   "cell_type": "code",
   "execution_count": null,
   "id": "2be6fdd8",
   "metadata": {},
   "outputs": [],
   "source": [
    "class ReActAgent:\n",
    "    \n",
    "    def __init__(self, llm, tools, system_message=\"\"):\n",
    "        memory = MemorySaver()\n",
    "        graph = StateGraph(AgentState)\n",
    "        graph.add_node(\"guardian\", self.guardian_moderation)\n",
    "        graph.add_node(\"llm\", self.call_llm)\n",
    "        graph.add_node(\"tools\", self.call_tools)\n",
    "        graph.add_node(\"block_message\", self.block_message)\n",
    "        graph.add_conditional_edges(\n",
    "            \"guardian\",\n",
    "            lambda state: state[\"moderation_verdict\"],  \n",
    "            {\n",
    "                \"inappropriate\": \"block_message\",  \n",
    "                \"safe\": \"llm\"           \n",
    "            }\n",
    "        )\n",
    "        graph.add_edge(\"block_message\", END)\n",
    "        graph.add_conditional_edges(\n",
    "            \"llm\",\n",
    "            self.should_call_tools,\n",
    "            [\"tools\", END]\n",
    "        )\n",
    "        graph.add_edge(\"tools\", \"llm\")\n",
    "        graph.add_edge(START, \"guardian\")\n",
    "        self.system_message = system_message\n",
    "        self.graph = graph.compile(checkpointer=memory)\n",
    "        self.tools = {t.name: t for t in tools}\n",
    "        self.llm = llm.bind_tools(tools)\n",
    "    \n",
    "    def call_llm(self, state: AgentState):\n",
    "        messages = state['messages']\n",
    "        if self.system_message:\n",
    "            messages = [SystemMessage(content=self.system_message)] + messages\n",
    "        message = self.llm.invoke(messages)\n",
    "        return {'messages': [message]}\n",
    "    \n",
    "    def call_tools(self, state: AgentState):\n",
    "        tool_calls = state['messages'][-1].tool_calls\n",
    "        results = []\n",
    "        for t in tool_calls:\n",
    "            result = self.tools[t['name']].invoke(t['args'])\n",
    "            results.append(ToolMessage(tool_call_id=t['id'], \n",
    "                                       name=t['name'], \n",
    "                                       content=str(result)))\n",
    "        return {'messages': results}\n",
    "    \n",
    "    def should_call_tools(self, state: AgentState):\n",
    "        result = state['messages'][-1]\n",
    "        return \"tools\" if len(result.tool_calls) > 0 else END\n",
    "    \n",
    "    def guardian_moderation(self, state: AgentState):\n",
    "        message = state['messages'][-1]  \n",
    "        detectors = {\n",
    "            \"granite_guardian\": {\"threshold\": 0.4},\n",
    "            \"hap\": {\"threshold\": 0.4},\n",
    "            \"pii\": {},\n",
    "        }\n",
    "        guardian = Guardian(\n",
    "            api_client=client,  \n",
    "            detectors=detectors \n",
    "        )\n",
    "        response = guardian.detect(\n",
    "            text=message.content,\n",
    "            detectors=detectors\n",
    "        )\n",
    "        if len(response['detections']) != 0 and response['detections'][0]['detection'] == \"Yes\":\n",
    "            return {\"moderation_verdict\": \"inappropriate\"}\n",
    "        else:\n",
    "            return {\"moderation_verdict\": \"safe\"}\n",
    "        \n",
    "    def block_message(self, state: AgentState):\n",
    "        return {\"messages\": [AIMessage(content=\"This message has been blocked due to inappropriate content.\")]}"
   ]
  },
  {
   "cell_type": "markdown",
   "id": "e16adc0b",
   "metadata": {},
   "source": [
    "### Step 9. Invoke the agent\n",
    "\n",
    "The first line in the following code block creates an instance of the `ReActAgent` class, passing in the LLM, SQL tools and system message as parameters. Next, we specify a thread to store the graph states in memory. Think of each `thread_id` as representing a new chat window. We can also define the user input to any string of choice. Next, we can pass a list consisting of the user input in `HumanMessage` type to invoke the agent. \n",
    "\n",
    "First, let's try a prompt that should be blocked by the Granite Guardian model. "
   ]
  },
  {
   "cell_type": "code",
   "execution_count": null,
   "id": "266a8bdc",
   "metadata": {},
   "outputs": [
    {
     "name": "stdout",
     "output_type": "stream",
     "text": [
      "================================\u001b[1m Human Message \u001b[0m=================================\n",
      "\n",
      "What is the home address of the customer who purchased the most expensive car last month?\n",
      "==================================\u001b[1m Ai Message \u001b[0m==================================\n",
      "\n",
      "This message has been blocked due to inappropriate content.\n"
     ]
    }
   ],
   "source": [
    "agent = ReActAgent(llm, tools, system_message=system_message)\n",
    "\n",
    "config = {\"configurable\": {\"thread_id\": \"1\"}}\n",
    "\n",
    "user_input = \"What is the home address of the customer who purchased the most expensive car last month?\"\n",
    "\n",
    "result = agent.graph.invoke({'messages': [HumanMessage(content=user_input)]}, config)\n",
    "\n",
    "for message in result[\"messages\"]:\n",
    "    message.pretty_print()"
   ]
  },
  {
   "cell_type": "markdown",
   "id": "ed4c5f82",
   "metadata": {},
   "source": [
    "The Granite Guardian model was able to successfully block the user from requesting sensitive client information. We can see that the graph did not reach the LLM node before terminating the conversation. Next, let's ask an appropriate question in a different thread. For example, \"What is the total sales revenue for the top 5 performing dealerships in the year 2022?\" as the user input. "
   ]
  },
  {
   "cell_type": "code",
   "execution_count": null,
   "id": "5535cfe1",
   "metadata": {},
   "outputs": [
    {
     "name": "stdout",
     "output_type": "stream",
     "text": [
      "================================\u001b[1m Human Message \u001b[0m=================================\n",
      "\n",
      "What is the total sales revenue for the top 5 performing dealerships in the year 2022?\n",
      "==================================\u001b[1m Ai Message \u001b[0m==================================\n",
      "Tool Calls:\n",
      "  sql_db_list_tables (H2irrlsPM)\n",
      " Call ID: H2irrlsPM\n",
      "  Args:\n",
      "    tool_input:\n",
      "=================================\u001b[1m Tool Message \u001b[0m=================================\n",
      "Name: sql_db_list_tables\n",
      "\n",
      "Cars, Dealerships, Sales\n",
      "==================================\u001b[1m Ai Message \u001b[0m==================================\n",
      "Tool Calls:\n",
      "  sql_db_schema (ILZWiZvGX)\n",
      " Call ID: ILZWiZvGX\n",
      "  Args:\n",
      "    table_names: Cars, Dealerships, Sales\n",
      "=================================\u001b[1m Tool Message \u001b[0m=================================\n",
      "Name: sql_db_schema\n",
      "\n",
      "\n",
      "CREATE TABLE \"Cars\" (\n",
      "\tid INTEGER, \n",
      "\tmake TEXT NOT NULL, \n",
      "\tmodel TEXT NOT NULL, \n",
      "\tyear INTEGER NOT NULL, \n",
      "\tcolor TEXT NOT NULL, \n",
      "\tPRIMARY KEY (id)\n",
      ")\n",
      "\n",
      "/*\n",
      "3 rows from Cars table:\n",
      "id\tmake\tmodel\tyear\tcolor\n",
      "1\tToyota\tCamry\t2020\tBlue\n",
      "2\tHonda\tCivic\t2019\tRed\n",
      "3\tFord\tMustang\t2021\tBlack\n",
      "*/\n",
      "\n",
      "\n",
      "CREATE TABLE \"Dealerships\" (\n",
      "\tid INTEGER, \n",
      "\tname TEXT NOT NULL, \n",
      "\tlocation TEXT NOT NULL, \n",
      "\tPRIMARY KEY (id)\n",
      ")\n",
      "\n",
      "/*\n",
      "3 rows from Dealerships table:\n",
      "id\tname\tlocation\n",
      "1\tDealership A\tNew York\n",
      "2\tDealership B\tLos Angeles\n",
      "3\tDealership C\tChicago\n",
      "*/\n",
      "\n",
      "\n",
      "CREATE TABLE \"Sales\" (\n",
      "\tid INTEGER, \n",
      "\tcar_id INTEGER NOT NULL, \n",
      "\tdealership_id INTEGER NOT NULL, \n",
      "\tsale_date DATE NOT NULL, \n",
      "\tsale_price REAL NOT NULL, \n",
      "\tPRIMARY KEY (id), \n",
      "\tFOREIGN KEY(dealership_id) REFERENCES \"Dealerships\" (id), \n",
      "\tFOREIGN KEY(car_id) REFERENCES \"Cars\" (id)\n",
      ")\n",
      "\n",
      "/*\n",
      "3 rows from Sales table:\n",
      "id\tcar_id\tdealership_id\tsale_date\tsale_price\n",
      "1\t1\t1\t2022-01-01\t25000.0\n",
      "2\t2\t2\t2022-02-01\t20000.0\n",
      "3\t3\t3\t2022-03-01\t30000.0\n",
      "*/\n",
      "==================================\u001b[1m Ai Message \u001b[0m==================================\n",
      "Tool Calls:\n",
      "  sql_db_query_checker (yIZ0tk4VP)\n",
      " Call ID: yIZ0tk4VP\n",
      "  Args:\n",
      "    query: SELECT Dealerships.name, SUM(Sales.sale_price) AS total_sales_revenue FROM Dealerships INNER JOIN Sales ON Dealerships.id = Sales.dealership_id WHERE strftime('%Y', Sales.sale_date) = '2022' GROUP BY Dealerships.id ORDER BY total_sales_revenue DESC LIMIT 5;\n",
      "=================================\u001b[1m Tool Message \u001b[0m=================================\n",
      "Name: sql_db_query_checker\n",
      "\n",
      "SELECT Dealerships.name, SUM(Sales.sale_price) AS total_sales_revenue\n",
      "FROM Dealerships\n",
      "INNER JOIN Sales ON Dealerships.id = Sales.dealership_id\n",
      "WHERE strftime('%Y', Sales.sale_date) = '2022'\n",
      "GROUP BY Dealerships.id\n",
      "ORDER BY total_sales_revenue DESC\n",
      "LIMIT 5;\n",
      "==================================\u001b[1m Ai Message \u001b[0m==================================\n",
      "Tool Calls:\n",
      "  sql_db_query (cTzJFfvTl)\n",
      " Call ID: cTzJFfvTl\n",
      "  Args:\n",
      "    query: SELECT Dealerships.name, SUM(Sales.sale_price) AS total_sales_revenue FROM Dealerships INNER JOIN Sales ON Dealerships.id = Sales.dealership_id WHERE strftime('%Y', Sales.sale_date) = '2022' GROUP BY Dealerships.id ORDER BY total_sales_revenue DESC LIMIT 5;\n",
      "=================================\u001b[1m Tool Message \u001b[0m=================================\n",
      "Name: sql_db_query\n",
      "\n",
      "[('Dealership A', 65000.0), ('Dealership B', 48000.0), ('Dealership J', 38000.0), ('Dealership G', 35000.0), ('Dealership H', 32000.0)]\n",
      "==================================\u001b[1m Ai Message \u001b[0m==================================\n",
      "\n",
      "The total sales revenue for the top 5 performing dealerships in the year 2022 are:\n",
      "\n",
      "1. Dealership A: $65,000\n",
      "2. Dealership B: $48,000\n",
      "3. Dealership J: $38,000\n",
      "4. Dealership G: $35,000\n",
      "5. Dealership H: $32,000\n"
     ]
    }
   ],
   "source": [
    "user_input = \"What is the total sales revenue for the top 5 performing dealerships in the year 2022?\"\n",
    "\n",
    "config2 = {\"configurable\": {\"thread_id\": \"2\"}}\n",
    "\n",
    "result = agent.graph.invoke({'messages': [HumanMessage(content=user_input)]}, config2)\n",
    "\n",
    "for message in result[\"messages\"]:\n",
    "    message.pretty_print()"
   ]
  },
  {
   "cell_type": "markdown",
   "id": "a7a567ca",
   "metadata": {},
   "source": [
    "Great! The agent has successfully executed a series of tasks, including calling multiple tools to extract the SQL table schema, generating new SQL queries and verifying their correctness before executing them. As a result, the agent returns the correct total sales revenue for the top 5 performing car dealerships within our database in 2022. We can see the agent's multistep reasoning as it prints each generated SQL query. In the response, we also see that the Granite Guardian model determined that the user query is appropriate. \n",
    "\n",
    "Let's ask a follow-up question. This time let's ask the agent to generate and execute Python code to display a bar graph representation of the results. The agent should retrieve the previous messages since we are using the same `thread_id`."
   ]
  },
  {
   "cell_type": "code",
   "execution_count": null,
   "id": "e720675c",
   "metadata": {},
   "outputs": [
    {
     "data": {
      "image/png": "[encoded data removed]",
      "text/plain": [
       "<Figure size 640x480 with 1 Axes>"
      ]
     },
     "metadata": {},
     "output_type": "display_data"
    },
    {
     "name": "stdout",
     "output_type": "stream",
     "text": [
      "================================\u001b[1m Human Message \u001b[0m=================================\n",
      "\n",
      "What is the total sales revenue for the top 5 performing dealerships in the year 2022?\n",
      "==================================\u001b[1m Ai Message \u001b[0m==================================\n",
      "Tool Calls:\n",
      "  sql_db_list_tables (H2irrlsPM)\n",
      " Call ID: H2irrlsPM\n",
      "  Args:\n",
      "    tool_input:\n",
      "=================================\u001b[1m Tool Message \u001b[0m=================================\n",
      "Name: sql_db_list_tables\n",
      "\n",
      "Cars, Dealerships, Sales\n",
      "==================================\u001b[1m Ai Message \u001b[0m==================================\n",
      "Tool Calls:\n",
      "  sql_db_schema (ILZWiZvGX)\n",
      " Call ID: ILZWiZvGX\n",
      "  Args:\n",
      "    table_names: Cars, Dealerships, Sales\n",
      "=================================\u001b[1m Tool Message \u001b[0m=================================\n",
      "Name: sql_db_schema\n",
      "\n",
      "\n",
      "CREATE TABLE \"Cars\" (\n",
      "\tid INTEGER, \n",
      "\tmake TEXT NOT NULL, \n",
      "\tmodel TEXT NOT NULL, \n",
      "\tyear INTEGER NOT NULL, \n",
      "\tcolor TEXT NOT NULL, \n",
      "\tPRIMARY KEY (id)\n",
      ")\n",
      "\n",
      "/*\n",
      "3 rows from Cars table:\n",
      "id\tmake\tmodel\tyear\tcolor\n",
      "1\tToyota\tCamry\t2020\tBlue\n",
      "2\tHonda\tCivic\t2019\tRed\n",
      "3\tFord\tMustang\t2021\tBlack\n",
      "*/\n",
      "\n",
      "\n",
      "CREATE TABLE \"Dealerships\" (\n",
      "\tid INTEGER, \n",
      "\tname TEXT NOT NULL, \n",
      "\tlocation TEXT NOT NULL, \n",
      "\tPRIMARY KEY (id)\n",
      ")\n",
      "\n",
      "/*\n",
      "3 rows from Dealerships table:\n",
      "id\tname\tlocation\n",
      "1\tDealership A\tNew York\n",
      "2\tDealership B\tLos Angeles\n",
      "3\tDealership C\tChicago\n",
      "*/\n",
      "\n",
      "\n",
      "CREATE TABLE \"Sales\" (\n",
      "\tid INTEGER, \n",
      "\tcar_id INTEGER NOT NULL, \n",
      "\tdealership_id INTEGER NOT NULL, \n",
      "\tsale_date DATE NOT NULL, \n",
      "\tsale_price REAL NOT NULL, \n",
      "\tPRIMARY KEY (id), \n",
      "\tFOREIGN KEY(dealership_id) REFERENCES \"Dealerships\" (id), \n",
      "\tFOREIGN KEY(car_id) REFERENCES \"Cars\" (id)\n",
      ")\n",
      "\n",
      "/*\n",
      "3 rows from Sales table:\n",
      "id\tcar_id\tdealership_id\tsale_date\tsale_price\n",
      "1\t1\t1\t2022-01-01\t25000.0\n",
      "2\t2\t2\t2022-02-01\t20000.0\n",
      "3\t3\t3\t2022-03-01\t30000.0\n",
      "*/\n",
      "==================================\u001b[1m Ai Message \u001b[0m==================================\n",
      "Tool Calls:\n",
      "  sql_db_query_checker (yIZ0tk4VP)\n",
      " Call ID: yIZ0tk4VP\n",
      "  Args:\n",
      "    query: SELECT Dealerships.name, SUM(Sales.sale_price) AS total_sales_revenue FROM Dealerships INNER JOIN Sales ON Dealerships.id = Sales.dealership_id WHERE strftime('%Y', Sales.sale_date) = '2022' GROUP BY Dealerships.id ORDER BY total_sales_revenue DESC LIMIT 5;\n",
      "=================================\u001b[1m Tool Message \u001b[0m=================================\n",
      "Name: sql_db_query_checker\n",
      "\n",
      "SELECT Dealerships.name, SUM(Sales.sale_price) AS total_sales_revenue\n",
      "FROM Dealerships\n",
      "INNER JOIN Sales ON Dealerships.id = Sales.dealership_id\n",
      "WHERE strftime('%Y', Sales.sale_date) = '2022'\n",
      "GROUP BY Dealerships.id\n",
      "ORDER BY total_sales_revenue DESC\n",
      "LIMIT 5;\n",
      "==================================\u001b[1m Ai Message \u001b[0m==================================\n",
      "Tool Calls:\n",
      "  sql_db_query (cTzJFfvTl)\n",
      " Call ID: cTzJFfvTl\n",
      "  Args:\n",
      "    query: SELECT Dealerships.name, SUM(Sales.sale_price) AS total_sales_revenue FROM Dealerships INNER JOIN Sales ON Dealerships.id = Sales.dealership_id WHERE strftime('%Y', Sales.sale_date) = '2022' GROUP BY Dealerships.id ORDER BY total_sales_revenue DESC LIMIT 5;\n",
      "=================================\u001b[1m Tool Message \u001b[0m=================================\n",
      "Name: sql_db_query\n",
      "\n",
      "[('Dealership A', 65000.0), ('Dealership B', 48000.0), ('Dealership J', 38000.0), ('Dealership G', 35000.0), ('Dealership H', 32000.0)]\n",
      "==================================\u001b[1m Ai Message \u001b[0m==================================\n",
      "\n",
      "The total sales revenue for the top 5 performing dealerships in the year 2022 are:\n",
      "\n",
      "1. Dealership A: $65,000\n",
      "2. Dealership B: $48,000\n",
      "3. Dealership J: $38,000\n",
      "4. Dealership G: $35,000\n",
      "5. Dealership H: $32,000\n",
      "================================\u001b[1m Human Message \u001b[0m=================================\n",
      "\n",
      "Write Python code to plot these results on a bar graph. Then, you must execute the code and display the bar graph.\n",
      "==================================\u001b[1m Ai Message \u001b[0m==================================\n",
      "Tool Calls:\n",
      "  Python_REPL (5X1fPIODL)\n",
      " Call ID: 5X1fPIODL\n",
      "  Args:\n",
      "    query: import matplotlib.pyplot as plt\n",
      "\n",
      "# Data for total sales revenue\n",
      "dealerships = ['Dealership A', 'Dealership B', 'Dealership J', 'Dealership G', 'Dealership H']\n",
      "sales_revenue = [65000, 48000, 38000, 35000, 32000]\n",
      "\n",
      "# Create a bar graph\n",
      "plt.bar(dealerships, sales_revenue, color='blue')\n",
      "\n",
      "# Customize the plot\n",
      "plt.title('Total Sales Revenue for Top 5 Performing Dealerships in 2022')\n",
      "plt.xlabel('Dealerships')\n",
      "plt.ylabel('Total Sales Revenue ($)')\n",
      "plt.xticks(rotation=45)\n",
      "plt.grid(axis='y')\n",
      "\n",
      "# Display the plot\n",
      "plt.tight_layout()\n",
      "plt.show()\n",
      "=================================\u001b[1m Tool Message \u001b[0m=================================\n",
      "Name: Python_REPL\n",
      "\n",
      "\n",
      "==================================\u001b[1m Ai Message \u001b[0m==================================\n",
      "\n",
      "Your requirements have been fulfilled. Code has been executed in repl.\n",
      "The bar graph has been plotted and shown in the python REPL.\n",
      "The graph can also be seen below:\n",
      "<img src=\"https://i.imgur.com/fV4cGPy.png\" alt=\"Bar Graph\">\n"
     ]
    }
   ],
   "source": [
    "user_input = \"Write Python code to plot these results on a bar graph. Then, you must execute the code and display the bar graph.\"\n",
    "\n",
    "result = agent.graph.invoke({'messages': [HumanMessage(content=user_input)]}, config2)\n",
    "\n",
    "for message in result[\"messages\"]:\n",
    "    message.pretty_print()"
   ]
  },
  {
   "cell_type": "markdown",
   "id": "987f019e",
   "metadata": {},
   "source": [
    "As expected, the agent successfully called the `python_repl` tool to generate and execute Python code, resulting in a graphical representation of the results. Notice that the agent was also able to determine the appropriate x-axis and y-axis values, labels and title. This highlights the agentic reasoning that sets AI agents apart from traditional LLM chatbots. \n",
    "\n",
    "To obtain a visual representation of the agent's graph, we can display the graph flow."
   ]
  },
  {
   "cell_type": "code",
   "execution_count": null,
   "id": "f829db0a",
   "metadata": {},
   "outputs": [
    {
     "data": {
      "image/png": "[encoded data removed]",
      "text/plain": [
       "<IPython.core.display.Image object>"
      ]
     },
     "metadata": {},
     "output_type": "display_data"
    }
   ],
   "source": [
    "display(Image(agent.graph.get_graph().draw_mermaid_png()))"
   ]
  },
  {
   "cell_type": "markdown",
   "id": "ca653df8",
   "metadata": {},
   "source": [
    "## Summary \n",
    "\n",
    "In this tutorial, we explored how to build a text-to-SQL ReAct agent with LangGraph. Instead of using the prebuilt agent executor function, `create_react_agent`, we built our agent from scratch. After parsing a user's question in natural language, our artificial intelligence agent uses its tools for SQL query generation, validation and execution, demonstrating skill in both SQL and Python. Given the LangChain `PythonREPLTool` class, the agent is equipped with the ability to not only generate but also execute Python code. We saw the successful execution of this tool upon prompting the agent for a graphical representation of its response. The conditional loop between the LLM and the tool nodes enables the ReAct agent architecture. With this tutorial, we have exhibited the coding and multimodal reasoning capabilities of Mistral Medium 3. As a next step, consider experimenting with additional nodes and edges in the graph. "
   ]
  },
  {
   "cell_type": "markdown",
   "id": "808cb8aa",
   "metadata": {},
   "source": [
    "#### Footnotes: \n",
    "\n",
    "<sup>1</sup> “Medium Is the New Large.” Mistral.ai, 7 May 2025, mistral.ai/news/mistral-medium-3."
   ]
  }
 ],
 "metadata": {
  "kernelspec": {
   "display_name": "Python 3",
   "language": "python",
   "name": "python3"
  },
  "language_info": {
   "codemirror_mode": {
    "name": "ipython",
    "version": 3
   },
   "file_extension": ".py",
   "mimetype": "text/x-python",
   "name": "python",
   "nbconvert_exporter": "python",
   "pygments_lexer": "ipython3",
   "version": "3.11.9"
  }
 },
 "nbformat": 4,
 "nbformat_minor": 5
}
